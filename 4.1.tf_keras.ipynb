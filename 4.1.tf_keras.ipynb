{
 "cells": [
  {
   "cell_type": "markdown",
   "metadata": {},
   "source": [
    "# 4. Deep Learning"
   ]
  },
  {
   "cell_type": "markdown",
   "metadata": {},
   "source": [
    "## 4.1 Tensorflow & Keras"
   ]
  },
  {
   "cell_type": "markdown",
   "metadata": {},
   "source": [
    "### Tensorflow Basic\n",
    "* tf.constant\n",
    "* tf.Session\n",
    "* tf.Variable\n",
    "* tf.placeholder\n",
    "* tf.graph\n",
    "* life cycle"
   ]
  },
  {
   "cell_type": "code",
   "execution_count": 1,
   "metadata": {},
   "outputs": [],
   "source": [
    "import tensorflow as tf"
   ]
  },
  {
   "cell_type": "markdown",
   "metadata": {},
   "source": [
    "## 상수\n",
    "* tf.constant()로 생성하는 상수는 초기화 없이 사용이 가능하다. \n",
    "    * 하지만 값의 변경이 되지 않는다\n",
    "* 값은 세션에 저장된다.\n"
   ]
  },
  {
   "cell_type": "code",
   "execution_count": 2,
   "metadata": {},
   "outputs": [
    {
     "name": "stdout",
     "output_type": "stream",
     "text": [
      "Tensor(\"Const:0\", shape=(), dtype=string)\n"
     ]
    }
   ],
   "source": [
    "hello = tf.constant('Hello World!')\n",
    "print(hello)\n",
    "#dir(hello)"
   ]
  },
  {
   "cell_type": "code",
   "execution_count": 3,
   "metadata": {},
   "outputs": [
    {
     "name": "stdout",
     "output_type": "stream",
     "text": [
      "Tensor(\"add:0\", shape=(), dtype=int32)\n"
     ]
    }
   ],
   "source": [
    "a = tf.constant(10)\n",
    "b = tf.constant(20)\n",
    "c = a + b\n",
    "print(c)"
   ]
  },
  {
   "cell_type": "code",
   "execution_count": 4,
   "metadata": {},
   "outputs": [
    {
     "name": "stdout",
     "output_type": "stream",
     "text": [
      "Tensor(\"Add_1:0\", shape=(), dtype=int32)\n"
     ]
    }
   ],
   "source": [
    "cc = tf.add(a, b)\n",
    "print(cc)"
   ]
  },
  {
   "cell_type": "markdown",
   "metadata": {},
   "source": [
    "## Session\n",
    "### `tf.Session()`\n",
    "* 노드들로 구성된 그래프를 실행하려면 Session이 필요하다.\n",
    "* 그래프를 CPU 또는 GPU에 로드하고 실행한다.\n",
    "    * `run()`\n",
    "* `sess = tf.Session()`으로 생성할 수 있고 `sess.run()`으로 텐서를 실행할 수 있다.\n",
    "* 모든 tensor들은 `t.eval()` 메서드를 가지고 있는데, 이것은 `tf.get_default_session.run(t)` 한것과 같다.\n",
    "    * 또는 `t.eval(session=sess)`로 세션을 지정할 수 도 있다.\n",
    "* `with tf.Session() as sess :` 구문으로 블록내의 default session을 지정할 수 있다.\n",
    "* `with sess.as_default()` 함수로 default session을 지정할 수도 있다.\n",
    "* `sess.close()` 함수로 자원을 반납해야 한다.\n",
    "\n",
    "### `tf.InteractiveSession()`\n",
    "* 자동으로 전역으로 사용할 default session으로 등록하게 된다.\n",
    "* with 구문이 필요없다."
   ]
  },
  {
   "cell_type": "code",
   "execution_count": 5,
   "metadata": {},
   "outputs": [],
   "source": [
    "sess = tf.Session()\n",
    "#dir(sess)"
   ]
  },
  {
   "cell_type": "code",
   "execution_count": 6,
   "metadata": {},
   "outputs": [
    {
     "data": {
      "text/plain": [
       "30"
      ]
     },
     "execution_count": 6,
     "metadata": {},
     "output_type": "execute_result"
    }
   ],
   "source": [
    "sess.run(c)"
   ]
  },
  {
   "cell_type": "code",
   "execution_count": 7,
   "metadata": {},
   "outputs": [
    {
     "data": {
      "text/plain": [
       "30"
      ]
     },
     "execution_count": 7,
     "metadata": {},
     "output_type": "execute_result"
    }
   ],
   "source": [
    "sess.run(cc)"
   ]
  },
  {
   "cell_type": "code",
   "execution_count": 8,
   "metadata": {},
   "outputs": [
    {
     "data": {
      "text/plain": [
       "10"
      ]
     },
     "execution_count": 8,
     "metadata": {},
     "output_type": "execute_result"
    }
   ],
   "source": [
    "sess.run(a)"
   ]
  },
  {
   "cell_type": "markdown",
   "metadata": {},
   "source": [
    "## 변수 , `tf.Variable()`\n",
    "* 값을 변경할 수 있는 변수\n",
    "* `tf.Variable(val)`\n",
    "* 보통 학습 모델에 의해 Wegith 값을 보관할 목적으로 사용\n",
    "    * 학습 과정에서 값이 변경된다.\n",
    "    * 초기 값을 주기 애매 할 때는 랜덤 값등을 사용 할 수 있다.\n",
    "    * `tf.Variable(tf.random_normal([n, m])`\n",
    "* 사용하기 전에 초기화를 반드시 수행해야 한다.\n",
    "    *  sess.run(t.initializer) \n",
    "    * t.initializer.run()\n",
    "        * default session 이 있는 경우\n",
    "* 여러 변수를 한꺼번에 초기화 할때\n",
    "    * `sess.run(tf.global_variables_initializer())`\n",
    "    * `tf.global_variable_initialzer.run()` \n",
    "        * default session 있는 경우"
   ]
  },
  {
   "cell_type": "code",
   "execution_count": 9,
   "metadata": {},
   "outputs": [
    {
     "name": "stdout",
     "output_type": "stream",
     "text": [
      "WARNING:tensorflow:From /Users/rainer/Dropbox/work/ml_dl/lib/python3.6/site-packages/tensorflow/python/framework/op_def_library.py:263: colocate_with (from tensorflow.python.framework.ops) is deprecated and will be removed in a future version.\n",
      "Instructions for updating:\n",
      "Colocations handled automatically by placer.\n",
      "<tf.Variable 'Variable:0' shape=() dtype=int32_ref> <tf.Variable 'Variable_1:0' shape=() dtype=int32_ref> Tensor(\"mul:0\", shape=(), dtype=int32)\n"
     ]
    }
   ],
   "source": [
    "x = tf.Variable(3)\n",
    "y = tf.Variable(4)\n",
    "z = x * y\n",
    "print(x, y, z)"
   ]
  },
  {
   "cell_type": "code",
   "execution_count": 10,
   "metadata": {},
   "outputs": [
    {
     "name": "stdout",
     "output_type": "stream",
     "text": [
      "None\n"
     ]
    }
   ],
   "source": [
    "print(tf.get_default_session())"
   ]
  },
  {
   "cell_type": "code",
   "execution_count": 11,
   "metadata": {},
   "outputs": [
    {
     "name": "stdout",
     "output_type": "stream",
     "text": [
      "name: \"init\"\n",
      "op: \"NoOp\"\n",
      "input: \"^Variable/Assign\"\n",
      "input: \"^Variable_1/Assign\"\n",
      "\n"
     ]
    }
   ],
   "source": [
    "print(tf.global_variables_initializer())"
   ]
  },
  {
   "cell_type": "code",
   "execution_count": 12,
   "metadata": {},
   "outputs": [],
   "source": [
    "sess.run(tf.global_variables_initializer())"
   ]
  },
  {
   "cell_type": "code",
   "execution_count": 13,
   "metadata": {},
   "outputs": [
    {
     "data": {
      "text/plain": [
       "[3, 4, 12]"
      ]
     },
     "execution_count": 13,
     "metadata": {},
     "output_type": "execute_result"
    }
   ],
   "source": [
    "sess.run([x,y,z])"
   ]
  },
  {
   "cell_type": "code",
   "execution_count": 14,
   "metadata": {},
   "outputs": [
    {
     "data": {
      "text/plain": [
       "12"
      ]
     },
     "execution_count": 14,
     "metadata": {},
     "output_type": "execute_result"
    }
   ],
   "source": [
    "z.eval(session=sess)"
   ]
  },
  {
   "cell_type": "code",
   "execution_count": 15,
   "metadata": {},
   "outputs": [
    {
     "name": "stdout",
     "output_type": "stream",
     "text": [
      "12\n"
     ]
    }
   ],
   "source": [
    "with sess.as_default():\n",
    "    print(z.eval())"
   ]
  },
  {
   "cell_type": "code",
   "execution_count": 16,
   "metadata": {},
   "outputs": [],
   "source": [
    "sess2 = tf.InteractiveSession()"
   ]
  },
  {
   "cell_type": "code",
   "execution_count": 17,
   "metadata": {},
   "outputs": [
    {
     "data": {
      "text/plain": [
       "12"
      ]
     },
     "execution_count": 17,
     "metadata": {},
     "output_type": "execute_result"
    }
   ],
   "source": [
    "x.initializer.run()\n",
    "y.initializer.run()\n",
    "z.eval()"
   ]
  },
  {
   "cell_type": "markdown",
   "metadata": {},
   "source": [
    "## PlaceHolder\n",
    "* 매개변수, 식은 정해져 있지만 값은 실행할때 마다 달라져야 하는 것들\n",
    "* `tf.placeholder(tf.float32, [None, 2])`\n",
    "* 실제로 값을 전달하는 곳은 `sess.run()`에서 `feed_dict={A:a, B:b}` 형식으로 전달"
   ]
  },
  {
   "cell_type": "code",
   "execution_count": 18,
   "metadata": {},
   "outputs": [
    {
     "name": "stdout",
     "output_type": "stream",
     "text": [
      "[11 12 13 14 15]\n"
     ]
    }
   ],
   "source": [
    "tf.reset_default_graph()\n",
    "x_data = [1,2,3,4,5]\n",
    "X = tf.placeholder(tf.int32)\n",
    "adder = tf.constant(10)\n",
    "y = tf.Variable(0)\n",
    "y = X + adder\n",
    "with tf.Session() as sess:\n",
    "    sess.run(tf.global_variables_initializer())\n",
    "    print(sess.run(y, feed_dict={X:x_data}))\n"
   ]
  },
  {
   "cell_type": "markdown",
   "metadata": {},
   "source": [
    "### 그래프, graph\n",
    "* 상수, 변수 등의 텐서를 생성하면 이것은 하나의 계산 그래프에 추가된다.\n",
    "* 각 텐서의 `t.graph` 속성에 지정된다\n",
    "* 새로운 그래프를 만드려면 `tf.Graph()` 함수가 있다.\n",
    "* 새로운 그래프를 사용하려면 `with graph.as_default():`로 블럭 설정을 해서 사용할 수 있다.\n",
    "* 텐서를 생성하는것과 같은 코드를 반복해서 실행하면 그래프에 중복된 텐서가 텐서 노드가 포함되기 때문에 오류가 발생\n",
    "    * 파이썬 프로세스 또는 커널을 재 실행 또는\n",
    "    * `tf.reset_default_graph()`를 실행\n",
    " "
   ]
  },
  {
   "cell_type": "markdown",
   "metadata": {},
   "source": [
    "## 노드의 Life Cycle\n",
    "* 종속성 있는 노드는 평가 시점에 모두 평가가 같이 실행된다.\n",
    "* 종속성있는 노드를 2번 평가되면 그 과정의 노드들도 2번 평가된다.\n",
    "* 한번에 하고 싶으면 리스트로 만들어서 한번에 평가하라."
   ]
  },
  {
   "cell_type": "markdown",
   "metadata": {},
   "source": [
    "### 세션 닫고 재 실행\n",
    "* 세션을 생성하고 닫은 후 다시 실행하면 값을 항상 처음으로 돌아 간다."
   ]
  },
  {
   "cell_type": "code",
   "execution_count": 19,
   "metadata": {},
   "outputs": [
    {
     "name": "stdout",
     "output_type": "stream",
     "text": [
      "2 3 10\n",
      "11\n"
     ]
    }
   ],
   "source": [
    "w = tf.constant(2)\n",
    "x = tf.Variable(3)\n",
    "y =  w + x\n",
    "\n",
    "sess = tf.Session()\n",
    "sess.run(tf.global_variables_initializer())\n",
    "\n",
    "y = y *2 \n",
    "z = y + 1\n",
    "\n",
    "print(sess.run(w), sess.run(x), sess.run(y))\n",
    "print(sess.run(z))\n",
    "\n",
    "sess.close()"
   ]
  },
  {
   "cell_type": "markdown",
   "metadata": {},
   "source": [
    "### 세션 유지 재 실행\n",
    "* 하지만 세션을 닫지 않고 실행만 다시 하면 값을 유지된다."
   ]
  },
  {
   "cell_type": "code",
   "execution_count": 20,
   "metadata": {},
   "outputs": [],
   "source": [
    "w = tf.constant(2)\n",
    "x = tf.Variable(3)\n",
    "y =  w + x\n",
    "\n",
    "sess = tf.Session()\n",
    "sess.run(tf.global_variables_initializer())\n"
   ]
  },
  {
   "cell_type": "code",
   "execution_count": 21,
   "metadata": {},
   "outputs": [
    {
     "name": "stdout",
     "output_type": "stream",
     "text": [
      "2 3 10\n",
      "11\n"
     ]
    }
   ],
   "source": [
    "y = y *2 \n",
    "z = y + 1\n",
    "\n",
    "print(sess.run(w), sess.run(x), sess.run(y))\n",
    "print(sess.run(z))\n"
   ]
  },
  {
   "cell_type": "markdown",
   "metadata": {},
   "source": [
    "### 개별 노드 실행\n",
    "* 세션을 실행할때 개별적으로 실행하면 종속성있는 모든 노드가 매번 실행 된다.\n",
    "* 아래의 경우 z의 값이 y의 값을 2번 변경하게 한다."
   ]
  },
  {
   "cell_type": "code",
   "execution_count": 22,
   "metadata": {},
   "outputs": [
    {
     "name": "stdout",
     "output_type": "stream",
     "text": [
      "2 3 3 7\n"
     ]
    }
   ],
   "source": [
    "w = tf.constant(2)\n",
    "x = tf.Variable(3)\n",
    "y = tf.Variable(0)\n",
    "y =  tf.assign(y, y + x)\n",
    "z = y + 1\n",
    "sess = tf.Session()\n",
    "sess.run(tf.global_variables_initializer())\n",
    "\n",
    "\n",
    "print(sess.run(w), sess.run(x), sess.run(y), sess.run(z))\n",
    "sess.close()"
   ]
  },
  {
   "cell_type": "markdown",
   "metadata": {},
   "source": [
    "### 여러 노드 한번에 실행\n",
    "* 세션에 노드를 리스트로 묶어서 실행하면 한번에 평가된다.\n",
    "* 아래의 코드의 z는 y를 두번 평가하게 하지 않는다."
   ]
  },
  {
   "cell_type": "code",
   "execution_count": 23,
   "metadata": {},
   "outputs": [
    {
     "name": "stdout",
     "output_type": "stream",
     "text": [
      "[2, 3, 3, 4]\n"
     ]
    }
   ],
   "source": [
    "w = tf.constant(2)\n",
    "x = tf.Variable(3)\n",
    "y = tf.Variable(0)\n",
    "y =  tf.assign(y, y + x)\n",
    "z = y + 1\n",
    "sess = tf.Session()\n",
    "sess.run(tf.global_variables_initializer())\n",
    "\n",
    "\n",
    "print(sess.run([w,x,y,z]))\n",
    "\n",
    "sess.close()"
   ]
  },
  {
   "cell_type": "markdown",
   "metadata": {},
   "source": [
    "### Tensorflow를 이용한 LinerRegression"
   ]
  },
  {
   "cell_type": "code",
   "execution_count": 24,
   "metadata": {},
   "outputs": [],
   "source": [
    "import tensorflow as tf\n",
    "import numpy as np\n",
    "\n",
    "x_data = np.arange(0,10)\n",
    "y_data = x_data * 2 + 10"
   ]
  },
  {
   "cell_type": "markdown",
   "metadata": {},
   "source": [
    "### 변수, placeholder 초기화"
   ]
  },
  {
   "cell_type": "code",
   "execution_count": 25,
   "metadata": {},
   "outputs": [
    {
     "name": "stdout",
     "output_type": "stream",
     "text": [
      "Tensor(\"X:0\", dtype=float32)\n",
      "Tensor(\"Y:0\", dtype=float32)\n"
     ]
    }
   ],
   "source": [
    "# -1.0 ~ 1.0 균등분포를 갖는 랜덤 값\n",
    "W = tf.Variable(tf.random_uniform([1], -1.0, 1.0)) \n",
    "b = tf.Variable(tf.random_uniform([1], -1.0, 1.0))\n",
    "\n",
    "# 입력을 위한 placeholder\n",
    "X = tf.placeholder(tf.float32, name=\"X\")\n",
    "Y = tf.placeholder(tf.float32, name=\"Y\")\n",
    "print(X)\n",
    "print(Y)\n",
    "\n",
    "# 가설 생성\n",
    "hypothesis = W * X + b"
   ]
  },
  {
   "cell_type": "markdown",
   "metadata": {},
   "source": [
    "### 손실함수와 손실 최소화 옵티마이저 생성"
   ]
  },
  {
   "cell_type": "code",
   "execution_count": 26,
   "metadata": {},
   "outputs": [
    {
     "name": "stdout",
     "output_type": "stream",
     "text": [
      "WARNING:tensorflow:From /Users/rainer/Dropbox/work/ml_dl/lib/python3.6/site-packages/tensorflow/python/ops/math_ops.py:3066: to_int32 (from tensorflow.python.ops.math_ops) is deprecated and will be removed in a future version.\n",
      "Instructions for updating:\n",
      "Use tf.cast instead.\n"
     ]
    }
   ],
   "source": [
    "# 손실 함수를 작성합니다.\n",
    "cost = tf.reduce_mean(tf.square(hypothesis - Y))\n",
    "# 텐서플로우에 기본적으로 포함되어 있는 함수를 이용해 경사 하강법 최적화를 수행합니다.\n",
    "optimizer = tf.train.GradientDescentOptimizer(learning_rate=0.01)\n",
    "# 비용을 최소화 하는 것이 최종 목표\n",
    "train_op = optimizer.minimize(cost)"
   ]
  },
  {
   "cell_type": "markdown",
   "metadata": {},
   "source": [
    "### 훈련 실행 및 테스트\n"
   ]
  },
  {
   "cell_type": "code",
   "execution_count": 27,
   "metadata": {},
   "outputs": [
    {
     "name": "stdout",
     "output_type": "stream",
     "text": [
      "20 17.247007 [3.2238588] [2.325688]\n",
      "40 13.750941 [3.0928001] [3.1475039]\n",
      "60 10.963552 [2.975776] [3.8813136]\n",
      "80 8.7411785 [2.8712833] [4.536543]\n",
      "100 6.9692917 [2.7779808] [5.121606]\n",
      "120 5.5565767 [2.6946692] [5.6440167]\n",
      "140 4.4302287 [2.6202796] [6.1104836]\n",
      "160 3.5321968 [2.5538561] [6.526998]\n",
      "180 2.8162024 [2.4945457] [6.898909]\n",
      "200 2.2453432 [2.4415865] [7.2309937]\n",
      "220 1.790201 [2.3942988] [7.527516]\n",
      "240 1.4273177 [2.3520746] [7.7922854]\n",
      "260 1.1379938 [2.3143723] [8.028702]\n",
      "280 0.90731496 [2.2807071] [8.239801]\n",
      "300 0.7233993 [2.2506475] [8.428293]\n",
      "320 0.57676095 [2.2238064] [8.596603]\n",
      "340 0.4598493 [2.1998398] [8.746887]\n",
      "360 0.36663467 [2.1784396] [8.881079]\n",
      "380 0.2923161 [2.1593313] [9.0009]\n",
      "400 0.23306184 [2.142269] [9.107891]\n",
      "420 0.1858184 [2.1270337] [9.203424]\n",
      "440 0.1481525 [2.1134303] [9.288726]\n",
      "460 0.118121244 [2.1012836] [9.364893]\n",
      "480 0.09417732 [2.0904372] [9.432905]\n",
      "500 0.07508698 [2.0807526] [9.493634]\n",
      "\n",
      "=== Test ===\n",
      "X: 5, Y:20.000000, Y':19.897396\n",
      "X: 2.5, Y:15.000000, Y':14.695516\n"
     ]
    }
   ],
   "source": [
    "epochs = 500\n",
    "with tf.Session() as sess:\n",
    "    sess.run(tf.global_variables_initializer())\n",
    "\n",
    "    # 최적화를 100번 수행합니다.\n",
    "    for step in range(1, epochs+1):\n",
    "        # sess.run 을 통해 train_op 와 cost 그래프를 계산합니다.\n",
    "        # 이 때, 가설 수식에 넣어야 할 실제값을 feed_dict 을 통해 전달합니다.\n",
    "        _, cost_val = sess.run([train_op, cost], feed_dict={X: x_data, Y: y_data})\n",
    "        if step %20 == 0:\n",
    "            print(step, cost_val, sess.run(W), sess.run(b))\n",
    "  \n",
    "# 최적화가 완료된 모델에 테스트 값을 넣고 결과가 잘 나오는지 확인해봅니다.\n",
    "    print(\"\\n=== Test ===\")\n",
    "    print(\"X: 5, Y:%f, Y':%f\"%(5*2+10, sess.run(hypothesis, feed_dict={X: 5})))\n",
    "    print(\"X: 2.5, Y:%f, Y':%f\"%(2.5*2+10, sess.run(hypothesis, feed_dict={X: 2.5})))"
   ]
  },
  {
   "cell_type": "markdown",
   "metadata": {},
   "source": [
    "### Keras를 이용한 Linear Regress"
   ]
  },
  {
   "cell_type": "code",
   "execution_count": 1,
   "metadata": {},
   "outputs": [
    {
     "name": "stderr",
     "output_type": "stream",
     "text": [
      "Using TensorFlow backend.\n"
     ]
    }
   ],
   "source": [
    "import keras\n",
    "import numpy as np\n",
    "\n",
    "x_data = np.arange(0,10)\n",
    "y_data = x_data * 2 + 10"
   ]
  },
  {
   "cell_type": "markdown",
   "metadata": {},
   "source": [
    "#### 네트워크 생성\n",
    "* kears.models.Sequential : Linear stack network\n",
    "* keras.layers.Dense : Layer, 완전 연결층(밀집연결층)\n",
    "    * 생성자에 들어 가는 숫자는 출력 노드의 갯수이다.\n",
    "    * 필요에 따라 activation 함수를 선택\n",
    "    * 첫 입력 층인경우 `input_shape=(r,c)` 형태의 파라미터가 필요하다."
   ]
  },
  {
   "cell_type": "code",
   "execution_count": 2,
   "metadata": {},
   "outputs": [
    {
     "name": "stdout",
     "output_type": "stream",
     "text": [
      "WARNING:tensorflow:From /Users/rainer/Dropbox/work/ml_dl/lib/python3.6/site-packages/tensorflow/python/framework/op_def_library.py:263: colocate_with (from tensorflow.python.framework.ops) is deprecated and will be removed in a future version.\n",
      "Instructions for updating:\n",
      "Colocations handled automatically by placer.\n"
     ]
    }
   ],
   "source": [
    "model = keras.models.Sequential()\n",
    "model.add(keras.layers.Dense(1, input_shape=(1,)))"
   ]
  },
  {
   "cell_type": "markdown",
   "metadata": {},
   "source": [
    "#### compile() : 다음 3가지를 자동으로 추가해 준다.\n",
    "    * cost function\n",
    "    * optimizer\n",
    "    * 평가(정확도) 지표"
   ]
  },
  {
   "cell_type": "code",
   "execution_count": 3,
   "metadata": {},
   "outputs": [
    {
     "name": "stdout",
     "output_type": "stream",
     "text": [
      "_________________________________________________________________\n",
      "Layer (type)                 Output Shape              Param #   \n",
      "=================================================================\n",
      "dense_1 (Dense)              (None, 1)                 2         \n",
      "=================================================================\n",
      "Total params: 2\n",
      "Trainable params: 2\n",
      "Non-trainable params: 0\n",
      "_________________________________________________________________\n"
     ]
    }
   ],
   "source": [
    "#model.compile('SGD', 'mse')\n",
    "model.compile(optimizer='SGD', loss='mse', metrics=['accuracy'])\n",
    "#sgd = keras.optimizers.SGD(lr=0.01)\n",
    "#model.compile(optimizer=sgd, loss='mse', metrics=['accuracy'])\n",
    "\n",
    "model.summary()"
   ]
  },
  {
   "cell_type": "markdown",
   "metadata": {},
   "source": [
    "### 훈련 및 평가"
   ]
  },
  {
   "cell_type": "code",
   "execution_count": 6,
   "metadata": {},
   "outputs": [
    {
     "name": "stdout",
     "output_type": "stream",
     "text": [
      "W: 2.000301, b: 9.998110\n",
      "X: 5, Y:20.000000, Y':19.999617\n",
      "X: 2.5, Y:35.000000, Y':14.998863\n"
     ]
    }
   ],
   "source": [
    "model.fit(x_data, y_data, epochs=500, verbose=0)\n",
    "weights = model.layers[0].get_weights()\n",
    "print(\"W: %f, b: %f\"%(weights[0], weights[1]))\n",
    "print(\"X: 5, Y:%f, Y':%f\"%(5*2+10,  model.predict([5])))\n",
    "print(\"X: 2.5, Y:%f, Y':%f\"%(12.5*2+10,  model.predict([2.5])))"
   ]
  },
  {
   "cell_type": "markdown",
   "metadata": {},
   "source": [
    "### Tensorflow를 이용한 Softmax"
   ]
  },
  {
   "cell_type": "code",
   "execution_count": 5,
   "metadata": {},
   "outputs": [
    {
     "name": "stdout",
     "output_type": "stream",
     "text": [
      "20 0.96481395\n",
      "40 0.9598415\n",
      "60 0.95506054\n",
      "80 0.9503887\n",
      "100 0.9458931\n",
      "120 0.9415844\n",
      "140 0.9373496\n",
      "160 0.93331534\n",
      "180 0.92936856\n",
      "200 0.9255397\n",
      "예측값: [2 2 2 2 2 2]\n",
      "실제값: [0 1 2 0 0 2]\n",
      "정확도: 33.33\n"
     ]
    }
   ],
   "source": [
    "# 털과 날개가 있는지 없는지에 따라, 포유류인지 조류인지 분류하는 신경망 모델을 만들어봅니다.\n",
    "import tensorflow as tf\n",
    "import numpy as np\n",
    "\n",
    "# [털, 날개]\n",
    "x_data = np.array(\n",
    "    [[0, 0], [1, 0], [1, 1], [0, 0], [0, 0], [0, 1]])\n",
    "\n",
    "y_data = np.array([\n",
    "    [1, 0, 0],  # 기타\n",
    "    [0, 1, 0],  # 포유류\n",
    "    [0, 0, 1],  # 조류\n",
    "    [1, 0, 0],\n",
    "    [1, 0, 0],\n",
    "    [0, 0, 1]\n",
    "])\n",
    "\n",
    "X = tf.placeholder(tf.float32)\n",
    "Y = tf.placeholder(tf.float32)\n",
    "\n",
    "W = tf.Variable(tf.random_uniform([2, 3], -1., 1.))\n",
    "b = tf.Variable(tf.zeros([3]))\n",
    "L = tf.add(tf.matmul(X, W), b)\n",
    "L = tf.nn.relu(L)\n",
    "model = tf.nn.softmax(L)\n",
    "\n",
    "cost = tf.reduce_mean(-tf.reduce_sum(Y * tf.log(model), axis=1))\n",
    "optimizer = tf.train.GradientDescentOptimizer(learning_rate=0.01)\n",
    "train_op = optimizer.minimize(cost)\n",
    "\n",
    "init = tf.global_variables_initializer()\n",
    "sess = tf.Session()\n",
    "sess.run(init)\n",
    "epochs = 200\n",
    "for step in range(1, epochs+1):\n",
    "    sess.run(train_op, feed_dict={X: x_data, Y: y_data})\n",
    "\n",
    "    if (step + 1) % 20 == 0:\n",
    "        print(step + 1, sess.run(cost, feed_dict={X: x_data, Y: y_data}))\n",
    "\n",
    "# 결과 확인\n",
    "# 0: 기타 1: 포유류, 2: 조류\n",
    "prediction = tf.argmax(model, 1)\n",
    "target = tf.argmax(Y, 1)\n",
    "print('예측값:', sess.run(prediction, feed_dict={X: x_data}))\n",
    "print('실제값:', sess.run(target, feed_dict={Y: y_data}))\n",
    "\n",
    "is_correct = tf.equal(prediction, target)\n",
    "accuracy = tf.reduce_mean(tf.cast(is_correct, tf.float32))\n",
    "print('정확도: %.2f' % sess.run(accuracy * 100, feed_dict={X: x_data, Y: y_data}))\n"
   ]
  },
  {
   "cell_type": "markdown",
   "metadata": {},
   "source": [
    "### Keras를 이용한 Softmax 예제"
   ]
  },
  {
   "cell_type": "code",
   "execution_count": 7,
   "metadata": {},
   "outputs": [
    {
     "name": "stdout",
     "output_type": "stream",
     "text": [
      "예측값: [0 2 2 0 0 1]\n",
      "실제값: [0 1 2 0 0 2]\n",
      "정확도: 66.67\n"
     ]
    }
   ],
   "source": [
    "import keras.models as models\n",
    "import keras.layers as layers\n",
    "import numpy as np\n",
    "\n",
    "x_data = np.array(\n",
    "    [[0, 0], [1, 0], [1, 1], [0, 0], [0, 0], [0, 1]])\n",
    "\n",
    "y_data = np.array([\n",
    "    [1, 0, 0],  # 기타\n",
    "    [0, 1, 0],  # 포유류\n",
    "    [0, 0, 1],  # 조류\n",
    "    [1, 0, 0],\n",
    "    [1, 0, 0],\n",
    "    [0, 0, 1]\n",
    "])\n",
    "\n",
    "model = models.Sequential()\n",
    "model.add(layers.Dense(3, activation='softmax', input_shape=(2,)))\n",
    "model.compile(optimizer='SGD', loss='mse', metrics=['accuracy'])\n",
    "\n",
    "model.fit(x_data, y_data, epochs=200, verbose=0)\n",
    "\n",
    "pred = np.argmax(model.predict(x_data), axis=1)\n",
    "target = np.argmax(y_data, axis=1)\n",
    "print('예측값:', pred)\n",
    "print('실제값:', target)\n",
    "print('정확도: %.2f'% (np.sum(pred == target)/target.shape[0]*100))\n"
   ]
  }
 ],
 "metadata": {
  "kernelspec": {
   "display_name": "ml_dl",
   "language": "python",
   "name": "ml_dl"
  },
  "language_info": {
   "codemirror_mode": {
    "name": "ipython",
    "version": 3
   },
   "file_extension": ".py",
   "mimetype": "text/x-python",
   "name": "python",
   "nbconvert_exporter": "python",
   "pygments_lexer": "ipython3",
   "version": "3.6.4"
  }
 },
 "nbformat": 4,
 "nbformat_minor": 2
}
