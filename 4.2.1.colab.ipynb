{
 "cells": [
  {
   "cell_type": "markdown",
   "metadata": {},
   "source": [
    "# 구글 Colab\n",
    "* 구글 에서 제공하는 무료 클라우드 환경\n",
    "* https://colab.research.google.com\n",
    "\n",
    "## 구글 드라이브 연계\n",
    "* 구글 계정 로그인\n",
    "* http://drive.google.com\n",
    "* 연결 프로그램 등록\n",
    "    * Colab 검색\n",
    "* 가상머신에 구글 드라이브를 디스크로 마운트"
   ]
  },
  {
   "cell_type": "markdown",
   "metadata": {},
   "source": [
    "from google.colab import auth\n",
    "auth.authenticate_user()\n",
    "\n",
    "from google.colab import drive\n",
    "drive.mount('/content/gdrive')"
   ]
  }
 ],
 "metadata": {
  "kernelspec": {
   "display_name": "ml_dl",
   "language": "python",
   "name": "ml_dl"
  },
  "language_info": {
   "codemirror_mode": {
    "name": "ipython",
    "version": 3
   },
   "file_extension": ".py",
   "mimetype": "text/x-python",
   "name": "python",
   "nbconvert_exporter": "python",
   "pygments_lexer": "ipython3",
   "version": "3.6.4"
  }
 },
 "nbformat": 4,
 "nbformat_minor": 2
}
