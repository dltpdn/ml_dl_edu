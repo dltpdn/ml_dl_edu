{
 "cells": [
  {
   "cell_type": "markdown",
   "metadata": {},
   "source": [
    "# Polynomial Variable Regression\n",
    "* 다항 회귀는 비선형 데이터를 선형 모델로 학습할 수 있다.\n",
    "* 각 특성(변수)의 제곱한 새로운 특성을 추가하고 선형 모델로 학습한다.\n",
    "* 2차식을 포함한 데이터를 생성해서 실험한다.\n",
    "* [np.polyval(p, x)](https://docs.scipy.org/doc/numpy-1.15.0/reference/generated/numpy.polyval.html): 함수는 x에 대해서 다항식 계수를 갖는 p의 y값을 생성한다.\n",
    "    * p는 원소의 갯수에 따라 0차, 1차, 2차식의 계수를 나타낸다.\n",
    "    * p = np.array([2,3,5]) : $2x^2 + 3x + 5$"
   ]
  },
  {
   "cell_type": "code",
   "execution_count": null,
   "metadata": {
    "collapsed": true
   },
   "outputs": [],
   "source": [
    "%matplotlib inline\n",
    "import numpy as np\n",
    "import matplotlib.pylab as plt\n",
    "\n",
    "m = 100\n",
    "X = 5 * np.random.rand(m, 1) -3\n",
    "y = 2*X**2 + 3*X + 5 + np.random.randn(m, 1) # 2,3,5 +noiseb\n",
    "print(X.shape, y.shape, X[0], y[0])\n",
    "plt.plot(X, y, '.')\n",
    "#xl = np.linspace(-3, 2, m)\n",
    "#yl = np.polyval([2,3,5], xl)\n",
    "#plt.plot(xl, yl, 'r-')"
   ]
  },
  {
   "cell_type": "markdown",
   "metadata": {},
   "source": [
    "### 다항식을 다변수식으로 변환\n",
    "* X에 제곱을 한 새로운 항을 추가하고 bias에 해당하는 1항을 추가\n",
    "    * 차수를 높인 항을 추가\n",
    "* 추가한 항의 값을 모두 더해서 표시하면 선형 형태를 띈다. \n",
    "* 이 모델을 다변수 회귀 모델 훈련에 사용한 방법을 그대로 적용\n",
    "* 다차항을 계속 추가 하면 과유연한 또는 과적합되는 모델을 얻을 수 있다."
   ]
  },
  {
   "cell_type": "code",
   "execution_count": null,
   "metadata": {
    "collapsed": true
   },
   "outputs": [],
   "source": [
    "degree = 3 # can change the degree higher\n",
    "#X_poly = np.concatenate( (X**2, X, np.ones((m,1))),axis= 1)  # same with the code below \n",
    "X_poly = np.vander(X.ravel(), degree)\n",
    "print(X_poly.shape, X_poly[0])\n",
    "plt.plot(X_poly.sum(axis=1), y, '.')\n",
    "p1 = np.polyfit(X_poly.sum(axis=1), y,1)\n",
    "print(p1)\n",
    "plt.plot(X_poly.sum(axis=1), np.polyval(p1, X_poly.sum(axis=1)))\n"
   ]
  },
  {
   "cell_type": "code",
   "execution_count": null,
   "metadata": {
    "collapsed": true
   },
   "outputs": [],
   "source": [
    "W = np.random.rand(degree,1)\n",
    "print('initial W', W.ravel())\n",
    "\n",
    "learning_rate = 5e-4#0.0005\n",
    "epochs = 30000\n",
    "for epoch in range(epochs):\n",
    "    hypothesis = X_poly.dot(W)\n",
    "    loss = hypothesis - y\n",
    "    cost = 1/m * np.sum(loss**2)\n",
    "    gradient = 2/m * X_poly.T.dot(loss)\n",
    "    W = W - learning_rate * gradient\n",
    "    if epoch %1000 == 0:\n",
    "        print('epoch:',epoch,' cost:',cost)\n",
    "print('Final W:',W.ravel(), 'cost:%f'%cost, 'gradient:', gradient.ravel())\n",
    "\n",
    "plt.plot(X, y, '.')\n",
    "xl = np.linspace(X.min(), X.max(), m)\n",
    "yl = np.polyval(W.ravel(), xl)\n",
    "plt.plot(xl, yl, 'r-')\n"
   ]
  },
  {
   "cell_type": "markdown",
   "metadata": {},
   "source": [
    "## scikit-learn 구현\n"
   ]
  },
  {
   "cell_type": "code",
   "execution_count": null,
   "metadata": {
    "collapsed": true
   },
   "outputs": [],
   "source": [
    "from sklearn.preprocessing import PolynomialFeatures\n",
    "from sklearn.linear_model import LinearRegression\n",
    "\n",
    "plt.plot(X, y, '.')\n",
    "\n",
    "poly_features = PolynomialFeatures(degree=2, include_bias=False)\n",
    "X_poly2 = poly_features.fit_transform(X)\n",
    "print(X[0], X_poly2[0])\n",
    "\n",
    "lin_reg = LinearRegression()\n",
    "lin_reg.fit(X_poly2, y)\n",
    "print(lin_reg.intercept_, lin_reg.coef_)\n",
    "\n",
    "X_new=np.linspace(-3, 3, 100).reshape(100, 1)\n",
    "X_new_poly = poly_features.transform(X_new)\n",
    "y_new = lin_reg.predict(X_new_poly)\n",
    "plt.plot(X_new, y_new, \"r-\", linewidth=2, label=\"예측\")\n",
    "plt.show()"
   ]
  },
  {
   "cell_type": "code",
   "execution_count": null,
   "metadata": {
    "collapsed": true
   },
   "outputs": [],
   "source": []
  }
 ],
 "metadata": {
  "kernelspec": {
   "display_name": "Python (myenv)",
   "language": "python",
   "name": "myenv"
  },
  "language_info": {
   "codemirror_mode": {
    "name": "ipython",
    "version": 3
   },
   "file_extension": ".py",
   "mimetype": "text/x-python",
   "name": "python",
   "nbconvert_exporter": "python",
   "pygments_lexer": "ipython3",
   "version": "3.6.4"
  }
 },
 "nbformat": 4,
 "nbformat_minor": 2
}
