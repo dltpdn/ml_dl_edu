{
 "cells": [
  {
   "cell_type": "markdown",
   "metadata": {},
   "source": [
    "## 4.3 Tensor board and Model Save"
   ]
  },
  {
   "cell_type": "markdown",
   "metadata": {},
   "source": [
    "### Tensor Board\n",
    "* 그래프 구조 및 변수  저장\n",
    "    * 네임 스코프 지정\n",
    "        * 깔끔한 분류\n",
    "        * `with tf.name_scope('optimizer'):`\n",
    "    * 이름 표시\n",
    "        * 변수 및 오프레이터에 name 지정\n",
    "        * `W1 = tf.Variable(tf.random_uniform([2, 10], -1., 1.), name='W1')`\n",
    "    * 로그 파일 저장\n",
    "        * `writer = tf.summary.FileWriter('./logs/dnn', tf.get_default_graph())`\n",
    "* 텐서 보드 실행\n",
    "    * `tensorboard --logdir=./logs`\n",
    "* 웹 브라우저로 접속\n",
    "    * http://localhost:6006"
   ]
  },
  {
   "cell_type": "code",
   "execution_count": 1,
   "metadata": {},
   "outputs": [
    {
     "name": "stdout",
     "output_type": "stream",
     "text": [
      "[[0. 0.]\n",
      " [1. 0.]\n",
      " [1. 1.]\n",
      " [0. 0.]\n",
      " [0. 0.]\n",
      " [0. 1.]] (6, 2) float32\n",
      "WARNING:tensorflow:From /Users/rainer/Dropbox/work/ml_dl/lib/python3.6/site-packages/tensorflow/python/framework/op_def_library.py:263: colocate_with (from tensorflow.python.framework.ops) is deprecated and will be removed in a future version.\n",
      "Instructions for updating:\n",
      "Colocations handled automatically by placer.\n",
      "not exit\n",
      "Step: 1,  Cost: 1.143\n",
      "Step: 2,  Cost: 1.044\n",
      "Step: 3,  Cost: 0.961\n",
      "Step: 4,  Cost: 0.895\n",
      "Step: 5,  Cost: 0.842\n",
      "Step: 6,  Cost: 0.800\n",
      "Step: 7,  Cost: 0.766\n",
      "Step: 8,  Cost: 0.735\n",
      "Step: 9,  Cost: 0.710\n",
      "Step: 10,  Cost: 0.688\n",
      "Step: 11,  Cost: 0.669\n",
      "Step: 12,  Cost: 0.652\n",
      "Step: 13,  Cost: 0.639\n",
      "Step: 14,  Cost: 0.627\n",
      "Step: 15,  Cost: 0.616\n",
      "Step: 16,  Cost: 0.607\n",
      "Step: 17,  Cost: 0.600\n",
      "Step: 18,  Cost: 0.593\n",
      "Step: 19,  Cost: 0.588\n",
      "Step: 20,  Cost: 0.583\n",
      "Step: 21,  Cost: 0.579\n",
      "Step: 22,  Cost: 0.575\n",
      "Step: 23,  Cost: 0.572\n",
      "Step: 24,  Cost: 0.570\n",
      "Step: 25,  Cost: 0.567\n",
      "Step: 26,  Cost: 0.565\n",
      "Step: 27,  Cost: 0.564\n",
      "Step: 28,  Cost: 0.562\n",
      "Step: 29,  Cost: 0.561\n",
      "Step: 30,  Cost: 0.560\n",
      "Step: 31,  Cost: 0.559\n",
      "Step: 32,  Cost: 0.558\n",
      "Step: 33,  Cost: 0.557\n",
      "Step: 34,  Cost: 0.556\n",
      "Step: 35,  Cost: 0.556\n",
      "Step: 36,  Cost: 0.555\n",
      "Step: 37,  Cost: 0.555\n",
      "Step: 38,  Cost: 0.554\n",
      "Step: 39,  Cost: 0.554\n",
      "Step: 40,  Cost: 0.554\n",
      "Step: 41,  Cost: 0.553\n",
      "Step: 42,  Cost: 0.553\n",
      "Step: 43,  Cost: 0.553\n",
      "Step: 44,  Cost: 0.553\n",
      "Step: 45,  Cost: 0.553\n",
      "Step: 46,  Cost: 0.552\n",
      "Step: 47,  Cost: 0.552\n",
      "Step: 48,  Cost: 0.552\n",
      "Step: 49,  Cost: 0.552\n",
      "Step: 50,  Cost: 0.552\n",
      "Step: 51,  Cost: 0.552\n",
      "Step: 52,  Cost: 0.552\n",
      "Step: 53,  Cost: 0.551\n",
      "Step: 54,  Cost: 0.551\n",
      "Step: 55,  Cost: 0.551\n",
      "Step: 56,  Cost: 0.551\n",
      "Step: 57,  Cost: 0.551\n",
      "Step: 58,  Cost: 0.551\n",
      "Step: 59,  Cost: 0.551\n",
      "Step: 60,  Cost: 0.551\n",
      "Step: 61,  Cost: 0.551\n",
      "Step: 62,  Cost: 0.551\n",
      "Step: 63,  Cost: 0.551\n",
      "Step: 64,  Cost: 0.551\n",
      "Step: 65,  Cost: 0.551\n",
      "Step: 66,  Cost: 0.551\n",
      "Step: 67,  Cost: 0.551\n",
      "Step: 68,  Cost: 0.551\n",
      "Step: 69,  Cost: 0.551\n",
      "Step: 70,  Cost: 0.551\n",
      "Step: 71,  Cost: 0.551\n",
      "Step: 72,  Cost: 0.551\n",
      "Step: 73,  Cost: 0.550\n",
      "Step: 74,  Cost: 0.550\n",
      "Step: 75,  Cost: 0.550\n",
      "Step: 76,  Cost: 0.550\n",
      "Step: 77,  Cost: 0.550\n",
      "Step: 78,  Cost: 0.550\n",
      "Step: 79,  Cost: 0.550\n",
      "Step: 80,  Cost: 0.550\n",
      "Step: 81,  Cost: 0.550\n",
      "Step: 82,  Cost: 0.550\n",
      "Step: 83,  Cost: 0.550\n",
      "Step: 84,  Cost: 0.550\n",
      "Step: 85,  Cost: 0.550\n",
      "Step: 86,  Cost: 0.550\n",
      "Step: 87,  Cost: 0.550\n",
      "Step: 88,  Cost: 0.550\n",
      "Step: 89,  Cost: 0.550\n",
      "Step: 90,  Cost: 0.550\n",
      "Step: 91,  Cost: 0.550\n",
      "Step: 92,  Cost: 0.550\n",
      "Step: 93,  Cost: 0.550\n",
      "Step: 94,  Cost: 0.550\n",
      "Step: 95,  Cost: 0.550\n",
      "Step: 96,  Cost: 0.550\n",
      "Step: 97,  Cost: 0.550\n",
      "Step: 98,  Cost: 0.550\n",
      "Step: 99,  Cost: 0.550\n",
      "Step: 100,  Cost: 0.550\n",
      "예측값: [0 1 2 0 0 2]\n",
      "실제값: [0 1 2 0 0 2]\n",
      "정확도: 100.00\n"
     ]
    }
   ],
   "source": [
    "import tensorflow as tf\n",
    "import numpy as np\n",
    "\n",
    "data = np.loadtxt('./data/data.csv', delimiter=',',\n",
    "                  unpack=True, dtype='float32')\n",
    "\n",
    "x_data = np.transpose(data[0:2])\n",
    "y_data = np.transpose(data[2:])\n",
    "print(x_data, x_data.shape, x_data.dtype)\n",
    "\n",
    "#########\n",
    "# 신경망 모델 구성\n",
    "######\n",
    "global_step = tf.Variable(0, trainable=False, name='global_step')\n",
    "\n",
    "X = tf.placeholder(tf.float32, name=\"phX\")\n",
    "Y = tf.placeholder(tf.float32, name=\"phY\")\n",
    "\n",
    "with tf.name_scope('layer1'):\n",
    "    W1 = tf.Variable(tf.random_uniform([2, 10], -1., 1.), name='W1')\n",
    "    L1 = tf.nn.relu(tf.matmul(X, W1))\n",
    "\n",
    "    tf.summary.histogram(\"X\", X)\n",
    "    tf.summary.histogram(\"Weights\", W1)\n",
    "\n",
    "with tf.name_scope('layer2'):\n",
    "    W2 = tf.Variable(tf.random_uniform([10, 20], -1., 1.), name='W2')\n",
    "    L2 = tf.nn.relu(tf.matmul(L1, W2))\n",
    "\n",
    "    tf.summary.histogram(\"Weights\", W2)\n",
    "\n",
    "with tf.name_scope('output'):\n",
    "    W3 = tf.Variable(tf.random_uniform([20, 3], -1., 1.), name='W3')\n",
    "    model = tf.matmul(L2, W3)\n",
    "\n",
    "    tf.summary.histogram(\"Weights\", W3)\n",
    "    tf.summary.histogram(\"Model\", model)\n",
    "\n",
    "with tf.name_scope('optimizer'):\n",
    "    cost = tf.reduce_mean(\n",
    "        tf.nn.softmax_cross_entropy_with_logits_v2(labels=Y, logits=model))\n",
    "\n",
    "    optimizer = tf.train.AdamOptimizer(learning_rate=0.01)\n",
    "    train_op = optimizer.minimize(cost, global_step=global_step)\n",
    "\n",
    "    tf.summary.scalar('cost', cost)\n",
    "\n",
    "#########\n",
    "# 신경망 모델 학습\n",
    "######\n",
    "sess = tf.Session()\n",
    "saver = tf.train.Saver(tf.global_variables())\n",
    "\n",
    "ckpt = tf.train.get_checkpoint_state('./model')\n",
    "if ckpt and tf.train.checkpoint_exists(ckpt.model_checkpoint_path):\n",
    "    print('exist')\n",
    "    saver.restore(sess, ckpt.model_checkpoint_path)\n",
    "else:\n",
    "    print(\"not exit\")\n",
    "    sess.run(tf.global_variables_initializer())\n",
    "\n",
    "merged = tf.summary.merge_all()\n",
    "writer = tf.summary.FileWriter('./logs', sess.graph)\n",
    "\n",
    "for step in range(100):\n",
    "    sess.run(train_op, feed_dict={X: x_data, Y: y_data})\n",
    "\n",
    "    print('Step: %d, ' % sess.run(global_step),\n",
    "          'Cost: %.3f' % sess.run(cost, feed_dict={X: x_data, Y: y_data}))\n",
    "\n",
    "    summary = sess.run(merged, feed_dict={X: x_data, Y: y_data})\n",
    "    writer.add_summary(summary, global_step=sess.run(global_step))\n",
    "\n",
    "saver.save(sess, './model/dnn.ckpt', global_step=global_step)\n",
    "\n",
    "#########\n",
    "# 결과 확인\n",
    "######\n",
    "prediction = tf.argmax(model, 1)\n",
    "target = tf.argmax(Y, 1)\n",
    "print('예측값:', sess.run(prediction, feed_dict={X: x_data}))\n",
    "print('실제값:', sess.run(target, feed_dict={Y: y_data}))\n",
    "\n",
    "is_correct = tf.equal(prediction, target)\n",
    "accuracy = tf.reduce_mean(tf.cast(is_correct, tf.float32))\n",
    "print('정확도: %.2f' % sess.run(accuracy * 100, feed_dict={X: x_data, Y: y_data}))"
   ]
  },
  {
   "cell_type": "markdown",
   "metadata": {},
   "source": [
    "### 모델 저장\n",
    "* `saver = tf.train.Saver(tf.global_variables())`\n",
    "* `saver.save(sess, './model/dnn_final.ckpt')`"
   ]
  },
  {
   "cell_type": "code",
   "execution_count": 2,
   "metadata": {},
   "outputs": [
    {
     "data": {
      "text/plain": [
       "'./model/dnn_final.ckpt'"
      ]
     },
     "execution_count": 2,
     "metadata": {},
     "output_type": "execute_result"
    }
   ],
   "source": [
    "\n",
    "saver.save(sess, './model/dnn_final.ckpt')"
   ]
  },
  {
   "cell_type": "markdown",
   "metadata": {},
   "source": [
    "### Tensorflow 모델 읽기\n"
   ]
  },
  {
   "cell_type": "code",
   "execution_count": 3,
   "metadata": {},
   "outputs": [
    {
     "name": "stdout",
     "output_type": "stream",
     "text": [
      "WARNING:tensorflow:From /Users/rainer/Dropbox/work/ml_dl/lib/python3.6/site-packages/tensorflow/python/training/saver.py:1266: checkpoint_exists (from tensorflow.python.training.checkpoint_management) is deprecated and will be removed in a future version.\n",
      "Instructions for updating:\n",
      "Use standard file APIs to check for files with this prefix.\n",
      "INFO:tensorflow:Restoring parameters from ./model/dnn_final.ckpt\n",
      "예측값: [0 2 2 0 0 2]\n",
      "실제값: [0 1 2 0 0 2]\n"
     ]
    }
   ],
   "source": [
    "import tensorflow as tf\n",
    "import numpy as np\n",
    "\n",
    "# [털, 날개]\n",
    "x_data = np.array(\n",
    "    [[0, 0], [1, 0], [1, 1], [0, 0], [0, 0], [0, 1]])\n",
    "\n",
    "# [기타, 포유류, 조류]\n",
    "y_data = np.array([\n",
    "    [1, 0, 0],  # 기타\n",
    "    [0, 1, 0],  # 포유류\n",
    "    [0, 0, 1],  # 조류\n",
    "    [1, 0, 0],\n",
    "    [1, 0, 0],\n",
    "    [0, 0, 1]\n",
    "])\n",
    "\n",
    "#########\n",
    "# 신경망 모델 구성\n",
    "######\n",
    "X = tf.placeholder(tf.float32)\n",
    "Y = tf.placeholder(tf.float32)\n",
    "\n",
    "# 첫번째 가중치의 차원은 [특성, 히든 레이어의 뉴런갯수] -> [2, 10] 으로 정합니다.\n",
    "W1 = tf.Variable(tf.random_uniform([2, 10], -1., 1.))\n",
    "# 두번째 가중치의 차원을 [첫번째 히든 레이어의 뉴런 갯수, 분류 갯수] -> [10, 3] 으로 정합니다.\n",
    "W2 = tf.Variable(tf.random_uniform([10, 3], -1., 1.))\n",
    "\n",
    "# 편향을 각각 각 레이어의 아웃풋 갯수로 설정합니다.\n",
    "# b1 은 히든 레이어의 뉴런 갯수로, b2 는 최종 결과값 즉, 분류 갯수인 3으로 설정합니다.\n",
    "b1 = tf.Variable(tf.zeros([10]))\n",
    "b2 = tf.Variable(tf.zeros([3]))\n",
    "\n",
    "# 신경망의 히든 레이어에 가중치 W1과 편향 b1을 적용합니다\n",
    "L1 = tf.add(tf.matmul(X, W1), b1)\n",
    "L1 = tf.nn.relu(L1)\n",
    "\n",
    "# 최종적인 아웃풋을 계산합니다.\n",
    "# 히든레이어에 두번째 가중치 W2와 편향 b2를 적용하여 3개의 출력값을 만들어냅니다.\n",
    "model = tf.add(tf.matmul(L1, W2), b2, name='model')\n",
    "\n",
    "\n",
    "prediction = tf.argmax(model, 1)\n",
    "target = tf.argmax(Y, 1)\n",
    "\n",
    "sess = tf.Session()\n",
    "sess.run(tf.global_variables_initializer())\n",
    "\n",
    "saver = tf.train.import_meta_graph(\"./model/dnn_final.ckpt.meta\")\n",
    "saver.restore(sess, './model/dnn_final.ckpt')\n",
    "print('예측값:', sess.run(prediction, feed_dict={X: x_data}))\n",
    "print('실제값:', sess.run(target, feed_dict={Y: y_data}))\n"
   ]
  },
  {
   "cell_type": "markdown",
   "metadata": {},
   "source": [
    "### Keras 모델 저장"
   ]
  },
  {
   "cell_type": "code",
   "execution_count": 8,
   "metadata": {},
   "outputs": [
    {
     "name": "stdout",
     "output_type": "stream",
     "text": [
      "예측값: [0 0 1 0 0 1]\n",
      "실제값: [0 1 2 0 0 2]\n",
      "정확도: 50.00\n"
     ]
    }
   ],
   "source": [
    "import keras\n",
    "import keras.models as models\n",
    "import keras.layers as layers\n",
    "import numpy as np\n",
    "\n",
    "x_data = np.array(\n",
    "    [[0, 0], [1, 0], [1, 1], [0, 0], [0, 0], [0, 1]])\n",
    "\n",
    "y_data = np.array([\n",
    "    [1, 0, 0],  # 기타\n",
    "    [0, 1, 0],  # 포유류\n",
    "    [0, 0, 1],  # 조류\n",
    "    [1, 0, 0],\n",
    "    [1, 0, 0],\n",
    "    [0, 0, 1]\n",
    "])\n",
    "\n",
    "model = models.Sequential()\n",
    "model.add(layers.Dense(3, activation='softmax', input_shape=(2,), name=\"layer-1\"))\n",
    "model.compile(optimizer='SGD', loss='mse', metrics=['accuracy'])\n",
    "\n",
    "callbaks=[\n",
    "    keras.callbacks.TensorBoard(\n",
    "        log_dir = './log2',\n",
    "    )\n",
    "]\n",
    "\n",
    "model.fit(x_data, y_data, epochs=200, verbose=0, callbacks=callbaks)\n",
    "\n",
    "\n",
    "\n",
    "pred = np.argmax(model.predict(x_data), axis=1)\n",
    "target = np.argmax(y_data, axis=1)\n",
    "print('예측값:', pred)\n",
    "print('실제값:', target)\n",
    "print('정확도: %.2f'% (np.sum(pred == target)/target.shape[0]*100))\n"
   ]
  },
  {
   "cell_type": "code",
   "execution_count": 10,
   "metadata": {},
   "outputs": [],
   "source": [
    "model.save('./model2/model.h5')"
   ]
  },
  {
   "cell_type": "markdown",
   "metadata": {},
   "source": [
    "### Keras Model 읽기\n"
   ]
  },
  {
   "cell_type": "code",
   "execution_count": 11,
   "metadata": {},
   "outputs": [
    {
     "name": "stdout",
     "output_type": "stream",
     "text": [
      "_________________________________________________________________\n",
      "Layer (type)                 Output Shape              Param #   \n",
      "=================================================================\n",
      "layer-1 (Dense)              (None, 3)                 9         \n",
      "=================================================================\n",
      "Total params: 9\n",
      "Trainable params: 9\n",
      "Non-trainable params: 0\n",
      "_________________________________________________________________\n"
     ]
    }
   ],
   "source": [
    "from keras.models import load_model\n",
    "model = load_model('./model2/model.h5')\n",
    "model.summary()"
   ]
  },
  {
   "cell_type": "code",
   "execution_count": 12,
   "metadata": {},
   "outputs": [
    {
     "name": "stdout",
     "output_type": "stream",
     "text": [
      "예측값: [0 0 1 0 0 1]\n",
      "실제값: [0 1 2 0 0 2]\n",
      "정확도: 50.00\n"
     ]
    }
   ],
   "source": [
    "x_data = np.array(\n",
    "    [[0, 0], [1, 0], [1, 1], [0, 0], [0, 0], [0, 1]])\n",
    "\n",
    "\n",
    "pred = np.argmax(model.predict(x_data), axis=1)\n",
    "target = np.argmax(y_data, axis=1)\n",
    "print('예측값:', pred)\n",
    "print('실제값:', target)\n",
    "print('정확도: %.2f'% (np.sum(pred == target)/target.shape[0]*100))"
   ]
  },
  {
   "cell_type": "code",
   "execution_count": null,
   "metadata": {},
   "outputs": [],
   "source": []
  }
 ],
 "metadata": {
  "kernelspec": {
   "display_name": "ml_dl",
   "language": "python",
   "name": "ml_dl"
  },
  "language_info": {
   "codemirror_mode": {
    "name": "ipython",
    "version": 3
   },
   "file_extension": ".py",
   "mimetype": "text/x-python",
   "name": "python",
   "nbconvert_exporter": "python",
   "pygments_lexer": "ipython3",
   "version": "3.6.4"
  }
 },
 "nbformat": 4,
 "nbformat_minor": 2
}
