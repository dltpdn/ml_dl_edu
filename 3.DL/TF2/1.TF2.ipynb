{
 "cells": [
  {
   "cell_type": "markdown",
   "metadata": {},
   "source": [
    "# Tensorflow 2\n",
    "## Eager execution\n",
    "* https://www.tensorflow.org/guide/eager\n",
    "* Graph, Session 생성 없이 즉시 실행\n",
    "* Tensorflow 2.0+ 기본 활성화\n",
    "    * `tf.executing_eagerly(()` : enable eager on TF1\n",
    "    * `tf.disable_v2_behavior()` : disable eager on TF2"
   ]
  },
  {
   "cell_type": "code",
   "execution_count": 1,
   "metadata": {},
   "outputs": [
    {
     "name": "stdout",
     "output_type": "stream",
     "text": [
      "2.0.0\n"
     ]
    }
   ],
   "source": [
    "import tensorflow as tf\n",
    "print(tf.__version__)"
   ]
  },
  {
   "cell_type": "code",
   "execution_count": 2,
   "metadata": {},
   "outputs": [
    {
     "name": "stdout",
     "output_type": "stream",
     "text": [
      "tf.Tensor(3, shape=(), dtype=int32)\n"
     ]
    }
   ],
   "source": [
    "ret = tf.add(1, 2)\n",
    "print(ret)"
   ]
  },
  {
   "cell_type": "markdown",
   "metadata": {},
   "source": [
    "## Tensor Object\n",
    "* `tf.Tensor`\n",
    "    * `shape` : shape\n",
    "    * `dtype` : dtype\n",
    "    * `name` : 이름\n",
    "    * `device` : tensor가 생성될 장치 이름\n",
    "    * `op` : tensor를 출력으로 생성하는 [`tf.Operation`](https://www.tensorflow.org/api_docs/python/tf/Operation), Error in eagar mode \n",
    "    * `graph` : tensor를 포함하는 [`tf.Graph`](https://www.tensorflow.org/api_docs/python/tf/Graph), Error in eagar mode \n",
    "    * `eval(feed_dict, session)` : 노드를 평가(실행), Error in eagar mode \n",
    "* 다차원 배열\n",
    "* 계산 그래프에 있는 노드를 참조하는 핸들 대신 구체적인 값 참조\n",
    "* GPU/TPU 등 가속기 메모리에 상주 가능\n",
    "* Tensforflow 모든 연산은 자동으로 Python Native Type을 Tensor로 변환\n",
    "    * 명시적 변환 : `tf.convert_to_tensor(value, dtype, dtype_hint, name)`\n",
    "* dtype\n",
    "\n",
    "|데이터 타입 이름|\t파이썬 데이터 타입|설명|\n",
    "|---|---|---|\n",
    "|DT_FLOAT|\ttf.float32|\t32비트 부동소수점 숫자|\n",
    "|DT_DOUBLE|\ttf.float64|\t64비트 부동소수점 숫자|\n",
    "|DT_INT8|\ttf.int8\t|8비트 정수|\n",
    "|DT_INT16|\ttf.int16|\t16비트 정수|\n",
    "|DT_INT32|\ttf.int32|\t32비트 정수|\n",
    "|DT_INT64|\ttf.int64|\t64비트 정수|\n",
    "|DT_UINT8|\ttf.uint8|\t8비트 부호 없는 정수|\n",
    "|DT_UINT16|\ttf.uint16|\t16비트 부호 없는 정수|\n",
    "|DT_STRING|\ttf.string|\t가변 길이 바이트 배열이며 텐서의 각 요소는 바이트의 배열|\n",
    "|DT_BOOL|\ttf.bool|\t참거짓값|\n",
    "|DT_COMPLEX64|\ttf.complex64|\t2개의 32비트 부동소수점 숫자로 구성된 복소수로 각각 실수부와 허수부|\n",
    "|DT_COMPLEX128|\ttf.complex128|\t2개의 64비트 부동소수점 숫자로 구성된 복소수로 각각 실수부와 허수부|\n",
    "|DT_QINT8|\ttf.qint8|\t양자화 연산(quantized operation)에 사용되는 8비트 정수|\n",
    "|DT_QINT32|\ttf.qint32|\t양자화 연산에 사용되는 32비트 정수|\n",
    "|DT_QUINT8|\ttf.quint8|\t양자화 연산에 사용되는 8비트 부호 없는 정수|\n"
   ]
  },
  {
   "cell_type": "code",
   "execution_count": 88,
   "metadata": {},
   "outputs": [
    {
     "name": "stdout",
     "output_type": "stream",
     "text": [
      "tf.Tensor(1, shape=(), dtype=int32) tf.Tensor(2, shape=(), dtype=int32) tf.Tensor(3, shape=(), dtype=int32)\n",
      "() <dtype: 'int32'>\n"
     ]
    }
   ],
   "source": [
    "tsr1 = tf.convert_to_tensor(1)\n",
    "tsr2 = tf.convert_to_tensor(2)\n",
    "\n",
    "ret2 = tf.add(tsr1, tsr2)\n",
    "print(tsr1, tsr2, ret2)\n",
    "print(ret.shape, ret.dtype)\n",
    "#print(const.op)\n",
    "#print(const.graph)\n"
   ]
  },
  {
   "cell_type": "markdown",
   "metadata": {},
   "source": [
    "### Broadcasting"
   ]
  },
  {
   "cell_type": "code",
   "execution_count": 72,
   "metadata": {},
   "outputs": [
    {
     "name": "stdout",
     "output_type": "stream",
     "text": [
      "tf.Tensor(\n",
      "[[2 3]\n",
      " [4 5]], shape=(2, 2), dtype=int32)\n"
     ]
    }
   ],
   "source": [
    "ret3 = tf.add([[1,2],\n",
    "               [3,4]], 1)\n",
    "print(ret3)"
   ]
  },
  {
   "cell_type": "markdown",
   "metadata": {},
   "source": [
    "### Operator Overloading"
   ]
  },
  {
   "cell_type": "code",
   "execution_count": 74,
   "metadata": {},
   "outputs": [
    {
     "name": "stdout",
     "output_type": "stream",
     "text": [
      "tf.Tensor(\n",
      "[[ 6  9]\n",
      " [12 15]], shape=(2, 2), dtype=int32)\n"
     ]
    }
   ],
   "source": [
    "print(ret2 * ret3)"
   ]
  },
  {
   "cell_type": "markdown",
   "metadata": {},
   "source": [
    "### 형변환\n",
    "* `tf.cast(x, dtype, name=None)` \n",
    "    * Alias for `tf.dtypes.cast` \n"
   ]
  },
  {
   "cell_type": "code",
   "execution_count": 80,
   "metadata": {},
   "outputs": [
    {
     "name": "stdout",
     "output_type": "stream",
     "text": [
      "tf.Tensor(10, shape=(), dtype=int32)\n",
      "tf.Tensor(10.0, shape=(), dtype=float32)\n",
      "tf.Tensor([1.8 2.2], shape=(2,), dtype=float32)\n",
      "tf.Tensor([1 2], shape=(2,), dtype=int32)\n"
     ]
    }
   ],
   "source": [
    "tensor1 = tf.convert_to_tensor(10)\n",
    "print(tensor1)\n",
    "tensor_f32 = tf.cast(tensor1, tf.float32)\n",
    "print(tensor_f32)\n",
    "\n",
    "tensor2 = tf.convert_to_tensor([1.8, 2.2])\n",
    "print(tensor2)\n",
    "tensor_int32 = tf.cast(tensor2, tf.int32)\n",
    "print(tensor_int32)"
   ]
  },
  {
   "cell_type": "markdown",
   "metadata": {},
   "source": [
    "### NumPy 호환성\n",
    "* Tensforflow 연산은 자동으로 NumPy 배열을 Tensor로 변환\n",
    "    *  명시적 변환 : tf.convert_to_tensor(ndarray or list)\n",
    "* NumPy 연산은 자동으로 Tensor를 NumPy 배열로 변환\n",
    "    * 명시적 변환 : tensor.numpy(), np.array(tensor)"
   ]
  },
  {
   "cell_type": "code",
   "execution_count": 59,
   "metadata": {},
   "outputs": [
    {
     "name": "stdout",
     "output_type": "stream",
     "text": [
      "[1 2 3 4] [2 3 4 5] tf.Tensor([3 5 7 9], shape=(4,), dtype=int32)\n",
      "(4,) <dtype: 'int32'>\n",
      "[3 5 7 9] [3 5 7 9]\n",
      "[ 4  6  8 10]\n"
     ]
    }
   ],
   "source": [
    "import numpy as np\n",
    "\n",
    "ndarray1 = np.array([1,2,3,4])\n",
    "ndarray2 = np.array([2,3,4,5])\n",
    "tensor = tf.add(ndarray1, ndarray2)\n",
    "print(ndarray1, ndarray2, tensor)\n",
    "print(tensor.shape, tensor.dtype)\n",
    "print(np.array(tensor), tensor.numpy())\n",
    "\n",
    "print(np.add(tensor, 1))"
   ]
  },
  {
   "cell_type": "markdown",
   "metadata": {},
   "source": [
    "* Tensor는 불변성(Immutable)"
   ]
  },
  {
   "cell_type": "code",
   "execution_count": 21,
   "metadata": {},
   "outputs": [
    {
     "name": "stdout",
     "output_type": "stream",
     "text": [
      "[1 2 9 4]\n"
     ]
    }
   ],
   "source": [
    "ndarray = np.array([1,2,3,4])\n",
    "ndarray[2] = 9\n",
    "print(ndarray)"
   ]
  },
  {
   "cell_type": "code",
   "execution_count": 75,
   "metadata": {},
   "outputs": [
    {
     "name": "stdout",
     "output_type": "stream",
     "text": [
      "tf.Tensor([1 2 9 4], shape=(4,), dtype=int32)\n"
     ]
    },
    {
     "ename": "TypeError",
     "evalue": "'tensorflow.python.framework.ops.EagerTensor' object does not support item assignment",
     "output_type": "error",
     "traceback": [
      "\u001b[1;31m---------------------------------------------------------------------------\u001b[0m",
      "\u001b[1;31mTypeError\u001b[0m                                 Traceback (most recent call last)",
      "\u001b[1;32m<ipython-input-75-4e15c2f07b0b>\u001b[0m in \u001b[0;36m<module>\u001b[1;34m\u001b[0m\n\u001b[0;32m      1\u001b[0m \u001b[0mtensor\u001b[0m \u001b[1;33m=\u001b[0m \u001b[0mtf\u001b[0m\u001b[1;33m.\u001b[0m\u001b[0mconvert_to_tensor\u001b[0m\u001b[1;33m(\u001b[0m\u001b[0mndarray\u001b[0m\u001b[1;33m)\u001b[0m\u001b[1;33m\u001b[0m\u001b[1;33m\u001b[0m\u001b[0m\n\u001b[0;32m      2\u001b[0m \u001b[0mprint\u001b[0m\u001b[1;33m(\u001b[0m\u001b[0mtensor\u001b[0m\u001b[1;33m)\u001b[0m\u001b[1;33m\u001b[0m\u001b[1;33m\u001b[0m\u001b[0m\n\u001b[1;32m----> 3\u001b[1;33m \u001b[0mtensor\u001b[0m\u001b[1;33m[\u001b[0m\u001b[1;36m2\u001b[0m\u001b[1;33m]\u001b[0m \u001b[1;33m=\u001b[0m \u001b[1;36m9\u001b[0m \u001b[1;31m# Error caused by immutable\u001b[0m\u001b[1;33m\u001b[0m\u001b[1;33m\u001b[0m\u001b[0m\n\u001b[0m",
      "\u001b[1;31mTypeError\u001b[0m: 'tensorflow.python.framework.ops.EagerTensor' object does not support item assignment"
     ]
    }
   ],
   "source": [
    "tensor = tf.convert_to_tensor(ndarray)\n",
    "print(tensor)\n",
    "tensor[2] = 9 # Error caused by immutable"
   ]
  },
  {
   "cell_type": "markdown",
   "metadata": {},
   "source": [
    "### 축약 연산자\n",
    "* ```tf.<operator>```를 축약 연산자로 사용가능\n",
    "\n",
    "|TensorFlow 연산\t|축약 연산자\t|설명|\n",
    "|---|---|---|\n",
    "|tf.add()\t|a + b|\ta와 b를 더함|\n",
    "tf.multiply()|\ta * b|\ta와 b를 곱함\n",
    "tf.subtract()|\ta - b|\ta에서 b를 뺌\n",
    "tf.divide()|\ta / b|\ta를 b로 나눔\n",
    "tf.pow()|\ta ** b|\t$a^b$ 를 계산\n",
    "tf.mod()|\ta % b|\ta를 b로 나눈 나머지를 구함\n",
    "tf.logical_and()|\ta & b|\ta와 b의 논리곱을 구함. dtype은 반드시 tf.bool이어야 함\n",
    "tf.greater()|\ta > b|\t$a > b$ 의 True/False 값을 반환\n",
    "tf.greater_equal()|\ta >= b|\t$a \\geq$ 의 True/False 값을 반환\n",
    "tf.less_equal()|\ta <= b|\t$a \\leq b$ 의 True/False 값을 반환\n",
    "tf.less()|\ta < b|\t$a< b$ 의 True/False 값을 반환\n",
    "tf.negative()|\t-a|\ta의 반대 부호 값을 반환\n",
    "tf.logical_not()|\t~a|\ta의 반대의 참거짓을 반환. tf.bool 텐서만 적용 가능\n",
    "tf.abs()|\tabs(a)|\ta의 각 원소의 절대값을 반환\n",
    "tf.logical_or()|\ta I b|\ta와 b의 논리합을 구함. dtype은 반드시 tf.bool이어야 함"
   ]
  },
  {
   "cell_type": "markdown",
   "metadata": {},
   "source": [
    "## Constant\n",
    "* `tf.constant(value, dtype, shape, name)`\n",
    "    * value : Tensor가 가질 값\n",
    "    * dtype=None : 데이타 타입\n",
    "    * shape=None : Tensor 모양\n",
    "    * name='Const' : 이름\n",
    "* 상수 값을 갖는 Tensor를 생성하는 함수"
   ]
  },
  {
   "cell_type": "code",
   "execution_count": 90,
   "metadata": {},
   "outputs": [
    {
     "name": "stdout",
     "output_type": "stream",
     "text": [
      "<class 'tensorflow.python.framework.ops.EagerTensor'>\n",
      "tf.Tensor(1.0, shape=(), dtype=float32)\n"
     ]
    }
   ],
   "source": [
    "const = tf.constant(1.)\n",
    "print(type(const))\n",
    "print(const)"
   ]
  },
  {
   "cell_type": "markdown",
   "metadata": {},
   "source": [
    "*  ```tf.identity(node, \"name\")``` \n",
    "    * 이름 지정 및 입력과 같은 shape과 contens를 갖는 tensor 반환"
   ]
  },
  {
   "cell_type": "code",
   "execution_count": 95,
   "metadata": {},
   "outputs": [
    {
     "name": "stdout",
     "output_type": "stream",
     "text": [
      "tf.Tensor(1.0, shape=(), dtype=float32) tf.Tensor(1.0, shape=(), dtype=float32)\n",
      "True\n",
      "2055563289320 2055563289320\n"
     ]
    }
   ],
   "source": [
    "const_identity = tf.identity(const)\n",
    "print(const_identity, const)\n",
    "print(const_identity is const)\n",
    "print(id(const_identity), id(const))"
   ]
  },
  {
   "cell_type": "markdown",
   "metadata": {},
   "source": [
    "## Variable\n",
    "* Tensor는 상태가 없고 변경 불가 객체(Immutable steteless object) \n",
    "* 훈련을 통해 변경될 값(weight, bias) 필요\n",
    "* 값 변경을 위한 API 필요\n",
    "* `tf.Variable(initVal)`\n",
    "    * `assign(newVal)`\n",
    "* `tf.assign_sub()`, `tf.scatter_update()` ...\n",
    "* GradientTape에 의해 자동 추적"
   ]
  },
  {
   "cell_type": "code",
   "execution_count": 96,
   "metadata": {},
   "outputs": [
    {
     "name": "stdout",
     "output_type": "stream",
     "text": [
      "<tf.Variable 'Variable:0' shape=() dtype=float32, numpy=1.0>\n",
      "<tf.Variable 'Variable:0' shape=() dtype=float32, numpy=3.0>\n",
      "<tf.Variable 'Variable:0' shape=() dtype=float32, numpy=9.0>\n",
      "9.0\n"
     ]
    }
   ],
   "source": [
    "import tensorflow as tf\n",
    "\n",
    "v = tf.Variable(1.0)\n",
    "print(v)\n",
    "\n",
    "v.assign(3,0)\n",
    "print(v)\n",
    "\n",
    "v.assign(tf.square(v))\n",
    "print(v)\n",
    "print(v.numpy())"
   ]
  },
  {
   "cell_type": "markdown",
   "metadata": {},
   "source": [
    "### 난수 생성\n",
    "* 정규 분포(normal distribution)\n",
    "    * `tf.random.normal(shape, mean, std)` : 정규 분포\n",
    "    * `tf.truncated_normal(shape, mean, std)` : 절단 정규 분포\n",
    "        * shape : 생성하려는 난수의 갯수와 형태\n",
    "        * mean : 평균\n",
    "        * std : 표준편차\n",
    "* 균등 분포(uniform distribution)\n",
    "    * `tf.random_uniform(shape, min, max)` : 균등분포"
   ]
  },
  {
   "cell_type": "code",
   "execution_count": 31,
   "metadata": {},
   "outputs": [
    {
     "name": "stdout",
     "output_type": "stream",
     "text": [
      "tf.Tensor(\n",
      "[[ 1.8199295  -0.05985171  0.55724955]\n",
      " [-0.1947246   1.8847014  -0.0057567 ]\n",
      " [-0.1997932  -1.5513998   0.35833538]], shape=(3, 3), dtype=float32)\n",
      "tf.Tensor(\n",
      "[[-0.6864778   0.389474   -1.4684424 ]\n",
      " [-0.1981228   1.4743911   0.17862186]\n",
      " [-0.78214794 -0.48930797  0.21008205]], shape=(3, 3), dtype=float32)\n",
      "tf.Tensor(\n",
      "[[0.04477465 0.04168046 0.6845679 ]\n",
      " [0.7445185  0.31792998 0.99930656]\n",
      " [0.85934556 0.46774423 0.61273444]], shape=(3, 3), dtype=float32)\n"
     ]
    }
   ],
   "source": [
    "import tensorflow as tf\n",
    "\n",
    "print(tf.random.normal((3,3)))\n",
    "print(tf.random.truncated_normal((3,3)))\n",
    "print(tf.random.uniform((3,3)))"
   ]
  },
  {
   "cell_type": "code",
   "execution_count": 38,
   "metadata": {},
   "outputs": [
    {
     "data": {
      "image/png": "[encoded data removed]",
      "text/plain": [
       "<Figure size 432x288 with 3 Axes>"
      ]
     },
     "metadata": {
      "needs_background": "light"
     },
     "output_type": "display_data"
    }
   ],
   "source": [
    "%matplotlib inline\n",
    "import matplotlib.pyplot as plt\n",
    "import tensorflow as tf\n",
    "\n",
    "shape = (1, 50000)\n",
    "mean, std = 0, 1\n",
    "\n",
    "norm = tf.random.normal(shape, mean, std)\n",
    "trunc = tf.random.truncated_normal(shape, mean, std)\n",
    "\n",
    "\n",
    "minval, maxval =  -2, 2\n",
    "uform = tf.random.uniform(shape, minval, maxval)\n",
    "\n",
    "\n",
    "for i, (title, x) in enumerate(zip([\"normal\", \"trucated\", \"uniform\"], [norm, trunc, uform])):\n",
    "    plt.subplot(1,3, i+1)\n",
    "    plt.title(title)\n",
    "    plt.hist(x[0], bins=100)\n",
    "    plt.xlim([-5,5])\n",
    "    plt.ylim((0,1800))\n",
    "plt.tight_layout()\n",
    "plt.show()"
   ]
  },
  {
   "cell_type": "markdown",
   "metadata": {},
   "source": [
    "### 변수 랜덤수 초기화\n",
    "* 변수의 초기값을 지정하기 어려운 경우 랜덤 수 사용\n",
    "* `tf.Variable(tf.random_normal([n, m])`"
   ]
  },
  {
   "cell_type": "code",
   "execution_count": 100,
   "metadata": {},
   "outputs": [
    {
     "name": "stdout",
     "output_type": "stream",
     "text": [
      "x: <tf.Variable 'x:0' shape=() dtype=float32, numpy=0.6702592>\n",
      "y: <tf.Variable 'y:0' shape=(2, 3) dtype=float32, numpy=\n",
      "array([[-0.46557084, -0.8422807 , -0.02792241],\n",
      "       [ 0.80875695,  2.1228242 ,  0.6558415 ]], dtype=float32)>\n"
     ]
    }
   ],
   "source": [
    "import tensorflow as tf\n",
    "\n",
    "x = tf.Variable(tf.random.normal([]), name=\"x\")\n",
    "y = tf.Variable(tf.random.normal([2,3]), name=\"y\")\n",
    "\n",
    "print(\"x:\", x)\n",
    "print(\"y:\", y)"
   ]
  },
  {
   "cell_type": "markdown",
   "metadata": {},
   "source": [
    "## GPU 가속\n",
    "* Tensorflow는 연산에 CPU/GPU 사용 자동 결정\n",
    "* NumPy 배열은 CPU only, Tensor는 GPU, TPU 가능\n",
    "* GPU 배치 확인\n",
    "    * `tensor.device` : <string>"
   ]
  },
  {
   "cell_type": "code",
   "execution_count": 62,
   "metadata": {},
   "outputs": [
    {
     "name": "stdout",
     "output_type": "stream",
     "text": [
      "tf.Tensor(1.0, shape=(), dtype=float32)\n",
      "/job:localhost/replica:0/task:0/device:CPU:0\n"
     ]
    }
   ],
   "source": [
    "import tensorflow as tf\n",
    "\n",
    "tensor = tf.constant(1.0)\n",
    "print(tensor)\n",
    "print(tensor.device)"
   ]
  },
  {
   "cell_type": "markdown",
   "metadata": {},
   "source": [
    "* 명시적 장치 배치\n",
    "    * `tf.device`"
   ]
  },
  {
   "cell_type": "code",
   "execution_count": 89,
   "metadata": {},
   "outputs": [
    {
     "name": "stdout",
     "output_type": "stream",
     "text": [
      "On CPU\n",
      "/job:localhost/replica:0/task:0/device:CPU:0\n",
      "GPU Available\n",
      "/job:localhost/replica:0/task:0/device:GPU:0\n"
     ]
    }
   ],
   "source": [
    "\n",
    "print(\"On CPU\")\n",
    "with tf.device(\"CPU:0\"):\n",
    "    ts = tf.random.uniform(())\n",
    "    #ts  = tf.convert_to_tensor(10)\n",
    "    print(ts.device)\n",
    "\n",
    "if tf.test.is_gpu_available():\n",
    "    print(\"GPU Available\")\n",
    "    with tf.device(\"GPU:0\"):\n",
    "        #ts = tf.constant(10)\n",
    "        ts = tf.random.uniform(())\n",
    "        #ts  = tf.convert_to_tensor(10)\n",
    "        print(ts.device)\n",
    "        "
   ]
  },
  {
   "cell_type": "markdown",
   "metadata": {},
   "source": [
    "## 자동 미분\n",
    "* `tf.GradientTape([persistent=True])`\n",
    "    * `gradient()`\n",
    "* 컨텍스트 내의 모든 정방향(forward-pass) 연산을 Tape에 기록\n",
    "* 역방향 자동 미분 연산(reverse mode differentiantion)후 폐기\n",
    "    * `grandient()` 함수는 1회용\n",
    "    * `persistent=True` : 동일한 연산에 대해 여러 미분을 계산\n",
    "* 컨텍스트 내의 중간 계산 값도 미분 가능\n",
    "* 연산내 추적\n",
    "    * Variable은 자동 추적\n",
    "    * constant는 `tape.watch(const)` 필요"
   ]
  },
  {
   "cell_type": "code",
   "execution_count": 82,
   "metadata": {},
   "outputs": [
    {
     "name": "stdout",
     "output_type": "stream",
     "text": [
      "<tf.Variable 'Variable:0' shape=() dtype=float32, numpy=3.0> tf.Tensor(9.0, shape=(), dtype=float32) tf.Tensor(18.0, shape=(), dtype=float32)\n",
      "dz_dx: tf.Tensor(12.0, shape=(), dtype=float32)\n",
      "dy_dx: tf.Tensor(6.0, shape=(), dtype=float32)\n"
     ]
    }
   ],
   "source": [
    "#x = tf.constant(3.0)\n",
    "x = tf.Variable(3.0)\n",
    "with tf.GradientTape(persistent=True) as tape:\n",
    "    #tape.watch(x)\n",
    "    y = x * x  # x^2\n",
    "    z = y + y  # 2* x^2\n",
    "    print(x, y, z) \n",
    "dz_dx = tape.gradient(z, x)  # 12.0 (4x at x = 3)\n",
    "dy_dx = tape.gradient(y, x)  # 6.0 (2x at x =3)\n",
    "print(\"dz_dx:\", dz_dx)\n",
    "print(\"dy_dx:\", dy_dx)\n",
    "del tape  # 테이프에 대한 참조를 삭제합니다."
   ]
  },
  {
   "cell_type": "markdown",
   "metadata": {},
   "source": [
    "## Dataset\n",
    "* `tf.data.Dataset`\n",
    "    * 모델에 데이타를 제공하기 위한 파이프라인 구축\n",
    "    * 팩토리 함수\n",
    "        * `tf.data.Dataset.from_tensors`\n",
    "        * `tf.data.Dataset.from_tensor_slices`\n",
    "    * 파일 읽기 \n",
    "        * `tf.data.TextLineDataset(filename)` :\n",
    "    * 소스 데이터셋\n",
    "        * `tf.data.TFRecordDataset`"
   ]
  }
 ],
 "metadata": {
  "kernelspec": {
   "display_name": "Python 3",
   "language": "python",
   "name": "python3"
  },
  "language_info": {
   "codemirror_mode": {
    "name": "ipython",
    "version": 3
   },
   "file_extension": ".py",
   "mimetype": "text/x-python",
   "name": "python",
   "nbconvert_exporter": "python",
   "pygments_lexer": "ipython3",
   "version": "3.6.4"
  }
 },
 "nbformat": 4,
 "nbformat_minor": 2
}
