{
 "cells": [
  {
   "cell_type": "markdown",
   "metadata": {},
   "source": [
    "## Tensorboard\n",
    "\n",
    "* 원하는 값을 summary로 저장\n",
    "    * `writer= tf.summary.create_file_writer(path)`\n",
    "    * `with writer.as_default():`\n",
    "    * `tf.summary.scalar('name', value, step=step)`\n",
    "    * `tf.summary.histogram()\n",
    "    * TF 1.x와 차이\n",
    "        * `add_summary()`, `merge()` 없슴\n",
    "\n",
    "* summary 기록 사례\n",
    "```\n",
    "summary_writer = tf.summary.create_file_writer('/tmp/summaries')\n",
    "with summary_writer.as_default():\n",
    "  tf.summary.scalar('loss', 0.1, step=42)\n",
    "```  \n",
    "* Tensorboard 실행\n",
    "    * `tensorboard --logdir=path`\n",
    "    * http://localhost:6006\n",
    "    \n",
    "![tensorboard](https://i.imgur.com/IOYIVlg.png)\n",
    "\n"
   ]
  },
  {
   "cell_type": "code",
   "execution_count": 11,
   "metadata": {},
   "outputs": [],
   "source": [
    "!rm -rf ./summary/regression"
   ]
  },
  {
   "cell_type": "code",
   "execution_count": 14,
   "metadata": {},
   "outputs": [
    {
     "name": "stdout",
     "output_type": "stream",
     "text": [
      "initial W [-0.2135392]\n",
      "epoch: 0  cost: 3779.1765  dW: [-3466.4526]  W: [-0.04021657]\n",
      "epoch: 20  cost: 191.05609  dW: [-642.11554]  W: [1.5652192]\n",
      "epoch: 40  cost: 67.93774  dW: [-118.94344]  W: [1.8626053]\n",
      "epoch: 60  cost: 63.71322  dW: [-22.032852]  W: [1.9176922]\n",
      "epoch: 80  cost: 63.568253  dW: [-4.0815754]  W: [1.9278963]\n",
      "epoch: 100  cost: 63.563282  dW: [-0.7564354]  W: [1.9297863]\n",
      "epoch: 120  cost: 63.563114  dW: [-0.1399517]  W: [1.9301368]\n",
      "epoch: 140  cost: 63.563107  dW: [-0.02587891]  W: [1.9302016]\n",
      "epoch: 160  cost: 63.563107  dW: [-0.00466156]  W: [1.9302137]\n",
      "suspended: 177\n",
      "Final W: [1.9302157]\n"
     ]
    },
    {
     "data": {
      "text/plain": [
       "<matplotlib.legend.Legend at 0x29d4fd029b0>"
      ]
     },
     "execution_count": 14,
     "metadata": {},
     "output_type": "execute_result"
    },
    {
     "data": {
      "image/png": "[encoded data removed]",
      "text/plain": [
       "<Figure size 432x288 with 1 Axes>"
      ]
     },
     "metadata": {
      "needs_background": "light"
     },
     "output_type": "display_data"
    }
   ],
   "source": [
    "%matplotlib inline\n",
    "import numpy as np\n",
    "import matplotlib.pylab as plt\n",
    "import tensorflow as tf\n",
    "\n",
    "import time\n",
    "\n",
    "logdir = \"./summary/regression\"\n",
    "now = time.strftime(\"%Y%m%d-%H%M%S\")\n",
    "writer = tf.summary.create_file_writer(logdir + '/' + now)\n",
    "\n",
    "m = 50 #sample count\n",
    "TRUE_W = 2\n",
    "\n",
    "X = tf.convert_to_tensor(range(m), tf.float32)\n",
    "y = X  * TRUE_W + 0 # W = 2, b=0(bias 생략)\n",
    "y = y + 10 * tf.random.normal((m,)) # adding noise\n",
    "\n",
    "plt.plot(X, y, 'b.')\n",
    "\n",
    "\n",
    "plt.plot(X, y, 'b.')\n",
    "\n",
    "W = tf.Variable(tf.random.normal([1]))\n",
    "plt.plot(X, W*X, 'b', label='Initial H(x)')\n",
    "print('initial W', W.numpy())\n",
    "\n",
    "learning_rate = 0.00005\n",
    "suspend = 0.00001\n",
    "old_dW = None\n",
    "epochs = 1000\n",
    "\n",
    "with writer.as_default():\n",
    "    for epoch in range(epochs):\n",
    "        with tf.GradientTape() as tape:\n",
    "            hypothesis = W * X \n",
    "            loss = hypothesis - y\n",
    "            cost = tf.reduce_mean(tf.square(loss))\n",
    "            #cost = 1/m * np.sum(loss**2)\n",
    "            dW = tape.gradient(cost, W)\n",
    "            #dW=  2/m * np.sum(loss * X)\n",
    "            if old_dW is not None and abs(dW - old_dW) < suspend:\n",
    "                print('suspended:', epoch)\n",
    "                break\n",
    "            old_dW = dW\n",
    "            # W.assign(W - learning_rate * dW)\n",
    "            W.assign_sub(learning_rate * dW)\n",
    "            if epoch %20 == 0:\n",
    "                print('epoch:',epoch,' cost:',cost.numpy(),' dW:',dW.numpy(), ' W:', W.numpy())\n",
    "                plt.plot(X, W*X, '--')\n",
    "                tf.summary.scalar('Cost', cost, step=epoch)\n",
    "print('Final W:', W.numpy())\n",
    "plt.plot(X, W*X, 'r', label='Final H(x)')\n",
    "plt.legend()"
   ]
  },
  {
   "cell_type": "code",
   "execution_count": 15,
   "metadata": {},
   "outputs": [
    {
     "name": "stdout",
     "output_type": "stream",
     "text": [
      "20191028-214258\n",
      "20191028-214308\n"
     ]
    }
   ],
   "source": [
    "!ls summary/regression"
   ]
  }
 ],
 "metadata": {
  "kernelspec": {
   "display_name": "Python 3",
   "language": "python",
   "name": "python3"
  },
  "language_info": {
   "codemirror_mode": {
    "name": "ipython",
    "version": 3
   },
   "file_extension": ".py",
   "mimetype": "text/x-python",
   "name": "python",
   "nbconvert_exporter": "python",
   "pygments_lexer": "ipython3",
   "version": "3.6.8"
  }
 },
 "nbformat": 4,
 "nbformat_minor": 2
}
