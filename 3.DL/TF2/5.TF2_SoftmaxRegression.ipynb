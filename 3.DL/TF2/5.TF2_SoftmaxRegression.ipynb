{
 "cells": [
  {
   "cell_type": "markdown",
   "metadata": {},
   "source": [
    "## Softmax Regression"
   ]
  },
  {
   "cell_type": "markdown",
   "metadata": {},
   "source": [
    "### Multinomial Classification\n",
    "* 여러 클래스를 분류하는 방법\n",
    "    * 이진 분류기를 여러번 쓰는 방법에 비해 행렬 연산을 하는 것이 효과적\n",
    "* 이진 분류기를 여러번 쓰는 것\n",
    "    * 클래스 A 모델:\n",
    "    $\\begin{bmatrix}x_1 & x_2 \\end{bmatrix}\n",
    "    \\begin{bmatrix}w_{a1} \\\\ w_{a2}\\end{bmatrix}\n",
    "    = \\begin{bmatrix}w_{a1}x_1 +w_{a2}x_2\\end{bmatrix}$\n",
    "    * 클래스 B 모델:\n",
    "    $\\begin{bmatrix}x_1 & x_2 \\end{bmatrix}\n",
    "    \\begin{bmatrix}w_{b1} \\\\ w_{b2}\\end{bmatrix}\n",
    "    =\\begin{bmatrix}w_{b1}x_1 +w_{b2}x_2\\end{bmatrix}$\n",
    "    * 클래스 C 모델:$\\begin{bmatrix}x_1 & x_2 \\end{bmatrix}\n",
    "    \\begin{bmatrix}w_{c1} \\\\ w_{c2}\\end{bmatrix}\n",
    "    =\\begin{bmatrix}w_{c1}x_1 +w_{c2}x_2\\end{bmatrix}$\n",
    "* 하나의 행렬로 계산\n",
    "    * $\\begin{bmatrix}x_1 & x_2 \\end{bmatrix}\n",
    "    \\begin{bmatrix}w_{a1}  & w_{b1} & w_{c1} \\\\ w_{a2} & w_{b2} &w_{c2}  \\end{bmatrix}\n",
    "    = \\begin{bmatrix}w_{a1}x_1 +w_{a2}x_2 & w_{b1}x_1 +w_{b2}x_2 & w_{c1}x_1 +w_{c2}x_2 \\end{bmatrix}$"
   ]
  },
  {
   "cell_type": "markdown",
   "metadata": {},
   "source": [
    "### Softmax 함수\n",
    "* 다항 로지스틱 회귀\n",
    "* Sigmoid 대신 Softmax 함수 사용\n",
    "    * Softmax : 각 출력 값은 0~1 사이, 모든 클래스의 값의 합은 1\n",
    "    * sigmoid 보다 좋은 이유 : 하나의 클래스가 높은 값을 갖으면 나머지 클래스는 아주 작은 값, 배타적\n",
    "* $\\displaystyle \\hat{P_k} = \\frac{e^{z_i}}{e^{z_0} + e^{z_1} + e^{z_2}... + e^{z_k}}= \\frac{e^{z_i}}{\\sum_{j=0}^ke^{z_k}}$"
   ]
  },
  {
   "cell_type": "markdown",
   "metadata": {},
   "source": [
    "### Softmax Prediction\n",
    "* Softmax 결과에서 확률이 가장 높은 클래스 반환\n",
    "* $\\hat{y} = argmax(\\hat{p})$"
   ]
  },
  {
   "cell_type": "markdown",
   "metadata": {},
   "source": [
    "### Cross Entropy\n",
    "* 소프트 맥스의 비용함수 :\n",
    "$\\displaystyle J(\\theta) =  -\\frac{1}{m}\\sum_{i=1}^m\\sum_{k=1}^ky_k^{(i)}log(\\hat{p_k})$\n",
    "* 소프트맥스를 통과한 결과값은 어떤 특정한 클래스만 높은 값을 갖고 나머지 클래스는 아주 작은 값을 갖는다.\n",
    "여기에 y는 정답 클래스인 경우만 1을 나머지는 0을 가지고 있으므로 소프트맥스를 통과한 결과와 y를 곱하는 것만으로도 정답만 값이 나오고 틀린 결과는 0에 가까울 수 밖에 없다. 그런데 소프트맥스를 통과한 값을 $log()$함수를 씌우면 그 반대의 결과가 나온다. 따라서 틀리면 큰값 맞으면 작은 값이 나오므로 비용함수로 적합하다."
   ]
  },
  {
   "cell_type": "markdown",
   "metadata": {},
   "source": [
    "### Gradient of Cross Entropy\n",
    "* $\\displaystyle \\nabla J(\\theta) = \\frac{1}{m}\\sum_{i=1}^m(\\hat{p}_k^{(i)} - y_k^{(i)})x^{(i)}$"
   ]
  },
  {
   "cell_type": "code",
   "execution_count": 9,
   "metadata": {},
   "outputs": [
    {
     "data": {
      "text/plain": [
       "Text(0.5, 1.0, 'Input')"
      ]
     },
     "execution_count": 9,
     "metadata": {},
     "output_type": "execute_result"
    },
    {
     "data": {
      "image/png": "[encoded data removed]",
      "text/plain": [
       "<Figure size 432x288 with 1 Axes>"
      ]
     },
     "metadata": {
      "needs_background": "light"
     },
     "output_type": "display_data"
    }
   ],
   "source": [
    "%matplotlib inline\n",
    "import matplotlib.pyplot as plt\n",
    "import tensorflow as tf\n",
    "import numpy as np\n",
    "\n",
    "\n",
    "x_data = np.array([[-0.1, 1.4],\n",
    "              [-0.5, 0.2],\n",
    "              [ 1.3, 0.9],\n",
    "              [-0.6, 0.4],\n",
    "              [-1.6, 0.2],\n",
    "              [ 0.2, 0.2],\n",
    "              [-0.3,-0.4],\n",
    "              [ 0.7,-0.8],\n",
    "              [ 1.1,-1.5],\n",
    "              [-1.0, 0.9],\n",
    "              [-0.5, 1.5],\n",
    "              [-1.3,-0.4],\n",
    "              [-1.4,-1.2],\n",
    "              [-0.9,-0.7],\n",
    "              [ 0.4,-1.3],\n",
    "              [-0.4, 0.6],\n",
    "              [ 0.3,-0.5],\n",
    "              [-1.6,-0.7],\n",
    "              [-0.5,-1.4],\n",
    "              [-1.0,-1.4]], dtype=np.float32)\n",
    "y_label = np.array([0, 0, 1, 0, 2, 1, 1, 1, 1, 0, 0, 2, 2, 2, 1, 0, 1, 2, 2, 2])\n",
    "y_data =  np.eye(3)[y_label]\n",
    "\n",
    "colormap = np.array(['r', 'g', 'b'])\n",
    "plt.scatter(x_data[:,0], x_data[:,1], s=50, c=colormap[y_label])\n",
    "plt.title('Input', size=20)"
   ]
  },
  {
   "cell_type": "code",
   "execution_count": 16,
   "metadata": {},
   "outputs": [
    {
     "name": "stdout",
     "output_type": "stream",
     "text": [
      "step:0, cost:1.1828283071517944\n",
      "step:200, cost:0.9239997863769531\n",
      "step:400, cost:0.788428783416748\n",
      "step:600, cost:0.7230132222175598\n",
      "step:800, cost:0.6931814551353455\n",
      "step:1000, cost:0.675106406211853\n",
      "step:1200, cost:0.6624914407730103\n",
      "step:1400, cost:0.6529837846755981\n",
      "step:1600, cost:0.6454580426216125\n",
      "step:1800, cost:0.6392922401428223\n",
      "step:2000, cost:0.634109377861023\n",
      "step:2200, cost:0.6296656727790833\n",
      "step:2400, cost:0.6257950067520142\n",
      "step:2600, cost:0.6223800778388977\n",
      "step:2800, cost:0.6193352937698364\n",
      "step:3000, cost:0.6165960431098938\n",
      "step:3200, cost:0.6141131520271301\n",
      "step:3400, cost:0.6118479371070862\n",
      "step:3600, cost:0.6097697615623474\n",
      "step:3800, cost:0.6078537106513977\n",
      "step:4000, cost:0.6060794591903687\n",
      "step:4200, cost:0.6044300198554993\n",
      "step:4400, cost:0.6028915643692017\n",
      "step:4600, cost:0.6014518737792969\n",
      "step:4800, cost:0.6001009941101074\n",
      "step:5000, cost:0.5988301634788513\n",
      "Accuracy:1.0\n",
      "tf.Tensor([0 0 1 0 2 1 1 1 1 0 0 2 2 2 1 0 1 2 2 2], shape=(20,), dtype=int64)\n"
     ]
    },
    {
     "data": {
      "image/png": "[encoded data removed]",
      "text/plain": [
       "<Figure size 432x288 with 1 Axes>"
      ]
     },
     "metadata": {
      "needs_background": "light"
     },
     "output_type": "display_data"
    }
   ],
   "source": [
    "%matplotlib inline\n",
    "import matplotlib.pyplot as plt\n",
    "import tensorflow as tf\n",
    "import numpy as np\n",
    "\n",
    "\n",
    "\n",
    "W = tf.Variable(tf.random.normal([2, 3]))\n",
    "b = tf.Variable(tf.random.normal([3]))\n",
    "learing_rate = 0.05\n",
    "\n",
    "for step in range(5001):\n",
    "    with tf.GradientTape() as tape:\n",
    "        hypothesis = tf.nn.softmax(tf.matmul(x_data, W) + b)\n",
    "        #cost = tf.reduce_mean(-tf.reduce_sum(Y * tf.log(hypothesis), axis=1))\n",
    "        cost = tf.reduce_mean(tf.nn.softmax_cross_entropy_with_logits(labels=y_data, logits=hypothesis))\n",
    "    d_W, d_b = tape.gradient(cost, [W, b])\n",
    "    W.assign_sub(learing_rate * d_W)\n",
    "    b.assign_sub(learing_rate * d_b)\n",
    "    if step % 200 == 0:\n",
    "            print(\"step:{}, cost:{}\".format(step, cost))\n",
    "\n",
    "predict = tf.argmax(hypothesis, axis=1, name='predict')\n",
    "accuracy = tf.reduce_mean(tf.cast(tf.equal(predict, y_label),tf.float32))\n",
    "print(\"Accuracy:{}\".format(accuracy))\n",
    "print(predict)\n",
    "\n",
    "plt.title('Predict', size=20)\n",
    "colormap = np.array(['r', 'g', 'b'])\n",
    "plt.scatter(x_data[:,0], x_data[:,1], s=50, c=colormap[predict.numpy()])\n",
    "plt.show()"
   ]
  }
 ],
 "metadata": {
  "kernelspec": {
   "display_name": "Python 3",
   "language": "python",
   "name": "python3"
  },
  "language_info": {
   "codemirror_mode": {
    "name": "ipython",
    "version": 3
   },
   "file_extension": ".py",
   "mimetype": "text/x-python",
   "name": "python",
   "nbconvert_exporter": "python",
   "pygments_lexer": "ipython3",
   "version": "3.6.8"
  }
 },
 "nbformat": 4,
 "nbformat_minor": 2
}
