{
 "cells": [
  {
   "cell_type": "markdown",
   "metadata": {},
   "source": [
    "# 5. Edge Computing with Raspberry Pi"
   ]
  },
  {
   "cell_type": "markdown",
   "metadata": {},
   "source": [
    "## 5.1 Coral Edge TPU\n",
    "* 구글에서 설계한 소형 ASIC(주문형 반도체)\n",
    "* 저전력 정차의 고성능 머신러닝 추론 기능 제공\n",
    "* Tensorflow Lite only\n",
    "* 비전 기반 머신러닝 어플리케이션에 적합\n",
    "* Backpropagration을 하지 못하기 때문에 딥러닝 훈련에 사용 불능\n",
    "    * Transfer Learning 가능\n",
    "* Edge TPU에 사용할 모델은 TF Lite에 맞게 번환해야 하고 양자화 필요\n",
    "* 2가지 종류\n",
    "    * Dev Board : SoC와 Edge TPU를 통합한 싱글보드 컴퓨터\n",
    "    * USB Accelerator : USB 방식의 엑세서리 장치"
   ]
  },
  {
   "cell_type": "markdown",
   "metadata": {},
   "source": [
    "## 5.2 설치\n",
    "\n",
    "* Edge TPU Runtime and Python API 설치\n",
    "\n",
    "``` cd ~/\n",
    "wget https://dl.google.com/coral/edgetpu_api/edgetpu_api_latest.tar.gz -O edgetpu_api.tar.gz --trust-server-names \n",
    "tar xzf edgetpu_api.tar.gz\n",
    "cd edgetpu_api/python-tflite-source\n",
    "bash ./install.sh ```\n",
    "\n",
    "* Model과 Label 텍스트 파일 다운로드\n",
    "    * https://coral.withgoogle.com/models/"
   ]
  },
  {
   "cell_type": "markdown",
   "metadata": {},
   "source": [
    "## 5.3 객체인식 데모\n"
   ]
  }
 ],
 "metadata": {
  "kernelspec": {
   "display_name": "Python 3",
   "language": "python",
   "name": "python3"
  },
  "language_info": {
   "codemirror_mode": {
    "name": "ipython",
    "version": 3
   },
   "file_extension": ".py",
   "mimetype": "text/x-python",
   "name": "python",
   "nbconvert_exporter": "python",
   "pygments_lexer": "ipython3",
   "version": "3.6.8"
  }
 },
 "nbformat": 4,
 "nbformat_minor": 2
}
