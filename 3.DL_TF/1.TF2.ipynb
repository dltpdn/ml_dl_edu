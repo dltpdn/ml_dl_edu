{
 "cells": [
  {
   "cell_type": "markdown",
   "metadata": {
    "slideshow": {
     "slide_type": "slide"
    }
   },
   "source": [
    "# Tensorflow 2"
   ]
  },
  {
   "cell_type": "markdown",
   "metadata": {
    "slideshow": {
     "slide_type": "slide"
    }
   },
   "source": [
    "* https://www.tensorflow.org/\n",
    "## Install\n",
    "    * ```pip install -U tensorflow```"
   ]
  },
  {
   "cell_type": "code",
   "execution_count": 1,
   "metadata": {},
   "outputs": [
    {
     "name": "stdout",
     "output_type": "stream",
     "text": [
      "Collecting tensorflow\n",
      "\u001b[?25l  Downloading https://files.pythonhosted.org/packages/a7/a9/d44e012a2491cf4845b5cac79c3c3af5ab95d657c8953e9d6e076bb05f4d/tensorflow-2.1.0-cp27-cp27m-macosx_10_11_x86_64.whl (120.8MB)\n",
      "\u001b[K    100% |████████████████████████████████| 120.8MB 107kB/s eta 0:00:01\n",
      "\u001b[?25hCollecting opt-einsum>=2.3.2 (from tensorflow)\n",
      "\u001b[?25l  Downloading https://files.pythonhosted.org/packages/f6/d6/44792ec668bcda7d91913c75237314e688f70415ab2acd7172c845f0b24f/opt_einsum-2.3.2.tar.gz (59kB)\n",
      "\u001b[K    100% |████████████████████████████████| 61kB 3.9MB/s ta 0:00:01\n",
      "\u001b[?25hCollecting six>=1.12.0 (from tensorflow)\n",
      "  Downloading https://files.pythonhosted.org/packages/65/26/32b8464df2a97e6dd1b656ed26b2c194606c16fe163c695a992b36c11cdf/six-1.13.0-py2.py3-none-any.whl\n",
      "Collecting grpcio>=1.8.6 (from tensorflow)\n",
      "\u001b[?25l  Downloading https://files.pythonhosted.org/packages/e6/2f/6b5324dced970363163454eedbe38d5e9d6f16cf5c8aaa823f37a93b274b/grpcio-1.26.0-cp27-cp27m-macosx_10_9_x86_64.whl (2.3MB)\n",
      "\u001b[K    100% |████████████████████████████████| 2.3MB 3.2MB/s eta 0:00:01\n",
      "\u001b[?25hCollecting tensorflow-estimator<2.2.0,>=2.1.0rc0 (from tensorflow)\n",
      "\u001b[?25l  Downloading https://files.pythonhosted.org/packages/18/90/b77c328a1304437ab1310b463e533fa7689f4bfc41549593056d812fab8e/tensorflow_estimator-2.1.0-py2.py3-none-any.whl (448kB)\n",
      "\u001b[K    100% |████████████████████████████████| 450kB 4.8MB/s ta 0:00:011\n",
      "\u001b[?25hCollecting termcolor>=1.1.0 (from tensorflow)\n",
      "  Using cached https://files.pythonhosted.org/packages/8a/48/a76be51647d0eb9f10e2a4511bf3ffb8cc1e6b14e9e4fab46173aa79f981/termcolor-1.1.0.tar.gz\n",
      "Collecting backports.weakref>=1.0rc1; python_version < \"3.4\" (from tensorflow)\n",
      "  Downloading https://files.pythonhosted.org/packages/88/ec/f598b633c3d5ffe267aaada57d961c94fdfa183c5c3ebda2b6d151943db6/backports.weakref-1.0.post1-py2.py3-none-any.whl\n",
      "Collecting wrapt>=1.11.1 (from tensorflow)\n",
      "  Using cached https://files.pythonhosted.org/packages/23/84/323c2415280bc4fc880ac5050dddfb3c8062c2552b34c2e512eb4aa68f79/wrapt-1.11.2.tar.gz\n",
      "Requirement not upgraded as not directly required: functools32>=3.2.3; python_version < \"3\" in /Library/Frameworks/Python.framework/Versions/2.7/lib/python2.7/site-packages (from tensorflow) (3.2.3.post2)\n",
      "Collecting keras-preprocessing>=1.1.0 (from tensorflow)\n",
      "\u001b[?25l  Downloading https://files.pythonhosted.org/packages/28/6a/8c1f62c37212d9fc441a7e26736df51ce6f0e38455816445471f10da4f0a/Keras_Preprocessing-1.1.0-py2.py3-none-any.whl (41kB)\n",
      "\u001b[K    100% |████████████████████████████████| 51kB 6.9MB/s ta 0:00:01\n",
      "\u001b[?25hCollecting protobuf>=3.8.0 (from tensorflow)\n",
      "\u001b[?25l  Downloading https://files.pythonhosted.org/packages/fa/50/7945678a80a5782da456079cb316db6bb79caaba2d5880bc3656e6c6e886/protobuf-3.11.2-cp27-cp27m-macosx_10_9_x86_64.whl (1.3MB)\n",
      "\u001b[K    100% |████████████████████████████████| 1.3MB 4.9MB/s eta 0:00:01\n",
      "\u001b[?25hCollecting wheel; python_version < \"3\" (from tensorflow)\n",
      "  Downloading https://files.pythonhosted.org/packages/00/83/b4a77d044e78ad1a45610eb88f745be2fd2c6d658f9798a15e384b7d57c9/wheel-0.33.6-py2.py3-none-any.whl\n",
      "Collecting gast==0.2.2 (from tensorflow)\n",
      "  Using cached https://files.pythonhosted.org/packages/4e/35/11749bf99b2d4e3cceb4d55ca22590b0d7c2c62b9de38ac4a4a7f4687421/gast-0.2.2.tar.gz\n",
      "Collecting mock>=2.0.0; python_version < \"3\" (from tensorflow)\n",
      "  Downloading https://files.pythonhosted.org/packages/05/d2/f94e68be6b17f46d2c353564da56e6fb89ef09faeeff3313a046cb810ca9/mock-3.0.5-py2.py3-none-any.whl\n",
      "Collecting numpy<2.0,>=1.16.0 (from tensorflow)\n",
      "\u001b[?25l  Downloading https://files.pythonhosted.org/packages/09/96/84cf406fe7d589f3dba9fc0f737e65985a3526c6d8c783f02d4b5a10825d/numpy-1.16.6-cp27-cp27m-macosx_10_9_x86_64.whl (13.9MB)\n",
      "\u001b[K    100% |████████████████████████████████| 13.9MB 748kB/s eta 0:00:01\n",
      "\u001b[?25hRequirement not upgraded as not directly required: enum34>=1.1.6; python_version < \"3.4\" in /Library/Frameworks/Python.framework/Versions/2.7/lib/python2.7/site-packages (from tensorflow) (1.1.6)\n",
      "Collecting keras-applications>=1.0.8 (from tensorflow)\n",
      "\u001b[?25l  Downloading https://files.pythonhosted.org/packages/21/56/4bcec5a8d9503a87e58e814c4e32ac2b32c37c685672c30bc8c54c6e478a/Keras_Applications-1.0.8.tar.gz (289kB)\n",
      "\u001b[K    100% |████████████████████████████████| 296kB 6.8MB/s ta 0:00:011\n",
      "\u001b[?25hCollecting absl-py>=0.7.0 (from tensorflow)\n",
      "\u001b[?25l  Downloading https://files.pythonhosted.org/packages/1a/53/9243c600e047bd4c3df9e69cfabc1e8004a82cac2e0c484580a78a94ba2a/absl-py-0.9.0.tar.gz (104kB)\n",
      "\u001b[K    100% |████████████████████████████████| 112kB 4.1MB/s ta 0:00:01\n",
      "\u001b[?25hCollecting tensorboard<2.2.0,>=2.1.0 (from tensorflow)\n",
      "\u001b[?25l  Downloading https://files.pythonhosted.org/packages/e4/c5/94a66686b86adfb3ef6f34837d0a7cc2efdc995bc39cad64a9b3e103f0d5/tensorboard-2.1.0-py2-none-any.whl (3.8MB)\n",
      "\u001b[K    100% |████████████████████████████████| 3.8MB 2.0MB/s eta 0:00:01\n",
      "\u001b[?25hCollecting astor>=0.6.0 (from tensorflow)\n",
      "  Downloading https://files.pythonhosted.org/packages/c3/88/97eef84f48fa04fbd6750e62dcceafba6c63c81b7ac1420856c8dcc0a3f9/astor-0.8.1-py2.py3-none-any.whl\n",
      "Collecting google-pasta>=0.1.6 (from tensorflow)\n",
      "\u001b[?25l  Downloading https://files.pythonhosted.org/packages/2d/68/eed71ec8e8383a43987e0a58492b0aa043dc29971cac59b8b1d1e7951123/google_pasta-0.1.8-py2-none-any.whl (57kB)\n",
      "\u001b[K    100% |████████████████████████████████| 61kB 4.4MB/s ta 0:00:011\n",
      "\u001b[?25hCollecting scipy==1.2.2; python_version < \"3\" (from tensorflow)\n",
      "\u001b[?25l  Downloading https://files.pythonhosted.org/packages/a3/cf/36b77de4ccb1b841acd4c3c03abe38843c63c3a657cedee9e8fb19a02dc8/scipy-1.2.2-cp27-cp27m-macosx_10_6_intel.macosx_10_9_intel.macosx_10_9_x86_64.macosx_10_10_intel.macosx_10_10_x86_64.whl (27.4MB)\n",
      "\u001b[K    100% |████████████████████████████████| 27.4MB 63kB/s  eta 0:00:01eta 0:00:03\n",
      "\u001b[?25hRequirement not upgraded as not directly required: futures>=2.2.0; python_version < \"3.2\" in /Library/Frameworks/Python.framework/Versions/2.7/lib/python2.7/site-packages (from grpcio>=1.8.6->tensorflow) (3.2.0)\n",
      "Requirement not upgraded as not directly required: setuptools in /Library/Frameworks/Python.framework/Versions/2.7/lib/python2.7/site-packages (from protobuf>=3.8.0->tensorflow) (28.8.0)\n",
      "Collecting funcsigs>=1; python_version < \"3.3\" (from mock>=2.0.0; python_version < \"3\"->tensorflow)\n",
      "  Downloading https://files.pythonhosted.org/packages/69/cb/f5be453359271714c01b9bd06126eaf2e368f1fddfff30818754b5ac2328/funcsigs-1.0.2-py2.py3-none-any.whl\n",
      "Collecting h5py (from keras-applications>=1.0.8->tensorflow)\n",
      "\u001b[?25l  Downloading https://files.pythonhosted.org/packages/2c/47/e0d58be6f292684a4541d10b1da953542ff679f3ffc6096bee73634832b1/h5py-2.10.0-cp27-cp27m-macosx_10_6_intel.whl (2.9MB)\n",
      "\u001b[K    100% |████████████████████████████████| 2.9MB 1.5MB/s ta 0:00:011\n",
      "\u001b[?25hCollecting werkzeug>=0.11.15 (from tensorboard<2.2.0,>=2.1.0->tensorflow)\n",
      "\u001b[?25l  Downloading https://files.pythonhosted.org/packages/ce/42/3aeda98f96e85fd26180534d36570e4d18108d62ae36f87694b476b83d6f/Werkzeug-0.16.0-py2.py3-none-any.whl (327kB)\n",
      "\u001b[K    100% |████████████████████████████████| 327kB 2.8MB/s ta 0:00:01\n",
      "\u001b[?25hCollecting markdown>=2.6.8 (from tensorboard<2.2.0,>=2.1.0->tensorflow)\n",
      "\u001b[?25l  Downloading https://files.pythonhosted.org/packages/c0/4e/fd492e91abdc2d2fcb70ef453064d980688762079397f779758e055f6575/Markdown-3.1.1-py2.py3-none-any.whl (87kB)\n",
      "\u001b[K    100% |████████████████████████████████| 92kB 11.8MB/s ta 0:00:01\n",
      "\u001b[?25hCollecting google-auth-oauthlib<0.5,>=0.4.1 (from tensorboard<2.2.0,>=2.1.0->tensorflow)\n",
      "  Using cached https://files.pythonhosted.org/packages/7b/b8/88def36e74bee9fce511c9519571f4e485e890093ab7442284f4ffaef60b/google_auth_oauthlib-0.4.1-py2.py3-none-any.whl\n",
      "Collecting requests<3,>=2.21.0 (from tensorboard<2.2.0,>=2.1.0->tensorflow)\n",
      "  Using cached https://files.pythonhosted.org/packages/51/bd/23c926cd341ea6b7dd0b2a00aba99ae0f828be89d72b2190f27c11d4b7fb/requests-2.22.0-py2.py3-none-any.whl\n",
      "Collecting google-auth<2,>=1.6.3 (from tensorboard<2.2.0,>=2.1.0->tensorflow)\n",
      "\u001b[?25l  Downloading https://files.pythonhosted.org/packages/36/f8/84b5771faec3eba9fe0c91c8c5896364a8ba08852c0dea5ad2025026dd95/google_auth-1.10.0-py2.py3-none-any.whl (76kB)\n",
      "\u001b[K    100% |████████████████████████████████| 81kB 6.7MB/s ta 0:00:01\n"
     ]
    },
    {
     "name": "stdout",
     "output_type": "stream",
     "text": [
      "\u001b[?25hCollecting requests-oauthlib>=0.7.0 (from google-auth-oauthlib<0.5,>=0.4.1->tensorboard<2.2.0,>=2.1.0->tensorflow)\n",
      "  Downloading https://files.pythonhosted.org/packages/a3/12/b92740d845ab62ea4edf04d2f4164d82532b5a0b03836d4d4e71c6f3d379/requests_oauthlib-1.3.0-py2.py3-none-any.whl\n",
      "Collecting urllib3!=1.25.0,!=1.25.1,<1.26,>=1.21.1 (from requests<3,>=2.21.0->tensorboard<2.2.0,>=2.1.0->tensorflow)\n",
      "\u001b[?25l  Downloading https://files.pythonhosted.org/packages/b4/40/a9837291310ee1ccc242ceb6ebfd9eb21539649f193a7c8c86ba15b98539/urllib3-1.25.7-py2.py3-none-any.whl (125kB)\n",
      "\u001b[K    100% |████████████████████████████████| 133kB 8.5MB/s eta 0:00:01\n",
      "\u001b[?25hRequirement not upgraded as not directly required: certifi>=2017.4.17 in /Library/Frameworks/Python.framework/Versions/2.7/lib/python2.7/site-packages (from requests<3,>=2.21.0->tensorboard<2.2.0,>=2.1.0->tensorflow) (2017.7.27.1)\n",
      "Collecting chardet<3.1.0,>=3.0.2 (from requests<3,>=2.21.0->tensorboard<2.2.0,>=2.1.0->tensorflow)\n",
      "  Using cached https://files.pythonhosted.org/packages/bc/a9/01ffebfb562e4274b6487b4bb1ddec7ca55ec7510b22e4c51f14098443b8/chardet-3.0.4-py2.py3-none-any.whl\n",
      "Collecting idna<2.9,>=2.5 (from requests<3,>=2.21.0->tensorboard<2.2.0,>=2.1.0->tensorflow)\n",
      "  Using cached https://files.pythonhosted.org/packages/14/2c/cd551d81dbe15200be1cf41cd03869a46fe7226e7450af7a6545bfc474c9/idna-2.8-py2.py3-none-any.whl\n",
      "Collecting rsa<4.1,>=3.1.4 (from google-auth<2,>=1.6.3->tensorboard<2.2.0,>=2.1.0->tensorflow)\n",
      "  Using cached https://files.pythonhosted.org/packages/02/e5/38518af393f7c214357079ce67a317307936896e961e35450b70fad2a9cf/rsa-4.0-py2.py3-none-any.whl\n",
      "Collecting cachetools<5.0,>=2.0.0 (from google-auth<2,>=1.6.3->tensorboard<2.2.0,>=2.1.0->tensorflow)\n",
      "  Using cached https://files.pythonhosted.org/packages/2f/a6/30b0a0bef12283e83e58c1d6e7b5aabc7acfc4110df81a4471655d33e704/cachetools-3.1.1-py2.py3-none-any.whl\n",
      "Collecting pyasn1-modules>=0.2.1 (from google-auth<2,>=1.6.3->tensorboard<2.2.0,>=2.1.0->tensorflow)\n",
      "  Using cached https://files.pythonhosted.org/packages/52/50/bb4cefca37da63a0c52218ba2cb1b1c36110d84dcbae8aa48cd67c5e95c2/pyasn1_modules-0.2.7-py2.py3-none-any.whl\n",
      "Collecting oauthlib>=3.0.0 (from requests-oauthlib>=0.7.0->google-auth-oauthlib<0.5,>=0.4.1->tensorboard<2.2.0,>=2.1.0->tensorflow)\n",
      "  Using cached https://files.pythonhosted.org/packages/05/57/ce2e7a8fa7c0afb54a0581b14a65b56e62b5759dbc98e80627142b8a3704/oauthlib-3.1.0-py2.py3-none-any.whl\n",
      "Collecting pyasn1>=0.1.3 (from rsa<4.1,>=3.1.4->google-auth<2,>=1.6.3->tensorboard<2.2.0,>=2.1.0->tensorflow)\n",
      "\u001b[?25l  Downloading https://files.pythonhosted.org/packages/62/1e/a94a8d635fa3ce4cfc7f506003548d0a2447ae76fd5ca53932970fe3053f/pyasn1-0.4.8-py2.py3-none-any.whl (77kB)\n",
      "\u001b[K    100% |████████████████████████████████| 81kB 5.1MB/s ta 0:00:01\n",
      "\u001b[31mmarkdown 3.1.1 has requirement setuptools>=36, but you'll have setuptools 28.8.0 which is incompatible.\u001b[0m\n",
      "\u001b[31mtensorboard 2.1.0 has requirement setuptools>=41.0.0, but you'll have setuptools 28.8.0 which is incompatible.\u001b[0m\n",
      "\u001b[31mgoogle-auth 1.10.0 has requirement setuptools>=40.3.0, but you'll have setuptools 28.8.0 which is incompatible.\u001b[0m\n",
      "\u001b[?25hInstalling collected packages: numpy, opt-einsum, six, grpcio, tensorflow-estimator, termcolor, backports.weakref, wrapt, keras-preprocessing, protobuf, wheel, gast, funcsigs, mock, h5py, keras-applications, absl-py, werkzeug, markdown, pyasn1, rsa, cachetools, pyasn1-modules, google-auth, urllib3, chardet, idna, requests, oauthlib, requests-oauthlib, google-auth-oauthlib, tensorboard, astor, google-pasta, scipy, tensorflow\n",
      "  Found existing installation: numpy 1.14.0\n",
      "    Uninstalling numpy-1.14.0:\n",
      "      Successfully uninstalled numpy-1.14.0\n",
      "  Running setup.py install for opt-einsum ... \u001b[?25ldone\n",
      "\u001b[?25h  Found existing installation: six 1.11.0\n",
      "    Uninstalling six-1.11.0:\n",
      "      Successfully uninstalled six-1.11.0\n",
      "  Running setup.py install for termcolor ... \u001b[?25ldone\n",
      "\u001b[?25h  Found existing installation: wrapt 1.10.11\n",
      "    Uninstalling wrapt-1.10.11:\n",
      "      Successfully uninstalled wrapt-1.10.11\n",
      "  Running setup.py install for wrapt ... \u001b[?25ldone\n",
      "\u001b[?25h  Running setup.py install for gast ... \u001b[?25ldone\n",
      "\u001b[?25h  Running setup.py install for keras-applications ... \u001b[?25ldone\n",
      "\u001b[?25h  Running setup.py install for absl-py ... \u001b[?25ldone\n",
      "\u001b[?25h  Found existing installation: scipy 0.19.1\n",
      "    Uninstalling scipy-0.19.1:\n",
      "      Successfully uninstalled scipy-0.19.1\n",
      "Successfully installed absl-py-0.9.0 astor-0.8.1 backports.weakref-1.0.post1 cachetools-3.1.1 chardet-3.0.4 funcsigs-1.0.2 gast-0.2.2 google-auth-1.10.0 google-auth-oauthlib-0.4.1 google-pasta-0.1.8 grpcio-1.26.0 h5py-2.10.0 idna-2.8 keras-applications-1.0.8 keras-preprocessing-1.1.0 markdown-3.1.1 mock-3.0.5 numpy-1.16.6 oauthlib-3.1.0 opt-einsum-2.3.2 protobuf-3.11.2 pyasn1-0.4.8 pyasn1-modules-0.2.7 requests-2.22.0 requests-oauthlib-1.3.0 rsa-4.0 scipy-1.2.2 six-1.13.0 tensorboard-2.1.0 tensorflow-2.1.0 tensorflow-estimator-2.1.0 termcolor-1.1.0 urllib3-1.25.7 werkzeug-0.16.0 wheel-0.33.6 wrapt-1.11.2\n",
      "\u001b[33mYou are using pip version 10.0.1, however version 19.3.1 is available.\n",
      "You should consider upgrading via the 'pip install --upgrade pip' command.\u001b[0m\n"
     ]
    }
   ],
   "source": [
    "!pip install -U tensorflow"
   ]
  },
  {
   "cell_type": "markdown",
   "metadata": {
    "slideshow": {
     "slide_type": "slide"
    }
   },
   "source": [
    "\n",
    "## Eager execution\n",
    "* https://www.tensorflow.org/guide/eager\n",
    "* Graph, Session 생성 없이 즉시 실행\n",
    "* Tensorflow 2.0+ 기본 활성화\n",
    "    * `tf.executing_eagerly(()` : enable eager on TF1\n",
    "    * `tf.disable_v2_behavior()` : disable eager on TF2"
   ]
  },
  {
   "cell_type": "code",
   "execution_count": 2,
   "metadata": {
    "slideshow": {
     "slide_type": "subslide"
    }
   },
   "outputs": [
    {
     "name": "stdout",
     "output_type": "stream",
     "text": [
      "2.0.0\n"
     ]
    }
   ],
   "source": [
    "import tensorflow as tf\n",
    "print(tf.__version__)"
   ]
  },
  {
   "cell_type": "code",
   "execution_count": null,
   "metadata": {
    "collapsed": true,
    "slideshow": {
     "slide_type": "fragment"
    }
   },
   "outputs": [],
   "source": [
    "ret = tf.add(1, 2)\n",
    "print(ret)"
   ]
  },
  {
   "cell_type": "markdown",
   "metadata": {
    "slideshow": {
     "slide_type": "slide"
    }
   },
   "source": [
    "## Tensor Object\n",
    "* `tf.Tensor`\n",
    "    * `shape` : shape\n",
    "    * `dtype` : dtype\n",
    "    * `name` : 이름\n",
    "    * `device` : tensor가 생성될 장치 이름\n",
    "    * `op` : tensor를 출력으로 생성하는 [`tf.Operation`](https://www.tensorflow.org/api_docs/python/tf/Operation), Error in eagar mode \n",
    "    * `graph` : tensor를 포함하는 [`tf.Graph`](https://www.tensorflow.org/api_docs/python/tf/Graph), Error in eagar mode \n",
    "    * `eval(feed_dict, session)` : 노드를 평가(실행), Error in eagar mode \n",
    "* 다차원 배열\n",
    "* 계산 그래프에 있는 노드를 참조하는 핸들 대신 구체적인 값 참조\n",
    "* GPU/TPU 등 가속기 메모리에 상주 가능\n",
    "* Tensforflow 모든 연산은 자동으로 Python Native Type을 Tensor로 변환\n",
    "    * 명시적 변환 : `tf.convert_to_tensor(value, dtype, dtype_hint, name)`\n",
    "* dtype\n",
    "\n",
    "|데이터 타입 이름|\t파이썬 데이터 타입|설명|\n",
    "|---|---|---|\n",
    "|DT_FLOAT|\ttf.float32|\t32비트 부동소수점 숫자|\n",
    "|DT_DOUBLE|\ttf.float64|\t64비트 부동소수점 숫자|\n",
    "|DT_INT8|\ttf.int8\t|8비트 정수|\n",
    "|DT_INT16|\ttf.int16|\t16비트 정수|\n",
    "|DT_INT32|\ttf.int32|\t32비트 정수|\n",
    "|DT_INT64|\ttf.int64|\t64비트 정수|\n",
    "|DT_UINT8|\ttf.uint8|\t8비트 부호 없는 정수|\n",
    "|DT_UINT16|\ttf.uint16|\t16비트 부호 없는 정수|\n",
    "|DT_STRING|\ttf.string|\t가변 길이 바이트 배열이며 텐서의 각 요소는 바이트의 배열|\n",
    "|DT_BOOL|\ttf.bool|\t참거짓값|\n",
    "|DT_COMPLEX64|\ttf.complex64|\t2개의 32비트 부동소수점 숫자로 구성된 복소수로 각각 실수부와 허수부|\n",
    "|DT_COMPLEX128|\ttf.complex128|\t2개의 64비트 부동소수점 숫자로 구성된 복소수로 각각 실수부와 허수부|\n",
    "|DT_QINT8|\ttf.qint8|\t양자화 연산(quantized operation)에 사용되는 8비트 정수|\n",
    "|DT_QINT32|\ttf.qint32|\t양자화 연산에 사용되는 32비트 정수|\n",
    "|DT_QUINT8|\ttf.quint8|\t양자화 연산에 사용되는 8비트 부호 없는 정수|\n"
   ]
  },
  {
   "cell_type": "code",
   "execution_count": null,
   "metadata": {
    "collapsed": true
   },
   "outputs": [],
   "source": [
    "tsr1 = tf.convert_to_tensor(1)\n",
    "tsr2 = tf.convert_to_tensor(2)\n",
    "\n",
    "ret2 = tf.add(tsr1, tsr2)\n",
    "print(tsr1, tsr2, ret2)\n",
    "print(ret.shape, ret.dtype)\n",
    "#print(const.op)\n",
    "#print(const.graph)\n"
   ]
  },
  {
   "cell_type": "markdown",
   "metadata": {
    "slideshow": {
     "slide_type": "slide"
    }
   },
   "source": [
    "### Broadcasting"
   ]
  },
  {
   "cell_type": "code",
   "execution_count": null,
   "metadata": {
    "collapsed": true
   },
   "outputs": [],
   "source": [
    "ret3 = tf.add([[1,2],\n",
    "               [3,4]], 1)\n",
    "print(ret3)"
   ]
  },
  {
   "cell_type": "markdown",
   "metadata": {},
   "source": [
    "### Operator Overloading"
   ]
  },
  {
   "cell_type": "code",
   "execution_count": null,
   "metadata": {
    "collapsed": true
   },
   "outputs": [],
   "source": [
    "print(ret2 * ret3)"
   ]
  },
  {
   "cell_type": "markdown",
   "metadata": {},
   "source": [
    "### 형변환\n",
    "* `tf.cast(x, dtype, name=None)` \n",
    "    * Alias for `tf.dtypes.cast` \n"
   ]
  },
  {
   "cell_type": "code",
   "execution_count": null,
   "metadata": {
    "collapsed": true
   },
   "outputs": [],
   "source": [
    "tensor1 = tf.convert_to_tensor(10)\n",
    "print(tensor1)\n",
    "tensor_f32 = tf.cast(tensor1, tf.float32)\n",
    "print(tensor_f32)\n",
    "\n",
    "tensor2 = tf.convert_to_tensor([1.8, 2.2])\n",
    "print(tensor2)\n",
    "tensor_int32 = tf.cast(tensor2, tf.int32)\n",
    "print(tensor_int32)"
   ]
  },
  {
   "cell_type": "markdown",
   "metadata": {},
   "source": [
    "### NumPy 호환성\n",
    "* Tensforflow 연산은 자동으로 NumPy 배열을 Tensor로 변환\n",
    "    *  명시적 변환 : tf.convert_to_tensor(ndarray or list)\n",
    "* NumPy 연산은 자동으로 Tensor를 NumPy 배열로 변환\n",
    "    * 명시적 변환 : tensor.numpy(), np.array(tensor)"
   ]
  },
  {
   "cell_type": "code",
   "execution_count": null,
   "metadata": {
    "collapsed": true
   },
   "outputs": [],
   "source": [
    "import numpy as np\n",
    "\n",
    "ndarray1 = np.array([1,2,3,4])\n",
    "ndarray2 = np.array([2,3,4,5])\n",
    "tensor = tf.add(ndarray1, ndarray2)\n",
    "print(ndarray1, ndarray2, tensor)\n",
    "print(tensor.shape, tensor.dtype)\n",
    "print(np.array(tensor), tensor.numpy())\n",
    "\n",
    "print(np.add(tensor, 1))"
   ]
  },
  {
   "cell_type": "markdown",
   "metadata": {},
   "source": [
    "* Tensor는 불변성(Immutable)"
   ]
  },
  {
   "cell_type": "code",
   "execution_count": null,
   "metadata": {
    "collapsed": true
   },
   "outputs": [],
   "source": [
    "ndarray = np.array([1,2,3,4])\n",
    "ndarray[2] = 9\n",
    "print(ndarray)"
   ]
  },
  {
   "cell_type": "markdown",
   "metadata": {},
   "source": [
    "* Assignment Error"
   ]
  },
  {
   "cell_type": "code",
   "execution_count": null,
   "metadata": {
    "collapsed": true
   },
   "outputs": [],
   "source": [
    "tensor = tf.convert_to_tensor(ndarray)\n",
    "print(tensor)\n",
    "tensor[2] = 9 # Error caused by immutable"
   ]
  },
  {
   "cell_type": "markdown",
   "metadata": {},
   "source": [
    "### 축약 연산자\n",
    "* ```tf.<operator>```를 축약 연산자로 사용가능\n",
    "\n",
    "|TensorFlow 연산\t|축약 연산자\t|설명|\n",
    "|---|---|---|\n",
    "|tf.add()\t|a + b|\ta와 b를 더함|\n",
    "tf.multiply()|\ta * b|\ta와 b를 곱함\n",
    "tf.subtract()|\ta - b|\ta에서 b를 뺌\n",
    "tf.divide()|\ta / b|\ta를 b로 나눔\n",
    "tf.pow()|\ta ** b|\t$a^b$ 를 계산\n",
    "tf.mod()|\ta % b|\ta를 b로 나눈 나머지를 구함\n",
    "tf.logical_and()|\ta & b|\ta와 b의 논리곱을 구함. dtype은 반드시 tf.bool이어야 함\n",
    "tf.greater()|\ta > b|\t$a > b$ 의 True/False 값을 반환\n",
    "tf.greater_equal()|\ta >= b|\t$a \\geq$ 의 True/False 값을 반환\n",
    "tf.less_equal()|\ta <= b|\t$a \\leq b$ 의 True/False 값을 반환\n",
    "tf.less()|\ta < b|\t$a< b$ 의 True/False 값을 반환\n",
    "tf.negative()|\t-a|\ta의 반대 부호 값을 반환\n",
    "tf.logical_not()|\t~a|\ta의 반대의 참거짓을 반환. tf.bool 텐서만 적용 가능\n",
    "tf.abs()|\tabs(a)|\ta의 각 원소의 절대값을 반환\n",
    "tf.logical_or()|\ta I b|\ta와 b의 논리합을 구함. dtype은 반드시 tf.bool이어야 함"
   ]
  },
  {
   "cell_type": "markdown",
   "metadata": {},
   "source": [
    "## Constant\n",
    "* `tf.constant(value, dtype, shape, name)`\n",
    "    * value : Tensor가 가질 값\n",
    "    * dtype=None : 데이타 타입\n",
    "    * shape=None : Tensor 모양\n",
    "    * name='Const' : 이름\n",
    "* 상수 값을 갖는 Tensor를 생성하는 함수"
   ]
  },
  {
   "cell_type": "code",
   "execution_count": null,
   "metadata": {
    "collapsed": true
   },
   "outputs": [],
   "source": [
    "const = tf.constant(1.)\n",
    "print(type(const))\n",
    "print(const)"
   ]
  },
  {
   "cell_type": "markdown",
   "metadata": {},
   "source": [
    "*  ```tf.identity(node, \"name\")``` \n",
    "    * 이름 지정 및 입력과 같은 shape과 contens를 갖는 tensor 반환"
   ]
  },
  {
   "cell_type": "code",
   "execution_count": null,
   "metadata": {
    "collapsed": true
   },
   "outputs": [],
   "source": [
    "const_identity = tf.identity(const)\n",
    "print(const_identity, const)\n",
    "print(const_identity is const)\n",
    "print(id(const_identity), id(const))"
   ]
  },
  {
   "cell_type": "markdown",
   "metadata": {},
   "source": [
    "## Variable\n",
    "* Tensor는 상태가 없고 변경 불가 객체(Immutable steteless object) \n",
    "* 훈련을 통해 변경될 값(weight, bias) 필요\n",
    "* 값 변경을 위한 API 필요\n",
    "* `tf.Variable(initVal)`\n",
    "    * `assign(newVal)`\n",
    "* `tf.assign_sub()`, `tf.scatter_update()` ...\n",
    "* GradientTape에 의해 자동 추적"
   ]
  },
  {
   "cell_type": "code",
   "execution_count": null,
   "metadata": {
    "collapsed": true
   },
   "outputs": [],
   "source": [
    "import tensorflow as tf\n",
    "\n",
    "v = tf.Variable(1.0)\n",
    "print(v)\n",
    "\n",
    "v.assign(3,0)\n",
    "print(v)\n",
    "\n",
    "v.assign(tf.square(v))\n",
    "print(v)\n",
    "print(v.numpy())"
   ]
  },
  {
   "cell_type": "markdown",
   "metadata": {},
   "source": [
    "### 난수 생성\n",
    "* 정규 분포(normal distribution)\n",
    "    * `tf.random.normal(shape, mean, std)` : 정규 분포\n",
    "    * `tf.truncated_normal(shape, mean, std)` : 절단 정규 분포\n",
    "        * shape : 생성하려는 난수의 갯수와 형태\n",
    "        * mean : 평균\n",
    "        * std : 표준편차\n",
    "* 균등 분포(uniform distribution)\n",
    "    * `tf.random_uniform(shape, min, max)` : 균등분포"
   ]
  },
  {
   "cell_type": "code",
   "execution_count": null,
   "metadata": {
    "collapsed": true
   },
   "outputs": [],
   "source": [
    "import tensorflow as tf\n",
    "\n",
    "print(tf.random.normal((3,3)))\n",
    "print(tf.random.truncated_normal((3,3)))\n",
    "print(tf.random.uniform((3,3)))"
   ]
  },
  {
   "cell_type": "code",
   "execution_count": null,
   "metadata": {
    "collapsed": true
   },
   "outputs": [],
   "source": [
    "%matplotlib inline\n",
    "import matplotlib.pyplot as plt\n",
    "import tensorflow as tf\n",
    "\n",
    "shape = (1, 50000)\n",
    "mean, std = 0, 1\n",
    "\n",
    "norm = tf.random.normal(shape, mean, std)\n",
    "trunc = tf.random.truncated_normal(shape, mean, std)\n",
    "\n",
    "\n",
    "minval, maxval =  -2, 2\n",
    "uform = tf.random.uniform(shape, minval, maxval)\n",
    "\n",
    "\n",
    "for i, (title, x) in enumerate(zip([\"normal\", \"trucated\", \"uniform\"], [norm, trunc, uform])):\n",
    "    plt.subplot(1,3, i+1)\n",
    "    plt.title(title)\n",
    "    plt.hist(x[0], bins=100)\n",
    "    plt.xlim([-5,5])\n",
    "    plt.ylim((0,1800))\n",
    "plt.tight_layout()\n",
    "plt.show()"
   ]
  },
  {
   "cell_type": "markdown",
   "metadata": {},
   "source": [
    "### 변수 랜덤수 초기화\n",
    "* 변수의 초기값을 지정하기 어려운 경우 랜덤 수 사용\n",
    "* `tf.Variable(tf.random_normal([n, m])`"
   ]
  },
  {
   "cell_type": "code",
   "execution_count": null,
   "metadata": {
    "collapsed": true
   },
   "outputs": [],
   "source": [
    "import tensorflow as tf\n",
    "\n",
    "x = tf.Variable(tf.random.normal([]), name=\"x\")\n",
    "y = tf.Variable(tf.random.normal([2,3]), name=\"y\")\n",
    "\n",
    "print(\"x:\", x)\n",
    "print(\"y:\", y)"
   ]
  },
  {
   "cell_type": "markdown",
   "metadata": {},
   "source": [
    "## GPU 가속\n",
    "* Tensorflow는 연산에 CPU/GPU 사용 자동 결정\n",
    "* NumPy 배열은 CPU only, Tensor는 GPU, TPU 가능\n",
    "* GPU 배치 확인\n",
    "    * `tensor.device` : <string>"
   ]
  },
  {
   "cell_type": "code",
   "execution_count": null,
   "metadata": {
    "collapsed": true
   },
   "outputs": [],
   "source": [
    "import tensorflow as tf\n",
    "\n",
    "tensor = tf.constant(1.0)\n",
    "print(tensor)\n",
    "print(tensor.device)"
   ]
  },
  {
   "cell_type": "markdown",
   "metadata": {},
   "source": [
    "* 명시적 장치 배치\n",
    "    * `tf.device`"
   ]
  },
  {
   "cell_type": "code",
   "execution_count": null,
   "metadata": {
    "collapsed": true
   },
   "outputs": [],
   "source": [
    "\n",
    "print(\"On CPU\")\n",
    "with tf.device(\"CPU:0\"):\n",
    "    ts = tf.random.uniform(())\n",
    "    #ts  = tf.convert_to_tensor(10)\n",
    "    print(ts.device)\n",
    "\n",
    "if tf.test.is_gpu_available():\n",
    "    print(\"GPU Available\")\n",
    "    with tf.device(\"GPU:0\"):\n",
    "        #ts = tf.constant(10)\n",
    "        ts = tf.random.uniform(())\n",
    "        #ts  = tf.convert_to_tensor(10)\n",
    "        print(ts.device)\n",
    "else:\n",
    "    print(\"GPI Not available\")"
   ]
  },
  {
   "cell_type": "markdown",
   "metadata": {},
   "source": [
    "## 자동 미분\n",
    "* `tf.GradientTape([persistent=True])`\n",
    "    * `gradient()`\n",
    "* 컨텍스트 내의 모든 정방향(forward-pass) 연산을 Tape에 기록\n",
    "* 역방향 자동 미분 연산(reverse mode differentiantion)후 폐기\n",
    "    * `grandient()` 함수는 1회용\n",
    "    * `persistent=True` : 동일한 연산에 대해 여러 미분을 계산\n",
    "* 컨텍스트 내의 중간 계산 값도 미분 가능\n",
    "* 연산내 추적\n",
    "    * Variable은 자동 추적\n",
    "    * constant는 `tape.watch(const)` 필요"
   ]
  },
  {
   "cell_type": "code",
   "execution_count": null,
   "metadata": {
    "collapsed": true
   },
   "outputs": [],
   "source": [
    "#x = tf.constant(3.0)\n",
    "x = tf.Variable(3.0)\n",
    "with tf.GradientTape(persistent=True) as tape:\n",
    "    #tape.watch(x)\n",
    "    y = x * x  # x^2\n",
    "    z = y + y  # 2* x^2\n",
    "    print(x, y, z) \n",
    "dz_dx = tape.gradient(z, x)  # 12.0 (4x at x = 3)\n",
    "dy_dx = tape.gradient(y, x)  # 6.0 (2x at x =3)\n",
    "print(\"dz_dx:\", dz_dx)\n",
    "print(\"dy_dx:\", dy_dx)\n",
    "del tape  # 테이프에 대한 참조를 삭제합니다."
   ]
  },
  {
   "cell_type": "markdown",
   "metadata": {},
   "source": [
    "## Dataset\n",
    "* `tf.data.Dataset`\n",
    "    * 모델에 데이타를 제공하기 위한 파이프라인 구축\n",
    "    * 팩토리 함수\n",
    "        * `tf.data.Dataset.from_tensors`\n",
    "        * `tf.data.Dataset.from_tensor_slices`\n",
    "    * 파일 읽기 \n",
    "        * `tf.data.TextLineDataset(filename)` :\n",
    "    * 소스 데이터셋\n",
    "        * `tf.data.TFRecordDataset`"
   ]
  }
 ],
 "metadata": {
  "celltoolbar": "Slideshow",
  "kernelspec": {
   "display_name": "Python 3",
   "language": "python",
   "name": "python3"
  },
  "language_info": {
   "codemirror_mode": {
    "name": "ipython",
    "version": 3
   },
   "file_extension": ".py",
   "mimetype": "text/x-python",
   "name": "python",
   "nbconvert_exporter": "python",
   "pygments_lexer": "ipython3",
   "version": "3.6.8"
  }
 },
 "nbformat": 4,
 "nbformat_minor": 2
}
