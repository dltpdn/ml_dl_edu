{
 "cells": [
  {
   "cell_type": "markdown",
   "metadata": {},
   "source": [
    "# TF2 Dataset\n",
    "* 학습 및 테스트 데이타 입력 파이브 라인 \n",
    "* `tf.data.Dataset`\n",
    "    * `from_tesor_slice(tensors)`\n",
    "    * `from_tensors(tensor)`\n",
    "    * `from_generator(generator)`\n",
    "* `tf.data.TextLineDataset`\n",
    "* `tf.data.TFRecordDataset`\n"
   ]
  },
  {
   "cell_type": "code",
   "execution_count": null,
   "metadata": {},
   "outputs": [],
   "source": [
    "import tensorflow as tf\n",
    "import numpy as np\n",
    "\n",
    "data = np.arange(10)\n",
    "data"
   ]
  },
  {
   "cell_type": "markdown",
   "metadata": {},
   "source": [
    "### Dataset 생성\n",
    "* `from_tensor_slices(array)`"
   ]
  },
  {
   "cell_type": "code",
   "execution_count": null,
   "metadata": {},
   "outputs": [],
   "source": [
    "dataset = tf.data.Dataset.from_tensor_slices(data)\n",
    "dataset"
   ]
  },
  {
   "cell_type": "markdown",
   "metadata": {},
   "source": [
    "### Iterable Object\n",
    "* for-in 구문으로 순회 가능"
   ]
  },
  {
   "cell_type": "code",
   "execution_count": null,
   "metadata": {},
   "outputs": [],
   "source": [
    "for i, e in enumerate(dataset):\n",
    "    print(i, e.numpy(), e)"
   ]
  },
  {
   "cell_type": "markdown",
   "metadata": {},
   "source": [
    "### Iterator 생성\n",
    "* `iter(dataset)`\n",
    "    * `next(it)`"
   ]
  },
  {
   "cell_type": "code",
   "execution_count": null,
   "metadata": {},
   "outputs": [],
   "source": [
    "it = iter(dataset)\n",
    "for i in range(10):\n",
    "    print(next(it))"
   ]
  },
  {
   "cell_type": "markdown",
   "metadata": {},
   "source": [
    "### Shuffle\n",
    "* `dataset.suffle(buffer_size)`\n",
    "    * buffer_size > len(data)"
   ]
  },
  {
   "cell_type": "code",
   "execution_count": null,
   "metadata": {
    "scrolled": true
   },
   "outputs": [],
   "source": [
    "shuffled = dataset.shuffle(10)\n",
    "for e in dataset:\n",
    "    print(e.numpy(), end=\" \")\n",
    "print(\"\\n\", \"-\"*30)\n",
    "for e in shuffled:\n",
    "    print(e.numpy(), end=\" \")"
   ]
  },
  {
   "cell_type": "markdown",
   "metadata": {},
   "source": [
    "### Batch\n",
    "* `dataset.batch(batch_size, drop_remainder=False)`\n",
    "    * `drop_remainder` : 배수가 되지 못하는 set 버리기"
   ]
  },
  {
   "cell_type": "code",
   "execution_count": null,
   "metadata": {},
   "outputs": [],
   "source": [
    "batched = dataset.batch(3)\n",
    "for i, e in enumerate(batched):\n",
    "    print(f\"{i}:{e.numpy()}, \", end=\"\")\n"
   ]
  },
  {
   "cell_type": "markdown",
   "metadata": {},
   "source": [
    "* `drop_remainder=True`"
   ]
  },
  {
   "cell_type": "code",
   "execution_count": null,
   "metadata": {},
   "outputs": [],
   "source": [
    "batched = dataset.batch(3, True)\n",
    "for i, e in enumerate(batched):\n",
    "    print(f\"{i}:{e.numpy()}, \", end=\"\")"
   ]
  },
  {
   "cell_type": "markdown",
   "metadata": {},
   "source": [
    "### Repeat\n",
    "* 데이타의 끝까지 도달하면 자동으로 처음 부터 반복\n",
    "* `dataset.repeat([count])`\n",
    "    * `count=None` : 무한 반복"
   ]
  },
  {
   "cell_type": "code",
   "execution_count": null,
   "metadata": {},
   "outputs": [],
   "source": [
    "for e in dataset.repeat(2):\n",
    "    print(e.numpy(), end=\" \")\n"
   ]
  },
  {
   "cell_type": "markdown",
   "metadata": {},
   "source": [
    "### take\n",
    "* `dataset.take(count)`\n",
    "    * 주어진 갯수만으로 dataset 생성"
   ]
  },
  {
   "cell_type": "code",
   "execution_count": null,
   "metadata": {
    "scrolled": true
   },
   "outputs": [],
   "source": [
    "for e in dataset.take(5):\n",
    "    print(e.numpy(), end=\" \")"
   ]
  },
  {
   "cell_type": "markdown",
   "metadata": {},
   "source": [
    "### Map\n",
    "* 각 요소를 함수와 맵핑\n",
    "* `dataset.mapa(func)`"
   ]
  },
  {
   "cell_type": "code",
   "execution_count": null,
   "metadata": {},
   "outputs": [],
   "source": [
    "maped = dataset.map(lambda x : x + 10)\n",
    "for e in maped :\n",
    "    print(e)"
   ]
  },
  {
   "cell_type": "markdown",
   "metadata": {},
   "source": [
    "### Prefetch\n",
    "* `dataset.prefetch(buffer_size)`\n",
    "    * 메모리(CPU/GPU)에 미리 올려두기\n",
    "    * input dataset에 적용에 주의\n",
    "        * `dataset.prefetch(2)` : 2개의 요소 prefetch\n",
    "        * `dataset.batch(20).prefetch(2)` : 2batch prefetch"
   ]
  },
  {
   "cell_type": "code",
   "execution_count": null,
   "metadata": {},
   "outputs": [],
   "source": [
    "for e in dataset.prefetch(2):\n",
    "    print(e)"
   ]
  },
  {
   "cell_type": "markdown",
   "metadata": {},
   "source": [
    "### Chaining Methods\n",
    "* 모든 함수가 dataset를 반환하기 때문에 연결해서 호출 가능"
   ]
  },
  {
   "cell_type": "code",
   "execution_count": null,
   "metadata": {},
   "outputs": [],
   "source": [
    "it = iter(dataset.shuffle(10).batch(3).repeat())\n",
    "for i in range(10):\n",
    "    print(next(it))\n"
   ]
  }
 ],
 "metadata": {
  "kernelspec": {
   "display_name": "Python 3",
   "language": "python",
   "name": "python3"
  },
  "language_info": {
   "codemirror_mode": {
    "name": "ipython",
    "version": 3
   },
   "file_extension": ".py",
   "mimetype": "text/x-python",
   "name": "python",
   "nbconvert_exporter": "python",
   "pygments_lexer": "ipython3",
   "version": "3.6.8"
  }
 },
 "nbformat": 4,
 "nbformat_minor": 2
}
