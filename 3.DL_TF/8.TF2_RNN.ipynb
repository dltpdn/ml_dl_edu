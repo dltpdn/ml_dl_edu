{
 "cells": [
  {
   "cell_type": "markdown",
   "metadata": {},
   "source": [
    "# TF2 RNN\n"
   ]
  },
  {
   "cell_type": "markdown",
   "metadata": {},
   "source": [
    "## Recurrent Neural Network, 순환 신경망\n",
    "* 과거의 행위가 다음 판단에 영향을 미치는 경우\n",
    "    * 순서가 있는 데이터\n",
    "    * 한번의 입력 만으로 출력 예측 불가\n",
    "        * 처음 보는 아이구나! 안녕! (안녕:만남)\n",
    "        * 그 동안 즐거웠어... 안녕! (안녕:작별)\n",
    "    * 이번의 입력과 그 이전의 입력을 모두 기억해야 출력 예측 가능\n",
    "* 구조적 특징\n",
    "    * 이전 상태 유지\n",
    "    ```python\n",
    "    state = 0\n",
    "    for input in inputs:\n",
    "        outout, state = rnn_cell(input, state)\n",
    "    ```\n",
    "![image.png](https://i.imgur.com/Ot9qXuc.png)\n",
    "\n",
    "*  RNN 유형\n",
    "![https://i.imgur.com/MAesSJV.png](https://static.packt-cdn.com/products/9781789536089/graphics/b2e068f5-08f8-4e4a-b56c-e29675ab0eb5.png)\n",
    "* RNN 개선 네트웤\n",
    "    * LSTM(Long Short Term Memory)\n",
    "    * GRU"
   ]
  },
  {
   "cell_type": "markdown",
   "metadata": {},
   "source": [
    "## Vanilla RNN\n",
    "* RNN Layer 구조\n",
    "    * 상태 유지를 위한 vector : $h_t$\n",
    "    * $h_t = f(x_t, h_{t-1})$\n",
    "        * 입력 : $x_t, h_{t-1}$\n",
    "            * $x_t$ : 이번 단계의 입력 변수\n",
    "            * $h_{t-1}$ : 이전 단계의 hidden state\n",
    "        * 출력 : $h_t$ : 현재 단계의 hidden state\n",
    "        * $h_t = tanh(W_{hh}h_{t-1} + W_{xh}x_t + b_h)$\n",
    "            * $tanh$ : $sigmoid$ 보다 미분 값이 크다\n",
    "* Linear NN(Dense) Layer\n",
    "    * $ y_t = W_{hy}h_t + b_y $ \n",
    "    * 일반적인 신경망\n",
    "        \n",
    "![image.png](https://i.imgur.com/Q1xfRVJ.png)\n",
    "* 학습할 변수들, 5개\n",
    "    * $W_{hx}$, $W_{hh}$, $b_h$\n",
    "    * $W_{hy}$, $b_y$"
   ]
  },
  {
   "cell_type": "markdown",
   "metadata": {},
   "source": [
    "### Vanilla RNN Graph\n",
    "![image.png](https://i.imgur.com/Szpv2aU.png)"
   ]
  },
  {
   "cell_type": "markdown",
   "metadata": {},
   "source": [
    "### RNN 실습, Many to One\n",
    "* RNN 구조를 직접 구현해서 다음 숫자 예측하는 실습\n",
    "    * 입력 : 0.1씩 증가하는 4개의 연속 숫자\n",
    "    * 출력 : 입력의 마지막 숫자 보다 0.1 큰 수\n",
    "        * 0.0, 0.1, 0.2, 0.3 = 0.4\n",
    "        * 0.1, 0.2, 0.3, 0.4 = 0.5\n",
    "        * 0.9, 1.0, 1.1, 1.2 = 1.3\n",
    "    \n",
    "    "
   ]
  },
  {
   "cell_type": "markdown",
   "metadata": {},
   "source": [
    "#### 입출력 데이타 준비"
   ]
  },
  {
   "cell_type": "code",
   "execution_count": 44,
   "metadata": {},
   "outputs": [
    {
     "data": {
      "text/plain": [
       "'x'"
      ]
     },
     "metadata": {},
     "output_type": "display_data"
    },
    {
     "data": {
      "text/plain": [
       "[[[0.0], [0.1], [0.2], [0.3]],\n",
       " [[0.1], [0.2], [0.3], [0.4]],\n",
       " [[0.2], [0.3], [0.4], [0.5]],\n",
       " [[0.3], [0.4], [0.5], [0.6]],\n",
       " [[0.4], [0.5], [0.6], [0.7]]]"
      ]
     },
     "metadata": {},
     "output_type": "display_data"
    },
    {
     "data": {
      "text/plain": [
       "'y'"
      ]
     },
     "metadata": {},
     "output_type": "display_data"
    },
    {
     "data": {
      "text/plain": [
       "[[0.4], [0.5], [0.6], [0.7], [0.8]]"
      ]
     },
     "metadata": {},
     "output_type": "display_data"
    }
   ],
   "source": [
    "import tensorflow as tf\n",
    "import numpy as np\n",
    "\n",
    "step_size = 4\n",
    "batch_size = 5\n",
    "\n",
    "x = [ [[i/10] for i in range(j, j+step_size)] for j in range(batch_size)]\n",
    "y = [[ (i+step_size) /10] for i in range(batch_size)]\n",
    "display(\"x\", x, \"y\",y)"
   ]
  },
  {
   "cell_type": "markdown",
   "metadata": {},
   "source": [
    "#### RNN 연산을 위한 함수\n",
    "* `tf.scan(fn, elements)`\n",
    "    * 모든 elemes를 순회하면서 fn에 전달\n",
    "    * 이전 fn의 반환 값과 elemens의 다음 항목을 fn에 전달\n",
    "    * 모든 fn의 반환 값을 리스트로 반환, elements이 길이와 동일"
   ]
  },
  {
   "cell_type": "code",
   "execution_count": 45,
   "metadata": {},
   "outputs": [
    {
     "name": "stdout",
     "output_type": "stream",
     "text": [
      "[[[0]\n",
      "  [1]]\n",
      "\n",
      " [[2]\n",
      "  [3]]\n",
      "\n",
      " [[4]\n",
      "  [5]]\n",
      "\n",
      " [[6]\n",
      "  [7]]\n",
      "\n",
      " [[8]\n",
      "  [9]]] (5, 2, 1)\n",
      "(2, 1) (2, 1)\n",
      "(2, 1) (2, 1)\n",
      "(2, 1) (2, 1)\n",
      "(2, 1) (2, 1)\n",
      "tf.Tensor(\n",
      "[[[ 0]\n",
      "  [ 1]]\n",
      "\n",
      " [[ 2]\n",
      "  [ 4]]\n",
      "\n",
      " [[ 6]\n",
      "  [ 9]]\n",
      "\n",
      " [[12]\n",
      "  [16]]\n",
      "\n",
      " [[20]\n",
      "  [25]]], shape=(5, 2, 1), dtype=int32)\n"
     ]
    }
   ],
   "source": [
    "# tf.scan() 사용 설명을 위한 예시\n",
    "def fn(p, n):\n",
    "    print(p.shape, n.shape)\n",
    "    return p + n\n",
    "\n",
    "elements = np.arange(10).reshape(-1,2,1)\n",
    "print(elements, elements.shape)\n",
    "\n",
    "ret = tf.scan(fn, elements)\n",
    "print(ret)"
   ]
  },
  {
   "cell_type": "markdown",
   "metadata": {},
   "source": [
    "#### RNN Layer hidden state 변수와 연산 함수 정의"
   ]
  },
  {
   "cell_type": "code",
   "execution_count": 49,
   "metadata": {},
   "outputs": [],
   "source": [
    "element_size = 1\n",
    "hidden_size = 10\n",
    "initializer =  tf.keras.initializers.GlorotUniform() #xavier\n",
    "Wx = tf.Variable(initializer([element_size, hidden_size]))\n",
    "Wh = tf.Variable(initializer([hidden_size, hidden_size]))\n",
    "bh = tf.Variable(initializer([hidden_size]))\n",
    "\n",
    "def rnn_step(prev_h, x):\n",
    "    curr_h = tf.tanh(\n",
    "                    tf.matmul(prev_h, Wh) + \n",
    "                    tf.matmul(x, Wx) +\n",
    "                    bh)\n",
    "    return curr_h # shape: (batch_size,4)"
   ]
  },
  {
   "cell_type": "markdown",
   "metadata": {},
   "source": [
    "#### Linear Layer 연산을 위한 변수와 함수 정의"
   ]
  },
  {
   "cell_type": "code",
   "execution_count": 50,
   "metadata": {},
   "outputs": [],
   "source": [
    "initializer =  tf.keras.initializers.GlorotUniform() #xavier\n",
    "\n",
    "Wy = tf.Variable(initializer([hidden_size, element_size]))\n",
    "by = tf.Variable(initializer([element_size]))\n",
    "\n",
    "def linear_layer(hidden_states):\n",
    "    return tf.matmul(hidden_states, Wy) + by"
   ]
  },
  {
   "cell_type": "markdown",
   "metadata": {},
   "source": [
    "#### 신경망 학습"
   ]
  },
  {
   "cell_type": "code",
   "execution_count": 51,
   "metadata": {},
   "outputs": [
    {
     "name": "stdout",
     "output_type": "stream",
     "text": [
      "epoch:49, cost:0.21758830547332764\n",
      "epoch:99, cost:0.068544901907444\n",
      "epoch:149, cost:0.04512929916381836\n",
      "epoch:199, cost:0.02724112942814827\n",
      "epoch:249, cost:0.013455492444336414\n",
      "epoch:299, cost:0.004864203743636608\n",
      "epoch:349, cost:0.001207142835482955\n",
      "epoch:399, cost:0.00021769237355329096\n",
      "epoch:449, cost:4.3507327063707635e-05\n",
      "epoch:499, cost:2.1995603674440645e-05\n",
      "epoch:549, cost:1.9816836356767453e-05\n",
      "epoch:599, cost:1.941706614161376e-05\n",
      "epoch:649, cost:1.9139284631819464e-05\n",
      "epoch:699, cost:1.886774589365814e-05\n",
      "epoch:749, cost:1.8597653252072632e-05\n",
      "epoch:799, cost:1.8329965314478613e-05\n",
      "epoch:849, cost:1.8065300537273288e-05\n",
      "epoch:899, cost:1.7805597963160835e-05\n",
      "epoch:949, cost:1.7551530618220568e-05\n",
      "epoch:999, cost:1.7303242202615365e-05\n",
      "predict:[0.40491617 0.49364746 0.5982585  0.70428205 0.7992102 ]\n"
     ]
    }
   ],
   "source": [
    "learning_rate = 0.001\n",
    "optimizer = tf.keras.optimizers.Adam(learning_rate=learning_rate)\n",
    "mse = tf.keras.losses.MeanSquaredError()\n",
    "n_epoch = 1000\n",
    "all_outputs, output = None, None\n",
    "for epoch in range(n_epoch):\n",
    "    with tf.GradientTape() as tape:\n",
    "        X_ = tf.transpose(x, perm=[1, 0, 2]) # (4,10,1)\n",
    "        init_hidden = tf.zeros([batch_size, hidden_size]) # (10,4)\n",
    "        hidden_states = tf.scan(rnn_step, X_, initializer=init_hidden)\n",
    "        all_outputs = tf.matmul(hidden_states, Wy) + by\n",
    "        output = all_outputs[-1]\n",
    "        cost = tf.reduce_mean( tf.square(output - y))\n",
    "    grads = tape.gradient(cost, [Wy, by, Wx, Wh,  bh])\n",
    "    optimizer.apply_gradients(zip(grads, [Wy, by, Wx, Wh,  bh]))\n",
    "    if (epoch+1) % 50 == 0:\n",
    "        print(f\"epoch:{epoch}, cost:{cost}\")\n",
    "print(f'predict:{tf.squeeze(output)}')"
   ]
  },
  {
   "cell_type": "markdown",
   "metadata": {},
   "source": [
    "### TF RNN API\n",
    "* `cell = tf.keras.layers..rnn_cell.SimpleRNNCell(units=hidden_size)`\n",
    "    * RNN 구현을 위해 필요한 변수 선언 및 구조 제공\n",
    "    * `hidden_size` : output, state size\n",
    "* `rnn = tf.keras.layers.RNN(cell,return_sequences=True, return_state=True)`\n",
    "* `outputs, states = rnn(X)`\n",
    "    * rnn_cell을 전달 받아 반복(tf.scan()) 연산해서 output과 state 계산\n",
    "    * rnn.trainable_variables : 학습할 변수 얻기\n",
    "* `rnn = tf.keras.layers..rnn_cell.SimpleRNNCell(units=hidden_size, return_sequences=True, return_state=True)`\n",
    "    * SimpleRNNCell + RNN\n",
    "    * Cell과 RNN 역할을 동시에 수행"
   ]
  },
  {
   "cell_type": "markdown",
   "metadata": {},
   "source": [
    "#### TF RNN API 써보기"
   ]
  },
  {
   "cell_type": "code",
   "execution_count": 16,
   "metadata": {},
   "outputs": [
    {
     "name": "stdout",
     "output_type": "stream",
     "text": [
      "(1, 2, 4)\n",
      "3 3\n",
      "tf.Tensor(\n",
      "[[[ 0.99952966 -0.9585948  -0.9989488 ]\n",
      "  [ 0.9999997  -0.9999876  -0.99999976]]], shape=(1, 2, 3), dtype=float32) tf.Tensor([[ 0.9999997  -0.9999876  -0.99999976]], shape=(1, 3), dtype=float32)\n",
      "[<tf.Variable 'rnn_2/kernel:0' shape=(4, 3) dtype=float32, numpy=\n",
      "array([[-0.11117774,  0.16613972,  0.6421424 ],\n",
      "       [ 0.0297879 , -0.3033737 , -0.4533883 ],\n",
      "       [ 0.5253105 , -0.84494674, -0.44412813],\n",
      "       [ 0.6632879 ,  0.26178992, -0.5445496 ]], dtype=float32)>, <tf.Variable 'rnn_2/recurrent_kernel:0' shape=(3, 3) dtype=float32, numpy=\n",
      "array([[-0.9255129 , -0.36553076,  0.09906177],\n",
      "       [ 0.14769028, -0.10749933,  0.9831742 ],\n",
      "       [-0.34873134,  0.9245708 ,  0.1534773 ]], dtype=float32)>, <tf.Variable 'rnn_2/bias:0' shape=(3,) dtype=float32, numpy=array([0., 0., 0.], dtype=float32)>]\n"
     ]
    }
   ],
   "source": [
    "import tensorflow as tf\n",
    "import numpy as np\n",
    "\n",
    "x_data = np.array([[[1,2,3,4],\n",
    "                    [5,6,7,8]]], dtype=np.float32) #(1,2,4) : (batch, time_step, element_size)\n",
    "print(x_data.shape)\n",
    "\n",
    "h_size = 3   # output_size\n",
    "cell = tf.keras.layers.SimpleRNNCell(h_size)\n",
    "print(cell.output_size, cell.state_size)\n",
    "\n",
    "rnn = tf.keras.layers.RNN(cell, return_sequences=True, return_state=True)\n",
    "#rnn = tf.keras.layers.SimpleRNN(hidden_size, return_sequences=True, return_state=True)\n",
    "outputs, return_state = rnn(x_data)\n",
    "print(outputs, return_state)\n",
    "print(rnn.trainable_variables)\n"
   ]
  },
  {
   "cell_type": "markdown",
   "metadata": {},
   "source": [
    "#### TF RNN API를 이용한 다음 수 예측 실습"
   ]
  },
  {
   "cell_type": "code",
   "execution_count": 24,
   "metadata": {},
   "outputs": [
    {
     "name": "stdout",
     "output_type": "stream",
     "text": [
      "epoch:49, cost:0.0004836990556214005\n",
      "epoch:99, cost:7.325842489080969e-06\n",
      "epoch:149, cost:3.182115733579849e-06\n",
      "epoch:199, cost:2.907152065745322e-06\n",
      "epoch:249, cost:2.770936816887115e-06\n",
      "epoch:299, cost:2.662070528458571e-06\n",
      "epoch:349, cost:2.556670551712159e-06\n",
      "epoch:399, cost:2.451454747642856e-06\n",
      "epoch:449, cost:2.3471216081816237e-06\n",
      "epoch:499, cost:2.244477627755259e-06\n",
      "epoch:549, cost:2.1444154754135525e-06\n",
      "epoch:599, cost:0.008287915959954262\n",
      "epoch:649, cost:1.4186024600348901e-05\n",
      "epoch:699, cost:3.37490064339363e-06\n",
      "epoch:749, cost:3.0825099202047568e-06\n",
      "epoch:799, cost:2.8889430723211262e-06\n",
      "epoch:849, cost:2.710974285946577e-06\n",
      "epoch:899, cost:2.5462366011197446e-06\n",
      "epoch:949, cost:2.394181819909136e-06\n",
      "epoch:999, cost:2.2533392893819837e-06\n",
      "predict:[0.40117896 0.49785855 0.5999218  0.7020624  0.7989845 ]\n"
     ]
    }
   ],
   "source": [
    "initializer =  tf.initializers.GlorotUniform() #xavier\n",
    "Wy = tf.Variable(initializer([hidden_size, element_size]))\n",
    "by = tf.Variable(initializer([element_size]))\n",
    "\n",
    "learning_rate = 0.1\n",
    "#cell = tf.keras.layers.SimpleRNNCell(hidden_size)\n",
    "#rnn = tf.keras.layers.RNN(cell, return_sequences=False, return_state=True)\n",
    "\n",
    "# return_sequences=Flase : 모든 seqence의 상태 말고 마지막 sequence만 반환\n",
    "rnn = tf.keras.layers.SimpleRNN(hidden_size, return_sequences=False, return_state=True)\n",
    "\n",
    "optimizer = tf.keras.optimizers.Adam(learning_rate=learning_rate)\n",
    "n_epoch = 1000\n",
    "for epoch in range(n_epoch):\n",
    "    with tf.GradientTape() as tape:\n",
    "        outputs, states = rnn(tf.constant(x))\n",
    "        output = tf.matmul(outputs, Wy) + by\n",
    "        variables = rnn.trainable_variables + [Wy, by]\n",
    "        #cost = tf.reduce_mean(tf.nn.softmax_cross_entropy_with_logits(logits=all_outputs, labels=y_enc))\n",
    "        cost = tf.reduce_mean( tf.square(output - y))\n",
    "    grads = tape.gradient(cost, variables)\n",
    "    optimizer.apply_gradients(zip(grads, variables))\n",
    "    if (epoch+1) % 50 == 0:\n",
    "        print(f\"epoch:{epoch}, cost:{cost}\")\n",
    "print(f'predict:{tf.squeeze(output)}')"
   ]
  },
  {
   "cell_type": "markdown",
   "metadata": {},
   "source": [
    "#### TF Keras Model을 이용한 다음 수 예측 실습"
   ]
  },
  {
   "cell_type": "code",
   "execution_count": 52,
   "metadata": {},
   "outputs": [
    {
     "name": "stdout",
     "output_type": "stream",
     "text": [
      "Model: \"sequential_4\"\n",
      "_________________________________________________________________\n",
      "Layer (type)                 Output Shape              Param #   \n",
      "=================================================================\n",
      "simple_rnn_18 (SimpleRNN)    (None, 10)                120       \n",
      "_________________________________________________________________\n",
      "dense_4 (Dense)              (None, 1)                 11        \n",
      "=================================================================\n",
      "Total params: 131\n",
      "Trainable params: 131\n",
      "Non-trainable params: 0\n",
      "_________________________________________________________________\n",
      "prediction: [0.3755046  0.5133306  0.62723434 0.71219724 0.7685203 ]\n"
     ]
    }
   ],
   "source": [
    "model = tf.keras.Sequential([\n",
    "    tf.keras.layers.SimpleRNN(10, input_shape=[step_size, element_size]),\n",
    "    tf.keras.layers.Dense(element_size)\n",
    "])\n",
    "model.summary()\n",
    "model.compile(optimizer='adam', loss='mse')\n",
    "\n",
    "model.fit(x, y, epochs=1000, verbose=0)\n",
    "pred = model.predict(x)\n",
    "print(f'prediction: {tf.squeeze(pred)}')"
   ]
  },
  {
   "cell_type": "markdown",
   "metadata": {},
   "source": [
    "### Vanila RNN 실습2, Many to Many\n",
    "* RNN 구조를 직접 구현해서 다음 숫자 예측하는 실습\n",
    "    * 입력 : 0.1씩 증가하는 4개의 연속 숫자\n",
    "    * 출력 : 입력의 두번째 숫자 부터 마지막의 다음 숫자\n",
    "        * 0.0, 0.1, 0.2, 0.3 = 0.1, 0.2, 0.3, 0.4\n",
    "        * 0.1, 0.2, 0.3, 0.4 = 0.2, 0.3, 0.4, 0.5\n",
    "        * 0.9, 1.0, 1.1, 1.2 = 1.0, 1.1, 1.2, 1.3"
   ]
  },
  {
   "cell_type": "markdown",
   "metadata": {},
   "source": [
    "#### 입출력 데이타 준비"
   ]
  },
  {
   "cell_type": "code",
   "execution_count": 83,
   "metadata": {
    "scrolled": true
   },
   "outputs": [
    {
     "data": {
      "text/plain": [
       "'x'"
      ]
     },
     "metadata": {},
     "output_type": "display_data"
    },
    {
     "data": {
      "text/plain": [
       "[[[0.0], [0.1], [0.2], [0.3]],\n",
       " [[0.1], [0.2], [0.3], [0.4]],\n",
       " [[0.2], [0.3], [0.4], [0.5]],\n",
       " [[0.3], [0.4], [0.5], [0.6]],\n",
       " [[0.4], [0.5], [0.6], [0.7]]]"
      ]
     },
     "metadata": {},
     "output_type": "display_data"
    },
    {
     "data": {
      "text/plain": [
       "'y'"
      ]
     },
     "metadata": {},
     "output_type": "display_data"
    },
    {
     "data": {
      "text/plain": [
       "[[[0.1], [0.2], [0.3], [0.4]],\n",
       " [[0.2], [0.3], [0.4], [0.5]],\n",
       " [[0.3], [0.4], [0.5], [0.6]],\n",
       " [[0.4], [0.5], [0.6], [0.7]],\n",
       " [[0.5], [0.6], [0.7], [0.8]]]"
      ]
     },
     "metadata": {},
     "output_type": "display_data"
    }
   ],
   "source": [
    "import tensorflow as tf\n",
    "import numpy as np\n",
    "\n",
    "step_size = 4\n",
    "batch_size = 5\n",
    "\n",
    "x = [ [[i/10] for i in range(j, j+step_size)] for j in range(batch_size)]\n",
    "y = [ [[i/10] for i in range(j+1, j+step_size+1)] for j in range(batch_size)]\n",
    "display(\"x\", x, \"y\",y)"
   ]
  },
  {
   "cell_type": "markdown",
   "metadata": {},
   "source": [
    "#### TF Low API를 이용한 실습"
   ]
  },
  {
   "cell_type": "code",
   "execution_count": 85,
   "metadata": {},
   "outputs": [
    {
     "name": "stdout",
     "output_type": "stream",
     "text": [
      "epoch:49, cost:0.04279259592294693\n",
      "epoch:99, cost:0.021712452173233032\n",
      "epoch:149, cost:0.011313172057271004\n",
      "epoch:199, cost:0.007589862681925297\n",
      "epoch:249, cost:0.005611711647361517\n",
      "epoch:299, cost:0.004251373000442982\n",
      "epoch:349, cost:0.0032375119626522064\n",
      "epoch:399, cost:0.002461089286953211\n",
      "epoch:449, cost:0.0018616083543747663\n",
      "epoch:499, cost:0.001397828571498394\n",
      "epoch:549, cost:0.001039541675709188\n",
      "epoch:599, cost:0.0007640495896339417\n",
      "epoch:649, cost:0.0005539843114092946\n",
      "epoch:699, cost:0.0003957711742259562\n",
      "epoch:749, cost:0.0002785435935948044\n",
      "epoch:799, cost:0.00019340419385116547\n",
      "epoch:849, cost:0.00013298090198077261\n",
      "epoch:899, cost:9.11684546736069e-05\n",
      "epoch:949, cost:6.298776133917272e-05\n",
      "epoch:999, cost:4.448329855222255e-05\n",
      "predict:[[0.11455545 0.19096842 0.29799488 0.40783828]\n",
      " [0.2063249  0.30026263 0.40277338 0.49637073]\n",
      " [0.29980567 0.40484583 0.5033149  0.59178764]\n",
      " [0.39355886 0.50453526 0.60052073 0.6957625 ]\n",
      " [0.48616377 0.5992918  0.6951349  0.8084848 ]]\n"
     ]
    }
   ],
   "source": [
    "element_size = 1\n",
    "hidden_size = 10\n",
    "initializer =  tf.keras.initializers.GlorotUniform() #xavier\n",
    "Wx = tf.Variable(initializer([element_size, hidden_size]))\n",
    "Wh = tf.Variable(initializer([hidden_size, hidden_size]))\n",
    "bh = tf.Variable(initializer([hidden_size]))\n",
    "\n",
    "def rnn_step(prev_h, x):\n",
    "    curr_h = tf.tanh(\n",
    "                    tf.matmul(prev_h, Wh) + \n",
    "                    tf.matmul(x, Wx) +\n",
    "                    bh)\n",
    "    return curr_h # shape: (batch_size,4)\n",
    "\n",
    "\n",
    "initializer =  tf.keras.initializers.GlorotUniform() #xavier\n",
    "\n",
    "Wy = tf.Variable(initializer([hidden_size, element_size]))\n",
    "by = tf.Variable(initializer([element_size]))\n",
    "\n",
    "def linear_layer(hidden_states):\n",
    "    return tf.matmul(hidden_states, Wy) + by\n",
    "\n",
    "learning_rate = 0.001\n",
    "optimizer = tf.keras.optimizers.Adam(learning_rate=learning_rate)\n",
    "mse = tf.keras.losses.MeanSquaredError()\n",
    "n_epoch = 1000\n",
    "all_outputs, output = None, None\n",
    "for epoch in range(n_epoch):\n",
    "    with tf.GradientTape() as tape:\n",
    "        X_ = tf.transpose(x, perm=[1, 0, 2]) # (4,10,1)\n",
    "        init_hidden = tf.zeros([batch_size, hidden_size]) # (10,4)\n",
    "        hidden_states = tf.scan(rnn_step, X_, initializer=init_hidden)\n",
    "        all_outputs = tf.matmul(hidden_states, Wy) + by\n",
    "        outputs = tf.transpose(all_outputs, perm=[1, 0, 2])\n",
    "        cost = tf.reduce_mean( tf.square(outputs - y))\n",
    "    grads = tape.gradient(cost, [Wy, by, Wx, Wh,  bh])\n",
    "    optimizer.apply_gradients(zip(grads, [Wy, by, Wx, Wh,  bh]))\n",
    "    if (epoch+1) % 50 == 0:\n",
    "        print(f\"epoch:{epoch}, cost:{cost}\")\n",
    "print(f'predict:{tf.squeeze(outputs)}')"
   ]
  },
  {
   "cell_type": "markdown",
   "metadata": {},
   "source": [
    "#### TF Keras를 이용한 실습"
   ]
  },
  {
   "cell_type": "code",
   "execution_count": 86,
   "metadata": {},
   "outputs": [
    {
     "name": "stdout",
     "output_type": "stream",
     "text": [
      "Model: \"sequential_8\"\n",
      "_________________________________________________________________\n",
      "Layer (type)                 Output Shape              Param #   \n",
      "=================================================================\n",
      "simple_rnn_20 (SimpleRNN)    (None, 4, 10)             120       \n",
      "_________________________________________________________________\n",
      "dense_7 (Dense)              (None, 4, 1)              11        \n",
      "=================================================================\n",
      "Total params: 131\n",
      "Trainable params: 131\n",
      "Non-trainable params: 0\n",
      "_________________________________________________________________\n",
      "prediction: [[0.2834577  0.21673763 0.27802214 0.38358343]\n",
      " [0.2944024  0.31542468 0.39945063 0.5002965 ]\n",
      " [0.30445662 0.4112241  0.51065373 0.60875326]\n",
      " [0.3132205  0.5031215  0.60719633 0.7082859 ]\n",
      " [0.32035115 0.5903807  0.68736416 0.7984788 ]]\n"
     ]
    }
   ],
   "source": [
    "model = tf.keras.Sequential([\n",
    "    tf.keras.layers.SimpleRNN(10, input_shape=[step_size, element_size], return_sequences=True),\n",
    "    tf.keras.layers.Dense(element_size)\n",
    "])\n",
    "model.summary()\n",
    "model.compile(optimizer='adam', loss='mse')\n",
    "\n",
    "model.fit(x, y, epochs=1000, verbose=0)\n",
    "pred = model.predict(x)\n",
    "print(f'prediction: {tf.squeeze(pred)}')"
   ]
  },
  {
   "cell_type": "markdown",
   "metadata": {},
   "source": [
    "### MNIST 숫자 손글씨 인식\n",
    "* many to one\n",
    "* 28 * 28 숫자 이미지 : 시퀀스로서의 이미지\n",
    "* 28 step(sequence)\n",
    "* 각 스텝당 28개의 입력\n",
    "![image.png](https://i.imgur.com/1dwjGgP.png)"
   ]
  },
  {
   "cell_type": "markdown",
   "metadata": {},
   "source": [
    "#### SimpleRNN으로 MNIST 실습"
   ]
  },
  {
   "cell_type": "code",
   "execution_count": 89,
   "metadata": {},
   "outputs": [
    {
     "name": "stdout",
     "output_type": "stream",
     "text": [
      "10000/10000 [==============================] - 1s 136us/sample - loss: 0.0970 - accuracy: 0.9730\n",
      "Test loss:0.09703949805349112, accuracy:0.9729999899864197\n"
     ]
    }
   ],
   "source": [
    "import tensorflow as tf\n",
    "\n",
    "element_size = 28\n",
    "time_steps = 28\n",
    "num_classes = 10\n",
    "batch_size = 128\n",
    "hidden_layer_size = 128\n",
    "\n",
    "# MNIST 데이터 불러오기 위한 함수 정의\n",
    "def mnist_load():\n",
    "    (train_x, train_y), (test_x, test_y) = tf.keras.datasets.mnist.load_data()\n",
    "    # Train set\n",
    "    train_x = train_x.astype('float32') / 255.\n",
    "    # Test set\n",
    "    test_x = test_x.astype('float32') / 255.\n",
    "    return (train_x, train_y), (test_x, test_y)\n",
    "\n",
    "# MNIST 데이터 불러오기\n",
    "(train_x, train_y), (test_x, test_y) = mnist_load()\n",
    "valid_x, train_x = train_x[:5000], train_x[5000:]\n",
    "valid_y, train_y = train_y[:5000], train_y[5000:]\n",
    "\n",
    "model = tf.keras.Sequential()\n",
    "model.add(tf.keras.layers.SimpleRNN((hidden_layer_size), input_shape=(time_steps, element_size)))\n",
    "model.add(tf.keras.layers.Dense(num_classes))\n",
    "model.add(tf.keras.layers.Activation('softmax'))\n",
    "\n",
    "model.compile(optimizer='adam',\n",
    "              loss='sparse_categorical_crossentropy',\n",
    "              metrics=['accuracy'])\n",
    "\n",
    "\n",
    "history = model.fit(train_x, train_y,\n",
    "                    epochs=20, batch_size=batch_size,\n",
    "                    validation_data=(valid_x, valid_y),\n",
    "                    verbose=0)\n",
    "\n",
    "results = model.evaluate(test_x, test_y,  verbose=1)\n",
    "print(f\"Test loss:{results[0]}, accuracy:{results[1]}\")"
   ]
  },
  {
   "cell_type": "code",
   "execution_count": 90,
   "metadata": {},
   "outputs": [
    {
     "data": {
      "image/png": "[encoded data removed]",
      "text/plain": [
       "<Figure size 864x288 with 2 Axes>"
      ]
     },
     "metadata": {
      "needs_background": "light"
     },
     "output_type": "display_data"
    }
   ],
   "source": [
    "import matplotlib.pyplot as plt\n",
    "\n",
    "def drawPlot(history):\n",
    "    plt.figure(figsize=(12,4))\n",
    "    plt.subplot(1,2,1)\n",
    "    plt.plot(history.history['loss'], 'b', label=\"loss\")\n",
    "    plt.plot(history.history['val_loss'], 'r--', label=\"val_loss\")\n",
    "    plt.legend()\n",
    "\n",
    "    plt.subplot(1,2,2)\n",
    "    plt.plot(history.history['accuracy'], 'g', label=\"accurary\")\n",
    "    plt.plot(history.history['val_accuracy'], 'b--', label=\"val_accurary\")\n",
    "    plt.legend()\n",
    "    plt.show()\n",
    "drawPlot(history)"
   ]
  },
  {
   "cell_type": "markdown",
   "metadata": {},
   "source": [
    "## LSTM\n",
    "* Long Short-Term Memory Unit\n",
    "* Sepp Hochreiter(셉 호흐라이터), Jurgen Schmidhuber(유르겐 슈미트후버) 1997년 제안\n",
    "    * RNN의 장기의존성(Longterm Dependency) 문제 보완\n",
    "        * 장기의존성 : 과거 시점이 현재와 너무 멀어지면 문제 해결 불가\n",
    "* LSTM 구조\n",
    "    * 입력 : $x_t, h_{t-1}, c_{t-1}$\n",
    "    * 출력 : $h_t, c_t$\n",
    "    * $c_t$ cell state\n",
    "        * RNN에 추가된 상태 벡터\n",
    "        * 이전 정보를 다음 단계로 전달\n",
    "        * 3가지 게이트에 의해 전달 여부 결정\n",
    "    * $\\sigma (sigmoid)$ 활성화 함수: 0 ~ 1 범위 출력, 게이트 역할\n",
    "    * $f_t$ Forget Gate : 기존 Cell State에서 어떠한 정보를 지울 지 결정\n",
    "    * $i_t$ Input Gate : Cell State에 저장할 새로운 정보를 결정\n",
    "    * $o_t$ Output Gate : Cell State 값을 다음 상태로 출력할 지 결정\n",
    "    \n",
    "![](https://i.imgur.com/t1ICToX.jpg)\n",
    "<!-- ![image.png](https://i.imgur.com/POpVFUa.png) -->\n",
    "\n",
    "#### LSTM TF API\n",
    "* `tf.keras.layers.LSTMCell()`\n",
    "* `tf.keras.layers.LSTM()`"
   ]
  },
  {
   "cell_type": "markdown",
   "metadata": {},
   "source": [
    "#### LSTM으로 MNIST 실습"
   ]
  },
  {
   "cell_type": "code",
   "execution_count": 91,
   "metadata": {
    "scrolled": true
   },
   "outputs": [
    {
     "name": "stdout",
     "output_type": "stream",
     "text": [
      "10000/10000 [==============================] - 1s 93us/sample - loss: 0.0435 - accuracy: 0.9875\n",
      "Test loss:0.043522600721823984, accuracy:0.987500011920929\n"
     ]
    }
   ],
   "source": [
    "import tensorflow as tf\n",
    "\n",
    "element_size = 28\n",
    "time_steps = 28\n",
    "num_classes = 10\n",
    "batch_size = 128\n",
    "hidden_layer_size = 128\n",
    "\n",
    "# MNIST 데이터 불러오기 위한 함수 정의\n",
    "def mnist_load():\n",
    "    (train_x, train_y), (test_x, test_y) = tf.keras.datasets.mnist.load_data()\n",
    "    # Train set\n",
    "    train_x = train_x.astype('float32') / 255.\n",
    "    # Test set\n",
    "    test_x = test_x.astype('float32') / 255.\n",
    "    return (train_x, train_y), (test_x, test_y)\n",
    "\n",
    "# MNIST 데이터 불러오기\n",
    "(train_x, train_y), (test_x, test_y) = mnist_load()\n",
    "valid_x, train_x = train_x[:5000], train_x[5000:]\n",
    "valid_y, train_y = train_y[:5000], train_y[5000:]\n",
    "\n",
    "model = tf.keras.Sequential()\n",
    "model.add(tf.keras.layers.LSTM((hidden_layer_size), input_shape=(time_steps, element_size)))\n",
    "model.add(tf.keras.layers.Dense(num_classes))\n",
    "model.add(tf.keras.layers.Activation('softmax'))\n",
    "\n",
    "model.compile(optimizer='adam',\n",
    "              loss='sparse_categorical_crossentropy',\n",
    "              metrics=['accuracy'])\n",
    "\n",
    "\n",
    "history = model.fit(train_x, train_y,\n",
    "                    epochs=20, batch_size=batch_size,\n",
    "                    validation_data=(valid_x, valid_y),\n",
    "                    verbose=0)\n",
    "\n",
    "results = model.evaluate(test_x, test_y,  verbose=1)\n",
    "print(f\"Test loss:{results[0]}, accuracy:{results[1]}\")"
   ]
  },
  {
   "cell_type": "code",
   "execution_count": 92,
   "metadata": {},
   "outputs": [
    {
     "data": {
      "image/png": "[encoded data removed]",
      "text/plain": [
       "<Figure size 864x288 with 2 Axes>"
      ]
     },
     "metadata": {
      "needs_background": "light"
     },
     "output_type": "display_data"
    }
   ],
   "source": [
    "drawPlot(history)"
   ]
  },
  {
   "cell_type": "markdown",
   "metadata": {},
   "source": [
    "## GRU\n",
    "* Gated Recurrent Units\n",
    "* 2014 뉴욕대 조경현 교수 제안 \n",
    "    * LSTM와 비슷한 효과, 더 단순한 구조\n",
    "    * 계산 비용 감소\n",
    "    * 문제에 따라 더 좋은 성능\n",
    "    \n",
    "* GRU 구조\n",
    "    * $c_t$ cell state 제거, $h_t$로 통합\n",
    "    * 게이트 갯수 감소\n",
    "        * $r_t$ Reset 게이트 : 이전 스텝의 정보를 얼마나 남길지 결정\n",
    "        * $z_t$ Update 게이트 : LSTM의 Input,Forget 게이트 통합\n",
    "![image.png](https://i.imgur.com/c2YyJz9.png)\n",
    "\n",
    "#### GRU TF API\n",
    "* `tf.keras.layers.GRUCell()`\n",
    "* `tf.keras.layers.GRU()`"
   ]
  },
  {
   "cell_type": "markdown",
   "metadata": {},
   "source": [
    "#### GRU로 MNIST 실습"
   ]
  },
  {
   "cell_type": "code",
   "execution_count": 93,
   "metadata": {},
   "outputs": [
    {
     "name": "stdout",
     "output_type": "stream",
     "text": [
      "10000/10000 [==============================] - 1s 83us/sample - loss: 0.0481 - accuracy: 0.9876\n",
      "Test loss:0.0481272860016732, accuracy:0.9876000285148621\n"
     ]
    }
   ],
   "source": [
    "import tensorflow as tf\n",
    "\n",
    "element_size = 28\n",
    "time_steps = 28\n",
    "num_classes = 10\n",
    "batch_size = 128\n",
    "hidden_layer_size = 128\n",
    "\n",
    "# MNIST 데이터 불러오기 위한 함수 정의\n",
    "def mnist_load():\n",
    "    (train_x, train_y), (test_x, test_y) = tf.keras.datasets.mnist.load_data()\n",
    "    # Train set\n",
    "    train_x = train_x.astype('float32') / 255.\n",
    "    # Test set\n",
    "    test_x = test_x.astype('float32') / 255.\n",
    "    return (train_x, train_y), (test_x, test_y)\n",
    "\n",
    "# MNIST 데이터 불러오기\n",
    "(train_x, train_y), (test_x, test_y) = mnist_load()\n",
    "valid_x, train_x = train_x[:5000], train_x[5000:]\n",
    "valid_y, train_y = train_y[:5000], train_y[5000:]\n",
    "\n",
    "model = tf.keras.Sequential()\n",
    "model.add(tf.keras.layers.GRU((hidden_layer_size), input_shape=(time_steps, element_size)))\n",
    "model.add(tf.keras.layers.Dense(num_classes))\n",
    "model.add(tf.keras.layers.Activation('softmax'))\n",
    "\n",
    "model.compile(optimizer='adam',\n",
    "              loss='sparse_categorical_crossentropy',\n",
    "              metrics=['accuracy'])\n",
    "\n",
    "\n",
    "history = model.fit(train_x, train_y,\n",
    "                    epochs=20, batch_size=batch_size,\n",
    "                    validation_data=(valid_x, valid_y),\n",
    "                    verbose=0)\n",
    "\n",
    "results = model.evaluate(test_x, test_y,  verbose=1)\n",
    "print(f\"Test loss:{results[0]}, accuracy:{results[1]}\")"
   ]
  },
  {
   "cell_type": "code",
   "execution_count": 94,
   "metadata": {},
   "outputs": [
    {
     "data": {
      "image/png": "[encoded data removed]",
      "text/plain": [
       "<Figure size 864x288 with 2 Axes>"
      ]
     },
     "metadata": {
      "needs_background": "light"
     },
     "output_type": "display_data"
    }
   ],
   "source": [
    "drawPlot(history)"
   ]
  },
  {
   "cell_type": "markdown",
   "metadata": {},
   "source": [
    "## 텍스트 데이터 다루기\n",
    "* 텍스트 : 가장 흔한 시퀀스 데이타\n",
    "* 텍스트 데이타의 벡터화(Vectorizing Text)\n",
    "    * Nueral Net 입력은 숫자만 가능\n",
    "    * Text Tokenization : 처리 가능한 작은 단위로 나누는 것\n",
    "        * Word Tokenizing : 단어 단위로 나누기\n",
    "            * \"hi hello\" : \\[\"hi\", \"hello\"\\] \n",
    "        * Char Tokenizing : 문자 단위로 나누기\n",
    "            * \"hi hello\" : \\[\"h\",\"i\", \"h\", \"e\", \"l\", \"l\", \"o\"\\]\n",
    "        * 그 밖의 Tokenization\n",
    "            * 문장, 형태소, 자소, n-gram\n",
    "    * Indexing\n",
    "        * 사전 생성 : 고유 토큰에게 고유한 번호 부여\n",
    "            * 예: {'h':0, 'i': 1, 'e':2, 'l':3, 'o':4}\n",
    "        * 고유 인덱스로 변환\n",
    "            * 예: \"hihello\" : \\[0,1,0,2,3,3,4\\]\n",
    "    * One-hot Encoding : 사전의 크기와 동일한 크기의 벡터, 해당 요소번째 만 1을 갖고 나머지는 0을 갖는다.\n",
    "        * 예)\n",
    "            * 'h' : \\[1,0,0,0,0\\]\n",
    "            * 'i' : \\[0,1,0,0,0\\]\n",
    "            * 'e' : \\[0,0,1,0,0\\]"
   ]
  },
  {
   "cell_type": "markdown",
   "metadata": {},
   "source": [
    "### Text 데이타 실습, One-hot Encoding\n",
    "* 다음 글자 예측하는 실습\n",
    "    * 입력 : \"hihell\"\n",
    "    * 출력 : \"ihello\"\n",
    "    * many to many 유형\n",
    "![image.png](https://i.imgur.com/F8toAhT.png)"
   ]
  },
  {
   "cell_type": "markdown",
   "metadata": {},
   "source": [
    "#### 입출력 데이타 준비"
   ]
  },
  {
   "cell_type": "code",
   "execution_count": 96,
   "metadata": {
    "scrolled": true
   },
   "outputs": [
    {
     "name": "stdout",
     "output_type": "stream",
     "text": [
      "sentence:hihello\n",
      "char2idx:{'e': 0, 'l': 1, 'i': 2, 'o': 3, 'h': 4}, idx2char:{0: 'e', 1: 'l', 2: 'i', 3: 'o', 4: 'h'}\n",
      "x:hihell, y:ihello\n",
      "x_idx:[4, 2, 4, 0, 1, 1], y_idx:[2, 4, 0, 1, 1, 3]\n",
      "x_enc: [[[0. 0. 0. 0. 1.]\n",
      "  [0. 0. 1. 0. 0.]\n",
      "  [0. 0. 0. 0. 1.]\n",
      "  [1. 0. 0. 0. 0.]\n",
      "  [0. 1. 0. 0. 0.]\n",
      "  [0. 1. 0. 0. 0.]]] (1, 6, 5)\n",
      "y_enc: [[[0. 0. 1. 0. 0.]\n",
      "  [0. 0. 0. 0. 1.]\n",
      "  [1. 0. 0. 0. 0.]\n",
      "  [0. 1. 0. 0. 0.]\n",
      "  [0. 1. 0. 0. 0.]\n",
      "  [0. 0. 0. 1. 0.]]] (1, 6, 5)\n"
     ]
    }
   ],
   "source": [
    "import tensorflow as tf\n",
    "import numpy as np\n",
    "\n",
    "sentence = \"hihello\"\n",
    "\n",
    "voca = set(sentence) #unique charters\n",
    "char2idx = {c:i for i,c in enumerate(voca)}\n",
    "idx2char = {i:c for i, c in enumerate(voca)}\n",
    "print(f'sentence:{sentence}')\n",
    "print(f'char2idx:{char2idx}, idx2char:{idx2char}')\n",
    "\n",
    "x = sentence[:-1] #\"hihell\"\n",
    "y = sentence[1:] #\"ihello\"\n",
    "print(f'x:{x}, y:{y}')\n",
    "\n",
    "n_class = len(voca)  #example size\n",
    "n_time_steps = len(x) #input sequence\n",
    "hidden_size = n_class #output size\n",
    "\n",
    "''' convert char to integer '''\n",
    "x_idx = [char2idx[c] for c in x]\n",
    "y_idx = [char2idx[c] for c in y]\n",
    "print(f\"x_idx:{x_idx}, y_idx:{y_idx}\")\n",
    "\n",
    "''' one-hot encoding'''\n",
    "x_enc =tf.keras.utils.to_categorical(x_idx, num_classes=n_class)\n",
    "x_enc = np.expand_dims(x_enc, axis=0)\n",
    "\n",
    "y_enc = tf.keras.utils.to_categorical(y_idx, num_classes=n_class)\n",
    "y_enc = np.expand_dims(y_enc, axis=0)\n",
    "print(\"x_enc:\", x_enc, x_enc.shape, )\n",
    "print(\"y_enc:\", y_enc, y_enc.shape)"
   ]
  },
  {
   "cell_type": "markdown",
   "metadata": {},
   "source": [
    "#### LSTM을 이용한 모델 학습"
   ]
  },
  {
   "cell_type": "code",
   "execution_count": 100,
   "metadata": {},
   "outputs": [
    {
     "name": "stdout",
     "output_type": "stream",
     "text": [
      "Model: \"sequential_17\"\n",
      "_________________________________________________________________\n",
      "Layer (type)                 Output Shape              Param #   \n",
      "=================================================================\n",
      "lstm_4 (LSTM)                (None, 6, 5)              220       \n",
      "_________________________________________________________________\n",
      "dense_15 (Dense)             (None, 6, 5)              30        \n",
      "_________________________________________________________________\n",
      "activation_9 (Activation)    (None, 6, 5)              0         \n",
      "=================================================================\n",
      "Total params: 250\n",
      "Trainable params: 250\n",
      "Non-trainable params: 0\n",
      "_________________________________________________________________\n",
      "[[[5.7636272e-02 3.2721840e-02 8.1942415e-01 6.9915815e-03 8.3226211e-02]\n",
      "  [1.7295246e-01 1.0505311e-02 6.7424826e-02 2.5534625e-03 7.4656397e-01]\n",
      "  [7.7144426e-01 4.3208193e-02 2.9042009e-02 1.2520365e-03 1.5505353e-01]\n",
      "  [4.9345892e-02 9.1402274e-01 9.5988065e-03 2.2867098e-02 4.1654333e-03]\n",
      "  [9.9146655e-03 9.0968257e-01 3.2896472e-03 7.6471224e-02 6.4188422e-04]\n",
      "  [1.2772365e-03 1.1706970e-01 3.4941558e-03 8.7378478e-01 4.3741260e-03]]] [2 4 0 1 1 3]\n",
      "['i', 'h', 'e', 'l', 'l', 'o']\n"
     ]
    }
   ],
   "source": [
    "model = tf.keras.Sequential()\n",
    "model.add(tf.keras.layers.LSTM(hidden_size, input_shape=(n_time_steps, n_class), return_sequences=True))\n",
    "model.add(tf.keras.layers.Dense(hidden_size))\n",
    "model.add(tf.keras.layers.Activation('softmax'))\n",
    "model.summary()\n",
    "\n",
    "model.compile(optimizer='adam', loss='sparse_categorical_crossentropy')\n",
    "\n",
    "n_epochs = 1000\n",
    "history = model.fit(x_enc, np.reshape(y_idx, (1,6,1)), epochs=n_epochs, verbose=0)\n",
    "\n",
    "preds = model.predict(x_enc)\n",
    "print(preds, np.squeeze(np.argmax(preds, axis=2)))\n",
    "print([idx2char[i] for i in np.squeeze(np.argmax(preds, axis=2))])"
   ]
  },
  {
   "cell_type": "markdown",
   "metadata": {},
   "source": [
    "### TF Tokenization API\n",
    "* TF keras API\n",
    "    * `tokenizer = tf.keras.preprocessing.text.Tokenizer(num_words, filters, lower, split, char_level, oov_token, document_count)`\n",
    "        * `num_words` : 보관할 단어 최대 갯수\n",
    "        * `filters` : 토큰에서 제외한 규칙, 정규 표현식\n",
    "        * `tokenizer.fit_on_texts(text)`\n",
    "        * `tokenizer.fit_on_sequence(seqence)`\n",
    "        * `tokenizer.texts_to_sequences(text)`\n",
    "        * `tokenizer.texts_to_matrix(texts, mode='binary')`\n",
    "    * `tf.keras.preprocessing.sequence.pad_sequences`\n",
    "    * `tf.keras.preprocessing.sequence.skipgrams`\n",
    "    * `tf.keras.layers.Embedding`\n",
    "    "
   ]
  },
  {
   "cell_type": "code",
   "execution_count": 24,
   "metadata": {},
   "outputs": [
    {
     "data": {
      "text/plain": [
       "{'num_words': None,\n",
       " 'filters': '!\"#$%&()*+,-./:;<=>?@[\\\\]^_`{|}~\\t\\n',\n",
       " 'lower': True,\n",
       " 'split': ' ',\n",
       " 'char_level': False,\n",
       " 'oov_token': None,\n",
       " 'document_count': 1,\n",
       " 'word_counts': '{\"the\": 2, \"cat\": 1, \"sat\": 1, \"on\": 1, \"mat\": 1}',\n",
       " 'word_docs': '{\"sat\": 1, \"mat\": 1, \"cat\": 1, \"on\": 1, \"the\": 1}',\n",
       " 'index_docs': '{\"3\": 1, \"5\": 1, \"2\": 1, \"4\": 1, \"1\": 1}',\n",
       " 'index_word': '{\"1\": \"the\", \"2\": \"cat\", \"3\": \"sat\", \"4\": \"on\", \"5\": \"mat\"}',\n",
       " 'word_index': '{\"the\": 1, \"cat\": 2, \"sat\": 3, \"on\": 4, \"mat\": 5}'}"
      ]
     },
     "metadata": {},
     "output_type": "display_data"
    },
    {
     "name": "stdout",
     "output_type": "stream",
     "text": [
      "{'the': 1, 'cat': 2, 'sat': 3, 'on': 4, 'mat': 5}\n",
      "[[1, 2, 3, 4, 1, 5]]\n",
      "[[[0. 1. 0. 0. 0. 0.]\n",
      "  [0. 0. 1. 0. 0. 0.]\n",
      "  [0. 0. 0. 1. 0. 0.]\n",
      "  [0. 0. 0. 0. 1. 0.]\n",
      "  [0. 1. 0. 0. 0. 0.]\n",
      "  [0. 0. 0. 0. 0. 1.]]]\n"
     ]
    },
    {
     "data": {
      "text/plain": [
       "{'num_words': None,\n",
       " 'filters': '!\"#$%&()*+,-./:;<=>?@[\\\\]^_`{|}~\\t\\n',\n",
       " 'lower': True,\n",
       " 'split': ' ',\n",
       " 'char_level': True,\n",
       " 'oov_token': None,\n",
       " 'document_count': 1,\n",
       " 'word_counts': '{\"t\": 5, \"h\": 2, \"e\": 2, \" \": 5, \"c\": 1, \"a\": 3, \"s\": 1, \"o\": 1, \"n\": 1, \"m\": 1}',\n",
       " 'word_docs': '{\" \": 1, \"c\": 1, \"t\": 1, \"e\": 1, \"a\": 1, \"o\": 1, \"n\": 1, \"m\": 1, \"h\": 1, \"s\": 1}',\n",
       " 'index_docs': '{\"2\": 1, \"6\": 1, \"1\": 1, \"5\": 1, \"3\": 1, \"8\": 1, \"9\": 1, \"10\": 1, \"4\": 1, \"7\": 1}',\n",
       " 'index_word': '{\"1\": \"t\", \"2\": \" \", \"3\": \"a\", \"4\": \"h\", \"5\": \"e\", \"6\": \"c\", \"7\": \"s\", \"8\": \"o\", \"9\": \"n\", \"10\": \"m\"}',\n",
       " 'word_index': '{\"t\": 1, \" \": 2, \"a\": 3, \"h\": 4, \"e\": 5, \"c\": 6, \"s\": 7, \"o\": 8, \"n\": 9, \"m\": 10}'}"
      ]
     },
     "metadata": {},
     "output_type": "display_data"
    },
    {
     "name": "stdout",
     "output_type": "stream",
     "text": [
      "[[1, 4, 5, 2, 6, 3, 1, 2, 7, 3, 1, 2, 8, 9, 2, 1, 4, 5, 2, 10, 3, 1]]\n",
      "[[[0. 1. 0. 0. 0. 0. 0. 0. 0. 0. 0.]\n",
      "  [0. 0. 0. 0. 1. 0. 0. 0. 0. 0. 0.]\n",
      "  [0. 0. 0. 0. 0. 1. 0. 0. 0. 0. 0.]\n",
      "  [0. 0. 1. 0. 0. 0. 0. 0. 0. 0. 0.]\n",
      "  [0. 0. 0. 0. 0. 0. 1. 0. 0. 0. 0.]\n",
      "  [0. 0. 0. 1. 0. 0. 0. 0. 0. 0. 0.]\n",
      "  [0. 1. 0. 0. 0. 0. 0. 0. 0. 0. 0.]\n",
      "  [0. 0. 1. 0. 0. 0. 0. 0. 0. 0. 0.]\n",
      "  [0. 0. 0. 0. 0. 0. 0. 1. 0. 0. 0.]\n",
      "  [0. 0. 0. 1. 0. 0. 0. 0. 0. 0. 0.]\n",
      "  [0. 1. 0. 0. 0. 0. 0. 0. 0. 0. 0.]\n",
      "  [0. 0. 1. 0. 0. 0. 0. 0. 0. 0. 0.]\n",
      "  [0. 0. 0. 0. 0. 0. 0. 0. 1. 0. 0.]\n",
      "  [0. 0. 0. 0. 0. 0. 0. 0. 0. 1. 0.]\n",
      "  [0. 0. 1. 0. 0. 0. 0. 0. 0. 0. 0.]\n",
      "  [0. 1. 0. 0. 0. 0. 0. 0. 0. 0. 0.]\n",
      "  [0. 0. 0. 0. 1. 0. 0. 0. 0. 0. 0.]\n",
      "  [0. 0. 0. 0. 0. 1. 0. 0. 0. 0. 0.]\n",
      "  [0. 0. 1. 0. 0. 0. 0. 0. 0. 0. 0.]\n",
      "  [0. 0. 0. 0. 0. 0. 0. 0. 0. 0. 1.]\n",
      "  [0. 0. 0. 1. 0. 0. 0. 0. 0. 0. 0.]\n",
      "  [0. 1. 0. 0. 0. 0. 0. 0. 0. 0. 0.]]]\n",
      "h\n"
     ]
    }
   ],
   "source": [
    "import tensorflow as tf\n",
    "\n",
    "samples = ['The cat sat on the mat']\n",
    "\n",
    "tokenizer = tf.keras.preprocessing.text.Tokenizer()\n",
    "tokenizer.fit_on_texts(samples)\n",
    "display(tokenizer.get_config())\n",
    "print(tokenizer.word_index)\n",
    "\n",
    "word_sequence = tokenizer.texts_to_sequences(samples)\n",
    "print(word_sequence)\n",
    "word_one_hot = tf.keras.utils.to_categorical(word_sequence)\n",
    "print(word_one_hot)\n",
    "\n",
    "char_tokenizer = tf.keras.preprocessing.text.Tokenizer(char_level=True)\n",
    "char_tokenizer.fit_on_texts(samples)\n",
    "display(char_tokenizer.get_config())\n",
    "char_sequence = char_tokenizer.texts_to_sequences(samples)\n",
    "print(char_sequence)\n",
    "char_one_hot = tf.keras.utils.to_categorical(char_sequence)\n",
    "print(char_one_hot)\n",
    "\n",
    "print(char_tokenizer.index_word[4])"
   ]
  },
  {
   "cell_type": "markdown",
   "metadata": {},
   "source": [
    "### 단어 자동 완성 실습\n",
    "* 영문자 4개로 구성된 단어를 학습\n",
    "* 3글자 입력, 1글자 추천"
   ]
  },
  {
   "cell_type": "markdown",
   "metadata": {},
   "source": [
    "#### 데이타 준비"
   ]
  },
  {
   "cell_type": "code",
   "execution_count": 128,
   "metadata": {},
   "outputs": [
    {
     "data": {
      "text/plain": [
       "{'num_words': None,\n",
       " 'filters': '!\"#$%&()*+,-./:;<=>?@[\\\\]^_`{|}~\\t\\n',\n",
       " 'lower': True,\n",
       " 'split': ' ',\n",
       " 'char_level': True,\n",
       " 'oov_token': None,\n",
       " 'document_count': 10,\n",
       " 'word_counts': '{\"w\": 2, \"o\": 8, \"r\": 1, \"d\": 7, \"e\": 4, \"p\": 1, \"i\": 3, \"v\": 2, \"c\": 2, \"l\": 4, \"a\": 1, \"k\": 2, \"s\": 2, \"n\": 1}',\n",
       " 'word_docs': '{\"o\": 6, \"d\": 7, \"w\": 2, \"r\": 1, \"p\": 1, \"e\": 3, \"i\": 3, \"v\": 2, \"c\": 2, \"l\": 4, \"a\": 1, \"k\": 2, \"s\": 1, \"n\": 1}',\n",
       " 'index_docs': '{\"1\": 6, \"2\": 7, \"6\": 2, \"11\": 1, \"12\": 1, \"3\": 3, \"5\": 3, \"7\": 2, \"8\": 2, \"4\": 4, \"13\": 1, \"9\": 2, \"10\": 1, \"14\": 1}',\n",
       " 'index_word': '{\"1\": \"o\", \"2\": \"d\", \"3\": \"e\", \"4\": \"l\", \"5\": \"i\", \"6\": \"w\", \"7\": \"v\", \"8\": \"c\", \"9\": \"k\", \"10\": \"s\", \"11\": \"r\", \"12\": \"p\", \"13\": \"a\", \"14\": \"n\"}',\n",
       " 'word_index': '{\"o\": 1, \"d\": 2, \"e\": 3, \"l\": 4, \"i\": 5, \"w\": 6, \"v\": 7, \"c\": 8, \"k\": 9, \"s\": 10, \"r\": 11, \"p\": 12, \"a\": 13, \"n\": 14}'}"
      ]
     },
     "metadata": {},
     "output_type": "display_data"
    },
    {
     "name": "stdout",
     "output_type": "stream",
     "text": [
      "[[6, 1, 11, 2], [6, 1, 1, 2], [2, 3, 3, 12], [2, 5, 7, 3], [8, 1, 4, 2], [4, 1, 7, 3], [8, 1, 1, 4], [4, 1, 13, 2], [9, 5, 10, 10], [9, 5, 14, 2]]\n"
     ]
    }
   ],
   "source": [
    "import tensorflow as tf\n",
    "import numpy as np\n",
    "\n",
    "seq_data = ['word', 'wood', 'deep', 'dive', 'cold', 'love', 'cool', 'load', 'kiss', 'kind']\n",
    "\n",
    "tokenizer = tf.keras.preprocessing.text.Tokenizer(char_level=True)\n",
    "tokenizer.fit_on_texts(seq_data)\n",
    "display(tokenizer.get_config())\n",
    "\n",
    "sequence = tokenizer.texts_to_sequences(seq_data)\n",
    "print(sequence)\n",
    "\n",
    "x = np.array(sequence)[:, :-1]\n",
    "y = np.array(sequence)[:, -1]\n",
    "\n",
    "x_enc = tf.keras.utils.to_categorical(x)\n",
    "y_enc = tf.keras.utils.to_categorical(y)"
   ]
  },
  {
   "cell_type": "markdown",
   "metadata": {},
   "source": [
    "#### 모델 구성 및 훈련"
   ]
  },
  {
   "cell_type": "code",
   "execution_count": 133,
   "metadata": {},
   "outputs": [
    {
     "name": "stdout",
     "output_type": "stream",
     "text": [
      "OrderedDict([('w', 2), ('o', 8), ('r', 1), ('d', 7), ('e', 4), ('p', 1), ('i', 3), ('v', 2), ('c', 2), ('l', 4), ('a', 1), ('k', 2), ('s', 2), ('n', 1)])\n",
      "Model: \"sequential_17\"\n",
      "_________________________________________________________________\n",
      "Layer (type)                 Output Shape              Param #   \n",
      "=================================================================\n",
      "lstm_14 (LSTM)               (None, 128)               73728     \n",
      "_________________________________________________________________\n",
      "dense_14 (Dense)             (None, 128)               16512     \n",
      "_________________________________________________________________\n",
      "activation_14 (Activation)   (None, 128)               0         \n",
      "=================================================================\n",
      "Total params: 90,240\n",
      "Trainable params: 90,240\n",
      "Non-trainable params: 0\n",
      "_________________________________________________________________\n",
      "[[2.6645750e-09 2.4524891e-09 9.9999046e-01 ... 4.8894633e-10\n",
      "  4.3571662e-09 1.3176923e-09]\n",
      " [9.6302823e-09 7.1870274e-09 9.9982625e-01 ... 1.9522088e-09\n",
      "  1.7544512e-08 5.6832921e-09]\n",
      " [3.6940980e-07 7.3431880e-07 6.0526065e-05 ... 1.6152224e-07\n",
      "  4.3338443e-07 5.7849519e-07]\n",
      " ...\n",
      " [1.3732742e-07 1.2587783e-07 9.9809426e-01 ... 3.0221717e-08\n",
      "  1.6826606e-07 5.8989929e-08]\n",
      " [1.6382731e-07 2.1431107e-07 1.3927899e-03 ... 8.8440935e-08\n",
      "  2.5543443e-07 1.3684695e-07]\n",
      " [1.3355884e-07 1.6694617e-07 9.9865258e-01 ... 3.7885211e-08\n",
      "  2.1366571e-07 6.7659414e-08]] [ 2  2 12  3  2  3  4  2 10  2]\n",
      "prediction: ['d', 'd', 'p', 'e', 'd', 'e', 'l', 'd', 's', 'd']\n",
      "inputs : ['w o r', 'w o o', 'd e e', 'd i v', 'c o l', 'l o v', 'c o o', 'l o a', 'k i s', 'k i n']\n"
     ]
    }
   ],
   "source": [
    "hidden_size = 128\n",
    "n_time_steps = 3\n",
    "n_class = max(tokenizer.index_docs) +1\n",
    "print(tokenizer.word_counts)\n",
    "model = tf.keras.Sequential()\n",
    "model.add(tf.keras.layers.LSTM(hidden_size, input_shape=(n_time_steps, n_class), return_sequences=False))\n",
    "model.add(tf.keras.layers.Dense(hidden_size))\n",
    "model.add(tf.keras.layers.Activation('softmax'))\n",
    "model.summary()\n",
    "\n",
    "model.compile(optimizer='adam', loss='sparse_categorical_crossentropy')\n",
    "\n",
    "n_epochs = 1000\n",
    "history = model.fit(x_enc, y, epochs=n_epochs, verbose=0)\n",
    "\n",
    "preds = model.predict(x_enc)\n",
    "print(preds, np.argmax(preds, axis=1))\n",
    "print(f'prediction: {[tokenizer.index_word[i] for i in np.argmax(preds, axis=1)]}')\n",
    "print(f'inputs : {tokenizer.sequences_to_texts(x)}')"
   ]
  },
  {
   "cell_type": "markdown",
   "metadata": {},
   "source": [
    "## Token Embbeding\n",
    "* One-hot encoding의 단점 보완\n",
    "    * 희소 배열(대부분이 0), 비효율\n",
    "    * 토큰 수에 따라 차원 비대 문제\n",
    "    * 토큰간 연관성 표현 불가\n",
    "        * 유사도 없음\n",
    "        * 순서 정보 없음\n",
    "* 밀집 벡터(Dense Vector)\n",
    "    * 특정 크기의 실수 값을 갖는 벡터로 표현\n",
    "    * 예) \"hi hello\" :\\[0.2, 1.8, 1.1, -2.1, 1.1, 2.8 ...\\]\n",
    "* 방법론\n",
    "    * LSA, Word2Vec, FastText, Glove 등\n",
    "    * 훈련 데이타로 부터 학습"
   ]
  },
  {
   "cell_type": "markdown",
   "metadata": {},
   "source": [
    "### Keras Embedding Layer\n",
    " * `tf.keras.layers.Embedding(input_dim, output_dim, input_length)`\n",
    "     * `input_dim` : vocab_size, 텍스트 데이터의 전체 단어 집합 크기\n",
    "     * `output_dim` :임베딩 벡터의 차원, 200 ~ 500 권장\n",
    "     * `input_length` : 입력 시퀀스 길이, 단어의 최대 길이\n",
    " * 텍스트를 정수 sequence로 변환하여 전달\n",
    " * 벡터 값은 랜덤값으로 초기화\n",
    " * Nueral Network의 학습 과정에서 적절한 벡터 값으로 학습\n",
    " ![](https://i.imgur.com/w4P4qxp.png)\n",
    " * `tf.keras.preprocessing.sequence.pad_seunces(sequences, maxlen)`\n",
    "     * 입력 시퀀스의 길이를 같게 만든다.\n",
    "     * `sequences` : 입력 시퀀스\n",
    "     * `maxlen` : 최대 길이\n",
    "     \n",
    " "
   ]
  },
  {
   "cell_type": "markdown",
   "metadata": {},
   "source": [
    "### Keras Embedding Layer 실습\n",
    "* 긍정/부정 어휘 분류"
   ]
  },
  {
   "cell_type": "code",
   "execution_count": 342,
   "metadata": {},
   "outputs": [
    {
     "name": "stdout",
     "output_type": "stream",
     "text": [
      "vocab_size : 15\n",
      "integer encoded: [[2, 3, 1, 4], [5, 6], [7, 8], [9, 10], [11, 12], [13], [14, 1]]\n",
      "max_len: 4\n",
      "padded : [[ 2  3  1  4]\n",
      " [ 5  6  0  0]\n",
      " [ 7  8  0  0]\n",
      " [ 9 10  0  0]\n",
      " [11 12  0  0]\n",
      " [13  0  0  0]\n",
      " [14  1  0  0]]\n",
      "embedding init : [[[-0.03830038 -0.00979317]\n",
      "  [ 0.04742971  0.03679741]\n",
      "  [-0.02656862 -0.04510809]\n",
      "  [-0.03885192 -0.032944  ]]\n",
      "\n",
      " [[-0.00261912  0.04927878]\n",
      "  [ 0.03732674 -0.04802374]\n",
      "  [ 0.03983864  0.02522461]\n",
      "  [ 0.03983864  0.02522461]]\n",
      "\n",
      " [[-0.02871524 -0.04586512]\n",
      "  [-0.00109534 -0.03157889]\n",
      "  [ 0.03983864  0.02522461]\n",
      "  [ 0.03983864  0.02522461]]]\n",
      "Model: \"sequential_52\"\n",
      "_________________________________________________________________\n",
      "Layer (type)                 Output Shape              Param #   \n",
      "=================================================================\n",
      "embedding_22 (Embedding)     (None, 4, 2)              30        \n",
      "_________________________________________________________________\n",
      "flatten_16 (Flatten)         (None, 8)                 0         \n",
      "_________________________________________________________________\n",
      "dense_63 (Dense)             (None, 1)                 9         \n",
      "=================================================================\n",
      "Total params: 39\n",
      "Trainable params: 39\n",
      "Non-trainable params: 0\n",
      "_________________________________________________________________\n",
      "embedding last : [[[-0.44584236  0.38378528]\n",
      "  [-0.4085907  -0.3049673 ]\n",
      "  [-0.6060485  -0.47585234]\n",
      "  [-0.37545377  0.3680631 ]]\n",
      "\n",
      " [[ 0.49695083 -0.43553331]\n",
      "  [ 0.5856042   0.37878647]\n",
      "  [ 0.46805128  0.45514685]\n",
      "  [ 0.46805128  0.45514685]]\n",
      "\n",
      " [[ 0.46793577 -0.5277508 ]\n",
      "  [ 0.5443586   0.39237097]\n",
      "  [ 0.46805128  0.45514685]\n",
      "  [ 0.46805128  0.45514685]]]\n"
     ]
    }
   ],
   "source": [
    "import tensorflow as tf\n",
    "\n",
    "corpus = ['very good nice quality', \n",
    "             'stop lies',\n",
    "             'ugly terrible', \n",
    "             'excellent work', \n",
    "             'adorable lovely', \n",
    "             'bad',\n",
    "             'greate nice']\n",
    "\n",
    "y_train = [1, 0, 0, 1, 1, 0, 1] #1 :pos, 0 : neg\n",
    "\n",
    "t = tf.keras.preprocessing.text.Tokenizer()\n",
    "t.fit_on_texts(corpus)\n",
    "vocab_size = len(t.word_index) + 1\n",
    "\n",
    "print(f'vocab_size : {vocab_size}')\n",
    "\n",
    "X_encoded = t.texts_to_sequences(corpus)\n",
    "print(f'integer encoded: {X_encoded}')\n",
    "\n",
    "max_len=max(len(l) for l in X_encoded)\n",
    "print(f'max_len: {max_len}')\n",
    "\n",
    "X_train = tf.keras.preprocessing.sequence.pad_sequences(X_encoded, maxlen=max_len, padding='post')\n",
    "y_train=np.array(y_train)\n",
    "print(f'padded : {X_train}')\n",
    "\n",
    "embd = tf.keras.layers.Embedding(vocab_size, 2, input_length=max_len)\n",
    "print(f'embedding init : {embd(X_train)[:3]}')\n",
    "\n",
    "model = tf.keras.Sequential()\n",
    "model.add(embd) \n",
    "model.add(tf.keras.layers.Flatten()) # Dense의 입력으로 넣기위함.\n",
    "model.add(tf.keras.layers.Dense(1, activation='sigmoid'))\n",
    "model.summary()\n",
    "\n",
    "model.compile(optimizer='adam', loss='binary_crossentropy', metrics=['acc'])\n",
    "model.fit(X_train, y_train, epochs=500, verbose=0)\n",
    "\n",
    "print(f'embedding last : {embd(X_train)[:3]}')"
   ]
  },
  {
   "cell_type": "markdown",
   "metadata": {},
   "source": [
    "#### 벡터 시각화"
   ]
  },
  {
   "cell_type": "code",
   "execution_count": 343,
   "metadata": {},
   "outputs": [
    {
     "name": "stdout",
     "output_type": "stream",
     "text": [
      "[[ 0.46805128  0.45514685]\n",
      " [-0.6060485  -0.47585234]\n",
      " [-0.44584236  0.38378528]\n",
      " [-0.4085907  -0.3049673 ]\n",
      " [-0.37545377  0.3680631 ]\n",
      " [ 0.49695083 -0.43553331]\n",
      " [ 0.5856042   0.37878647]\n",
      " [ 0.46793577 -0.5277508 ]\n",
      " [ 0.5443586   0.39237097]\n",
      " [-0.55632174  0.4738349 ]\n",
      " [-0.5174578  -0.45235133]\n",
      " [-0.5468264   0.5264467 ]\n",
      " [-0.5186092  -0.47502556]\n",
      " [ 0.46115583 -0.51825726]\n",
      " [-0.4813648   0.47686896]]\n"
     ]
    },
    {
     "data": {
      "image/png": "[encoded data removed]",
      "text/plain": [
       "<Figure size 720x720 with 1 Axes>"
      ]
     },
     "metadata": {
      "needs_background": "light"
     },
     "output_type": "display_data"
    }
   ],
   "source": [
    "import matplotlib.pyplot as plt\n",
    "\n",
    "embd_matrix = embd.get_weights()[0]\n",
    "print(embd_matrix)\n",
    "plt.figure(figsize=(10,10))  \n",
    "for idx, (x1, x2) in enumerate(embd_matrix):\n",
    "    if idx == 0 : continue\n",
    "    plt.plot(x1, x2, 'b.')\n",
    "    plt.annotate(t.index_word[idx], (x1,x2 ))"
   ]
  },
  {
   "cell_type": "markdown",
   "metadata": {},
   "source": [
    "### Embeding Layer를 이용한 IMDB 텍스트 분류 실습\n",
    "* IMDB 데이터 셋\n",
    "    * imdb.com, 영화 리뷰 데이타셋\n",
    "    * http://mng.bz/0tIo\n",
    "* `tf.keras.datastes.imdb.load_data(num_words)`\n",
    "    * `num_words` : 총 단어 갯수, 등장 빈도 순위 기준"
   ]
  },
  {
   "cell_type": "markdown",
   "metadata": {},
   "source": [
    "#### 데이타 준비"
   ]
  },
  {
   "cell_type": "code",
   "execution_count": 1,
   "metadata": {},
   "outputs": [
    {
     "name": "stdout",
     "output_type": "stream",
     "text": [
      "train set : 25000, test set: (25000,), classes : 2\n"
     ]
    }
   ],
   "source": [
    "import tensorflow as tf\n",
    "\n",
    "imdb = tf.keras.datasets.imdb\n",
    "\n",
    "voca_size = 10000\n",
    "(X_train, y_train), (X_test, y_test) = imdb.load_data(num_words=voca_size)\n",
    "print(f'train set : {len(X_train)}, test set: {len(X_test), }, classes : {max(y_train)+1}')"
   ]
  },
  {
   "cell_type": "markdown",
   "metadata": {},
   "source": [
    "#### 단어-인덱스 사전 생성"
   ]
  },
  {
   "cell_type": "code",
   "execution_count": 2,
   "metadata": {},
   "outputs": [
    {
     "name": "stdout",
     "output_type": "stream",
     "text": [
      "the 1\n"
     ]
    }
   ],
   "source": [
    "imdb_word_index = imdb.get_word_index()\n",
    "imdb_index_word = { idx : key for key, idx in imdb_word_index.items()}\n",
    "\n",
    "print(imdb_index_word[1], imdb_word_index['the'])"
   ]
  },
  {
   "cell_type": "markdown",
   "metadata": {},
   "source": [
    "#### 데이타 미리보기"
   ]
  },
  {
   "cell_type": "code",
   "execution_count": 9,
   "metadata": {
    "scrolled": true
   },
   "outputs": [
    {
     "name": "stdout",
     "output_type": "stream",
     "text": [
      "[1, 14, 22, 16, 43, 530, 973, 1622, 1385, 65, 458, 4468, 66, 3941, 4, 173, 36, 256, 5, 25]\n"
     ]
    },
    {
     "data": {
      "text/plain": [
       "\"? this film was just brilliant casting location scenery story direction everyone's really suited the part they played and you\""
      ]
     },
     "execution_count": 9,
     "metadata": {},
     "output_type": "execute_result"
    }
   ],
   "source": [
    "print(X_train[0][:20])\n",
    "\n",
    "# 0:pad, 1:<start>, 2:UNK \n",
    "' '.join([imdb_index_word.get(i-3, '?') for i in X_train[0][:20]])"
   ]
  },
  {
   "cell_type": "markdown",
   "metadata": {},
   "source": [
    "#### 패딩"
   ]
  },
  {
   "cell_type": "code",
   "execution_count": 10,
   "metadata": {},
   "outputs": [],
   "source": [
    "#padding\n",
    "max_len = 500\n",
    "X_train = tf.keras.preprocessing.sequence.pad_sequences(X_train, maxlen=max_len)\n",
    "X_test = tf.keras.preprocessing.sequence.pad_sequences(X_test, maxlen=max_len)"
   ]
  },
  {
   "cell_type": "markdown",
   "metadata": {},
   "source": [
    "#### 모델 생성, 훈련, 평가"
   ]
  },
  {
   "cell_type": "code",
   "execution_count": 11,
   "metadata": {},
   "outputs": [
    {
     "name": "stdout",
     "output_type": "stream",
     "text": [
      "Train on 25000 samples, validate on 25000 samples\n",
      "Epoch 1/20\n",
      "25000/25000 [==============================] - 39s 2ms/sample - loss: 0.4619 - acc: 0.7776 - val_loss: 0.4323 - val_acc: 0.7946\n",
      "Epoch 2/20\n",
      "25000/25000 [==============================] - 38s 2ms/sample - loss: 0.2810 - acc: 0.8888 - val_loss: 0.3118 - val_acc: 0.8688\n",
      "Epoch 3/20\n",
      "25000/25000 [==============================] - 39s 2ms/sample - loss: 0.1878 - acc: 0.9290 - val_loss: 0.3479 - val_acc: 0.8660\n",
      "Epoch 4/20\n",
      "25000/25000 [==============================] - 39s 2ms/sample - loss: 0.1432 - acc: 0.9474 - val_loss: 0.4493 - val_acc: 0.8605\n",
      "Epoch 5/20\n",
      "25000/25000 [==============================] - 40s 2ms/sample - loss: 0.1142 - acc: 0.9581 - val_loss: 0.3961 - val_acc: 0.8683\n",
      "Epoch 6/20\n",
      "25000/25000 [==============================] - 41s 2ms/sample - loss: 0.1072 - acc: 0.9613 - val_loss: 0.4287 - val_acc: 0.8546\n",
      "Epoch 7/20\n",
      "25000/25000 [==============================] - 41s 2ms/sample - loss: 0.0674 - acc: 0.9771 - val_loss: 0.5091 - val_acc: 0.8592\n",
      "Epoch 8/20\n",
      "25000/25000 [==============================] - 41s 2ms/sample - loss: 0.0729 - acc: 0.9743 - val_loss: 0.6038 - val_acc: 0.8542\n",
      "Epoch 9/20\n",
      "25000/25000 [==============================] - 41s 2ms/sample - loss: 0.0535 - acc: 0.9834 - val_loss: 0.6148 - val_acc: 0.8618\n",
      "Epoch 10/20\n",
      "25000/25000 [==============================] - 41s 2ms/sample - loss: 0.0229 - acc: 0.9934 - val_loss: 0.6441 - val_acc: 0.8500\n",
      "Epoch 11/20\n",
      "25000/25000 [==============================] - 41s 2ms/sample - loss: 0.0349 - acc: 0.9890 - val_loss: 0.7416 - val_acc: 0.8505\n",
      "Epoch 12/20\n",
      "25000/25000 [==============================] - 41s 2ms/sample - loss: 0.0771 - acc: 0.9721 - val_loss: 0.5193 - val_acc: 0.8438\n",
      "Epoch 13/20\n",
      "25000/25000 [==============================] - 41s 2ms/sample - loss: 0.0355 - acc: 0.9886 - val_loss: 0.6693 - val_acc: 0.8578\n",
      "Epoch 14/20\n",
      "25000/25000 [==============================] - 41s 2ms/sample - loss: 0.0149 - acc: 0.9958 - val_loss: 0.7321 - val_acc: 0.8420\n",
      "Epoch 15/20\n",
      "25000/25000 [==============================] - 41s 2ms/sample - loss: 0.0184 - acc: 0.9948 - val_loss: 0.7456 - val_acc: 0.8463\n",
      "Epoch 16/20\n",
      "25000/25000 [==============================] - 41s 2ms/sample - loss: 0.0192 - acc: 0.9942 - val_loss: 0.7804 - val_acc: 0.8572\n",
      "Epoch 17/20\n",
      "25000/25000 [==============================] - 41s 2ms/sample - loss: 0.0114 - acc: 0.9969 - val_loss: 0.8823 - val_acc: 0.8576\n",
      "Epoch 18/20\n",
      "25000/25000 [==============================] - 41s 2ms/sample - loss: 0.0189 - acc: 0.9942 - val_loss: 0.7780 - val_acc: 0.8560\n",
      "Epoch 19/20\n",
      "25000/25000 [==============================] - 42s 2ms/sample - loss: 0.0346 - acc: 0.9892 - val_loss: 0.6767 - val_acc: 0.8521\n",
      "Epoch 20/20\n",
      "25000/25000 [==============================] - 41s 2ms/sample - loss: 0.0209 - acc: 0.9940 - val_loss: 0.7822 - val_acc: 0.8454\n",
      "25000/25000 [==============================] - 12s 496us/sample - loss: 0.7822 - acc: 0.8454\n",
      "cost :0.7821888622862101, accuracy:84.53599810600281%\n"
     ]
    }
   ],
   "source": [
    "model = tf.keras.Sequential()\n",
    "model.add(tf.keras.layers.Embedding(voca_size, 250))\n",
    "model.add(tf.keras.layers.LSTM(120))\n",
    "model.add(tf.keras.layers.Dense(32, activation='relu'))\n",
    "model.add(tf.keras.layers.Dense(1, activation='sigmoid'))\n",
    "\n",
    "model.compile(loss='binary_crossentropy', optimizer='adam', metrics=['acc'])\n",
    "model.fit(X_train, y_train, validation_data=(X_test, y_test), epochs=20, batch_size=64)\n",
    "\n",
    "result = model.evaluate(X_test, y_test)\n",
    "print(f'cost :{result[0]}, accuracy:{result[1] * 100:.2f}%')"
   ]
  },
  {
   "cell_type": "markdown",
   "metadata": {},
   "source": [
    "### Word2Vec 원리\n",
    "* 벡터에 단어간 유사도 반영\n",
    "    * https://word2vec.kr/\n",
    "    * 엄마-여자+남자=아빠\n",
    "    * 2가지 방식\n",
    "        * CBOW(Continuous Bag of Words)\n",
    "        * Skip-gram \n",
    "* Skip-gram 모델\n",
    "    * window size에 맞게 이웃하는 단어 선택\n",
    "    * (context, target) 쌍 만들기\n",
    "* 각 단어를 one-hot encoding으로 변환\n",
    "* 예) king brave man/ queen beautiful women(window_size=1)\n",
    "    * king[1,0,0,0,0,0] - brave[0,1,0,0,0,0]\n",
    "    * brave[0,1,0,0,0,0] - man[0,0,1,0,0,0]\n",
    "    * brave[0,1,0,0,0,0] - king[1,0,0,0,0,0]\n",
    "    * queen[0,0,1,0,0,0] - beautiful[0,0,0,0,1,0]\n",
    "    * beautiful[0,0,0,0,1,0] - women[0,0,0,0,0,1]\n",
    "    * women[0,0,0,0,0,1] - beautiful[0,0,0,0,1,0]\n",
    "*  hidden layer가 $n$인 네트워크에 input과 output으로 전달해서 학습\n",
    "![](https://i.imgur.com/vjVYupm.png)\n",
    "* 학습한 Weight를 입력 단어에 대한 벡터로 사용\n",
    "* 예) Hidden-Layer : 2\n",
    "    * king[1,1]\n",
    "    * brave[1,2]\n",
    "    * man[1,3]\n",
    "    * queen[5,5]\n",
    "    * beautiful[5,6]\n",
    "    * women[5,7]"
   ]
  },
  {
   "cell_type": "markdown",
   "metadata": {},
   "source": [
    "#### 학습 데이타 준비"
   ]
  },
  {
   "cell_type": "code",
   "execution_count": 18,
   "metadata": {},
   "outputs": [
    {
     "name": "stdout",
     "output_type": "stream",
     "text": [
      "['king brave man', 'queen wise woman', 'boy young man', 'girl young woman', 'prince young king', 'princess young queen', 'man strong', 'woman pretty', 'prince boy king', 'princess girl queen']\n"
     ]
    },
    {
     "data": {
      "text/plain": [
       "{'num_words': None,\n",
       " 'filters': '!\"#$%&()*+,-./:;<=>?@[\\\\]^_`{|}~\\t\\n',\n",
       " 'lower': True,\n",
       " 'split': ' ',\n",
       " 'char_level': False,\n",
       " 'oov_token': None,\n",
       " 'document_count': 10,\n",
       " 'word_counts': '{\"king\": 3, \"brave\": 1, \"man\": 3, \"queen\": 3, \"wise\": 1, \"woman\": 3, \"boy\": 2, \"young\": 4, \"girl\": 2, \"prince\": 2, \"princess\": 2, \"strong\": 1, \"pretty\": 1}',\n",
       " 'word_docs': '{\"brave\": 1, \"man\": 3, \"king\": 3, \"queen\": 3, \"woman\": 3, \"wise\": 1, \"young\": 4, \"boy\": 2, \"girl\": 2, \"prince\": 2, \"princess\": 2, \"strong\": 1, \"pretty\": 1}',\n",
       " 'index_docs': '{\"10\": 1, \"3\": 3, \"2\": 3, \"4\": 3, \"5\": 3, \"11\": 1, \"1\": 4, \"6\": 2, \"7\": 2, \"8\": 2, \"9\": 2, \"12\": 1, \"13\": 1}',\n",
       " 'index_word': '{\"1\": \"young\", \"2\": \"king\", \"3\": \"man\", \"4\": \"queen\", \"5\": \"woman\", \"6\": \"boy\", \"7\": \"girl\", \"8\": \"prince\", \"9\": \"princess\", \"10\": \"brave\", \"11\": \"wise\", \"12\": \"strong\", \"13\": \"pretty\"}',\n",
       " 'word_index': '{\"young\": 1, \"king\": 2, \"man\": 3, \"queen\": 4, \"woman\": 5, \"boy\": 6, \"girl\": 7, \"prince\": 8, \"princess\": 9, \"brave\": 10, \"wise\": 11, \"strong\": 12, \"pretty\": 13}'}"
      ]
     },
     "metadata": {},
     "output_type": "display_data"
    }
   ],
   "source": [
    "import tensorflow as tf\n",
    "import numpy as np\n",
    "\n",
    "corpus = ['king is a brave man', \n",
    "          'queen is a wise woman', \n",
    "          'boy is a young man',\n",
    "          'girl is a young woman',\n",
    "          'prince is a young king',\n",
    "          'princess is a young queen',\n",
    "          'man is strong', \n",
    "          'woman is pretty',\n",
    "          'prince is a boy will be king',\n",
    "          'princess is a girl will be queen']\n",
    "\n",
    "def remove_stop_words(corpus):\n",
    "    stop_words = ['is', 'a', 'will', 'be']\n",
    "    results = []\n",
    "    for text in corpus:\n",
    "        tmp = text.split(' ')\n",
    "        for stop_word in stop_words:\n",
    "            if stop_word in tmp:\n",
    "                tmp.remove(stop_word)\n",
    "        results.append(\" \".join(tmp))\n",
    "    \n",
    "    return results\n",
    "\n",
    "\n",
    "corpus = remove_stop_words(corpus) # stop word 제거하기\n",
    "print(corpus)\n",
    "\n",
    "tknizer = tf.keras.preprocessing.text.Tokenizer()#stop_words)\n",
    "tknizer.fit_on_texts(corpus)\n",
    "display(tknizer.get_config())"
   ]
  },
  {
   "cell_type": "markdown",
   "metadata": {},
   "source": [
    "#### Skip-gram 생성"
   ]
  },
  {
   "cell_type": "code",
   "execution_count": 20,
   "metadata": {},
   "outputs": [
    {
     "data": {
      "text/plain": [
       "[['king', 'brave'],\n",
       " ['brave', 'king'],\n",
       " ['brave', 'man'],\n",
       " ['man', 'brave'],\n",
       " ['queen', 'wise']]"
      ]
     },
     "execution_count": 20,
     "metadata": {},
     "output_type": "execute_result"
    }
   ],
   "source": [
    "WINDOW_SIZE =1\n",
    "\n",
    "data = []\n",
    "for sentence in corpus:\n",
    "    sentence = sentence.split()\n",
    "    for idx, word in enumerate(sentence):\n",
    "        for neighbor in sentence[max(idx - WINDOW_SIZE, 0) : min(idx + WINDOW_SIZE, len(sentence)) + 1] : \n",
    "            if neighbor != word:\n",
    "                data.append([word, neighbor])\n",
    "data[:5]"
   ]
  },
  {
   "cell_type": "markdown",
   "metadata": {},
   "source": [
    "#### one-hot encoding"
   ]
  },
  {
   "cell_type": "code",
   "execution_count": 21,
   "metadata": {},
   "outputs": [
    {
     "name": "stdout",
     "output_type": "stream",
     "text": [
      "[[ 2 10]\n",
      " [10  2]\n",
      " [10  3]\n",
      " [ 3 10]\n",
      " [ 4 11]]\n",
      "[[0. 0. 1. 0. 0. 0. 0. 0. 0. 0. 0. 0. 0. 0.]\n",
      " [0. 0. 0. 0. 0. 0. 0. 0. 0. 0. 1. 0. 0. 0.]\n",
      " [0. 0. 0. 0. 0. 0. 0. 0. 0. 0. 1. 0. 0. 0.]\n",
      " [0. 0. 0. 1. 0. 0. 0. 0. 0. 0. 0. 0. 0. 0.]\n",
      " [0. 0. 0. 0. 1. 0. 0. 0. 0. 0. 0. 0. 0. 0.]] [[0. 0. 0. 0. 0. 0. 0. 0. 0. 0. 1. 0. 0. 0.]\n",
      " [0. 0. 1. 0. 0. 0. 0. 0. 0. 0. 0. 0. 0. 0.]\n",
      " [0. 0. 0. 1. 0. 0. 0. 0. 0. 0. 0. 0. 0. 0.]\n",
      " [0. 0. 0. 0. 0. 0. 0. 0. 0. 0. 1. 0. 0. 0.]\n",
      " [0. 0. 0. 0. 0. 0. 0. 0. 0. 0. 0. 1. 0. 0.]]\n"
     ]
    }
   ],
   "source": [
    "seq = np.array(tknizer.texts_to_sequences(data))\n",
    "print(seq[:5])\n",
    "\n",
    "x = seq[:, 0]\n",
    "y = seq[:, 1]\n",
    "x_enc = tf.keras.utils.to_categorical(x)\n",
    "y_enc = tf.keras.utils.to_categorical(y)\n",
    "print(x_enc[:5], y_enc[:5])"
   ]
  },
  {
   "cell_type": "markdown",
   "metadata": {},
   "source": [
    "#### 모델 생성 및 학습"
   ]
  },
  {
   "cell_type": "code",
   "execution_count": 23,
   "metadata": {},
   "outputs": [
    {
     "name": "stdout",
     "output_type": "stream",
     "text": [
      "14\n",
      "Model: \"sequential_2\"\n",
      "_________________________________________________________________\n",
      "Layer (type)                 Output Shape              Param #   \n",
      "=================================================================\n",
      "dense_4 (Dense)              (None, 2)                 30        \n",
      "_________________________________________________________________\n",
      "dense_5 (Dense)              (None, 14)                42        \n",
      "=================================================================\n",
      "Total params: 72\n",
      "Trainable params: 72\n",
      "Non-trainable params: 0\n",
      "_________________________________________________________________\n",
      "36/36 [==============================] - 0s 1ms/sample - loss: 1.3427 - accuracy: 0.3611\n"
     ]
    },
    {
     "data": {
      "text/plain": [
       "[1.342704349093967, 0.3611111]"
      ]
     },
     "execution_count": 23,
     "metadata": {},
     "output_type": "execute_result"
    }
   ],
   "source": [
    "dim = max(tknizer.index_word) +1 \n",
    "print(dim)\n",
    "model = tf.keras.Sequential()\n",
    "model.add(tf.keras.layers.Dense(2, input_shape=(dim,)))\n",
    "model.add(tf.keras.layers.Dense(dim, activation=\"softmax\"))\n",
    "model.summary()\n",
    "\n",
    "model.compile(loss='sparse_categorical_crossentropy',\n",
    "              #optimizer=tf.keras.optimizers.Adam(0.1),#'adam',\n",
    "              optimizer=tf.keras.optimizers.SGD(0.05), #\"sgd\",\n",
    "              metrics=['accuracy'])\n",
    "model.fit(x_enc, y, epochs=5000, verbose=0)\n",
    "model.evaluate(x_enc, y, verbose=1)\n"
   ]
  },
  {
   "cell_type": "markdown",
   "metadata": {},
   "source": [
    "#### 훈련된 weight로 벡터 만들기"
   ]
  },
  {
   "cell_type": "code",
   "execution_count": 24,
   "metadata": {},
   "outputs": [
    {
     "data": {
      "text/plain": [
       "array([[ 0.28805965, -0.06106028],\n",
       "       [ 1.2514911 ,  0.0564786 ],\n",
       "       [-1.1742154 , -3.4734473 ],\n",
       "       [-3.4871283 , -2.606208  ],\n",
       "       [-1.4287654 ,  1.3530334 ],\n",
       "       [-2.8363633 ,  1.537886  ],\n",
       "       [ 0.649869  , -0.77418613],\n",
       "       [ 0.38207   ,  0.77047706],\n",
       "       [-0.37656903, -2.2907145 ],\n",
       "       [-0.5477647 ,  0.5419028 ],\n",
       "       [ 2.502882  , -1.5092524 ],\n",
       "       [ 2.1700172 ,  1.4670897 ],\n",
       "       [ 4.179845  , -1.4738853 ],\n",
       "       [ 1.3096627 ,  3.6312494 ]], dtype=float32)"
      ]
     },
     "execution_count": 24,
     "metadata": {},
     "output_type": "execute_result"
    }
   ],
   "source": [
    "w = model.layers[0].get_weights()[0]\n",
    "b = model.layers[0].get_weights()[1]\n",
    "\n",
    "vectors = w + b\n",
    "vectors"
   ]
  },
  {
   "cell_type": "markdown",
   "metadata": {},
   "source": [
    "#### $princess - woman - man$ 계산"
   ]
  },
  {
   "cell_type": "code",
   "execution_count": 25,
   "metadata": {},
   "outputs": [
    {
     "data": {
      "text/plain": [
       "array([-1.1985297, -3.6021914], dtype=float32)"
      ]
     },
     "execution_count": 25,
     "metadata": {},
     "output_type": "execute_result"
    }
   ],
   "source": [
    "princess = vectors[tknizer.word_index['princess']]\n",
    "woman = vectors[tknizer.word_index['woman']]\n",
    "man = vectors[tknizer.word_index['man']]\n",
    "princess_woman_man = princess - woman + man\n",
    "princess_woman_man"
   ]
  },
  {
   "cell_type": "markdown",
   "metadata": {},
   "source": [
    "#### vector 시각화"
   ]
  },
  {
   "cell_type": "code",
   "execution_count": 26,
   "metadata": {},
   "outputs": [
    {
     "data": {
      "text/plain": [
       "Text(-1.1985297, -3.6021914, 'princess-woman+man')"
      ]
     },
     "execution_count": 26,
     "metadata": {},
     "output_type": "execute_result"
    },
    {
     "data": {
      "image/png": "[encoded data removed]",
      "text/plain": [
       "<Figure size 720x720 with 1 Axes>"
      ]
     },
     "metadata": {
      "needs_background": "light"
     },
     "output_type": "display_data"
    }
   ],
   "source": [
    "import matplotlib.pyplot as plt\n",
    "\n",
    "plt.figure(figsize=(10,10))  \n",
    "for idx, (x1, x2) in enumerate(vectors):\n",
    "    if idx == 0: continue\n",
    "    plt.plot(x1, x2, 'b.')\n",
    "    word = tknizer.index_word[idx]\n",
    "    plt.annotate(word, (x1,x2 ))\n",
    "    \n",
    "plt.plot(princess_woman_man[0],princess_woman_man[1], 'ro')\n",
    "plt.annotate('princess-woman+man', princess_woman_man)"
   ]
  },
  {
   "cell_type": "markdown",
   "metadata": {},
   "source": [
    "### 사전 훈련된 Word2Vec 임베딩 사용하기\n",
    "* Word2Vec\n",
    "    * Google Tomas Mikolov(토마스 미코로프)\n",
    "    * gensim : Word2Vec 구현 라이브러리\n",
    "        * https://radimrehurek.com/gensim/\n",
    "        * `pip install gensim`\n",
    "    * 사전 훈련된 가중치\n",
    "        * https://code.google.com/archive/p/word2vec/\n",
    "        * https://drive.google.com/file/d/0B7XkCwpI5KDYNlNUTTlSS21pQmM\n",
    "* GloVe\n",
    "    * Stanford Univ. 2014\n",
    "    * 사전 훈련된 가중치\n",
    "        * http://nlp.stanford.edu/data/glove.6B.zip"
   ]
  },
  {
   "cell_type": "markdown",
   "metadata": {},
   "source": [
    "#### 가중치 파일 다운로드"
   ]
  },
  {
   "cell_type": "code",
   "execution_count": 27,
   "metadata": {
    "scrolled": true
   },
   "outputs": [
    {
     "name": "stderr",
     "output_type": "stream",
     "text": [
      "'wget' is not recognized as an internal or external command,\n",
      "operable program or batch file.\n"
     ]
    }
   ],
   "source": [
    "!wget https://drive.google.com/file/d/0B7XkCwpI5KDYNlNUTTlSS21pQmM"
   ]
  },
  {
   "cell_type": "markdown",
   "metadata": {},
   "source": [
    "#### gensim 설치"
   ]
  },
  {
   "cell_type": "code",
   "execution_count": null,
   "metadata": {},
   "outputs": [],
   "source": [
    "!pip install gensim"
   ]
  },
  {
   "cell_type": "markdown",
   "metadata": {},
   "source": [
    "#### gensim에 가중치 파일 로딩"
   ]
  },
  {
   "cell_type": "code",
   "execution_count": 29,
   "metadata": {},
   "outputs": [
    {
     "name": "stdout",
     "output_type": "stream",
     "text": [
      "(3000000, 300)\n"
     ]
    }
   ],
   "source": [
    "import gensim\n",
    "\n",
    "w2v_model = gensim.models.KeyedVectors.load_word2vec_format('GoogleNews-vectors-negative300.bin.gz', binary=True)  \n",
    "print(w2v_model.vectors.shape)"
   ]
  },
  {
   "cell_type": "markdown",
   "metadata": {},
   "source": [
    "#### 'love' 단어의 벡터 값 보기"
   ]
  },
  {
   "cell_type": "code",
   "execution_count": 31,
   "metadata": {},
   "outputs": [
    {
     "data": {
      "text/plain": [
       "array([ 0.10302734, -0.15234375,  0.02587891,  0.16503906, -0.16503906,\n",
       "        0.06689453,  0.29296875, -0.26367188, -0.140625  ,  0.20117188],\n",
       "      dtype=float32)"
      ]
     },
     "execution_count": 31,
     "metadata": {},
     "output_type": "execute_result"
    }
   ],
   "source": [
    "w2v_model['love'][:10]"
   ]
  },
  {
   "cell_type": "markdown",
   "metadata": {},
   "source": [
    "### 사전 훈련된 Word2Vec으로 IMDB 분류 실습"
   ]
  },
  {
   "cell_type": "markdown",
   "metadata": {},
   "source": [
    "#### IMDB 데이타 준비"
   ]
  },
  {
   "cell_type": "code",
   "execution_count": 33,
   "metadata": {},
   "outputs": [
    {
     "name": "stdout",
     "output_type": "stream",
     "text": [
      "train set : 25000, test set: (25000,), classes : 2\n"
     ]
    }
   ],
   "source": [
    "import tensorflow as tf\n",
    "\n",
    "imdb = tf.keras.datasets.imdb\n",
    "\n",
    "voca_size = 10000\n",
    "(X_train, y_train), (X_test, y_test) = imdb.load_data(num_words=voca_size-3) # 0,1,2 자리를 비우려고\n",
    "print(f'train set : {len(X_train)}, test set: {len(X_test), }, classes : {max(y_train)+1}')\n",
    "\n",
    "imdb_word_index = imdb.get_word_index()\n",
    "imdb_index_word = { idx : key for key, idx in imdb_word_index.items()}"
   ]
  },
  {
   "cell_type": "markdown",
   "metadata": {},
   "source": [
    "#### 패딩"
   ]
  },
  {
   "cell_type": "code",
   "execution_count": 36,
   "metadata": {},
   "outputs": [
    {
     "data": {
      "text/plain": [
       "9996"
      ]
     },
     "execution_count": 36,
     "metadata": {},
     "output_type": "execute_result"
    }
   ],
   "source": [
    "max_len = 500\n",
    "X_train = tf.keras.preprocessing.sequence.pad_sequences(X_train, maxlen=max_len)\n",
    "X_test = tf.keras.preprocessing.sequence.pad_sequences(X_test, maxlen=max_len)\n",
    "max(X_train.ravel())"
   ]
  },
  {
   "cell_type": "markdown",
   "metadata": {},
   "source": [
    "#### 데이타에 필요한 word2vec 벡터 가져오기\n",
    "* imdb 데이타와 index 간에 3 차이 보간 필요"
   ]
  },
  {
   "cell_type": "code",
   "execution_count": 37,
   "metadata": {},
   "outputs": [],
   "source": [
    "embedd_matrix = np.zeros((voca_size, 300))\n",
    "\n",
    "for i in range(1, voca_size-3):\n",
    "    word = imdb_index_word[i]\n",
    "    if word in w2v_model:\n",
    "        embedd_matrix[i+3] = w2v_model[word]"
   ]
  },
  {
   "cell_type": "markdown",
   "metadata": {},
   "source": [
    "#### 'love' 단어로 벡터 확인"
   ]
  },
  {
   "cell_type": "code",
   "execution_count": 39,
   "metadata": {},
   "outputs": [
    {
     "name": "stdout",
     "output_type": "stream",
     "text": [
      "116\n",
      "[ 0.10302734 -0.15234375  0.02587891  0.16503906 -0.16503906  0.06689453\n",
      "  0.29296875 -0.26367188 -0.140625    0.20117188]\n",
      "[ 0.10302734 -0.15234375  0.02587891  0.16503906 -0.16503906  0.06689453\n",
      "  0.29296875 -0.26367188 -0.140625    0.20117188]\n"
     ]
    }
   ],
   "source": [
    "print(imdb_word_index['love'])\n",
    "print(w2v_model['love'][:10])\n",
    "print(embedd_matrix[116+3][:10])"
   ]
  },
  {
   "cell_type": "markdown",
   "metadata": {},
   "source": [
    "#### 모델 생성, 훈련, 평가"
   ]
  },
  {
   "cell_type": "code",
   "execution_count": 41,
   "metadata": {},
   "outputs": [
    {
     "name": "stdout",
     "output_type": "stream",
     "text": [
      "Train on 25000 samples, validate on 25000 samples\n",
      "Epoch 1/20\n",
      "25000/25000 [==============================] - 30s 1ms/sample - loss: 0.4906 - acc: 0.7660 - val_loss: 0.4184 - val_acc: 0.8182\n",
      "Epoch 2/20\n",
      "25000/25000 [==============================] - 29s 1ms/sample - loss: 0.4054 - acc: 0.8251 - val_loss: 0.3445 - val_acc: 0.8546\n",
      "Epoch 3/20\n",
      "25000/25000 [==============================] - 29s 1ms/sample - loss: 0.4521 - acc: 0.7892 - val_loss: 0.3643 - val_acc: 0.8413\n",
      "Epoch 4/20\n",
      "25000/25000 [==============================] - 29s 1ms/sample - loss: 0.4483 - acc: 0.7868 - val_loss: 0.4360 - val_acc: 0.7972\n",
      "Epoch 5/20\n",
      "25000/25000 [==============================] - 29s 1ms/sample - loss: 0.3539 - acc: 0.8474 - val_loss: 0.3213 - val_acc: 0.8615\n",
      "Epoch 6/20\n",
      "25000/25000 [==============================] - 30s 1ms/sample - loss: 0.3052 - acc: 0.8742 - val_loss: 0.2822 - val_acc: 0.8836\n",
      "Epoch 7/20\n",
      "25000/25000 [==============================] - 30s 1ms/sample - loss: 0.2763 - acc: 0.8870 - val_loss: 0.2970 - val_acc: 0.8744\n",
      "Epoch 8/20\n",
      "25000/25000 [==============================] - 31s 1ms/sample - loss: 0.2575 - acc: 0.8945 - val_loss: 0.2607 - val_acc: 0.8954\n",
      "Epoch 9/20\n",
      "25000/25000 [==============================] - 31s 1ms/sample - loss: 0.2378 - acc: 0.9045 - val_loss: 0.2614 - val_acc: 0.8949\n",
      "Epoch 10/20\n",
      "25000/25000 [==============================] - 31s 1ms/sample - loss: 0.2261 - acc: 0.9090 - val_loss: 0.2603 - val_acc: 0.8948\n",
      "Epoch 11/20\n",
      "25000/25000 [==============================] - 30s 1ms/sample - loss: 0.2000 - acc: 0.9194 - val_loss: 0.2570 - val_acc: 0.8955\n",
      "Epoch 12/20\n",
      "25000/25000 [==============================] - 31s 1ms/sample - loss: 0.1886 - acc: 0.9254 - val_loss: 0.2748 - val_acc: 0.8898\n",
      "Epoch 13/20\n",
      "25000/25000 [==============================] - 30s 1ms/sample - loss: 0.1647 - acc: 0.9356 - val_loss: 0.2829 - val_acc: 0.8820\n",
      "Epoch 14/20\n",
      "25000/25000 [==============================] - 30s 1ms/sample - loss: 0.1465 - acc: 0.9444 - val_loss: 0.2723 - val_acc: 0.8956\n",
      "Epoch 15/20\n",
      "25000/25000 [==============================] - 30s 1ms/sample - loss: 0.1217 - acc: 0.9530 - val_loss: 0.2938 - val_acc: 0.8992\n",
      "Epoch 16/20\n",
      "25000/25000 [==============================] - 31s 1ms/sample - loss: 0.1010 - acc: 0.9608 - val_loss: 0.3285 - val_acc: 0.8984\n",
      "Epoch 17/20\n",
      "25000/25000 [==============================] - 31s 1ms/sample - loss: 0.1170 - acc: 0.9551 - val_loss: 0.6849 - val_acc: 0.5980\n",
      "Epoch 18/20\n",
      "25000/25000 [==============================] - 30s 1ms/sample - loss: 0.4162 - acc: 0.8031 - val_loss: 0.3869 - val_acc: 0.8380\n",
      "Epoch 19/20\n",
      "25000/25000 [==============================] - 30s 1ms/sample - loss: 0.2557 - acc: 0.8920 - val_loss: 0.3283 - val_acc: 0.8617\n",
      "Epoch 20/20\n",
      "25000/25000 [==============================] - 31s 1ms/sample - loss: 0.2000 - acc: 0.9174 - val_loss: 0.3071 - val_acc: 0.8874\n",
      "25000/25000 [==============================] - 13s 501us/sample - loss: 0.3071 - acc: 0.8874\n",
      "loss: 0.30713456889867785, accurracy: 88.7360%\n"
     ]
    }
   ],
   "source": [
    "model = tf.keras.Sequential()\n",
    "model.add(tf.keras.layers.Embedding(voca_size, 300, weights=[embedd_matrix], trainable=False))\n",
    "model.add(tf.keras.layers.LSTM(120))\n",
    "model.add(tf.keras.layers.Dense(32, activation='relu'))\n",
    "model.add(tf.keras.layers.Dense(1, activation='sigmoid'))\n",
    "\n",
    "model.compile(loss='binary_crossentropy', optimizer='adam', metrics=['acc'])\n",
    "model.fit(X_train, y_train, validation_data=(X_test, y_test), epochs=20, batch_size=64)\n",
    "\n",
    "result = model.evaluate(X_test, y_test)\n",
    "print(f'loss: {result[0]}, accurracy: {result[1]*100:.4f}%')"
   ]
  }
 ],
 "metadata": {
  "kernelspec": {
   "display_name": "Python 3",
   "language": "python",
   "name": "python3"
  },
  "language_info": {
   "codemirror_mode": {
    "name": "ipython",
    "version": 3
   },
   "file_extension": ".py",
   "mimetype": "text/x-python",
   "name": "python",
   "nbconvert_exporter": "python",
   "pygments_lexer": "ipython3",
   "version": "3.7.6"
  }
 },
 "nbformat": 4,
 "nbformat_minor": 2
}
