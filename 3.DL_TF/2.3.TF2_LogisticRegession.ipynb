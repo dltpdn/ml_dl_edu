{
 "cells": [
  {
   "cell_type": "markdown",
   "metadata": {},
   "source": [
    "# TF2 Logistic Regression\n",
    "\n",
    "## 이진 분류 알고리즘\n",
    "* Binary Classification\n",
    "* 분류에 해당하는 레이블은 0과 1로만 구성한다.\n",
    "* 0~1 범위를 결과로 갖는 모델이 필요하다.\n",
    "* 선형 모델 불가\n",
    "    * 학습 데이타 범위 보다 큰 값이 입력되면 결과는 0~1 범위 벗어남\n",
    "* 회귀 모델 $H = WX$에 Sigmoid 함수를 적용해서 분류에 사용한다.\n",
    "![image.png](https://i.imgur.com/qcbPf4g.png)"
   ]
  },
  {
   "cell_type": "markdown",
   "metadata": {},
   "source": [
    "### Sigmoid 모델 가설\n",
    "* $\\displaystyle \\sigma(t) = \\frac{1}{1+exp^{(-WX)}}$\n",
    "    * $WX$의 결과 값을 0과 1사이의 값으로 바꾸는 함수\n",
    "    * sigmoid 함수는 1을 나누는데 1에 0보다 큰 어떤 수를 더한것으로 나눈다.\n",
    "    * $\\frac{1}{1} = 1$인데, 분모 1에다 뭔가를 더했으니 그 결과는 1 보다 클수 없다.\n",
    "    * 분모에 더할 수는 $exp^{(-WX)}$, 이 값의 크기가 커질 수록 0에 가까워지고, 작아질 수록 1에 가까워 진다.\n",
    "    * $exp^{(-WX)}$는 자연상수 $e^{-WX}$ 이므로 $WX$의 값이 크면 클 수록 작은 수가 되고 반대는 큰 수가 된다\n",
    "    * 따라서 WX의 값이 크면 $e^{-WX}$의 값이 작아져서 $\\frac{1}{1+e^{-WX}}$의 값은 1에 가까워 지고 그 반대는 0에 가까워 진다.\n",
    "* 선형회귀 모델을 그대로 사용할 수 없는 이유는 훈련된 범위의 값보다 차이가 큰 값이 예측 입력으로 주어지면 결과가 0과 1의 범위를 벗어날 수 있기 때문이다."
   ]
  },
  {
   "cell_type": "markdown",
   "metadata": {},
   "source": [
    "#### 시그모이드 함수 그리기\n"
   ]
  },
  {
   "cell_type": "code",
   "execution_count": null,
   "metadata": {},
   "outputs": [],
   "source": [
    "%matplotlib inline\n",
    "\n",
    "import numpy as np\n",
    "import matplotlib.pyplot as plt\n",
    "import tensorflow as tf"
   ]
  },
  {
   "cell_type": "code",
   "execution_count": null,
   "metadata": {},
   "outputs": [],
   "source": [
    "def sigmoid(z):\n",
    "    return  1/(1+np.exp(-1*z))"
   ]
  },
  {
   "cell_type": "code",
   "execution_count": null,
   "metadata": {},
   "outputs": [],
   "source": [
    "def drawSigmoid(w=0.5, b=0, style='-'):\n",
    "    x = np.linspace(-50,50,100)\n",
    "    #y = sigmoid(x * w + b)\n",
    "    y = tf.sigmoid(x * w + b)\n",
    "    plt.plot(x, y, style)\n",
    "\n",
    "    \n",
    "drawSigmoid(0.2,  0, 'r')\n",
    "drawSigmoid(  1,  0, 'r--')\n",
    "\n",
    "drawSigmoid(0.2, -3, 'b')\n",
    "drawSigmoid(  1, -3, 'b--')\n",
    "\n",
    "drawSigmoid(0.2,  3, 'g')\n",
    "drawSigmoid(  1,  3, 'g--')\n"
   ]
  },
  {
   "cell_type": "markdown",
   "metadata": {},
   "source": [
    "* tf.sigmoid(x)\n",
    "    * $y = 1 / (1 + exp(-x))$"
   ]
  },
  {
   "cell_type": "markdown",
   "metadata": {},
   "source": [
    "## 비용함수\n",
    "* Hypothesis가 달라졌기 때문에 Cost 함수도 달라져야 한다.\n",
    "* sigmoid 함수 결과에 MSE를 적용하면 Non-Convex 함수가 돼서 Local Minimize에 빠질 수 있다.\n",
    "* log 함수를 이용해서 원래대로 Convex 함수로 만든다.\n",
    "* $ cost(H(x), y) = \n",
    "  \\begin{cases}\n",
    "    -log(H(x)) & \\quad\\text{if } y=1\\\\\n",
    "    -log(1-H(x)) & \\quad\\text {if } y=0\n",
    "  \\end{cases}$\n",
    "* Cost  : $ \\displaystyle cost(H(x), y) = \\frac{1}{m}\\sum_{i=1}^m[-ylog(H(x))-(1-y)log(1-H(x))]$\n",
    "* Gradient : $\\displaystyle\\frac{\\partial}{\\partial{H(x)}} = \\frac{1}{m}\\sum_{i=1}^m((H(x)-y)x$\n",
    "    * Linear Regression의 Gradient와 같다.\n",
    "![image.png](https://i.imgur.com/nP2Q7TH.png)"
   ]
  },
  {
   "cell_type": "code",
   "execution_count": null,
   "metadata": {},
   "outputs": [],
   "source": [
    "z = np.arange(0.001, 1, 0.001)\n",
    "\n",
    "plt.subplot(1,2, 1)\n",
    "plt.plot(z, -1 * np.log(z))\n",
    "plt.title(\"-log(z)\")\n",
    "plt.subplot(1,2, 2)\n",
    "plt.plot(z, -1 * np.log(1-z))\n",
    "plt.title(\"-log(1-z)\")"
   ]
  },
  {
   "cell_type": "markdown",
   "metadata": {},
   "source": [
    "### 랜덤수 분류 예제"
   ]
  },
  {
   "cell_type": "code",
   "execution_count": null,
   "metadata": {},
   "outputs": [],
   "source": [
    "%matplotlib inline\n",
    "import numpy as np\n",
    "import matplotlib.pylab as plt"
   ]
  },
  {
   "cell_type": "code",
   "execution_count": null,
   "metadata": {},
   "outputs": [],
   "source": [
    "ma, mb = 50, 50\n",
    "m = ma + mb\n",
    "Xa = np.random.randint(-50,0, (ma,1))\n",
    "Xb = np.random.randint(0,50, (mb,1))\n",
    "#X = X + 200* np.random.randn(m)\n",
    "\n",
    "X = np.float32(np.concatenate((Xa, Xb), axis=0))/100\n",
    "y = np.zeros((m,1))\n",
    "y[mb:, 0] = 1\n",
    "#y[np.random.randint(0,100, 20)] = np.random.randint(0,2, 20)\n",
    "\n",
    "temp = np.linspace(0,1,m).reshape(-1,1)\n",
    "plt.plot(X ,temp, 'ko')\n",
    "plt.plot(X[y==0],temp[y==0], 'b.' )\n",
    "plt.plot(X[y==1],temp[y==1], 'r.' )\n",
    "plt.plot(X[y==0] ,y[y==0], 'b.')\n",
    "plt.plot(X[y==1], y[y==1], 'r.')\n"
   ]
  },
  {
   "cell_type": "code",
   "execution_count": null,
   "metadata": {},
   "outputs": [],
   "source": [
    "plt.plot(X ,y, 'ko')\n",
    "\n",
    "np.random.seed(5)\n",
    "W = np.random.rand()\n",
    "print(\"Initial W:\", W)\n",
    "drawSigmoid(W, 0, 'b-')\n",
    "learning_rate = 0.01\n",
    "epochs = 500\n",
    "for epoch in range(epochs):\n",
    "    h = sigmoid(W*X)\n",
    "    cost = 1/m * np.sum(-1.0 *y * np.log(h)-(1.0-y)*np.log(1.0-h))\n",
    "    #gradient = 1/m * np.dot(X.T, (h - y))\n",
    "    gradient = 1/m * np.sum( (h-y) * X)\n",
    "    W = W - learning_rate * gradient\n",
    "    if epoch % 20 == 0:\n",
    "        print('epoch:', epoch, ' cost:', cost, ' gradient:', gradient, ' W:', W)\n",
    "        drawSigmoid(W, 0, '--')\n",
    "print('Final W:', W)\n",
    "pred = sigmoid(W*X)\n",
    "red = pred> 0.5\n",
    "blue = pred<= 0.5\n",
    "plt.plot(X[red], y[red], 'r.')\n",
    "plt.plot(X[blue], y[blue], 'b.')\n",
    "drawSigmoid(W, 0, 'r-')\n",
    "plt.xlim(-5, 5)"
   ]
  },
  {
   "cell_type": "code",
   "execution_count": null,
   "metadata": {},
   "outputs": [],
   "source": [
    "import tensorflow as tf\n",
    "\n",
    "ma, mb = 50, 50\n",
    "m = ma + mb\n",
    "Xa = np.random.randint(-50,0, (ma, 2))\n",
    "Xb = np.random.randint(0,50, (mb, 2))\n",
    "X = np.concatenate((Xa, Xb), axis=0).astype(np.float32)/100\n",
    "\n",
    "y = np.zeros((m,1), dtype=np.float32)\n",
    "y[mb:] = 1\n",
    "y = y.reshape(-1,1)\n",
    "\n",
    "plt.plot(X[y[:,0]==0][:,0],X[y[:,0]==0][:,1], 'r1')\n",
    "plt.plot(X[y[:,0]==1][:,0],X[y[:,0]==1][:,1], 'b1')"
   ]
  },
  {
   "cell_type": "code",
   "execution_count": null,
   "metadata": {},
   "outputs": [],
   "source": [
    "W = tf.Variable(tf.random.normal([2,1]), dtype=tf.float32)\n",
    "b = tf.Variable(tf.random.normal([1]), dtype=tf.float32)"
   ]
  },
  {
   "cell_type": "code",
   "execution_count": null,
   "metadata": {},
   "outputs": [],
   "source": [
    "W = tf.Variable([[0.3], [0.3]], dtype=tf.float32)\n",
    "b = tf.Variable([[0]], dtype=tf.float32)"
   ]
  },
  {
   "cell_type": "code",
   "execution_count": null,
   "metadata": {},
   "outputs": [],
   "source": [
    "learing_rate = 0.01 \n",
    "for step in range(10001):\n",
    "    with tf.GradientTape() as tape:\n",
    "        hypothesis = tf.sigmoid(tf.matmul(X, W) + b)\n",
    "\n",
    "        cost = -tf.reduce_mean(y* tf.math.log(hypothesis) + (1-y) * tf.math.log(1 - hypothesis))\n",
    "        #cost = tf.reduce_mean(-y * tf.math.log(hypothesis) - (1-y) * tf.math.log(1 - hypothesis))\n",
    "        #cost = tf.reduce_mean(tf.nn.sigmoid_cross_entropy_with_logits(labels=y, logits=hypothesis))\n",
    "    d_W, d_b = tape.gradient(cost, [W, b])\n",
    "    W.assign_sub(learing_rate * d_W)\n",
    "    b.assign_sub(learing_rate * d_b)\n",
    "    if step % 1000 == 0:\n",
    "        print(f\"step:{step}, cost:{cost}\")\n",
    "\n",
    "predict = tf.cast( (tf.sigmoid(tf.matmul(X, W) + b)) > 0.5, dtype=tf.float32)\n",
    "accuracy = tf.reduce_mean(tf.cast(tf.equal(predict, y), dtype=tf.float32))\n",
    "\n",
    "print('Accuracy:{}'.format(accuracy))\n",
    "\n",
    "plt.plot(X[y[:,0]==0][:,0],X[y[:,0]==0][:,1], 'r1')\n",
    "plt.plot(X[y[:,0]==1][:,0],X[y[:,0]==1][:,1], 'b1')\n",
    "\n",
    "plt.plot(X[predict[:,0]==0][:,0],X[predict[:,0]==0][:,1], 'rs', alpha=0.3)\n",
    "plt.plot(X[predict[:,0]==1][:,0],X[predict[:,0]==1][:,1], 'bs', alpha=0.3)"
   ]
  }
 ],
 "metadata": {
  "kernelspec": {
   "display_name": "Python 3",
   "language": "python",
   "name": "python3"
  },
  "language_info": {
   "codemirror_mode": {
    "name": "ipython",
    "version": 3
   },
   "file_extension": ".py",
   "mimetype": "text/x-python",
   "name": "python",
   "nbconvert_exporter": "python",
   "pygments_lexer": "ipython3",
   "version": "3.6.8"
  }
 },
 "nbformat": 4,
 "nbformat_minor": 2
}
