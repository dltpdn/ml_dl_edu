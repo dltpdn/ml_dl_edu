{
 "cells": [
  {
   "cell_type": "markdown",
   "metadata": {},
   "source": [
    "# SVM"
   ]
  },
  {
   "cell_type": "markdown",
   "metadata": {},
   "source": [
    "## Support Vector Machine\n",
    "* 선형 지도 학습 분류 알고리즘\n",
    "* Support Vector : 경계 최외곽에 위치한 샘플\n",
    "* 결정 평면 : 마진이 가장 넓은 모델 선택\n",
    "* 스케일 민감\n",
    "![image.png](https://i.imgur.com/uKvmU3k.png)"
   ]
  },
  {
   "cell_type": "markdown",
   "metadata": {},
   "source": [
    "### scikit-learn\n",
    "* `sklearn.svm.SVC(kernel='linear')`\n",
    "* `sklearn.svm.LinearSVC()`\n",
    "    * 샘플이 많은 경우 효과적\n",
    "    * 표준화 전처리 필요\n",
    "        * `sklearn.preprocessing.StandardScaler`\n",
    "            * 평균 = 0, 표준편차 = 1\n",
    "            * 평균으로 빼고, 표준편차로 나눈 값\n"
   ]
  },
  {
   "cell_type": "markdown",
   "metadata": {
    "collapsed": true
   },
   "source": [
    "#### 랜덤수 분류 예제"
   ]
  },
  {
   "cell_type": "code",
   "execution_count": null,
   "metadata": {},
   "outputs": [],
   "source": [
    "# 결정경계를 그리기 위한 함수\n",
    "def plot_svc_decision_boundary(svm_clf, xmin, xmax):\n",
    "    w = svm_clf.coef_[0]\n",
    "    b = svm_clf.intercept_[0]\n",
    "   \n",
    "\n",
    "    # 결정 경계에서 w0*x0 + w1*x1 + b = 0 이므로\n",
    "    # => x1 = -w0/w1 * x0 - b/w1\n",
    "    x0 = np.linspace(xmin, xmax, 200)\n",
    "    decision_boundary = -w[0]/w[1] * x0 - b/w[1]\n",
    "\n",
    "    margin = 1/w[1]\n",
    "    gutter_up = decision_boundary + margin\n",
    "    gutter_down = decision_boundary - margin\n",
    "\n",
    "    #svs = svm_clf.support_vectors_\n",
    "    #plt.scatter(svs[:, 0], svs[:, 1], s=180, facecolors='#FFAAAA')\n",
    "    plt.plot(x0, decision_boundary, \"g-\", linewidth=2)\n",
    "    plt.plot(x0, gutter_up, \"g--\", linewidth=2)\n",
    "    plt.plot(x0, gutter_down, \"g--\", linewidth=2)"
   ]
  },
  {
   "cell_type": "code",
   "execution_count": null,
   "metadata": {},
   "outputs": [],
   "source": [
    "import numpy as np\n",
    "import matplotlib.pyplot as plt\n",
    "from sklearn.svm import SVC\n",
    "from sklearn.preprocessing import StandardScaler\n",
    "\n",
    "a = np.random.randint(0,125,(25,2))\n",
    "b = np.random.randint(126, 255,(25,2))\n",
    "trainData = np.float32(np.vstack((a,b)))\n",
    "\n",
    "m = np.mean(trainData, axis=0)\n",
    "trainData -= m\n",
    "s = np.std(trainData, axis=0)\n",
    "trainData /= s\n",
    "#scaler = StandardScaler()\n",
    "#scaler.fit(trainData)\n",
    "#trainData = scaler.transform(trainData)\n",
    "\n",
    "responses = np.zeros((50,1), np.int32)\n",
    "responses[0:25] = 1\n",
    "blue = trainData[responses.ravel()==0]\n",
    "plt.scatter(blue[:,0],blue[:,1],80,'b','o')\n",
    "\n",
    "red = trainData[responses.ravel()==1]\n",
    "plt.scatter(red[:,0],red[:,1],80,'r','s')\n",
    "\n",
    "newcomer = np.random.randint(0,255,(1,2)).astype(np.float32)\n",
    "newcomer = (newcomer-m)/s\n",
    "#newcomer = scaler.transform(newcomer)\n",
    "plt.scatter(newcomer[:,0],newcomer[:,1],80,'g','*')\n",
    "\n",
    "svm = SVC(kernel='linear')\n",
    "\n",
    "svm.fit(trainData, responses.ravel())\n",
    "\n",
    "plot_svc_decision_boundary(svm, np.min(trainData), np.max(trainData))\n",
    "\n",
    "results = svm.predict(newcomer)\n",
    "plt.annotate('red' if results[0]==1.0 else 'blue', xy=newcomer[0],\n",
    "xytext=(newcomer[0]))\n",
    "print(\"result, 1=red, 0=blue: {}\\n\".format(results))\n",
    "plt.show()"
   ]
  },
  {
   "cell_type": "markdown",
   "metadata": {},
   "source": [
    "### 소프트 마진 분류\n",
    "* 하드 마진 분류(hard margin classification)\n",
    "    * 모든 데이터가 마진밖에 있는 경우\n",
    "    * 샘플에 이상치가 있으면 일반화 오류\n",
    "* 소프트 마진 분류(Soft margin classification)\n",
    "    * C 하이퍼 파라미터 사용\n",
    "    * 마진오류 : 경계 마진 안에 샘플 위치\n",
    "    * C 값이 작으면 일반화\n",
    "    * C 값이 커지면 과대 적합\n",
    "![image.png](https://i.imgur.com/6wYsjb8.png)    "
   ]
  },
  {
   "cell_type": "code",
   "execution_count": null,
   "metadata": {},
   "outputs": [],
   "source": [
    "import numpy as np\n",
    "import matplotlib.pyplot as plt\n",
    "from sklearn.svm import SVC\n",
    "\n",
    "a = np.random.randint(0,125,(25,2))\n",
    "b = np.random.randint(126, 255,(25,2))\n",
    "a_ = np.max(a, axis=0)\n",
    "b_ = np.min(b, axis=0)\n",
    "a[0] = b_\n",
    "b[0] = a_\n",
    "trainData = np.float32(np.vstack((a,b)))\n",
    "\n",
    "\n",
    "m = np.mean(trainData, axis=0)\n",
    "trainData -= m\n",
    "s = np.std(trainData, axis=0)\n",
    "trainData /= s\n",
    "\n",
    "#scaler = StandardScaler()\n",
    "#scaler.fit(trainData)\n",
    "#trainData = scaler.transform(trainData)\n",
    "\n",
    "responses = np.zeros((50,1), np.float32)\n",
    "responses[0:25] = 1.0\n",
    "blue = trainData[responses.ravel()==0]\n",
    "red = trainData[responses.ravel()==1]\n",
    "\n",
    "\n",
    "\n",
    "newcomer = np.random.randint(0,255,(1,2)).astype(np.float32)\n",
    "newcomer -=m\n",
    "newcomer /=s\n",
    "#newcomer = scaler.transform(newcomer)\n",
    "plt.scatter(newcomer[:,0],newcomer[:,1],80,'g','*')\n",
    "\n",
    "svm1 = SVC(C=0.1,kernel='linear', )\n",
    "svm2 = SVC(C=5000, kernel='linear', )\n",
    "\n",
    "svm1.fit(trainData, responses.ravel())\n",
    "svm2.fit(trainData, responses.ravel())\n",
    "results1 = svm1.predict(newcomer)\n",
    "results2 = svm2.predict(newcomer)\n",
    "\n",
    "plt.scatter(red[:,0],red[:,1],80,'r','s')\n",
    "plt.scatter(blue[:,0],blue[:,1],80,'b','o')\n",
    "plt.scatter(newcomer[:,0],newcomer[:,1],80,'g','*')\n",
    "plot_svc_decision_boundary(svm1, np.min(trainData), np.max(trainData))\n",
    "plt.annotate('red' if results1[0]==1.0 else 'blue', xy=newcomer[0],\n",
    "              xytext=(newcomer[0]))\n",
    "plt.title(\"$C = {}$\".format(svm1.C), fontsize=16)\n",
    "plt.show()\n",
    "print(\"result1, 1=red, 0=blue: {}\\n\".format(results1))\n",
    "\n",
    "plt.scatter(red[:,0],red[:,1],80,'r','s')\n",
    "plt.scatter(blue[:,0],blue[:,1],80,'b','o')\n",
    "plt.scatter(newcomer[:,0],newcomer[:,1],80,'g','*')\n",
    "plot_svc_decision_boundary(svm2,  np.min(trainData), np.max(trainData))\n",
    "plt.annotate('red' if results2[0]==1.0 else 'blue', xy=newcomer[0],\n",
    "              xytext=(newcomer[0]))\n",
    "plt.title(\"$C = {}$\".format(svm2.C), fontsize=16)\n",
    "plt.show()\n",
    "print(\"result2, 1=red, 0=blue: {}\\n\".format(results2))\n"
   ]
  },
  {
   "attachments": {
    "image3.png": {
     "image/png": "[encoded data removed]"
    }
   },
   "cell_type": "markdown",
   "metadata": {},
   "source": [
    "### 비선형 및 다항식 커널\n",
    "* 다항식 특성 추가\n",
    "    * 특성을 2차식으로 추가\n",
    "    * $x_2 = (x1)^2$\n",
    "![image.png](attachment:image3.png)"
   ]
  },
  {
   "cell_type": "markdown",
   "metadata": {},
   "source": [
    "#### 다항식 추가 예제"
   ]
  },
  {
   "cell_type": "code",
   "execution_count": null,
   "metadata": {},
   "outputs": [],
   "source": [
    "%matplotlib inline\n",
    "\n",
    "import numpy as np\n",
    "import matplotlib.pyplot as plt\n",
    "\n",
    "x = np.arange(10, dtype=np.float32)\n",
    "y = np.ones(10)\n",
    "\n",
    "x -= np.mean(x, axis=0)\n",
    "x /= np.std(x, axis=0)\n",
    "plt.plot(x,y, 'ob')\n",
    "plt.plot(x[3:7], y[3:7], 'sr')\n",
    "plt.title('non-liner model')\n",
    "plt.show()\n",
    "\n",
    "x2 = (x**2)\n",
    "plt.plot(x,x2, 'ob')\n",
    "plt.plot(x[3:7], x2[3:7], 'sr')\n",
    "plt.title('polynomial')\n",
    "plt.show()\n"
   ]
  },
  {
   "cell_type": "markdown",
   "metadata": {},
   "source": [
    "#### 커널 함수 트릭(kernel trick)\n",
    "* 다항식 특성을 추가하지 않고 커널 함수로 새로운 거리 값을 계산\n",
    "    * 실제로 아무 특성도 추가하지 않으면서 다항식 특성을 많이 추가한 효과\n",
    "    \n",
    "* `sklean.svm.SVC(kernel='rbf', gamma=5, C=0.001)`\n",
    "    * 가우시안 RBF 커널 트릭 사용\n",
    "    * 다항식 커널 트릭 사용\n",
    "    * degree :  다항식 차수\n",
    "    * coef0=0 : 다항식 커널의 상수항\n",
    "    * 차수가 높아 지면 1보다 크고 작은 값의 격차가 커짐\n",
    "    * 고차항의 영향 조절\n",
    "\n",
    "* kernel\n",
    "    * linear\n",
    "        * $K(x_i, x_j)= x_ix_j$\n",
    "        * `SVC(kernel='liner')`\n",
    "    * polynomial\n",
    "        * $K(x_i, x_j) = (\\gamma(x_i, x_j) + r)^d$, $d$ =degree\n",
    "            * $\\gamma$ =coef0 로 전달\n",
    "        * `SVC(kernel='ploy', degree=3, coef0=1, C=5)`\n",
    "            * degree : 다항식 차수\n",
    "            * coef0=0 : 다항식 커널의 상수항 $r$, 차수가 높아지면 1보다 크고 작은 값의 격차가 커짐, 고차항의 영향 조절\n",
    "    * rbf : (Gausian radial basis function)\n",
    "        * $K(x_i, x_j) = exp(\\gamma||x_i-x_j||^2)$\n",
    "            * $\\gamma$=gamma > 0, 작아 질수록 마진이 커진다.\n",
    "        * `SCV(kernel='rbf', gamma=5, C=0.001)`\n",
    "    * sigmoid : $K(x_i, x_j) = (tanh(\\gamma(x_i, x_j) + r))$, $r$은 coef0로 전달\n",
    "        * `SVC(kernel='sigmoid')`"
   ]
  },
  {
   "cell_type": "markdown",
   "metadata": {},
   "source": [
    "#### SVM 손글씨 인식 예제"
   ]
  },
  {
   "cell_type": "code",
   "execution_count": null,
   "metadata": {},
   "outputs": [],
   "source": [
    "import numpy as np, cv2\n",
    "from sklearn.datasets import load_digits\n",
    "from sklearn.model_selection import train_test_split\n",
    "from sklearn.svm import SVC\n",
    "from sklearn.svm import LinearSVC\n",
    "\n",
    "import matplotlib.pyplot as plt\n",
    "\n",
    "digits = load_digits()\n",
    "X_train, X_test, y_train, y_test = train_test_split(digits.data, digits.target, random_state=0, test_size=0.2)\n",
    "\n",
    "print(X_train.shape)\n",
    "print(X_train[0])\n",
    "'''\n",
    "m = np.mean(X_train, axis=0)\n",
    "X_train -= m\n",
    "s = np.std(X_train, axis=0)\n",
    "X_train /= s\n",
    "print(m.shape, s.shape)\n",
    "\n",
    "X_test -=m\n",
    "X_test /= s\n",
    "'''\n",
    "svm = SVC(kernel='rbf',C=10,  gamma=0.001)\n",
    "#svm = SVC(kernel='poly', degree=1, coef0=1, C=5, gamma=0.01)\n",
    "\n",
    "svm.fit(X_train,y_train)\n",
    "\n",
    "print(\"Train Accuracy :\", svm.score(X_train, y_train))\n",
    "print(\"Test Accuracy1 :\", svm.score(X_test, y_test))"
   ]
  },
  {
   "cell_type": "code",
   "execution_count": null,
   "metadata": {},
   "outputs": [],
   "source": [
    "import sys\n",
    "sys.path.append('..')\n",
    "import img2data\n",
    "\n",
    "image = cv2.imread('../img/0458.png')\n",
    "plt.imshow(image)\n",
    "plt.show()\n",
    "numbers = img2data.img2digits(image, (8,8))\n",
    "for i, n in enumerate(numbers):\n",
    "    pred = svm.predict(n/255*16)\n",
    "    plt.subplot(1, len(numbers), i+1)\n",
    "    plt.title(str(pred))\n",
    "    plt.imshow(n.reshape(8,8), cmap=\"gray\")\n",
    "    plt.axis(\"off\")"
   ]
  },
  {
   "cell_type": "markdown",
   "metadata": {},
   "source": [
    "### 최적의 매개변수 찾기\n",
    "* 하이퍼 파라미터 : 개발자가 지정해야 하는 매개변수\n",
    "* 그리드 서치\n",
    "    * `sklearn.model_selection.GridSearvhCV`"
   ]
  },
  {
   "cell_type": "code",
   "execution_count": null,
   "metadata": {},
   "outputs": [],
   "source": [
    "import numpy as np, cv2\n",
    "from sklearn.datasets import load_digits\n",
    "from sklearn.model_selection import train_test_split\n",
    "from sklearn.svm import SVC\n",
    "from sklearn.svm import LinearSVC\n",
    "from sklearn.model_selection import GridSearchCV\n",
    "from sklearn.model_selection import KFold\n",
    "\n",
    "digits = load_digits()\n",
    "X_train, X_test, y_train, y_test = train_test_split(digits.data, digits.target, random_state=0, test_size=0.2)\n",
    "\n",
    "parameters = [\n",
    "    {\"C\":[1,10,100,1000], \"kernel\": [\"linear\"]},\n",
    "    {\"C\":[1,10,100,1000], \"kernel\": [\"rbf\"], \"gamma\": [0.001, 0.0001]},\n",
    "    {\"C\":[1,10,100,1000], \"kernel\": [\"sigmoid\"], \"gamma\": [0.001, 0.0001]},\n",
    "]\n",
    "\n",
    "kfold_cv = KFold(n_splits=5, shuffle=True)\n",
    "clf = GridSearchCV(SVC(), parameters, cv=kfold_cv)\n",
    "clf.fit(X_train, y_train)\n",
    "print(\"Optimized parameter:\", clf.best_estimator_)\n",
    "\n",
    "print(\"Accuracy :\", clf.score(X_test, y_test))"
   ]
  }
 ],
 "metadata": {
  "kernelspec": {
   "display_name": "Python 3",
   "language": "python",
   "name": "python3"
  },
  "language_info": {
   "codemirror_mode": {
    "name": "ipython",
    "version": 3
   },
   "file_extension": ".py",
   "mimetype": "text/x-python",
   "name": "python",
   "nbconvert_exporter": "python",
   "pygments_lexer": "ipython3",
   "version": "3.6.8"
  }
 },
 "nbformat": 4,
 "nbformat_minor": 2
}
