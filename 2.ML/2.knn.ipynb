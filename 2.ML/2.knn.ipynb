{
 "cells": [
  {
   "cell_type": "markdown",
   "metadata": {
    "slideshow": {
     "slide_type": "slide"
    }
   },
   "source": [
    "# k-NN"
   ]
  },
  {
   "cell_type": "markdown",
   "metadata": {},
   "source": [
    "## k-NN(k-Nearest Neighbors)\n",
    "* k-최근접 이웃 분류 알고리즘, 지도학습\n",
    "* 가장 간단한 머신러닝 알고리즘\n",
    "* 기하학적 거리 분류기\n",
    "* 기존에 2부류로 나뉜 점들에 새로운 점이 들어 오면 어느것으로 분류하는가?\n",
    "* 가장 가깝게 위치하는 멤버로 분류하는 방식\n",
    "* 멀리있는 멤버와 가까이 있는 멤버간에 가중치를 줄 수 있다.\n",
    "* sklearn.neighbors.KNeighborsClassifier(n_neighbors=k)\n",
    "    * n_neighbors : k 이웃 값\n",
    "![image.png](https://i.imgur.com/xZKDOAh.png)"
   ]
  },
  {
   "cell_type": "code",
   "execution_count": null,
   "metadata": {
    "slideshow": {
     "slide_type": "slide"
    }
   },
   "outputs": [],
   "source": [
    "%matplotlib inline"
   ]
  },
  {
   "cell_type": "markdown",
   "metadata": {},
   "source": [
    "### mglearn 시각화 모듈 설치\n",
    "* `pip install mglearn`\n",
    "    "
   ]
  },
  {
   "cell_type": "code",
   "execution_count": null,
   "metadata": {},
   "outputs": [],
   "source": [
    "!pip install mglearn"
   ]
  },
  {
   "cell_type": "markdown",
   "metadata": {
    "slideshow": {
     "slide_type": "slide"
    }
   },
   "source": [
    "### 난수 분류 예제"
   ]
  },
  {
   "cell_type": "code",
   "execution_count": null,
   "metadata": {
    "slideshow": {
     "slide_type": "fragment"
    }
   },
   "outputs": [],
   "source": [
    "import numpy as np\n",
    "import matplotlib.pyplot as plt\n",
    "from sklearn.model_selection import train_test_split\n",
    "from sklearn.neighbors import KNeighborsClassifier\n",
    "import mglearn\n",
    "\n",
    "trainData = np.random.randint(0,100,(25,2)).astype(np.float32)\n",
    "# 0~1 사이의 랜덤 수 25x1개 레이블 생성 ---②\n",
    "labels = np.random.randint(0,2,(25,))\n",
    "# 레이블 값 0과 같은 자리는 red, 1과 같은 자리는 blue로 분류해서 표시\n",
    "blue = trainData[labels.ravel()==0]\n",
    "red = trainData[labels.ravel()==1]\n",
    "\n",
    "plt.scatter(red[:,0], red[:,1], 80, 'r', '^') # 빨강색 삼각형\n",
    "plt.scatter(blue[:,0], blue[:,1], 80, 'b', 's')# 파랑색 사각형\n",
    "\n",
    "# 0 ~ 99 사이의 랜덤 수 신규 데이타 생성 ---③\n",
    "newcomer = np.random.randint(0,100,(1,2)).astype(np.float32)\n",
    "plt.scatter(newcomer[:,0],newcomer[:,1],80,'g','o') # 초록색 원\n",
    "\n",
    "# KNearest 알고리즘 객체 생성 ---④\n",
    "knn = KNeighborsClassifier(n_neighbors=3)\n",
    "# train, 행 단위 샘플 ---⑤\n",
    "knn.fit(trainData, labels)\n",
    "# 예측 ---⑥\n",
    "\n",
    "pred = knn.predict(newcomer)\n",
    "mglearn.plots.plot_2d_separator(knn, trainData, fill=True, alpha=0.1)\n",
    "\n",
    "# 결과 출력\n",
    "print(\"prediction:\", pred)\n",
    "plt.annotate('red' if pred==1 else 'blue', xy=newcomer[0], \\\n",
    "             xytext=(newcomer[0]+1), fontsize=20)\n",
    "plt.show()"
   ]
  },
  {
   "cell_type": "markdown",
   "metadata": {
    "slideshow": {
     "slide_type": "slide"
    }
   },
   "source": [
    "### 영화장르 분류 예제\n",
    "* 키스 횟수 > 발차기  ? 로맨스 : 액션"
   ]
  },
  {
   "cell_type": "code",
   "execution_count": null,
   "metadata": {
    "slideshow": {
     "slide_type": "fragment"
    }
   },
   "outputs": [],
   "source": [
    "import numpy as np\n",
    "import matplotlib.pyplot as plt\n",
    "from sklearn.neighbors import KNeighborsClassifier\n",
    "import mglearn\n",
    "\n",
    "# 0~99 사이의 랜덤 값 25x2 ---①\n",
    "trainData = np.random.randint(0,100,(25,2)).astype(np.float32)\n",
    "# trainDatat[0]:kick, trainData[1]:kiss, kick > kiss ? 1 : 0 ---②\n",
    "responses = (trainData[:, 0] >trainData[:,1]).astype(np.float32)\n",
    "# 0: action : 1romantic ---③\n",
    "action = trainData[responses==0]\n",
    "romantic = trainData[responses==1]\n",
    "# action은 파랑 삼각형, romantic은 빨강색 동그라미로 표시 ---④\n",
    "plt.scatter(action[:,0],action[:,1], 80, 'b', '^', label='action')\n",
    "plt.scatter(romantic[:,0],romantic[:,1], 80, 'r', 'o',label=\"romantic\")\n",
    "\n",
    "# 새로운 데이타 생성, 0~99 랜덤 수 1X2, 초록색 사각형으로 표시 ---⑤\n",
    "newcomer = np.random.randint(0,100,(1,2)).astype(np.float32)\n",
    "plt.scatter(newcomer[:,0],newcomer[:,1],200,'g','s', label=\"new\")\n",
    "\n",
    "# Knearest 알고리즘 생성 및 훈련 --- ⑥\n",
    "knn = KNeighborsClassifier(n_neighbors=3)\n",
    "knn.fit(trainData, responses)\n",
    "# 결과 예측 ---⑦\n",
    "\n",
    "pred = knn.predict(newcomer)\n",
    "print(\"predict:\", pred)\n",
    "mglearn.plots.plot_2d_separator(knn, trainData, fill=True, alpha=0.1)\n",
    "\n",
    "\n",
    "# 새로운 결과에 화살표로 표시 ---⑧\n",
    "anno_x, anno_y = newcomer.ravel()\n",
    "label = \"action\" if pred == 0 else \"romantic\" \n",
    "plt.annotate(label, xy=(anno_x + 1, anno_y+1), \\\n",
    "            xytext=(anno_x+5, anno_y+10), arrowprops={'color':'black'})\n",
    "plt.xlabel('kiss');plt.ylabel('kick')\n",
    "plt.legend(loc=\"upper right\")\n",
    "plt.show()"
   ]
  },
  {
   "cell_type": "markdown",
   "metadata": {
    "slideshow": {
     "slide_type": "slide"
    }
   },
   "source": [
    "### 손글씨 숫자 분류 예제\n",
    "* `load_digits()`"
   ]
  },
  {
   "cell_type": "code",
   "execution_count": null,
   "metadata": {
    "slideshow": {
     "slide_type": "subslide"
    }
   },
   "outputs": [],
   "source": [
    "import numpy as np, cv2\n",
    "from sklearn.datasets import load_digits\n",
    "from sklearn.model_selection import train_test_split\n",
    "from sklearn.neighbors import KNeighborsClassifier\n",
    "import matplotlib.pyplot as plt\n",
    "\n",
    "digits = load_digits()  #Mnist로 도 해보자\n",
    "\n",
    "print(digits.keys()) # data, target, target_names, images ...\n",
    "print(digits.data.shape) # 1D each sample, 64\n",
    "print(digits.target.shape) \n",
    "print(digits.images.shape) # 2D each sample, 8x8\n",
    "print(digits.target_names) # all classes\n",
    "\n",
    "\n",
    "print(\"first digits :\", digits.target[0])\n",
    "plt.subplot(121)\n",
    "plt.imshow(digits.images[0], cmap='gray')\n",
    "plt.subplot(122)\n",
    "plt.imshow(digits.data[0].reshape((8,8)), cmap='gray')\n",
    "plt.show()"
   ]
  },
  {
   "cell_type": "markdown",
   "metadata": {},
   "source": [
    "### 손글씨  숫자 분류 예제\n",
    "* 첫 번째 숫자만 표시"
   ]
  },
  {
   "cell_type": "code",
   "execution_count": null,
   "metadata": {
    "slideshow": {
     "slide_type": "slide"
    }
   },
   "outputs": [],
   "source": [
    "for i in digits.target_names:\n",
    "    dimg = digits.images[digits.target==i][0]\n",
    "    plt.subplot(1,10,i+1)\n",
    "    plt.imshow(dimg, cmap='gray')\n",
    "    plt.title(i)\n",
    "    plt.axis('off')\n",
    "plt.show()\n"
   ]
  },
  {
   "cell_type": "markdown",
   "metadata": {},
   "source": [
    "### 손글씨 숫자 분류 예제\n",
    "* 훈련 세트와 테스트 세트 분류\n",
    "* 예측"
   ]
  },
  {
   "cell_type": "code",
   "execution_count": null,
   "metadata": {
    "slideshow": {
     "slide_type": "slide"
    }
   },
   "outputs": [],
   "source": [
    "X_train, X_test, y_train, y_test = train_test_split(digits.data, digits.target, random_state=0, test_size=0.2)\n",
    "\n",
    "for k in range(1, 11):\n",
    "    # 결과 예측 ---④\n",
    "    knn = KNeighborsClassifier(n_neighbors=k)\n",
    "    knn.fit(X_train, y_train)\n",
    "\n",
    "    score = knn.score(X_test, y_test)\n",
    "    print(\"k=%d, accuracy=%.2f%%\"%(k, score*100))"
   ]
  },
  {
   "cell_type": "markdown",
   "metadata": {},
   "source": [
    "### 손글씨 숫자 분류 예제\n",
    "* 손으로 쓴 숫자 인식하기"
   ]
  },
  {
   "cell_type": "code",
   "execution_count": null,
   "metadata": {},
   "outputs": [],
   "source": [
    "import cv2\n",
    "print(cv2.__version__)\n",
    "\n",
    "# 인식시킬 손글씨 이미지 읽기 \n",
    "file_name = \"../img/0458.png\"\n",
    "image = cv2.imread(file_name)\n",
    "plt.imshow(image)"
   ]
  },
  {
   "cell_type": "markdown",
   "metadata": {},
   "source": [
    "### 손글씨 숫자 분류 예제\n",
    "* 숫자 별 분리"
   ]
  },
  {
   "cell_type": "code",
   "execution_count": null,
   "metadata": {},
   "outputs": [],
   "source": [
    "gray = cv2.cvtColor(image, cv2.COLOR_BGR2GRAY)\n",
    "_, th = cv2.threshold(gray, 127, 255, cv2.THRESH_BINARY_INV)\n",
    "# contours, hirachy = cv2.findContours(th, cv2.RETR_EXTERNAL, cv2.CHAIN_APPROX_SIMPLE)  # for OpenCV 4.x\n",
    "_, contours, hirachy = cv2.findContours(th, cv2.RETR_EXTERNAL, cv2.CHAIN_APPROX_SIMPLE) # for OpenCV 3.x\n",
    "numbers = []\n",
    "for c in contours:\n",
    "    # 컨투어를 감싸는 외접 사각형으로 숫자 영역 좌표 구하기 ---⑦\n",
    "    (x, y, w, h) = cv2.boundingRect(c)    \n",
    "    # 외접 사각형의 크기가 너무 작은것은 제외 ---⑧\n",
    "    if w >= 5 and h >= 25:\n",
    "        # 숫자 영역만 roi로 확보하고 사각형 그리기 ---⑨\n",
    "        roi = gray[y:y + h, x:x + w]\n",
    "        numbers.append(roi)\n",
    "for i, n in enumerate(numbers):\n",
    "    plt.subplot(1,len(numbers), i+1)\n",
    "    plt.imshow(n, cmap=\"gray\")"
   ]
  },
  {
   "cell_type": "markdown",
   "metadata": {},
   "source": [
    "### 손글씨 숫자 분류 예제\n",
    "* 훈련 세트와 같은 크기로 축소"
   ]
  },
  {
   "cell_type": "code",
   "execution_count": null,
   "metadata": {},
   "outputs": [],
   "source": [
    "def digit2data(src, reshape=True):\n",
    "    h, w = src.shape[:2]\n",
    "    square = src\n",
    "    # 정사각형 형태로 만들기\n",
    "    if h > w:\n",
    "        pad = (h - w)//2\n",
    "        square = np.zeros((h, h), dtype=np.uint8)\n",
    "        square[:, pad:pad+w] = src\n",
    "    elif w > h :\n",
    "        pad = (w - h)//2\n",
    "        square = np.zeros((w, w), dtype=np.uint8)\n",
    "        square[pad:pad+h, :] = src\n",
    "    # 0으로 채워진 8x8 이미지 생성\n",
    "    px = np.zeros((8,8), np.uint8)\n",
    "    # 원본을 8x8으로 축소\n",
    "    px[:, :] = cv2.resize(square, (8,8), interpolation=cv2.INTER_AREA)\n",
    "    if reshape:\n",
    "        # 1x64형태로 변환\n",
    "        px = px.reshape((1,8*8))\n",
    "    return px    "
   ]
  },
  {
   "cell_type": "markdown",
   "metadata": {},
   "source": [
    "### 손글씨 숫자 분류 예제\n",
    "* 숫자 인식"
   ]
  },
  {
   "cell_type": "code",
   "execution_count": null,
   "metadata": {},
   "outputs": [],
   "source": [
    "knn = KNeighborsClassifier(n_neighbors=1)\n",
    "knn.fit(digits.data, digits.target)\n",
    "\n",
    "for i, n in enumerate(numbers):\n",
    "    n = 255- n  # 반전\n",
    "    data = digit2data(n)\n",
    "    pred = knn.predict(data)\n",
    "    plt.subplot(1, len(numbers), i+1)\n",
    "    plt.title(str(pred))\n",
    "    plt.imshow(digit2data(n, False), cmap=\"gray\")\n",
    "    plt.axis(\"off\")"
   ]
  }
 ],
 "metadata": {
  "kernelspec": {
   "display_name": "Python 3",
   "language": "python",
   "name": "python3"
  },
  "language_info": {
   "codemirror_mode": {
    "name": "ipython",
    "version": 3
   },
   "file_extension": ".py",
   "mimetype": "text/x-python",
   "name": "python",
   "nbconvert_exporter": "python",
   "pygments_lexer": "ipython3",
   "version": "3.6.8"
  }
 },
 "nbformat": 4,
 "nbformat_minor": 2
}
