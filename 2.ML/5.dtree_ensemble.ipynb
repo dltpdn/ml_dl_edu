{
 "cells": [
  {
   "cell_type": "markdown",
   "metadata": {},
   "source": [
    "# Desition Tree & Ensemble"
   ]
  },
  {
   "cell_type": "markdown",
   "metadata": {},
   "source": [
    "## Decision Tree\n",
    "* 의사결정 나무\n",
    "    * 트리구조 분류 알고리즘\n",
    "* 스무고개 놀이와 비슷\n",
    "    * 예/아니오 질문을 이어 나가면서 학습\n",
    "![image.png](https://i.imgur.com/q16hdP5.png)"
   ]
  },
  {
   "cell_type": "markdown",
   "metadata": {},
   "source": [
    "### 노드 선택 규칙\n",
    "* ID3 알고리즘\n",
    "    * 엔트로피(entropy)\n",
    "    * 분자의 무질서함 측정, 열역학(양자역학, 정보이론, 통계역학 등)\n",
    "    * 엔트로피가 크면 불확실성이 크다\n",
    "    * 엔트로피 대신 지니 불순도 대체 가능\n",
    "* $\\displaystyle E(x) = -\\sum_{i=1}^n p(x_i)log_b(p(x_i)) = -p(Pos)log2(p(Pos)) - p(Neg)log2(p(Neg))$\n",
    "\n",
    "![image.png](https://i.imgur.com/1rP82Kk.png)"
   ]
  },
  {
   "cell_type": "markdown",
   "metadata": {},
   "source": [
    "### 노드 선택 규칙\n",
    "* ID3 알고리즘\n",
    "    * Information Gain(정보 획득량)\n",
    "        * $IG(T,a) = E(T) - E(T,a)$\n",
    "        * 분리전 엔트로피에서 분리 후 엔트로피를 빼기 연산\n",
    "            * 양수 : 엔트로피가 작아 졌다\n",
    "        * 분리전, 후의 엔트로피가 작아지는 노드 선택\n",
    "        * 처리할 수 있는 데이타 수가 가장 많은 노드\n",
    "    * 선택 갯수\n",
    "        * 모든 특성이 경로에 포함 되있는 경우\n",
    "        * 엔트로피가 0인 경로가 나온 경우\n",
    "\n"
   ]
  },
  {
   "cell_type": "markdown",
   "metadata": {},
   "source": [
    "### 노드 선택 규칙\n",
    "* CART(Classification And Regression Tree)알고리즘\n",
    "    * 말단 노드를 제외한 모든 노드는 자식을 2개로 제약\n",
    "    * 하나의 특성 k의 임계값 T를 정해서 두개의 서브셋으로 나눔\n",
    "    * 불순도가 가장 낮은 k와 T를 선정\n",
    "    * $\\displaystyle J(k, t_k) = \\frac{m_{left}}{m}G_{left} + \\frac{m_{right}}{m}G_{right}$\n",
    "        * $G_{left/right}$ : 왼쪽 또는 오른족 서브셋의 불순도\n",
    "        * $m_{left/right}$ : 왼쪽 또는 오른족 서브셋의 샘플수\n",
    "    * Gini 불순도(impurity), 노드의 샘플이 같은 클래스에 속한 정도\n",
    "        * $G_i = 1 - \\sum_{k=1}^n P_i, k^2 $\n",
    "            * ex) sample= 54, value = [0,49,5] , gini=0.168\n",
    "            * $1-(0/54)^2 - (49/54)2 - (5/54)^2 \\approx 0.168$\n",
    "        \n"
   ]
  },
  {
   "cell_type": "markdown",
   "metadata": {},
   "source": [
    "### 장단점\n",
    "* 장점\n",
    "    * 상대적으로 빠름\n",
    "    * 데이타의 전처리가 거의 불필요\n",
    "        * 예: 스케일링, 정규화, 표준화\n",
    "    * 결정 트리는 Overfitting(과적합)이 되지 않는다.\n",
    "        * 앙상블(Ensemble) 기법에 좋다.\n",
    "        * Random Forest\n",
    "        * Gradient Boosting\n",
    "    * White Box Model\n",
    "        * 결정 방식(예측의 근거) 명확\n",
    "        * Neural Network와 상반 - Black Box Model\n",
    "* 단점\n",
    "    * 연속적 특성 데이타에 부적합\n",
    "    * 클래스가 많고 데이타가 적을 때 나쁜 성능\n",
    "    * 훈련 과정의 계산량이 많다.\n"
   ]
  },
  {
   "cell_type": "markdown",
   "metadata": {},
   "source": [
    "### scikit-learn\n",
    "* `sklearn.tree.DecisionTreeClassifier`\n",
    "    * `criterion` : {'gini' , 'entropy'}\n",
    "        * `gini` : default\n",
    "    * ```\n",
    "tree_clf = DecisionTreeClassifier()\n",
    "tree_clf.fit(X,y)\n",
    "```\n",
    "* 이진 트리 CART 알고리즘 사용\n",
    "    * leaf node 외 모든 노드의 자식노드는 2개로 제한\n",
    "* 노드 속성\n",
    "    * samples : 노드에 속한 샘플 수 \n",
    "    * value : 각 클래스에 속한 샘플 수 \n",
    "* export_graphviz() 함수로 시각화 파일 생성\n"
   ]
  },
  {
   "cell_type": "markdown",
   "metadata": {},
   "source": [
    "### 모듈 설치\n",
    "* pydot\n",
    "    * pip install pydot\n",
    "* grphviz\n",
    "    * 실행파일 설치 : https://graphviz.gitlab.io/download/\n",
    "    * windows : https://graphviz.gitlab.io/_pages/Download/Download_windows.html\n",
    "    * pip install graphviz"
   ]
  },
  {
   "cell_type": "code",
   "execution_count": 4,
   "metadata": {},
   "outputs": [
    {
     "name": "stdout",
     "output_type": "stream",
     "text": [
      "Requirement already satisfied: pydot in c:\\python36\\lib\\site-packages (1.4.1)\n",
      "Collecting graphviz\n",
      "  Downloading https://files.pythonhosted.org/packages/f5/74/dbed754c0abd63768d3a7a7b472da35b08ac442cf87d73d5850a6f32391e/graphviz-0.13.2-py2.py3-none-any.whl\n",
      "Requirement already satisfied: pyparsing>=2.1.4 in c:\\python36\\lib\\site-packages (from pydot) (2.4.0)\n",
      "Installing collected packages: graphviz\n",
      "Successfully installed graphviz-0.13.2\n"
     ]
    },
    {
     "name": "stderr",
     "output_type": "stream",
     "text": [
      "WARNING: You are using pip version 19.3; however, version 19.3.1 is available.\n",
      "You should consider upgrading via the 'python -m pip install --upgrade pip' command.\n"
     ]
    }
   ],
   "source": [
    "!pip install pydot graphviz"
   ]
  },
  {
   "cell_type": "markdown",
   "metadata": {},
   "source": [
    "### Decision Tree 예제\n",
    "몸매, 얼굴, 결혼 여부로 사귀고 싶은 사람을 분류하는 예제\n",
    "\n",
    "*  dataset\n",
    "\n",
    "몸매 | 얼굴 | 미혼| 이상형\n",
    "---|---|---|---\n",
    "yes | yes | yes| yes\n",
    "yes | yes | no| no\n",
    "no | no | yes | no\n",
    "no| yes|yes | no\n",
    "yes|yes|no|no\n",
    "yes |no|yes| no\n",
    "no|no|yes|no\n",
    "no| yes| no| no"
   ]
  },
  {
   "cell_type": "markdown",
   "metadata": {},
   "source": [
    "### 알고리즘\n",
    "* ID3 Root Node\n",
    "    * 클래스 이상형의 엔트로피 :$ E(이상형)= E(1^+, 7^-) = -\\frac{1}{8}log2(\\frac{1}{8}) - \\frac{7}{8}log2(\\frac{7}{8}) \\approx 0.543$\n",
    "        * $IG(이상형, 몸매) = E(이상형) - E(이상형, 몸매) = 0.543 - \\frac{4}{8} E(1^+,3^-) + \\frac{4}{8} E(0^+, 4^-) = 0.138  $\n",
    "        * $IG(이상형, 얼굴) = E(이상형) - E(이상형, 얼굴) = 0.543 - \\frac{5}{8} E(1^+,4^-) + \\frac{3}{8} E(0^+, 3^-) = 0.093  $\n",
    "        * $IG(이상형, 미혼) = E(이상형) - E(이상형, 미혼) = 0.543 - \\frac{4}{8} E(1^+,4^-) + \\frac{3}{8} E(0^+, 3^-) = 0.093  $\n",
    "    * 몸매를 root node로 선정\n",
    "    \n",
    "* CART Root Node\n",
    "    * $J(몸매, 0.5) = \\frac{4}{8}G(4,0) + \\frac{4}{8}G(3,1) = 0 + \\frac{4}{8}(1- \\frac{3}{4}^2 - \\frac{1}{4}^2) = 0.1875 $ 선정\n",
    "    * $J(얼굴, 0.5) = \\frac{5}{8}G(4,1) + \\frac{3}{8}G(3,0) = \\frac{5}{8}(1- \\frac{4}{5}^2 - \\frac{1}{5}^2)  + 0= 0.1993 $\n",
    "    * $J(미혼, 0.5) = \\frac{5}{8}G(4,1) + \\frac{3}{8}G(3,0) = \\frac{5}{8}(1- \\frac{4}{5}^2 - \\frac{1}{5}^2)  + 0= 0.1993 $\n",
    "    "
   ]
  },
  {
   "cell_type": "markdown",
   "metadata": {},
   "source": [
    "#### 결정 트리 이상형 예제(entropy)"
   ]
  },
  {
   "cell_type": "code",
   "execution_count": 5,
   "metadata": {},
   "outputs": [],
   "source": [
    "import numpy as np\n",
    "import matplotlib.pylab as plt\n",
    "from sklearn.tree import DecisionTreeClassifier\n",
    "from sklearn.tree import export_graphviz\n",
    "from sklearn.externals.six import StringIO  \n",
    "import pydot\n",
    "#from IPython import display\n",
    "import graphviz"
   ]
  },
  {
   "cell_type": "code",
   "execution_count": 7,
   "metadata": {},
   "outputs": [
    {
     "name": "stdout",
     "output_type": "stream",
     "text": [
      "[[1 1 1]\n",
      " [1 1 0]\n",
      " [0 0 1]\n",
      " [0 1 1]\n",
      " [1 1 0]\n",
      " [1 0 1]\n",
      " [0 0 1]\n",
      " [0 1 0]] [1 0 0 0 0 0 0 0]\n",
      "Train Accurray:  1.0\n"
     ]
    },
    {
     "ename": "ExecutableNotFound",
     "evalue": "failed to execute ['dot', '-Tsvg'], make sure the Graphviz executables are on your systems' PATH",
     "output_type": "error",
     "traceback": [
      "\u001b[1;31m---------------------------------------------------------------------------\u001b[0m",
      "\u001b[1;31mFileNotFoundError\u001b[0m                         Traceback (most recent call last)",
      "\u001b[1;32mc:\\python36\\lib\\site-packages\\graphviz\\backend.py\u001b[0m in \u001b[0;36mrun\u001b[1;34m(cmd, input, capture_output, check, quiet, **kwargs)\u001b[0m\n\u001b[0;32m    158\u001b[0m     \u001b[1;32mtry\u001b[0m\u001b[1;33m:\u001b[0m\u001b[1;33m\u001b[0m\u001b[1;33m\u001b[0m\u001b[0m\n\u001b[1;32m--> 159\u001b[1;33m         \u001b[0mproc\u001b[0m \u001b[1;33m=\u001b[0m \u001b[0msubprocess\u001b[0m\u001b[1;33m.\u001b[0m\u001b[0mPopen\u001b[0m\u001b[1;33m(\u001b[0m\u001b[0mcmd\u001b[0m\u001b[1;33m,\u001b[0m \u001b[0mstartupinfo\u001b[0m\u001b[1;33m=\u001b[0m\u001b[0mget_startupinfo\u001b[0m\u001b[1;33m(\u001b[0m\u001b[1;33m)\u001b[0m\u001b[1;33m,\u001b[0m \u001b[1;33m**\u001b[0m\u001b[0mkwargs\u001b[0m\u001b[1;33m)\u001b[0m\u001b[1;33m\u001b[0m\u001b[1;33m\u001b[0m\u001b[0m\n\u001b[0m\u001b[0;32m    160\u001b[0m     \u001b[1;32mexcept\u001b[0m \u001b[0mOSError\u001b[0m \u001b[1;32mas\u001b[0m \u001b[0me\u001b[0m\u001b[1;33m:\u001b[0m\u001b[1;33m\u001b[0m\u001b[1;33m\u001b[0m\u001b[0m\n",
      "\u001b[1;32mc:\\python36\\lib\\subprocess.py\u001b[0m in \u001b[0;36m__init__\u001b[1;34m(self, args, bufsize, executable, stdin, stdout, stderr, preexec_fn, close_fds, shell, cwd, env, universal_newlines, startupinfo, creationflags, restore_signals, start_new_session, pass_fds, encoding, errors)\u001b[0m\n\u001b[0;32m    728\u001b[0m                                 \u001b[0merrread\u001b[0m\u001b[1;33m,\u001b[0m \u001b[0merrwrite\u001b[0m\u001b[1;33m,\u001b[0m\u001b[1;33m\u001b[0m\u001b[1;33m\u001b[0m\u001b[0m\n\u001b[1;32m--> 729\u001b[1;33m                                 restore_signals, start_new_session)\n\u001b[0m\u001b[0;32m    730\u001b[0m         \u001b[1;32mexcept\u001b[0m\u001b[1;33m:\u001b[0m\u001b[1;33m\u001b[0m\u001b[1;33m\u001b[0m\u001b[0m\n",
      "\u001b[1;32mc:\\python36\\lib\\subprocess.py\u001b[0m in \u001b[0;36m_execute_child\u001b[1;34m(self, args, executable, preexec_fn, close_fds, pass_fds, cwd, env, startupinfo, creationflags, shell, p2cread, p2cwrite, c2pread, c2pwrite, errread, errwrite, unused_restore_signals, unused_start_new_session)\u001b[0m\n\u001b[0;32m   1016\u001b[0m                                          \u001b[0mos\u001b[0m\u001b[1;33m.\u001b[0m\u001b[0mfspath\u001b[0m\u001b[1;33m(\u001b[0m\u001b[0mcwd\u001b[0m\u001b[1;33m)\u001b[0m \u001b[1;32mif\u001b[0m \u001b[0mcwd\u001b[0m \u001b[1;32mis\u001b[0m \u001b[1;32mnot\u001b[0m \u001b[1;32mNone\u001b[0m \u001b[1;32melse\u001b[0m \u001b[1;32mNone\u001b[0m\u001b[1;33m,\u001b[0m\u001b[1;33m\u001b[0m\u001b[1;33m\u001b[0m\u001b[0m\n\u001b[1;32m-> 1017\u001b[1;33m                                          startupinfo)\n\u001b[0m\u001b[0;32m   1018\u001b[0m             \u001b[1;32mfinally\u001b[0m\u001b[1;33m:\u001b[0m\u001b[1;33m\u001b[0m\u001b[1;33m\u001b[0m\u001b[0m\n",
      "\u001b[1;31mFileNotFoundError\u001b[0m: [WinError 2] The system cannot find the file specified",
      "\nDuring handling of the above exception, another exception occurred:\n",
      "\u001b[1;31mExecutableNotFound\u001b[0m                        Traceback (most recent call last)",
      "\u001b[1;32mc:\\python36\\lib\\site-packages\\IPython\\core\\formatters.py\u001b[0m in \u001b[0;36m__call__\u001b[1;34m(self, obj)\u001b[0m\n\u001b[0;32m    343\u001b[0m             \u001b[0mmethod\u001b[0m \u001b[1;33m=\u001b[0m \u001b[0mget_real_method\u001b[0m\u001b[1;33m(\u001b[0m\u001b[0mobj\u001b[0m\u001b[1;33m,\u001b[0m \u001b[0mself\u001b[0m\u001b[1;33m.\u001b[0m\u001b[0mprint_method\u001b[0m\u001b[1;33m)\u001b[0m\u001b[1;33m\u001b[0m\u001b[1;33m\u001b[0m\u001b[0m\n\u001b[0;32m    344\u001b[0m             \u001b[1;32mif\u001b[0m \u001b[0mmethod\u001b[0m \u001b[1;32mis\u001b[0m \u001b[1;32mnot\u001b[0m \u001b[1;32mNone\u001b[0m\u001b[1;33m:\u001b[0m\u001b[1;33m\u001b[0m\u001b[1;33m\u001b[0m\u001b[0m\n\u001b[1;32m--> 345\u001b[1;33m                 \u001b[1;32mreturn\u001b[0m \u001b[0mmethod\u001b[0m\u001b[1;33m(\u001b[0m\u001b[1;33m)\u001b[0m\u001b[1;33m\u001b[0m\u001b[1;33m\u001b[0m\u001b[0m\n\u001b[0m\u001b[0;32m    346\u001b[0m             \u001b[1;32mreturn\u001b[0m \u001b[1;32mNone\u001b[0m\u001b[1;33m\u001b[0m\u001b[1;33m\u001b[0m\u001b[0m\n\u001b[0;32m    347\u001b[0m         \u001b[1;32melse\u001b[0m\u001b[1;33m:\u001b[0m\u001b[1;33m\u001b[0m\u001b[1;33m\u001b[0m\u001b[0m\n",
      "\u001b[1;32mc:\\python36\\lib\\site-packages\\graphviz\\files.py\u001b[0m in \u001b[0;36m_repr_svg_\u001b[1;34m(self)\u001b[0m\n\u001b[0;32m    111\u001b[0m \u001b[1;33m\u001b[0m\u001b[0m\n\u001b[0;32m    112\u001b[0m     \u001b[1;32mdef\u001b[0m \u001b[0m_repr_svg_\u001b[0m\u001b[1;33m(\u001b[0m\u001b[0mself\u001b[0m\u001b[1;33m)\u001b[0m\u001b[1;33m:\u001b[0m\u001b[1;33m\u001b[0m\u001b[1;33m\u001b[0m\u001b[0m\n\u001b[1;32m--> 113\u001b[1;33m         \u001b[1;32mreturn\u001b[0m \u001b[0mself\u001b[0m\u001b[1;33m.\u001b[0m\u001b[0mpipe\u001b[0m\u001b[1;33m(\u001b[0m\u001b[0mformat\u001b[0m\u001b[1;33m=\u001b[0m\u001b[1;34m'svg'\u001b[0m\u001b[1;33m)\u001b[0m\u001b[1;33m.\u001b[0m\u001b[0mdecode\u001b[0m\u001b[1;33m(\u001b[0m\u001b[0mself\u001b[0m\u001b[1;33m.\u001b[0m\u001b[0m_encoding\u001b[0m\u001b[1;33m)\u001b[0m\u001b[1;33m\u001b[0m\u001b[1;33m\u001b[0m\u001b[0m\n\u001b[0m\u001b[0;32m    114\u001b[0m \u001b[1;33m\u001b[0m\u001b[0m\n\u001b[0;32m    115\u001b[0m     \u001b[1;32mdef\u001b[0m \u001b[0mpipe\u001b[0m\u001b[1;33m(\u001b[0m\u001b[0mself\u001b[0m\u001b[1;33m,\u001b[0m \u001b[0mformat\u001b[0m\u001b[1;33m=\u001b[0m\u001b[1;32mNone\u001b[0m\u001b[1;33m,\u001b[0m \u001b[0mrenderer\u001b[0m\u001b[1;33m=\u001b[0m\u001b[1;32mNone\u001b[0m\u001b[1;33m,\u001b[0m \u001b[0mformatter\u001b[0m\u001b[1;33m=\u001b[0m\u001b[1;32mNone\u001b[0m\u001b[1;33m,\u001b[0m \u001b[0mquiet\u001b[0m\u001b[1;33m=\u001b[0m\u001b[1;32mFalse\u001b[0m\u001b[1;33m)\u001b[0m\u001b[1;33m:\u001b[0m\u001b[1;33m\u001b[0m\u001b[1;33m\u001b[0m\u001b[0m\n",
      "\u001b[1;32mc:\\python36\\lib\\site-packages\\graphviz\\files.py\u001b[0m in \u001b[0;36mpipe\u001b[1;34m(self, format, renderer, formatter, quiet)\u001b[0m\n\u001b[0;32m    136\u001b[0m         out = backend.pipe(self._engine, format, data,\n\u001b[0;32m    137\u001b[0m                            \u001b[0mrenderer\u001b[0m\u001b[1;33m=\u001b[0m\u001b[0mrenderer\u001b[0m\u001b[1;33m,\u001b[0m \u001b[0mformatter\u001b[0m\u001b[1;33m=\u001b[0m\u001b[0mformatter\u001b[0m\u001b[1;33m,\u001b[0m\u001b[1;33m\u001b[0m\u001b[1;33m\u001b[0m\u001b[0m\n\u001b[1;32m--> 138\u001b[1;33m                            quiet=quiet)\n\u001b[0m\u001b[0;32m    139\u001b[0m \u001b[1;33m\u001b[0m\u001b[0m\n\u001b[0;32m    140\u001b[0m         \u001b[1;32mreturn\u001b[0m \u001b[0mout\u001b[0m\u001b[1;33m\u001b[0m\u001b[1;33m\u001b[0m\u001b[0m\n",
      "\u001b[1;32mc:\\python36\\lib\\site-packages\\graphviz\\backend.py\u001b[0m in \u001b[0;36mpipe\u001b[1;34m(engine, format, data, renderer, formatter, quiet)\u001b[0m\n\u001b[0;32m    227\u001b[0m     \"\"\"\n\u001b[0;32m    228\u001b[0m     \u001b[0mcmd\u001b[0m\u001b[1;33m,\u001b[0m \u001b[0m_\u001b[0m \u001b[1;33m=\u001b[0m \u001b[0mcommand\u001b[0m\u001b[1;33m(\u001b[0m\u001b[0mengine\u001b[0m\u001b[1;33m,\u001b[0m \u001b[0mformat\u001b[0m\u001b[1;33m,\u001b[0m \u001b[1;32mNone\u001b[0m\u001b[1;33m,\u001b[0m \u001b[0mrenderer\u001b[0m\u001b[1;33m,\u001b[0m \u001b[0mformatter\u001b[0m\u001b[1;33m)\u001b[0m\u001b[1;33m\u001b[0m\u001b[1;33m\u001b[0m\u001b[0m\n\u001b[1;32m--> 229\u001b[1;33m     \u001b[0mout\u001b[0m\u001b[1;33m,\u001b[0m \u001b[0m_\u001b[0m \u001b[1;33m=\u001b[0m \u001b[0mrun\u001b[0m\u001b[1;33m(\u001b[0m\u001b[0mcmd\u001b[0m\u001b[1;33m,\u001b[0m \u001b[0minput\u001b[0m\u001b[1;33m=\u001b[0m\u001b[0mdata\u001b[0m\u001b[1;33m,\u001b[0m \u001b[0mcapture_output\u001b[0m\u001b[1;33m=\u001b[0m\u001b[1;32mTrue\u001b[0m\u001b[1;33m,\u001b[0m \u001b[0mcheck\u001b[0m\u001b[1;33m=\u001b[0m\u001b[1;32mTrue\u001b[0m\u001b[1;33m,\u001b[0m \u001b[0mquiet\u001b[0m\u001b[1;33m=\u001b[0m\u001b[0mquiet\u001b[0m\u001b[1;33m)\u001b[0m\u001b[1;33m\u001b[0m\u001b[1;33m\u001b[0m\u001b[0m\n\u001b[0m\u001b[0;32m    230\u001b[0m     \u001b[1;32mreturn\u001b[0m \u001b[0mout\u001b[0m\u001b[1;33m\u001b[0m\u001b[1;33m\u001b[0m\u001b[0m\n\u001b[0;32m    231\u001b[0m \u001b[1;33m\u001b[0m\u001b[0m\n",
      "\u001b[1;32mc:\\python36\\lib\\site-packages\\graphviz\\backend.py\u001b[0m in \u001b[0;36mrun\u001b[1;34m(cmd, input, capture_output, check, quiet, **kwargs)\u001b[0m\n\u001b[0;32m    160\u001b[0m     \u001b[1;32mexcept\u001b[0m \u001b[0mOSError\u001b[0m \u001b[1;32mas\u001b[0m \u001b[0me\u001b[0m\u001b[1;33m:\u001b[0m\u001b[1;33m\u001b[0m\u001b[1;33m\u001b[0m\u001b[0m\n\u001b[0;32m    161\u001b[0m         \u001b[1;32mif\u001b[0m \u001b[0me\u001b[0m\u001b[1;33m.\u001b[0m\u001b[0merrno\u001b[0m \u001b[1;33m==\u001b[0m \u001b[0merrno\u001b[0m\u001b[1;33m.\u001b[0m\u001b[0mENOENT\u001b[0m\u001b[1;33m:\u001b[0m\u001b[1;33m\u001b[0m\u001b[1;33m\u001b[0m\u001b[0m\n\u001b[1;32m--> 162\u001b[1;33m             \u001b[1;32mraise\u001b[0m \u001b[0mExecutableNotFound\u001b[0m\u001b[1;33m(\u001b[0m\u001b[0mcmd\u001b[0m\u001b[1;33m)\u001b[0m\u001b[1;33m\u001b[0m\u001b[1;33m\u001b[0m\u001b[0m\n\u001b[0m\u001b[0;32m    163\u001b[0m         \u001b[1;32melse\u001b[0m\u001b[1;33m:\u001b[0m\u001b[1;33m\u001b[0m\u001b[1;33m\u001b[0m\u001b[0m\n\u001b[0;32m    164\u001b[0m             \u001b[1;32mraise\u001b[0m\u001b[1;33m\u001b[0m\u001b[1;33m\u001b[0m\u001b[0m\n",
      "\u001b[1;31mExecutableNotFound\u001b[0m: failed to execute ['dot', '-Tsvg'], make sure the Graphviz executables are on your systems' PATH"
     ]
    },
    {
     "data": {
      "text/plain": [
       "<graphviz.files.Source at 0x29253bf3b38>"
      ]
     },
     "metadata": {},
     "output_type": "display_data"
    },
    {
     "name": "stdout",
     "output_type": "stream",
     "text": [
      "[1]\n",
      "[0]\n",
      "[0]\n",
      "[0]\n",
      "[0]\n"
     ]
    }
   ],
   "source": [
    "data = np.array([[1,1,1,1],\n",
    "                 [1,1,0,0],\n",
    "                 [0,0,1,0],\n",
    "                 [0,1,1,0],\n",
    "                 [1,1,0,0],\n",
    "                 [1,0,1,0],\n",
    "                 [0,0,1,0],\n",
    "                 [0,1,0,0]])\n",
    "\n",
    "X = data[:, :-1]\n",
    "y = data[:, -1]\n",
    "print(X, y)\n",
    "\n",
    "tree_ent = DecisionTreeClassifier(criterion='entropy')\n",
    "tree_ent.fit(X,y)\n",
    "print(\"Train Accurray: \", tree_ent.score(X, y))\n",
    "dot_data = StringIO()\n",
    "export_graphviz(tree_ent,\n",
    "                out_file=dot_data,\n",
    "                feature_names=[\"몸매\", \"얼굴\", \"미혼\"],\n",
    "                class_names=[\"폭탄\", \"이상형\"])\n",
    "graph = pydot.graph_from_dot_data(dot_data.getvalue())[0]\n",
    "display(graphviz.Source(graph))\n",
    "\n",
    "print(tree_ent.predict([[1,1,1]]))\n",
    "print(tree_ent.predict([[0,1,1]]))\n",
    "print(tree_ent.predict([[1,0,1]]))\n",
    "print(tree_ent.predict([[1,1,0]]))\n",
    "print(tree_ent.predict([[0,0,0]]))"
   ]
  },
  {
   "cell_type": "markdown",
   "metadata": {},
   "source": [
    "#### 결정 트리 이상형 예제( Jini)"
   ]
  },
  {
   "cell_type": "code",
   "execution_count": null,
   "metadata": {},
   "outputs": [],
   "source": [
    "# 하드 코딩한 샘플과 sklearn으로 DT 예제 및 시각화 예제\n",
    "# 사귀고 싶은 이상형 찾기\n",
    "# 특성 : 몸매, 얼굴, 미혼, 이상형\n",
    "data = np.array([[1,1,1,1],\n",
    "                 [1,1,0,0],\n",
    "                 [0,0,1,0],\n",
    "                 [0,1,1,0],\n",
    "                 [1,1,0,0],\n",
    "                 [1,0,1,0],\n",
    "                 [0,0,1,0],\n",
    "                 [0,1,0,0]])\n",
    "\n",
    "X = data[:, :-1]\n",
    "y = data[:, -1]\n",
    "print(X, y)\n",
    "\n",
    "tree_jini = DecisionTreeClassifier(random_state=0)\n",
    "tree_jini.fit(X,y)\n",
    "print(\"Train Accurray: \", tree_jini.score(X, y))\n",
    "\n",
    "'''\n",
    "dot_data = StringIO()\n",
    "export_graphviz(tree, out_file=dot_data)\n",
    "dot_data.getvalue()\n",
    "\n",
    "graph = pydot.graph_from_dot_data(dot_data.getvalue())\n",
    "print( '\"graph\" is object of type {}'.format(type(graph[0])), graph[0].create_png())\n",
    "\n",
    "display.Image(graph[0].create_png())\n",
    "'''\n",
    "'''\n",
    "export_graphviz(tree,\n",
    "                out_file=\"./father_tree.dot\",\n",
    "        feature_names=[\"gender\", \"marrage\", \"children\"],\n",
    "        class_names=[\"Mail\", \"single\", \"father\"],\n",
    "        rounded=True,\n",
    "        filled=True )\n",
    "with open(\"father_tree.dot\") as f:\n",
    "    dot_graph = f.read()\n",
    "    display(graphviz.Source(dot_graph))\n",
    "    #dot = graphviz.Source(dot_graph)\n",
    "    #dot.format = 'png'\n",
    "    #dot.render(filename='father_tree.png', directory='./', cleanup=True)\n",
    "    #dot\n",
    "'''\n",
    "\n",
    "dot_data = StringIO()\n",
    "export_graphviz(tree_jini,\n",
    "                out_file=dot_data,\n",
    "                feature_names=[\"몸매\", \"얼굴\", \"미혼\"],\n",
    "                class_names=[\"폭탄\", \"이상형\"],)\n",
    "graph = pydot.graph_from_dot_data(dot_data.getvalue())[0]\n",
    "display(graphviz.Source(graph))\n",
    "\n",
    "print(tree_jini.predict([[1,1,1]]))\n",
    "print(tree_jini.predict([[0,1,1]]))\n",
    "print(tree_jini.predict([[1,0,1]]))\n",
    "print(tree_jini.predict([[1,1,0]]))\n",
    "print(tree_jini.predict([[0,0,0]]))\n"
   ]
  },
  {
   "cell_type": "markdown",
   "metadata": {},
   "source": [
    "#### 유방암 예제, DT"
   ]
  },
  {
   "cell_type": "code",
   "execution_count": null,
   "metadata": {},
   "outputs": [],
   "source": [
    "def plot_feature_importance(dataset, model):\n",
    "    n = len(dataset.feature_names)\n",
    "    plt.barh(range(n), model.feature_importances_, align='center')\n",
    "    plt.yticks(np.arange(n), dataset.feature_names)\n",
    "    plt.xlabel(\"feature importance\")\n",
    "    plt.ylabel('features')\n",
    "    plt.show()\n",
    "    "
   ]
  },
  {
   "cell_type": "code",
   "execution_count": null,
   "metadata": {},
   "outputs": [],
   "source": [
    "# 분류 예제 , sklearn 책의 유방암 p106\n",
    "from sklearn import model_selection\n",
    "from sklearn import datasets\n",
    "\n",
    "def cancer_lab(depth=0):\n",
    "    random_state = 0\n",
    "    cancer = datasets.load_breast_cancer()\n",
    "    X_train, X_test, y_train, y_test = model_selection.train_test_split(cancer.data,\n",
    "                                                        cancer.target,\n",
    "                                                        stratify=cancer.target,\n",
    "                                                        random_state=42\n",
    "                                                        )\n",
    "    \n",
    "    if depth == 0:\n",
    "        tree = DecisionTreeClassifier(random_state=random_state)\n",
    "    else :\n",
    "        tree = DecisionTreeClassifier(random_state=random_state, max_depth=4) \n",
    "    tree.fit(X_train, y_train)\n",
    "    print('Train Accuracy(depth=%d): %.3f%%'%(depth, tree.score(X_train, y_train)*100))\n",
    "    print('Test Accuracy(depth=%d): %.3f%%'%(depth, tree.score(X_test, y_test)*100))\n",
    "\n",
    "    return tree, cancer\n",
    "\n",
    "# max_depth를 지정한 것이 훈련 정확도는 낮지만, 테스트 정확도가 높다\n",
    "tree1, cancer = cancer_lab() \n",
    "print(\"feature importance:\", tree1.feature_importances_)\n",
    "tree2, cancer = cancer_lab(4)\n",
    "print(\"feature importance:\", tree1.feature_importances_)\n",
    "\n",
    "dot_data = StringIO()\n",
    "export_graphviz(tree2,\n",
    "               out_file=dot_data,\n",
    "               feature_names=cancer.feature_names,\n",
    "               class_names=['악성', '양성'])\n",
    "graph = pydot.graph_from_dot_data(dot_data.getvalue())[0]\n",
    "display(graphviz.Source(graph))\n",
    "\n",
    "plot_feature_importance(cancer, tree2)\n"
   ]
  },
  {
   "cell_type": "markdown",
   "metadata": {},
   "source": [
    "### Ensemble(앙상블) 기법\n",
    "* 여러 머신러닝 모델을 연결해서 더 강력한 모델을 만드는 기법\n",
    "* 서로 같거나 다른 여러 모델을 만들어서 예측한 결과를 투표하는 기법\n",
    "    * 직접 투표 : 각 모델의 예측 결과 중 많은 것을 선택\n",
    "        * hard voting\n",
    "    * 간접 투표 : 각 모델은 클래스 확률을 예측\n",
    "        * 모든 확률을 평균내어 높은 확률을 선택\n",
    "        * soft voting\n",
    "![image.png](https://i.imgur.com/xmhDFgu.png)"
   ]
  },
  {
   "cell_type": "markdown",
   "metadata": {},
   "source": [
    "### Ensemble(앙상블) 기법\n",
    "* 대표적 앙상블 기법\n",
    "    * Bagging(배깅, bootstrap aggregating)\n",
    "        * 같은 훈련 알고리즘 사용\n",
    "        * 훈련 데이타셋 중복(bootstraping) 허용\n",
    "    * Pasting(페이스팅)\n",
    "        * 같은 훈련 알고리즘 사용\n",
    "        * 훈련 데이타셋 중복 불허\n",
    "    * Boosting(부스팅)\n",
    "        * AdaBoost(아다부스트, Adaptive Boosting)\n",
    "            * 과소적합된 훈련 가중치를 더 높여서 새로운 모델 학습\n",
    "        * Gradient Boost(그래디언트 부스트)\n",
    "            * 랜덤 제거, 사전가지치기 사용\n",
    "            * 얕은 트리(약한 학습기) 여러개 연결\n",
    "            * 핵심 변수 : learning_rate\n",
    "                * 이전 모델 잔여 오차 개선\n",
    "    * Stacking(스태킹, Stacked generalization)\n",
    "        * 여러 모델의 결과를 단순히 취합하는 것이 아니라 새로운 블렌딩 추가"
   ]
  },
  {
   "cell_type": "markdown",
   "metadata": {},
   "source": [
    "### Random Forest\n",
    "* 대표적 앙상블 모델\n",
    "* 과대적합 해소\n",
    "* 조금씩 다른 여러개의 결정 트리로 구성\n",
    "* 각 결정트리는 특정 문제에 과대적합된 모델\n",
    "* 생성 순서\n",
    "    * 생성할 트리 갯수를 정하고 Decision Tree를 여러개 생성\n",
    "    * 각 DT의 노드는 최적이 아닌 랜덤하게 생성\n",
    "    * 부트스트랩 샘플 생성\n",
    "        * n개의 샘플을 무작위로 여러번 추출\n",
    "    * 최선의 특성이 아닌 무작위 특성 노드를 선택해서 트리 생성\n",
    "    * 중복되는 데이타로 각 DT 훈련\n",
    "    * 각 DT에게 예측을 시켜서 가장 많이 나온 답을 선택 : Aggregating"
   ]
  },
  {
   "cell_type": "markdown",
   "metadata": {},
   "source": [
    "## scikit-learn의 ensemble 구현\n",
    "* sklearn.ensemble.Votingclassifier\n",
    "    * `estimator=[('lr', log_clf), ('rf', rnd_clf), ('svc', svm_clf)]`\n",
    "    * `votion='hard`\n",
    "* sklearn.ensemble.BaggingClassifier\n",
    "    * bootstrap\n",
    "        * True : 배깅\n",
    "        * False : 페이스팅\n",
    "    * n_jobs=1 : 사용할 CPU 코어수, -1:최대한\n",
    "* `sklearn.ensemble.RandomforestClassifier`\n",
    "    * n_estimators : 생성할 트리의 갯수, 클수록 좋지만 훈련시간과 메모리 부담\n",
    "        * 생성된 트리는 객체의 `estimator_` 속성에\n",
    "    * random_state : 생성할 때 마다 달라 질수 있으므로 같은 결과를 원하면 값을 고정\n",
    "    * max_fatures : 선택할 무작위 특성의 갯수, 핵심 변수, 기본값을 권장\n",
    "        * 값이 크면 : 트리들이 비슷해짐\n",
    "        * 값이 작으면 : 트리들이 달라지고 깊어진다.\n",
    "*  sklearn.ensemble.GradientBoostingclassfier\n",
    "    "
   ]
  },
  {
   "cell_type": "markdown",
   "metadata": {},
   "source": [
    "#### 유방암 예제 , random forest"
   ]
  },
  {
   "cell_type": "code",
   "execution_count": null,
   "metadata": {},
   "outputs": [],
   "source": [
    "# 책 intro_ml p119\n",
    "\n",
    "from sklearn import model_selection\n",
    "from sklearn import ensemble\n",
    "from sklearn import datasets\n",
    "\n",
    "cancer = datasets.load_breast_cancer()\n",
    "X_train, X_test, y_train, y_test = model_selection.train_test_split(cancer.data,\n",
    "                                                        cancer.target,\n",
    "                                                        random_state=0)\n",
    "\n",
    "forest = ensemble.RandomForestClassifier(n_estimators=100, random_state=0)\n",
    "forest.fit(X_train, y_train)\n",
    "\n",
    "print('Train Accuracy: %.3f%%'%(forest.score(X_train, y_train)*100))\n",
    "print('Test Accuracy: %.3f%%'%( forest.score(X_test, y_test)*100))"
   ]
  },
  {
   "cell_type": "markdown",
   "metadata": {},
   "source": [
    "#### 숫자 손글씨"
   ]
  },
  {
   "cell_type": "code",
   "execution_count": null,
   "metadata": {},
   "outputs": [],
   "source": [
    "import numpy as np, cv2\n",
    "from sklearn.datasets import load_digits\n",
    "from sklearn.model_selection import train_test_split\n",
    "from sklearn import ensemble\n",
    "import matplotlib.pyplot as plt\n",
    "\n",
    "digits = load_digits()\n",
    "X_train, X_test, y_train, y_test = train_test_split(digits.data, digits.target, random_state=0, test_size=0.3)\n",
    "\n",
    "#tree = DecisionTreeClassifier(criterion='entropy')\n",
    "tree = ensemble.RandomForestClassifier(n_estimators=100, random_state=0)\n",
    "tree.fit(X_train,y_train)\n",
    "\n",
    "print(\"Train Accuracy :\", tree.score(X_train, y_train))\n",
    "print(\"Test Accuracy1 :\", tree.score(X_test, y_test))\n"
   ]
  },
  {
   "cell_type": "code",
   "execution_count": null,
   "metadata": {},
   "outputs": [],
   "source": [
    "import sys\n",
    "sys.path.append('..')\n",
    "import img2data\n",
    "\n",
    "image = cv2.imread('../img/0458.png')\n",
    "plt.imshow(image)\n",
    "plt.show()\n",
    "numbers = img2data.img2digits(image, (8,8))\n",
    "for i, n in enumerate(numbers):\n",
    "    pred = tree.predict(n/255 * 16)\n",
    "    plt.subplot(1, len(numbers), i+1)\n",
    "    plt.title(str(pred))\n",
    "    plt.imshow(n.reshape(8,8), cmap=\"gray\")\n",
    "    plt.axis(\"off\")"
   ]
  }
 ],
 "metadata": {
  "celltoolbar": "Attachments",
  "kernelspec": {
   "display_name": "Python 3",
   "language": "python",
   "name": "python3"
  },
  "language_info": {
   "codemirror_mode": {
    "name": "ipython",
    "version": 3
   },
   "file_extension": ".py",
   "mimetype": "text/x-python",
   "name": "python",
   "nbconvert_exporter": "python",
   "pygments_lexer": "ipython3",
   "version": "3.6.8"
  }
 },
 "nbformat": 4,
 "nbformat_minor": 2
}
