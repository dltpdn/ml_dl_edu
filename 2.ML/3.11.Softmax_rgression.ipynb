{
 "cells": [
  {
   "cell_type": "markdown",
   "metadata": {},
   "source": [
    "## 3.11 Softmax Regression"
   ]
  },
  {
   "cell_type": "markdown",
   "metadata": {},
   "source": [
    "### Multinomial Classification\n",
    "* 여러 클래스를 분류하는 방법\n",
    "    * 이진 분류기를 여러번 쓰는 방법에 비해 행렬 연산을 하는 것이 효과적\n",
    "* 이진 분류기를 여러번 쓰는 것\n",
    "    * 클래스 A 모델:\n",
    "    $\\begin{bmatrix}x_1 & x_2 \\end{bmatrix}\n",
    "    \\begin{bmatrix}w_{a1} \\\\ w_{a2}\\end{bmatrix}\n",
    "    = \\begin{bmatrix}w_{a1}x_1 +w_{a2}x_2\\end{bmatrix}$\n",
    "    * 클래스 B 모델:\n",
    "    $\\begin{bmatrix}x_1 & x_2 \\end{bmatrix}\n",
    "    \\begin{bmatrix}w_{b1} \\\\ w_{b2}\\end{bmatrix}\n",
    "    =\\begin{bmatrix}w_{b1}x_1 +w_{b2}x_2\\end{bmatrix}$\n",
    "    * 클래스 C 모델:$\\begin{bmatrix}x_1 & x_2 \\end{bmatrix}\n",
    "    \\begin{bmatrix}w_{c1} \\\\ w_{c2}\\end{bmatrix}\n",
    "    =\\begin{bmatrix}w_{c1}x_1 +w_{c2}x_2\\end{bmatrix}$\n",
    "* 하나의 행렬로 계산\n",
    "    * $\\begin{bmatrix}x_1 & x_2 \\end{bmatrix}\n",
    "    \\begin{bmatrix}w_{a1}  & w_{b1} & w_{c1} \\\\ w_{a2} & w_{b2} &w_{c2}  \\end{bmatrix}\n",
    "    = \\begin{bmatrix}w_{a1}x_1 +w_{a2}x_2 & w_{b1}x_1 +w_{b2}x_2 & w_{c1}x_1 +w_{c2}x_2 \\end{bmatrix}$"
   ]
  },
  {
   "cell_type": "markdown",
   "metadata": {},
   "source": [
    "### Softmax 함수\n",
    "* 다항 로지스틱 회귀\n",
    "* Sigmoid 대신 Softmax 함수 사용\n",
    "    * Softmax : 각 출력 값은 0~1 사이, 모든 클래스의 값의 합은 1\n",
    "    * sigmoid 보다 좋은 이유 : 하나의 클래스가 높은 값을 갖으면 나머지 클래스는 아주 작은 값, 배타적\n",
    "* $\\displaystyle \\hat{P_k} = \\frac{e^{z_i}}{e^{z_0} + e^{z_1} + e^{z_2}... + e^{z_k}}= \\frac{e^{z_i}}{\\sum_{j=0}^ke^{z_k}}$"
   ]
  },
  {
   "cell_type": "markdown",
   "metadata": {},
   "source": [
    "### Softmax Prediction\n",
    "* Softmax 결과에서 확률이 가장 높은 클래스 반환\n",
    "* $\\hat{y} = argmax(\\hat{p})$"
   ]
  },
  {
   "cell_type": "markdown",
   "metadata": {},
   "source": [
    "### Cross Entropy\n",
    "* 소프트 맥스의 비용함수 :\n",
    "$\\displaystyle J(\\theta) =  -\\frac{1}{m}\\sum_{i=1}^m\\sum_{k=1}^ky_k^{(i)}log(\\hat{p_k})$\n",
    "* 소프트맥스를 통과한 결과값은 어떤 특정한 클래스만 높은 값을 갖고 나머지 클래스는 아주 작은 값을 갖는다.\n",
    "여기에 y는 정답 클래스인 경우만 1을 나머지는 0을 가지고 있으므로 소프트맥스를 통과한 결과와 y를 곱하는 것만으로도 정답만 값이 나오고 틀린 결과는 0에 가까울 수 밖에 없다. 그런데 소프트맥스를 통과한 값을 $log()$함수를 씌우면 그 반대의 결과가 나온다. 따라서 틀리면 큰값 맞으면 작은 값이 나오므로 비용함수로 적합하다."
   ]
  },
  {
   "cell_type": "markdown",
   "metadata": {},
   "source": [
    "### Gradient of Cross Entropy\n",
    "* $\\displaystyle \\nabla J(\\theta) = \\frac{1}{m}\\sum_{i=1}^m(\\hat{p}_k^{(i)} - y_k^{(i)})x^{(i)}$\n",
    "\n",
    "* 참고 강좌\n",
    "    * 김성훈 교수(https://www.youtube.com/watch?v=MFAnsx1y9ZI&feature=youtu.be)\n",
    "    * 정리 : http://saitcelebi.com/tut/output/part2.html\n",
    "    * http://rasbt.github.io/mlxtend/user_guide/classifier/SoftmaxRegression/\n",
    "    * https://deepnotes.io/softmax-crossentropy\n",
    "    * 크로스 엔트로피의 확률통계학적 : https://www.slideshare.net/jaepilko10/ss-91071277\n",
    "    * 크로스 엔트로피 정보학 : https://www.youtube.com/watch?v=ErfnhcEV1O8"
   ]
  },
  {
   "cell_type": "markdown",
   "metadata": {},
   "source": [
    "### Softmax 예제"
   ]
  },
  {
   "cell_type": "code",
   "execution_count": 1,
   "metadata": {},
   "outputs": [],
   "source": [
    "%matplotlib inline\n",
    "import numpy as np\n",
    "import matplotlib.pylab as plt"
   ]
  },
  {
   "cell_type": "code",
   "execution_count": 2,
   "metadata": {},
   "outputs": [
    {
     "name": "stdout",
     "output_type": "stream",
     "text": [
      "[[-0.1  1.4]\n",
      " [-0.5  0.2]\n",
      " [ 1.3  0.9]\n",
      " [-0.6  0.4]\n",
      " [-1.6  0.2]] (20, 2)\n"
     ]
    }
   ],
   "source": [
    "X = np.array([[-0.1, 1.4],\n",
    "              [-0.5, 0.2],\n",
    "              [ 1.3, 0.9],\n",
    "              [-0.6, 0.4],\n",
    "              [-1.6, 0.2],\n",
    "              [ 0.2, 0.2],\n",
    "              [-0.3,-0.4],\n",
    "              [ 0.7,-0.8],\n",
    "              [ 1.1,-1.5],\n",
    "              [-1.0, 0.9],\n",
    "              [-0.5, 1.5],\n",
    "              [-1.3,-0.4],\n",
    "              [-1.4,-1.2],\n",
    "              [-0.9,-0.7],\n",
    "              [ 0.4,-1.3],\n",
    "              [-0.4, 0.6],\n",
    "              [ 0.3,-0.5],\n",
    "              [-1.6,-0.7],\n",
    "              [-0.5,-1.4],\n",
    "              [-1.0,-1.4]])\n",
    "print(X[:5], X.shape)"
   ]
  },
  {
   "cell_type": "code",
   "execution_count": 3,
   "metadata": {},
   "outputs": [
    {
     "name": "stdout",
     "output_type": "stream",
     "text": [
      "one-hot encoding:\n",
      " [[1. 0. 0.]\n",
      " [1. 0. 0.]\n",
      " [0. 1. 0.]\n",
      " [1. 0. 0.]\n",
      " [0. 0. 1.]] (20, 3)\n"
     ]
    }
   ],
   "source": [
    "y = np.array([0, 0, 1, 0, 2, 1, 1, 1, 1, 0, 0, 2, 2, 2, 1, 0, 1, 2, 2, 2])\n",
    "y_enc = np.eye(3)[y]\n",
    "print('one-hot encoding:\\n', y_enc[:5], y_enc.shape)"
   ]
  },
  {
   "cell_type": "code",
   "execution_count": 4,
   "metadata": {},
   "outputs": [],
   "source": [
    "W = np.random.rand(2,3)\n",
    "bias = np.random.rand(1,3)"
   ]
  },
  {
   "cell_type": "code",
   "execution_count": 5,
   "metadata": {},
   "outputs": [
    {
     "name": "stdout",
     "output_type": "stream",
     "text": [
      "net input:\n",
      " [[-0.1  1.4]\n",
      " [-0.5  0.2]\n",
      " [ 1.3  0.9]\n",
      " [-0.6  0.4]\n",
      " [-1.6  0.2]\n",
      " [ 0.2  0.2]\n",
      " [-0.3 -0.4]\n",
      " [ 0.7 -0.8]\n",
      " [ 1.1 -1.5]\n",
      " [-1.   0.9]\n",
      " [-0.5  1.5]\n",
      " [-1.3 -0.4]\n",
      " [-1.4 -1.2]\n",
      " [-0.9 -0.7]\n",
      " [ 0.4 -1.3]\n",
      " [-0.4  0.6]\n",
      " [ 0.3 -0.5]\n",
      " [-1.6 -0.7]\n",
      " [-0.5 -1.4]\n",
      " [-1.  -1.4]] [[ 0.2702762   0.99514397 -0.08872282]\n",
      " [-0.41054403 -0.02553914 -0.45466198]\n",
      " [ 1.43534588  1.11078232  1.1844282 ]\n",
      " [-0.45119578  0.08702971 -0.54533442]\n",
      " [-1.42774781 -0.40533613 -1.45563319]\n",
      " [ 0.23676747  0.21614985  0.1823197 ]\n",
      " [-0.38106186 -0.3977727  -0.27364203]\n",
      " [ 0.4400262  -0.34669442  0.63568193]\n",
      " [ 0.62854385 -0.7234219   0.99853418]\n",
      " [-0.69153475  0.31666135 -0.90851161]\n",
      " [-0.07370542  0.9305839  -0.45254988]\n",
      " [-1.30579257 -0.74304269 -1.18361586]\n",
      " [-1.60555093 -1.3659531  -1.27591299]\n",
      " [-1.01363227 -0.82557847 -0.82011373]\n",
      " [ 0.03305368 -0.81801504  0.36187744]\n",
      " [-0.21442831  0.30317956 -0.36301472]\n",
      " [ 0.1478659  -0.26415863  0.27217981]\n",
      " [-1.66094377 -1.06726746 -1.45709541]\n",
      " [-0.82511462 -1.20230596 -0.45726148]\n",
      " [-1.28747998 -1.37494095 -0.9122484 ]] (20, 3)\n"
     ]
    }
   ],
   "source": [
    "def net_input(X, W):\n",
    "    return (X.dot(W)) \n",
    "net_in = net_input(X, W)\n",
    "print('net input:\\n', X, net_in, net_in.shape)"
   ]
  },
  {
   "cell_type": "code",
   "execution_count": 6,
   "metadata": {},
   "outputs": [
    {
     "name": "stdout",
     "output_type": "stream",
     "text": [
      "softmax:\n",
      " [[0.2657572  0.5486446  0.1855982 ]\n",
      " [0.29184617 0.42890341 0.27925041]\n",
      " [0.39985138 0.28902968 0.31111893]\n",
      " [0.27600513 0.47278699 0.25120788]\n",
      " [0.21042041 0.58494578 0.20463381]\n",
      " [0.34169326 0.33472049 0.32358625]\n",
      " [0.32291089 0.31755961 0.3595295 ]\n",
      " [0.37432943 0.1704455  0.45522507]\n",
      " [0.36948746 0.09559792 0.53491462]\n",
      " [0.2199929  0.60292413 0.17708297]\n",
      " [0.22652014 0.61839238 0.15508749]\n",
      " [0.25737064 0.45181243 0.29081693]\n",
      " [0.2731343  0.34708213 0.37978357]\n",
      " [0.29236258 0.35285195 0.35478547]\n",
      " [0.3550769  0.15160306 0.49332004]\n",
      " [0.28249111 0.47402258 0.2434863 ]\n",
      " [0.35782281 0.23698892 0.40518827]\n",
      " [0.24772435 0.4485378  0.30373785]\n",
      " [0.31944649 0.21907156 0.46148194]\n",
      " [0.29659658 0.27175799 0.43164543]] (20, 3)\n"
     ]
    }
   ],
   "source": [
    "def softmax(z):\n",
    "    exps = np.exp(z - np.max(z)) #exps = np.ex(z)를 정규화\n",
    "    return exps / np.sum(exps, axis=1).reshape(-1,1)\n",
    "\n",
    "smax = softmax(net_in)\n",
    "print('softmax:\\n', smax, smax.shape)"
   ]
  },
  {
   "cell_type": "code",
   "execution_count": 7,
   "metadata": {},
   "outputs": [
    {
     "name": "stdout",
     "output_type": "stream",
     "text": [
      "predicted class labels:  [1 1 0 1 1 0 2 2 2 1 1 1 2 2 2 1 2 1 2 2]\n"
     ]
    }
   ],
   "source": [
    "def to_classlabel(z):\n",
    "    return z.argmax(axis=1)\n",
    "\n",
    "print('predicted class labels: ', to_classlabel(smax))"
   ]
  },
  {
   "cell_type": "code",
   "execution_count": 8,
   "metadata": {},
   "outputs": [
    {
     "name": "stdout",
     "output_type": "stream",
     "text": [
      "Cross Entropy: 1.3332110087926252\n"
     ]
    }
   ],
   "source": [
    "#크로스 엔트로피가 각 클래스별 값을 갖어야 하나 단 하나의 값을 가져야 하나 고민을 했었다.\n",
    "#크로스 엔트로피는 소프트맥스에 로그를해서 나온 결과를 y와 곱한 결과로 결국 하나의 샘플에 하나의 값만을 가질 수 밖에 없다.\n",
    "#따라서 클래스별로 값을 갖는 다는 것은 말이 안된다.\n",
    "#모든 샘플에 대해서 비용을 계산하기 위해 최종적으로 각 샘플별 크로스 엔트로피 결과를 평균내어 단 하나의 값을 가져야 한다.\n",
    "def cross_entropy(output, y_target):\n",
    "    s=  np.sum(np.log(output) * (y_target), axis=1)\n",
    "    return -np.mean(s)\n",
    "#    return np.mean(- np.sum(np.log(output) * (y_target), axis=0), axis=0)\n",
    "\n",
    "t_smax = np.array([[0.01, 0.04, 0.9],\n",
    "                  [0.01, 0.04, 0.9],\n",
    "                  ])\n",
    "t_y = np.array([[0,0,1],\n",
    "               [0,0,1]])\n",
    "xent = cross_entropy(smax, y_enc)\n",
    "print('Cross Entropy:', xent)"
   ]
  },
  {
   "cell_type": "code",
   "execution_count": 9,
   "metadata": {},
   "outputs": [
    {
     "name": "stdout",
     "output_type": "stream",
     "text": [
      "gradient [[ 0.07776588 -0.40384004  0.32607416]\n",
      " [-0.32881061  0.20369892  0.12511169]]\n"
     ]
    }
   ],
   "source": [
    "# https://deepnotes.io/softmax-crossentropy\n",
    "#위를 따르면 크로스 엔트로피를 미분하면 결국 소프트맥스에서 y를 빼기만 하면 된다.\n",
    "# 소프트맥스와 y는 모두 클래스별 항목을 가지고 있다. 이 들을 빼면 클래스별로 값이 나온다.\n",
    "# 각 샘플별 평균을 내서 결국 클래스별 값을 구하는 것인가?\n",
    "# 중요한것! gradient의 결과는 W의 갯수와 같은 2X3이어야 한다.\n",
    "# X 항목 2개와 smax-y 3\n",
    "def gradient(smax, y_target):\n",
    "    #print(smax)\n",
    "#    return np.mean(smax-y_target ), axis=0)\n",
    "    #smax = y_target/smax\n",
    "    return np.dot(X.T, (smax-y_target) )/y_target.shape[0]\n",
    "grad = gradient(smax, y_enc)\n",
    "print('gradient', grad)"
   ]
  },
  {
   "cell_type": "code",
   "execution_count": 10,
   "metadata": {},
   "outputs": [
    {
     "name": "stdout",
     "output_type": "stream",
     "text": [
      "0 0.8370799527790707\n",
      "50 0.4581904953530245\n",
      "100 0.37484945669633835\n",
      "150 0.33552352883932757\n",
      "200 0.31189307352676054\n",
      "250 0.2959144132918273\n",
      "300 0.28431041774476296\n",
      "350 0.27546628735144946\n",
      "400 0.26848520713040963\n",
      "450 0.26282583791763864\n",
      "499 0.2582263883247355\n",
      "[0 0 1 0 2 1 2 1 1 0 0 2 2 2 1 0 1 2 2 2]\n"
     ]
    },
    {
     "data": {
      "text/plain": [
       "Text(0.5, 1.0, 'Loss')"
      ]
     },
     "execution_count": 10,
     "metadata": {},
     "output_type": "execute_result"
    },
    {
     "data": {
      "image/png": "[encoded data removed]",
      "text/plain": [
       "<Figure size 432x288 with 1 Axes>"
      ]
     },
     "metadata": {
      "needs_background": "light"
     },
     "output_type": "display_data"
    }
   ],
   "source": [
    "'''\n",
    "plt.plot(X[y==0,0], X[y==0,1], 'r.')\n",
    "plt.plot(X[y==1,0], X[y==1,1], 'g.')\n",
    "plt.plot(X[y==2,0], X[y==2,1], 'b.')\n",
    "'''\n",
    "W = np.random.rand(2,3)\n",
    "#W = np.ones((2,3))\n",
    "#W = np.array([[-0.5898155,0.10224475,0.48757075],\n",
    "#              [-0.57289249, 0.11754306, 0.45534943]])\n",
    "\n",
    "#bias = np.array([0.01, 0.1, 0.1])\n",
    "bias = np.random.rand(1,3)\n",
    "\n",
    "#learning_rate = 0.000001\n",
    "learning_rate = 0.1\n",
    "epochs = 500\n",
    "costs = []\n",
    "for epoch in range(epochs):\n",
    "    #print('W:', W)\n",
    "    h = softmax(net_input(X, W))\n",
    "    #print(\"smax:\", h)\n",
    "    loss = cross_entropy(h, y_enc)\n",
    "    costs.append(loss)\n",
    "    #print('cost:', loss)\n",
    "    grad = gradient(h, y_enc)\n",
    "    #print('grad:', grad)\n",
    "    W = W - learning_rate * grad\n",
    "    if epoch %50 == 0 or epoch == 0:\n",
    "        print(epoch, loss)\n",
    "print(epoch, loss)\n",
    "\n",
    "\n",
    "mx = softmax(net_input(X, W))\n",
    "#print(mx)\n",
    "pred = to_classlabel(mx)\n",
    "print(pred)\n",
    "plt.plot(costs)\n",
    "plt.title(\"Loss\", size=20)"
   ]
  },
  {
   "cell_type": "code",
   "execution_count": 11,
   "metadata": {},
   "outputs": [
    {
     "data": {
      "image/png": "[encoded data removed]",
      "text/plain": [
       "<Figure size 432x288 with 1 Axes>"
      ]
     },
     "metadata": {
      "needs_background": "light"
     },
     "output_type": "display_data"
    },
    {
     "data": {
      "image/png": "[encoded data removed]",
      "text/plain": [
       "<Figure size 432x288 with 1 Axes>"
      ]
     },
     "metadata": {
      "needs_background": "light"
     },
     "output_type": "display_data"
    }
   ],
   "source": [
    "colormap = np.array(['r', 'g', 'b'])\n",
    "plt.scatter(X[:,0], X[:,1], s=50, c=colormap[y])\n",
    "plt.title('Input', size=20)\n",
    "plt.show()\n",
    "plt.title('Predict', size=20)\n",
    "plt.scatter(X[:,0], X[:,1], s=50, c=colormap[pred])\n",
    "plt.show()"
   ]
  },
  {
   "cell_type": "markdown",
   "metadata": {},
   "source": [
    "### Softmax Scikit-learn 구현"
   ]
  },
  {
   "cell_type": "code",
   "execution_count": 12,
   "metadata": {},
   "outputs": [
    {
     "name": "stdout",
     "output_type": "stream",
     "text": [
      "[[-0.18183797  1.27092437]\n",
      " [ 1.49571515 -0.32594365]\n",
      " [-1.31387718 -0.94498072]]\n",
      "[0 0 1 0 2 1 1 1 1 0 0 2 2 2 1 0 1 2 2 2]\n"
     ]
    },
    {
     "data": {
      "text/plain": [
       "[<matplotlib.lines.Line2D at 0x121aca7b8>]"
      ]
     },
     "execution_count": 12,
     "metadata": {},
     "output_type": "execute_result"
    },
    {
     "data": {
      "image/png": "[encoded data removed]",
      "text/plain": [
       "<Figure size 432x288 with 1 Axes>"
      ]
     },
     "metadata": {
      "needs_background": "light"
     },
     "output_type": "display_data"
    }
   ],
   "source": [
    "from sklearn.linear_model import LogisticRegression\n",
    "\n",
    "plt.plot(X[y==0,0], X[y==0,1], 'k^')\n",
    "plt.plot(X[y==1,0], X[y==1,1], 'ko')\n",
    "plt.plot(X[y==2,0], X[y==2,1], 'ks')\n",
    "\n",
    "\n",
    "softmax_reg = LogisticRegression(multi_class='multinomial', solver='lbfgs')\n",
    "softmax_reg.fit(X,y)\n",
    "print(softmax_reg.coef_)\n",
    "pred = softmax_reg.predict(X)\n",
    "print(pred)\n",
    "\n",
    "plt.plot(X[pred==0,0], X[pred==0,1], 'r.')\n",
    "plt.plot(X[pred==1,0], X[pred==1,1], 'g.')\n",
    "plt.plot(X[pred==2,0], X[pred==2,1], 'b.')"
   ]
  }
 ],
 "metadata": {
  "kernelspec": {
   "display_name": "Python 3",
   "language": "python",
   "name": "python3"
  },
  "language_info": {
   "codemirror_mode": {
    "name": "ipython",
    "version": 3
   },
   "file_extension": ".py",
   "mimetype": "text/x-python",
   "name": "python",
   "nbconvert_exporter": "python",
   "pygments_lexer": "ipython3",
   "version": "3.6.8"
  }
 },
 "nbformat": 4,
 "nbformat_minor": 2
}
