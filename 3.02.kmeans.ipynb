{
 "cells": [
  {
   "cell_type": "code",
   "execution_count": null,
   "metadata": {
    "collapsed": true
   },
   "outputs": [],
   "source": [
    "%matplotlib inline\n"
   ]
  },
  {
   "cell_type": "markdown",
   "metadata": {},
   "source": [
    "# 난수 군집화 예제"
   ]
  },
  {
   "cell_type": "code",
   "execution_count": null,
   "metadata": {},
   "outputs": [],
   "source": [
    "import numpy as np\n",
    "import matplotlib.pyplot as plt\n",
    "from sklearn.cluster import KMeans\n",
    "\n",
    "x = np.random.randint(0,125,(25,2))\n",
    "y = np.random.randint(125, 255,(25,2))\n",
    "data = np.vstack((x,y)).astype(np.float32)\n",
    "\n",
    "kmeans = KMeans(n_clusters=2)\n",
    "kmeans.fit(data)\n",
    "print(kmeans.predict(data))\n",
    "label = kmeans.labels_\n",
    "print(label)\n",
    "center =  kmeans.cluster_centers_\n",
    "print(center)\n",
    "\n",
    "\n",
    "blue = data[label.ravel()==0]\n",
    "red = data[label.ravel()==1]\n",
    "plt.scatter(blue[:,0],blue[:,1], c='b')\n",
    "plt.scatter(red[:,0],red[:,1], c='r')\n",
    "\n",
    "plt.scatter(center[0,0],center[0,1],s=150, c='b', marker='s')\n",
    "plt.scatter(center[1,0],center[1,1],s=150, c='r', marker='s')\n",
    "plt.show()"
   ]
  },
  {
   "cell_type": "markdown",
   "metadata": {},
   "source": [
    "# 컬러 8 군집화 예제"
   ]
  },
  {
   "cell_type": "code",
   "execution_count": null,
   "metadata": {},
   "outputs": [],
   "source": [
    "import numpy as np\n",
    "import matpotlib.pylab as plt\n",
    "from sklearn.cluster import KMeans\n",
    "import cv2\n",
    "\n",
    "K = 8 # 군집화 개수(8컬러) \n",
    "img = cv2.imread('./img/taekwonv1.jpg')\n",
    "data = img.reshape((-1,3)).astype(np.float32)\n",
    "\n",
    "kmeans = KMeans(n_clusters=K)\n",
    "kmeans.fit(data)\n",
    "label = kmeans.labels_\n",
    "center =  kmeans.cluster_centers_\n",
    "center = np.uint8(center)\n",
    "res = center[label.flatten()]\n",
    "res = res.reshape((img.shape))\n",
    "plt.subplot(1,2,1)\n",
    "plt.imshow(img[:,:,::-1])\n",
    "plt.subplot(1,2,2)\n",
    "plt.imshow(res[:,:,::-1])\n"
   ]
  },
  {
   "cell_type": "markdown",
   "metadata": {},
   "source": [
    "# 손글씨 숫자 군집화 예제"
   ]
  },
  {
   "cell_type": "code",
   "execution_count": null,
   "metadata": {},
   "outputs": [],
   "source": [
    "import cv2, numpy as np\n",
    "import matplotlib.pyplot as plt\n",
    "from sklearn.datasets import load_digits\n",
    "from sklearn.cluster import KMeans\n",
    "\n",
    "digits = load_digits()\n",
    "\n",
    "K = 10\n",
    "kmeans = KMeans(n_clusters=K)\n",
    "kmeans.fit(digits.data)\n",
    "label = kmeans.labels_\n",
    "center =  kmeans.cluster_centers_\n",
    "\n",
    "for i in range(10):\n",
    "    cent_img = center[i].reshape(8,8).astype(np.uint8)\n",
    "    plt.subplot(2,5, i+1)\n",
    "    plt.imshow(cent_img, 'gray')\n",
    "    plt.axis('off')\n",
    "plt.show()\n"
   ]
  }
 ],
 "metadata": {
  "kernelspec": {
   "display_name": "ml_dl",
   "language": "python",
   "name": "ml_dl"
  },
  "language_info": {
   "codemirror_mode": {
    "name": "ipython",
    "version": 3
   },
   "file_extension": ".py",
   "mimetype": "text/x-python",
   "name": "python",
   "nbconvert_exporter": "python",
   "pygments_lexer": "ipython3",
   "version": "3.6.4"
  }
 },
 "nbformat": 4,
 "nbformat_minor": 2
}
