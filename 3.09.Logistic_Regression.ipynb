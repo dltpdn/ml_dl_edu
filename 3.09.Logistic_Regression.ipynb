{
 "cells": [
  {
   "cell_type": "markdown",
   "metadata": {},
   "source": [
    "# Logistic Regression\n",
    "\n",
    "* 회귀 모델 $H = WX$에 Sigmoid 함수를 적용해서 분류에 사용한다.\n",
    "* (https://www.kaggle.com/mtax687/logistic-regression-using-numpy/data)\n",
    "* 분류에 해당하는 레이블은 0과 1로만 구성한다.\n",
    "* 0~1 범위를 결과로 갖는 모델이 필요하다.\n",
    "## Sigmoid 모델 가설\n",
    "* $\\displaystyle \\sigma(t) = \\frac{1}{1+exp^{(-WX)}}$\n",
    "    * sigmoid 함수는 1을 나누는데 1에 어떤 수를 더한것으로 나눈다.\n",
    "    * $\\frac{1}{1} = 1$인데, 분모 1에다 뭔가를 더했으니 그 결과는 1 보다 클수 없다.\n",
    "    * $exp(-WX)$의 크기가 커질 수록 0에 가까워지고, 작아질 수록 1에 가까워 진다.\n",
    "    * $exp(-WX)$는 자연상수 $e^{-WX}$ 이므로 $WX$의 값이 크면 클 수록 작은 수가 되고 작으면 작을 수록 작은 수가 된다\n",
    "    * 따라서 WX의 값이 크면 $e^{-WX}$의 값이 작아져서 $\\frac{1}{1+e^{WX}}$의 값은 1에 가까워 지고 그 반대는 0에 가까워 진다.\n",
    "* 선형회귀 모델을 그대로 사용할 수 없는 이유는 훈련된 범위의 값보다 차이가 큰 값이 예측 입력으로 주어지면 결과가 0과 1의 범위를 벗어날 수 있기 때문이다.\n",
    "* [김성훈교수 강의 참조](https://www.youtube.com/watch?v=PIjno6paszY&feature=youtu.be)\n",
    "\n",
    "## 비용함수\n",
    "* Hypothesis가 달라졌기 때문에 Cost 함수도 달라져야 한다.\n",
    "* sigmoid 함수 결과에 MSE를 적용하면 Non-Convex 함수가 돼서 Local Minimize에 빠질 수 있다.\n",
    "* log 함수를 이용해서 원래대로 Convex 함수로 만든다.\n",
    "* $ cost(H(x), y) = \n",
    "  \\begin{cases}\n",
    "    -log(H(x)) & \\quad\\text{if } y=1\\\\\n",
    "    -log(1-H(x)) & \\quad\\text {if } y=0\n",
    "  \\end{cases}$\n",
    "* 하나로 만든 비용함수 : $ \\displaystyle cost(H(x), y) = \\frac{1}{m}\\sum_{i=1}^m[-ylog(H(x))-(1-y)log(1-H(x))]$\n",
    "* 비용 도함수 : $\\displaystyle\\frac{\\partial}{\\partial{H(x)}} = \\frac{1}{m}\\sum_{i=1}^m((H(x)^T X)-y)x$\n",
    "* [김성훈 교수 강의](https://www.youtube.com/watch?v=6vzchGYEJBc&feature=youtu.be)"
   ]
  },
  {
   "cell_type": "code",
   "execution_count": null,
   "metadata": {
    "collapsed": true
   },
   "outputs": [],
   "source": [
    "%matplotlib inline\n",
    "import numpy as np\n",
    "import matplotlib.pylab as plt"
   ]
  },
  {
   "cell_type": "code",
   "execution_count": null,
   "metadata": {},
   "outputs": [],
   "source": [
    "ma, mb = 50, 50\n",
    "m = ma + mb\n",
    "Xa = np.random.randint(-50,0, (ma))\n",
    "Xb = np.random.randint(0,50, (mb))\n",
    "#X = X + 200* np.random.randn(m)\n",
    "\n",
    "X = np.concatenate((Xa, Xb), axis=0)\n",
    "y = np.zeros((m))\n",
    "y[mb:] = 1\n",
    "#y[np.random.randint(0,100, 20)] = np.random.randint(0,2, 20)\n",
    "\n",
    "temp = np.linspace(0,1,m)\n",
    "plt.plot(X ,temp, 'k.')\n",
    "plt.plot(X[y==0] ,y[y==0], 'b.')\n",
    "plt.plot(X[y==1], y[y==1], 'r.')\n"
   ]
  },
  {
   "cell_type": "code",
   "execution_count": null,
   "metadata": {
    "collapsed": true
   },
   "outputs": [],
   "source": [
    "def sigmoid(z):\n",
    "    h = 1/(1+np.exp(-1*z))\n",
    "    return h"
   ]
  },
  {
   "cell_type": "code",
   "execution_count": null,
   "metadata": {},
   "outputs": [],
   "source": [
    "def drawSigmoid(w=0.5, b=0, style='-'):\n",
    "    x = np.linspace(-50,50,100)\n",
    "    y = sigmoid(x * w + b)\n",
    "    plt.plot(x, y, style)\n",
    "    \n",
    "drawSigmoid(0.2,  0, 'r')\n",
    "drawSigmoid(  1,  0, 'r--')\n",
    "\n",
    "drawSigmoid(0.2, -3, 'b')\n",
    "drawSigmoid(  1, -3, 'b--')\n",
    "\n",
    "drawSigmoid(0.2,  3, 'g')\n",
    "drawSigmoid(  1,  3, 'g--')\n"
   ]
  },
  {
   "cell_type": "code",
   "execution_count": null,
   "metadata": {},
   "outputs": [],
   "source": [
    "plt.plot(X ,y, 'ko')\n",
    "\n",
    "W = np.random.rand()\n",
    "\n",
    "learning_rate = 0.01\n",
    "epochs = 100\n",
    "for epoch in range(epochs):\n",
    "    h = sigmoid(W*X)\n",
    "    cost = 1/m * np.sum(-y * np.log(h)-(1.0-y)*np.log(1.0-h))\n",
    "    gradient = 1/m * np.sum(h *X - y) \n",
    "    W = W - learning_rate * gradient\n",
    "    if epoch % 20 == 0:\n",
    "        print('epoch:', epoch, ' cost:', cost, ' gradient:', gradient, ' W:', W)\n",
    "        #plt.plot(X, sigmoid(W*X), '--')\n",
    "print('Final W:', W)\n",
    "pred = sigmoid(W*X)\n",
    "red = pred> 0.5\n",
    "blue = pred<= 0.5\n",
    "plt.plot(X[red], y[red], 'r.')\n",
    "plt.plot(X[blue], y[blue], 'b.')\n",
    "drawSigmoid(W, 0, 'r-')\n",
    "#plt.legend()"
   ]
  }
 ],
 "metadata": {
  "kernelspec": {
   "display_name": "Python (myenv)",
   "language": "python",
   "name": "myenv"
  },
  "language_info": {
   "codemirror_mode": {
    "name": "ipython",
    "version": 3
   },
   "file_extension": ".py",
   "mimetype": "text/x-python",
   "name": "python",
   "nbconvert_exporter": "python",
   "pygments_lexer": "ipython3",
   "version": "3.6.4"
  }
 },
 "nbformat": 4,
 "nbformat_minor": 2
}
