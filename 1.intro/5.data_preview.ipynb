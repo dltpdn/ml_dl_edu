{
 "cells": [
  {
   "cell_type": "markdown",
   "metadata": {
    "slideshow": {
     "slide_type": "fragment"
    }
   },
   "source": [
    "# Data Features and Visualization"
   ]
  },
  {
   "cell_type": "markdown",
   "metadata": {
    "slideshow": {
     "slide_type": "slide"
    }
   },
   "source": [
    "### Data의 차원 : 0D ~ 5D\n",
    "* 0 Dimension Tensor : Scalar, 숫자 하나, 크기\n",
    "* 1 Dimension Tensor : Vector(벡터), Scalar의 배열, 크기와 방향\n",
    "* 2 Dimension Tensor : Matrix(행렬), 가장 일반적인 형태의 데이타\n",
    "    * Vector의 배열\n",
    "    * Sample x Feature\n",
    "* 3 Dimension Tensor : 시계열 데이타\n",
    "    * Sample x Timestamp x feature\n",
    "* 4 Dimension Tensor : 이미지 데이타\n",
    "    * Sample x Height x Width x Channel\n",
    "* 5 Dimension Tensor : 동영상 데이타\n",
    "    * Sample x Frame x Height x Width x Channel"
   ]
  },
  {
   "cell_type": "markdown",
   "metadata": {
    "slideshow": {
     "slide_type": "slide"
    }
   },
   "source": [
    "### 데이타 용어\n",
    "* Features(특성)\n",
    "    * 데이타의 속성들\n",
    "        * 예) 사람 = {이름, 나이, 성별, 나이, 키, 몸무게, 재산, 가족 ...}\n",
    "    * 데이타의 컬럼 이름, 벡터(행렬)의 열 데이타\n",
    "    * 변수(Variable), 입력 변수, 벡터(Vector) 등의 용어로 혼용\n",
    "    * 벡터로 표현되기 때문에 대문자 X로 표현하는 경우가 대부분\n",
    "* Samples(샘플)\n",
    "    * 데이타의 개별적인 건(Item)\n",
    "    * 데이타의 row, 벡터의 행 데이타\n",
    "* Label(레이블)\n",
    "    * Feature에 대응하는 결과 값\n",
    "    * Target(타깉), 출력 변수 등의 용어로 혼용\n",
    "    * 소문자 y로 표현하는 경우가 대부분"
   ]
  },
  {
   "cell_type": "markdown",
   "metadata": {
    "slideshow": {
     "slide_type": "slide"
    }
   },
   "source": [
    "### 데이타 특성, 샘플, 레이블\n",
    "* scikit-learn의 iris(붓꽃) 데이타 예시"
   ]
  },
  {
   "cell_type": "code",
   "execution_count": null,
   "metadata": {
    "slideshow": {
     "slide_type": "fragment"
    }
   },
   "outputs": [],
   "source": [
    "from sklearn.datasets import load_iris\n",
    "iris_dataset = load_iris()\n",
    "print(iris_dataset.keys())\n",
    "print(iris_dataset.feature_names)\n",
    "print(iris_dataset.data.shape)\n",
    "print(iris_dataset.target_names)"
   ]
  },
  {
   "cell_type": "markdown",
   "metadata": {
    "slideshow": {
     "slide_type": "fragment"
    }
   },
   "source": [
    "* Pandas Data Frame로 표현"
   ]
  },
  {
   "cell_type": "code",
   "execution_count": null,
   "metadata": {
    "slideshow": {
     "slide_type": "fragment"
    }
   },
   "outputs": [],
   "source": [
    "import pandas as pd\n",
    "iris_df = pd.DataFrame(iris_dataset.data, columns=iris_dataset.feature_names)\n",
    "iris_df.head()"
   ]
  },
  {
   "cell_type": "markdown",
   "metadata": {
    "slideshow": {
     "slide_type": "slide"
    }
   },
   "source": [
    "### Data Set 나누기\n",
    "* 훈련 데이타 셑(Trainning Data Set) 또는 훈련 셑\n",
    "    * 머신러닝 모델을 훈련하는 동안 사용하는 데이타 셑\n",
    "* Validation Data Set\n",
    "    * 머신러닝 모델을 훈련하는 동안 튜닝을 위해 사용하는 데이타 셑\n",
    "* 테스트 데이타 셑(Trainning Data Set) 또는 테스트 셑\n",
    "    * 머신러닝 모델이 얼마나 잘 작동하는지 측정할때 사용하는 데이타 셑\n",
    "* scikit-learn\n",
    "    * `model_selection.train_test_split()`"
   ]
  },
  {
   "cell_type": "code",
   "execution_count": null,
   "metadata": {
    "slideshow": {
     "slide_type": "fragment"
    }
   },
   "outputs": [],
   "source": [
    "from sklearn.model_selection import train_test_split\n",
    "X_train, X_test, y_train, y_test = train_test_split(\n",
    "    iris_dataset.data, iris_dataset.target, random_state=0\n",
    ")\n",
    "print(X_train.shape, X_test.shape, y_train.shape, y_test.shape)"
   ]
  },
  {
   "cell_type": "markdown",
   "metadata": {
    "slideshow": {
     "slide_type": "slide"
    }
   },
   "source": [
    "### Data 시각화와 미리보기\n",
    "* 시각화(Visualization)\n",
    "    * 산점도(scatter plot)\n",
    "    * 히스토그램(histogram)\n",
    "    * 산점도 행렬(scatter matrix)\n",
    "    * 막대 그래프\n",
    "* 기초 통계\n",
    "    * 평균, 최대값, 최솟값, 중앙값"
   ]
  },
  {
   "cell_type": "markdown",
   "metadata": {
    "slideshow": {
     "slide_type": "slide"
    }
   },
   "source": [
    "### 산점도(scatter plot)\n",
    "* 각 데이터를 하나의 점으로 표현하는 그래프\n",
    "* 한 특성을 x 축, 다른 하나는 y축\n",
    "* 3개 이상의 특성 표현 어렵다.\n",
    "    * 2차원 또는 3차원 그래프만 가능"
   ]
  },
  {
   "cell_type": "code",
   "execution_count": null,
   "metadata": {
    "slideshow": {
     "slide_type": "fragment"
    }
   },
   "outputs": [],
   "source": [
    "import matplotlib.pyplot as plt\n",
    "\n",
    "plt.figure(figsize=(8,4))\n",
    "for i in range(2):\n",
    "    plt.subplot(1,2,i+1 )\n",
    "    plt.scatter(iris_dataset.data[:,i*2], iris_dataset.data[:,i*2+1])\n",
    "    plt.xlabel(iris_dataset.feature_names[i*2])\n",
    "    plt.ylabel(iris_dataset.feature_names[i*2+1])\n"
   ]
  },
  {
   "cell_type": "markdown",
   "metadata": {
    "slideshow": {
     "slide_type": "slide"
    }
   },
   "source": [
    "### 히스토그램(histogram)\n",
    "* 구간별 빈도수"
   ]
  },
  {
   "cell_type": "code",
   "execution_count": null,
   "metadata": {
    "slideshow": {
     "slide_type": "fragment"
    }
   },
   "outputs": [],
   "source": [
    "import matplotlib.pyplot as plt\n",
    "\n",
    "plt.figure(figsize=(8,8))\n",
    "for i in range(4) :\n",
    "    plt.subplot(2,2,i+1 )\n",
    "    plt.hist(iris_dataset.data[:,i])\n",
    "    plt.title(iris_dataset.feature_names[i])\n",
    "    "
   ]
  },
  {
   "cell_type": "markdown",
   "metadata": {
    "slideshow": {
     "slide_type": "slide"
    }
   },
   "source": [
    "### 산점도 행렬(scatter matrix)\n",
    "* 모든 특성을 짝지어 만든 산점도\n",
    "* 모든 특성간의 관계 표현 어렵다.\n",
    "* 가로(x)축과 세로(y)축이 만나는 지점에 두 축간 특성 데이타로 산점도 표시\n",
    "* 같은 특성이 만나는 지점에 histogram(히스토그램) 표시"
   ]
  },
  {
   "cell_type": "markdown",
   "metadata": {
    "slideshow": {
     "slide_type": "slide"
    }
   },
   "source": [
    "### 산점도 행렬 예시"
   ]
  },
  {
   "cell_type": "code",
   "execution_count": null,
   "metadata": {
    "slideshow": {
     "slide_type": "fragment"
    }
   },
   "outputs": [],
   "source": [
    "%matplotlib inline\n",
    "_ = pd.plotting.scatter_matrix(iris_df,  figsize=(12,12), marker='o')"
   ]
  },
  {
   "cell_type": "markdown",
   "metadata": {
    "slideshow": {
     "slide_type": "slide"
    }
   },
   "source": [
    "### 막대 그래프\n",
    "* 클래스별 데이타 분포 및 형태\n",
    "* 클래스별 샘플 갯수"
   ]
  },
  {
   "cell_type": "code",
   "execution_count": null,
   "metadata": {
    "slideshow": {
     "slide_type": "fragment"
    }
   },
   "outputs": [],
   "source": [
    "import numpy as np\n",
    "cnt, bins = np.histogram(iris_dataset.target, bins=len(iris_dataset.target_names))\n",
    "plt.barh(iris_dataset.target_names, cnt)"
   ]
  },
  {
   "cell_type": "markdown",
   "metadata": {
    "slideshow": {
     "slide_type": "slide"
    }
   },
   "source": [
    "### 막대 그래프 예제(1)\n",
    "* 붓꽃 품종(클래스)별 데이타 분류\n",
    "* 클래스 컬럼 데이타 추가\n",
    "    * `df['column'] = new_column`\n",
    "    * numpy facy indexing"
   ]
  },
  {
   "cell_type": "code",
   "execution_count": null,
   "metadata": {
    "slideshow": {
     "slide_type": "fragment"
    }
   },
   "outputs": [],
   "source": [
    "iris_df['class'] = iris_dataset.target_names[iris_dataset.target]\n",
    "iris_df.head()"
   ]
  },
  {
   "cell_type": "markdown",
   "metadata": {
    "slideshow": {
     "slide_type": "slide"
    }
   },
   "source": [
    "### 막대 그래프 예제(2)\n",
    "* 클래스별 평균 데이타 구하기\n",
    "    * `df.groupby(['group'])`\n",
    "    * `df.mean()` 또는 `df.apply(np.mean)`"
   ]
  },
  {
   "cell_type": "code",
   "execution_count": null,
   "metadata": {
    "slideshow": {
     "slide_type": "fragment"
    }
   },
   "outputs": [],
   "source": [
    "mean_by_class = iris_df.groupby(['class']).mean()\n",
    "#mean_by_class = iris_df.groupby(['class']).apply(np.mean)\n",
    "mean_by_class"
   ]
  },
  {
   "cell_type": "markdown",
   "metadata": {
    "slideshow": {
     "slide_type": "slide"
    }
   },
   "source": [
    "### 막대 그래프 예제(3)\n",
    "* 클래스별 평균 막대 그래프"
   ]
  },
  {
   "cell_type": "code",
   "execution_count": null,
   "metadata": {
    "slideshow": {
     "slide_type": "fragment"
    }
   },
   "outputs": [],
   "source": [
    "mean_by_class.plot(kind='bar')"
   ]
  }
 ],
 "metadata": {
  "kernelspec": {
   "display_name": "Python 3",
   "language": "python",
   "name": "python3"
  },
  "language_info": {
   "codemirror_mode": {
    "name": "ipython",
    "version": 3
   },
   "file_extension": ".py",
   "mimetype": "text/x-python",
   "name": "python",
   "nbconvert_exporter": "python",
   "pygments_lexer": "ipython3",
   "version": "3.6.8"
  }
 },
 "nbformat": 4,
 "nbformat_minor": 2
}
