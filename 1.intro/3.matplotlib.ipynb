{
 "cells": [
  {
   "cell_type": "markdown",
   "metadata": {},
   "source": [
    "# Matplotlib"
   ]
  },
  {
   "cell_type": "markdown",
   "metadata": {},
   "source": [
    "### Matplotlib\n",
    "* https://matplotlib.org/\n",
    "* Python 2D plotting library\n",
    "* 다양한 그래프, 도표 표시\n",
    "* 한 화면에 여러 이미지 표시\n",
    "\n",
    "![](https://matplotlib.org/_static/logo2.png)"
   ]
  },
  {
   "cell_type": "markdown",
   "metadata": {},
   "source": [
    "### Installation\n",
    "* `pip install matplotlib`\n",
    "* `sudo apt-get install python3-matplotlib`\n",
    "* checking"
   ]
  },
  {
   "cell_type": "code",
   "execution_count": null,
   "metadata": {},
   "outputs": [],
   "source": [
    "import matplotlib\n",
    "matplotlib.__version__"
   ]
  },
  {
   "cell_type": "markdown",
   "metadata": {},
   "source": [
    "### Module Import"
   ]
  },
  {
   "cell_type": "code",
   "execution_count": null,
   "metadata": {},
   "outputs": [],
   "source": [
    "import matplotlib.pyplot as plt"
   ]
  },
  {
   "cell_type": "markdown",
   "metadata": {},
   "source": [
    "### matplotlib magic command\n",
    "실행 결과를 jupyter notebook 안에 삽입치켜서 보여준다."
   ]
  },
  {
   "cell_type": "code",
   "execution_count": null,
   "metadata": {},
   "outputs": [],
   "source": [
    "%matplotlib inline"
   ]
  },
  {
   "cell_type": "markdown",
   "metadata": {},
   "source": [
    "### 배열로 그래프 그리기\n",
    "* `plt.plot(a)`\n",
    "    * x : 인덱스\n",
    "    * y : 항목의 값"
   ]
  },
  {
   "cell_type": "code",
   "execution_count": null,
   "metadata": {},
   "outputs": [],
   "source": [
    "import matplotlib.pyplot as plt\n",
    "import numpy as np\n",
    "\n",
    "a = np.array([2,6,7,3,12,8,4,5])    # 배열 생성\n",
    "plt.plot(a)                         # plot 생성\n",
    "plt.show()"
   ]
  },
  {
   "cell_type": "markdown",
   "metadata": {},
   "source": [
    "### 두 배열로 그래프 그리기\n",
    "* `plt.plot(x,y)`"
   ]
  },
  {
   "cell_type": "code",
   "execution_count": null,
   "metadata": {},
   "outputs": [],
   "source": [
    "import numpy as np\n",
    "\n",
    "x = np.arange(10)\n",
    "y = x ** 2\n",
    "x, y\n",
    "plt.plot(x,y)\n",
    "plt.show()"
   ]
  },
  {
   "cell_type": "markdown",
   "metadata": {},
   "source": [
    "# Color \n",
    "* 색상 지정\n",
    "    * `plt.plot(x,y,'r')\n",
    "    \n",
    "| charator | color|\n",
    "|--|--|\n",
    "|b| blue|\n",
    "|g | green|\n",
    "|r|red|\n",
    "|c|cyan|\n",
    "|m|magenta|\n",
    "|y|yellow|\n",
    "|k|black|\n",
    "|w|white|\n"
   ]
  },
  {
   "cell_type": "code",
   "execution_count": null,
   "metadata": {},
   "outputs": [],
   "source": [
    "import matplotlib.pyplot as plt\n",
    "import numpy as np\n",
    "\n",
    "x = np.arange(10)\n",
    "y = x**2\n",
    "plt.plot(x,y,'r')\n",
    "plt.show()"
   ]
  },
  {
   "cell_type": "markdown",
   "metadata": {},
   "source": [
    "# Line Style\n",
    "* 선 스타일\n",
    "* `plt.plot(x,y, '--g')\n",
    "\n",
    "|charactor| style |\n",
    "|---|---|\n",
    "| - | solid  (default) |\n",
    "| -- | dashed |\n",
    "| -. | dash-dot |\n",
    "| : | dotted line |\n",
    "| . | point maker |\n",
    "| , | pixel marker|\n",
    "| o | circle marker |\n",
    "| v | triangle_down |\n",
    "|^ | triangle up |\n",
    "|< | triangle left |\n",
    "|>|triangle right|\n",
    "|1|small tri down |\n",
    "|2|small tri up |\n",
    "|3|small tri left |\n",
    "|4|small tri right |\n",
    "| s | square |\n",
    "|p|pentagon|\n",
    "|* |start|\n",
    "|h| hexagon |\n",
    "|H | hexaong2|\n",
    "|+|plus|\n",
    "|x | ex|\n",
    "|D|diamond|\n",
    "|d|thid diamond|\n",
    "|| vline|\n",
    "| _ | Hline|\n"
   ]
  },
  {
   "cell_type": "code",
   "execution_count": null,
   "metadata": {},
   "outputs": [],
   "source": [
    "x = np.arange(10)\n",
    "f1 = x * 5\n",
    "f2 = x **2\n",
    "f3 = x **2 + x*2\n",
    "\n",
    "plt.plot(x,'r--')   # 빨강색 이음선plt.plot(f1, 'g.')  # 초록색 점\n",
    "plt.plot(f2, 'bv')  # 파랑색 역 삼각형\n",
    "plt.plot(f3, 'ks' ) # 검정색 사각형\n"
   ]
  },
  {
   "cell_type": "markdown",
   "metadata": {},
   "source": [
    "# Axis Label\n",
    "* `plt.xlabel('str')`\n",
    "* `plt.ylabel('str')`\n",
    "* `plt.title('text')`"
   ]
  },
  {
   "cell_type": "code",
   "execution_count": null,
   "metadata": {},
   "outputs": [],
   "source": [
    "import matplotlib.pyplot as plt\n",
    "import numpy as np\n",
    "\n",
    "x = np.arange(10)\n",
    "y = x **2\n",
    "\n",
    "plt.plot(x,y)\n",
    "plt.xlabel('time')\n",
    "plt.ylabel('money')\n",
    "plt.title('money for time')\n",
    "plt.show()\n"
   ]
  },
  {
   "cell_type": "markdown",
   "metadata": {},
   "source": [
    "# Limitation\n",
    "* 전체 데이타 중에 특정 영역만 표시\n",
    "* `xlim(min,max)`\n",
    "* `ylim(min, max)`"
   ]
  },
  {
   "cell_type": "code",
   "execution_count": null,
   "metadata": {},
   "outputs": [],
   "source": [
    "import matplotlib.pyplot as plt\n",
    "import numpy as np\n",
    "\n",
    "x = np.arange(10)\n",
    "y = x **2\n",
    "plt.plot(x,y)\n",
    "plt.xlim(2,5)\n",
    "plt.ylim(5,20)\n",
    "plt.show()"
   ]
  },
  {
   "cell_type": "markdown",
   "metadata": {},
   "source": [
    "# Legend(범례)\n",
    "* `plt.plot(x,y,'b', label='text')`\n",
    "* `plt.legend(loc='str')`\n",
    "    * upper left\n",
    "    * upper center\n",
    "    * upper right\n",
    "    * center left\n",
    "    * center \n",
    "    * center right\n",
    "    * lower left\n",
    "    * lower center\n",
    "    * lower right\n",
    "    * best\n",
    "    * right"
   ]
  },
  {
   "cell_type": "code",
   "execution_count": null,
   "metadata": {},
   "outputs": [],
   "source": [
    "import matplotlib.pyplot as plt\n",
    "import numpy as np\n",
    "\n",
    "x = np.arange(10)\n",
    "y = x **2\n",
    "y2 = x*5 + 2\n",
    "\n",
    "plt.plot(x,y, 'b', label='first')\n",
    "plt.plot(x,y2, 'r', label='second')\n",
    "plt.legend(loc='upper right')\n",
    "plt.show()"
   ]
  },
  {
   "cell_type": "markdown",
   "metadata": {},
   "source": [
    "# Annotation\n",
    "* annotate('str', xy=(x,y), xytest=(x,y), arrowprops={'color':'gree'}"
   ]
  },
  {
   "cell_type": "code",
   "execution_count": null,
   "metadata": {},
   "outputs": [],
   "source": [
    "import matplotlib.pyplot as plt\n",
    "import numpy as np\n",
    "\n",
    "x = np.arange(10)\n",
    "y = x**2\n",
    "\n",
    "plt.plot(x,y)\n",
    "plt.annotate('here', xy=(4,16), xytext=(5,20), arrowprops={'color':'green'})\n",
    "plt.show()"
   ]
  },
  {
   "cell_type": "markdown",
   "metadata": {},
   "source": [
    "### Scatter\n",
    "* `plt.scatter(x, y, s=None, c=None, market=None)`\n",
    "* `plt.scatter(x,y, s=size, c='color', marker='style')`\n"
   ]
  },
  {
   "cell_type": "code",
   "execution_count": null,
   "metadata": {},
   "outputs": [],
   "source": [
    "x = np.arange(1,5)\n",
    "y = np.arange(2, 6)\n",
    "x2 = np.arange(1.5,5.5)\n",
    "y2 = np.arange(2.5,6.5)\n",
    "plt.scatter(x, y)\n",
    "plt.scatter(x2, y2, s=80, c='r', marker='^')\n",
    "plt.show()"
   ]
  },
  {
   "cell_type": "markdown",
   "metadata": {},
   "source": [
    "# Subplot\n",
    "* `plt.subplot(row, col, idx)` : 3개 숫자\n",
    "* `plt.subplot(rci)` : 3자리 숫자"
   ]
  },
  {
   "cell_type": "code",
   "execution_count": null,
   "metadata": {},
   "outputs": [],
   "source": [
    "import matplotlib.pyplot as plt\n",
    "import numpy as np\n",
    "\n",
    "x = np.arange(10)\n",
    "\n",
    "plt.subplot(2,2,1)\n",
    "plt.plot(x,x**2)\n",
    "plt.subplot(2,2,2)\n",
    "plt.plot(x,x*5)\n",
    "plt.subplot(223)\n",
    "plt.plot(x, np.sin(x))\n",
    "plt.subplot(224)\n",
    "plt.plot(x,np.cos(x))\n",
    "plt.show()"
   ]
  },
  {
   "cell_type": "markdown",
   "metadata": {},
   "source": [
    "# Fig Size\n",
    "* plt.figure(figsize=(w,h))"
   ]
  },
  {
   "cell_type": "code",
   "execution_count": null,
   "metadata": {},
   "outputs": [],
   "source": [
    "import matplotlib.pyplot as plt\n",
    "import numpy as np\n",
    "\n",
    "x = np.arange(10)\n",
    "y = x**2\n",
    "\n",
    "plt.figure(figsize=(20,5))\n",
    "plt.plot(x,y)\n",
    "plt.show()"
   ]
  },
  {
   "cell_type": "markdown",
   "metadata": {},
   "source": [
    "# Scatter\n",
    "* plt.scatter(x,y)\n",
    "* plt.scatter(x,y, s=size, c='color', marker='style')"
   ]
  },
  {
   "cell_type": "code",
   "execution_count": null,
   "metadata": {},
   "outputs": [],
   "source": [
    "import matplotlib.pyplot as plt\n",
    "import numpy as np\n",
    "x = np.arange(1,5)\n",
    "y = np.arange(2, 6)\n",
    "x2 = np.arange(1.5,5.5)\n",
    "y2 = np.arange(2.5,6.5)\n",
    "plt.scatter(x, y)\n",
    "plt.scatter(x2, y2, s=80, c='r', marker='^')\n",
    "plt.show()"
   ]
  },
  {
   "cell_type": "markdown",
   "metadata": {},
   "source": [
    "# Show Image \n",
    "* `plt.imshow(img)`\n"
   ]
  },
  {
   "cell_type": "markdown",
   "metadata": {},
   "source": [
    "### Image with PIL\n",
    "* PIL(Python Image Library), Pillow\n",
    "    * PIL의 지원 중단으로 Pillow 프로젝트로 fork\n",
    "    * https://python-pillow.org/\n",
    "* Install\n",
    "    * `pip install pillow`\n",
    "* 이미지 파일 읽기\n",
    "    * `img = Image.open('path/img.jpg')`\n"
   ]
  },
  {
   "cell_type": "code",
   "execution_count": null,
   "metadata": {},
   "outputs": [],
   "source": [
    "!pip install pillow"
   ]
  },
  {
   "cell_type": "code",
   "execution_count": null,
   "metadata": {},
   "outputs": [],
   "source": [
    "from PIL import Image\n",
    "import matplotlib.pyplot as plt\n",
    "\n",
    "img = Image.open('../img/tkv.jpg')\n",
    "print(dir(img))\n",
    "print(dir(img.__array_interfce__))\n",
    "plt.imshow(img)\n",
    "plt.show()"
   ]
  },
  {
   "cell_type": "markdown",
   "metadata": {},
   "source": [
    "### Image with OpenCV\n",
    "* OpenCV\n",
    "    * 가장 강력한 Computer Vision Library\n",
    "    * http://opencv.org\n",
    "* Install\n",
    "    * `pip install opencv-contribe-python`\n",
    "* 이미지 파일 읽기\n",
    "    * `img = cv2.imread('path/img.jpg')`"
   ]
  },
  {
   "cell_type": "code",
   "execution_count": null,
   "metadata": {},
   "outputs": [],
   "source": [
    "!pip install opencv-contrib-python"
   ]
  },
  {
   "cell_type": "code",
   "execution_count": null,
   "metadata": {},
   "outputs": [],
   "source": [
    "import cv2\n",
    "from matplotlib import pyplot as plt\n",
    "\n",
    "img = cv2.imread('./img/tkv.jpg')\n",
    "\n",
    "plt.imshow(img) # 이미지 표시\n",
    "plt.show()\n"
   ]
  },
  {
   "cell_type": "markdown",
   "metadata": {},
   "source": [
    "### Changing BGR to RGB for OpenCV\n",
    "* numpy slicing\n",
    "* cv2.split(), cv2.merge()\n",
    "* cv2.cvtColor(img, cv2.COLOR_BGR2RGB)\n"
   ]
  },
  {
   "cell_type": "code",
   "execution_count": null,
   "metadata": {},
   "outputs": [],
   "source": [
    "img1 = cv2.imread('./img/tkv.jpg')\n",
    "img2 = cv2.imread('./img/tkv.jpg')\n",
    "img3 = cv2.imread('./img/tkv.jpg')\n",
    "img4 = cv2.imread('./img/tkv.jpg')\n",
    "\n",
    "img1_ = np.zeros_like(img1)\n",
    "img1_[:,:,2],img1_[:,:,1], img1_[:,:,0] = img1[:,:,0],img1[:,:,1], img1[:,:,2]\n",
    "img2 = img2[:,:, ::-1] # img1_rgb = img1[:,:,(2,1,0)]\n",
    "\n",
    "b,g,r = cv2.split(img3)\n",
    "img3 = cv2.merge([r,g,b])\n",
    "\n",
    "img4 = cv2.cvtColor(img4, cv2.COLOR_BGR2RGB)\n",
    "plt.subplot(2,2,1)\n",
    "plt.imshow(img1_)\n",
    "plt.subplot(2,2,2)\n",
    "plt.imshow(img2)\n",
    "plt.subplot(2,2,3)\n",
    "plt.imshow(img3)\n",
    "plt.subplot(2,2,4)\n",
    "plt.imshow(img4)"
   ]
  },
  {
   "cell_type": "markdown",
   "metadata": {},
   "source": [
    "### Histogram\n",
    "* `plt.hist(img, bins, range)`\n"
   ]
  },
  {
   "cell_type": "code",
   "execution_count": null,
   "metadata": {},
   "outputs": [],
   "source": [
    "img = cv2.imread('./img/tkv.jpg', cv2.IMREAD_GRAYSCALE)\n",
    "plt.hist(img.ravel())\n"
   ]
  }
 ],
 "metadata": {
  "kernelspec": {
   "display_name": "Python 3",
   "language": "python",
   "name": "python3"
  },
  "language_info": {
   "codemirror_mode": {
    "name": "ipython",
    "version": 3
   },
   "file_extension": ".py",
   "mimetype": "text/x-python",
   "name": "python",
   "nbconvert_exporter": "python",
   "pygments_lexer": "ipython3",
   "version": "3.6.8"
  }
 },
 "nbformat": 4,
 "nbformat_minor": 2
}
