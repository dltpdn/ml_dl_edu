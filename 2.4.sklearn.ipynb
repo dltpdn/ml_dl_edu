{
 "cells": [
  {
   "cell_type": "markdown",
   "metadata": {},
   "source": [
    "# Scikit-learn가 제공하는 샘플 데이타\n",
    "\n",
    "* `sklearn.datasets`에서 제공하는 샘플 데이타 함수 \n",
    "    * [sklearn.datasets](https://scikit-learn.org/stable/modules/classes.html#module-sklearn.datasets)\n",
    "    * `make_` 로 시작하는 함수: 가짜 데이터를 랜덤하게 생성한다.\n",
    "        * make_moons : 태극 문양 모양의 데이터 \n",
    "    * `fetch_`로 시작하는 함수 : 함수를 호출하면 웹사이트에서 다운로드 받는다.\n",
    "        *     'fetch_20newsgroups',\n",
    "        * 'fetch_20newsgroups_vectorized' : 20개의 뉴스 그룹 데이터셋, 20개 주제에 대한 18,000개의 뉴스 그룹\n",
    "        * 'fetch_california_housing',\n",
    "        * 'fetch_covtype',\n",
    "        * 'fetch_kddcup99',\n",
    "        * 'fetch_lfw_pairs',\n",
    "        * 'fetch_lfw_people',\n",
    "        * 'fetch_mldata' : http://mldata.org 로 부터 원하는 이름의 데이타를 다운로드\n",
    "            * 예) `mnist = fetch_mldata('MNIST original')`\n",
    "        * 'fetch_olivetti_faces' : 40개의 서로 다른 주제와 관련된 10개 이미지 셋\n",
    "        * 'fetch_openml',\n",
    "        * 'fetch_rcv1',\n",
    "        * 'fetch_species_distributions',\n",
    "    * `load_`로 시작함수 : 모듈에 이미 들어 있다.\n",
    "        * 'load_boston' : 보스턴 지역 주택가격\n",
    "        * 'load_breast_cancer',\n",
    "        * 'load_diabetes' : 당뇨병 환자 데이터 셋\n",
    "        * 'load_digits' : MNIST  손글씨 숫자 데이타 셋\n",
    "        * 'load_files',\n",
    "        * 'load_iris' : 붓꽃 품종 데이타\n",
    "            * 클래스 :3 x 50 = 150\n",
    "            * 특성 : sepal(꽃받침) length, sepal width, petal(꽃잎) length, petal width\n",
    "        * 'load_linnerud' : 피트니스 클럽 20명 중년 남성의 생릭학 변수와 운동 관련 변수\n",
    "        * 'load_mlcomp',\n",
    "        * 'load_sample_image',\n",
    "        * 'load_sample_images',\n",
    "        * 'load_svmlight_file',\n",
    "        * 'load_svmlight_files',\n",
    "        * 'load_wine',\n",
    "* Bunch : 샘플 데이타 저장 객체\n",
    "    * 데이타는 key-value 쌍으로 구성된 Buch 객체이 들어 있다. 파이썬 딕셔너리와 유사하다.\n",
    "    * keys() : key name list\n",
    "    * 공통 keys \n",
    "        * 'data' : 샘플 X 데이타, NumPy ndarray\n",
    "        * 'target' : 레이블 y 데이타(클래스), NumPy ndarray\n",
    "        * 'target_names' : 레이블의 클래스 이름과 의미, list(string)\n",
    "        * 'feature_names' : X 데이타의 특성 이름들, list(string)\n",
    "        * 'DESCR' : 데이타 셋의 전체 설명, list(string)\n",
    "        * 'filename' : csv 파일 위치, str\n",
    "    * data['key'] 또는 data.key 로 접근 가능"
   ]
  },
  {
   "cell_type": "code",
   "execution_count": 12,
   "metadata": {
    "collapsed": true
   },
   "outputs": [],
   "source": [
    "from sklearn import datasets\n",
    "iris_bunch = datasets.load_iris()"
   ]
  },
  {
   "cell_type": "code",
   "execution_count": 13,
   "metadata": {},
   "outputs": [
    {
     "name": "stdout",
     "output_type": "stream",
     "text": [
      "<class 'sklearn.utils.Bunch'>\n"
     ]
    }
   ],
   "source": [
    "print(type(iris_bunch))"
   ]
  },
  {
   "cell_type": "code",
   "execution_count": 14,
   "metadata": {},
   "outputs": [
    {
     "data": {
      "text/plain": [
       "dict_keys(['data', 'target', 'target_names', 'DESCR', 'feature_names', 'filename'])"
      ]
     },
     "execution_count": 14,
     "metadata": {},
     "output_type": "execute_result"
    }
   ],
   "source": [
    "\n",
    "iris_bunch.keys()\n"
   ]
  },
  {
   "cell_type": "code",
   "execution_count": 15,
   "metadata": {},
   "outputs": [
    {
     "data": {
      "text/plain": [
       "'.. _iris_dataset:\\n\\nIris plants dataset\\n--------------------\\n\\n**Data Set Characteristics:**\\n\\n    :Number of Instances: 150 (50 in each of three classes)\\n    :Number of Attributes: 4 numeric, predictive attributes and the class\\n    :Attribute Information:\\n        - sepal length in cm\\n        - sepal width in cm\\n        - petal length in cm\\n        - petal width in cm\\n        - class:\\n                - Iris-Setosa\\n                - Iris-Versicolour\\n                - Iris-Virginica\\n                \\n    :Summary Statistics:\\n\\n    ============== ==== ==== ======= ===== ====================\\n                    Min  Max   Mean    SD   Class Correlation\\n    ============== ==== ==== ======= ===== ====================\\n    sepal length:   4.3  7.9   5.84   0.83    0.7826\\n    sepal width:    2.0  4.4   3.05   0.43   -0.4194\\n    petal length:   1.0  6.9   3.76   1.76    0.9490  (high!)\\n    petal width:    0.1  2.5   1.20   0.76    0.9565  (high!)\\n    ============== ==== ==== ======= ===== ====================\\n\\n    :Missing Attribute Values: None\\n    :Class Distribution: 33.3% for each of 3 classes.\\n    :Creator: R.A. Fisher\\n    :Donor: Michael Marshall (MARSHALL%PLU@io.arc.nasa.gov)\\n    :Date: July, 1988\\n\\nThe famous Iris database, first used by Sir R.A. Fisher. The dataset is taken\\nfrom Fisher\\'s paper. Note that it\\'s the same as in R, but not as in the UCI\\nMachine Learning Repository, which has two wrong data points.\\n\\nThis is perhaps the best known database to be found in the\\npattern recognition literature.  Fisher\\'s paper is a classic in the field and\\nis referenced frequently to this day.  (See Duda & Hart, for example.)  The\\ndata set contains 3 classes of 50 instances each, where each class refers to a\\ntype of iris plant.  One class is linearly separable from the other 2; the\\nlatter are NOT linearly separable from each other.\\n\\n.. topic:: References\\n\\n   - Fisher, R.A. \"The use of multiple measurements in taxonomic problems\"\\n     Annual Eugenics, 7, Part II, 179-188 (1936); also in \"Contributions to\\n     Mathematical Statistics\" (John Wiley, NY, 1950).\\n   - Duda, R.O., & Hart, P.E. (1973) Pattern Classification and Scene Analysis.\\n     (Q327.D83) John Wiley & Sons.  ISBN 0-471-22361-1.  See page 218.\\n   - Dasarathy, B.V. (1980) \"Nosing Around the Neighborhood: A New System\\n     Structure and Classification Rule for Recognition in Partially Exposed\\n     Environments\".  IEEE Transactions on Pattern Analysis and Machine\\n     Intelligence, Vol. PAMI-2, No. 1, 67-71.\\n   - Gates, G.W. (1972) \"The Reduced Nearest Neighbor Rule\".  IEEE Transactions\\n     on Information Theory, May 1972, 431-433.\\n   - See also: 1988 MLC Proceedings, 54-64.  Cheeseman et al\"s AUTOCLASS II\\n     conceptual clustering system finds 3 classes in the data.\\n   - Many, many more ...'"
      ]
     },
     "execution_count": 15,
     "metadata": {},
     "output_type": "execute_result"
    }
   ],
   "source": [
    "iris_bunch.DESCR"
   ]
  },
  {
   "cell_type": "code",
   "execution_count": 16,
   "metadata": {},
   "outputs": [
    {
     "data": {
      "text/plain": [
       "['sepal length (cm)',\n",
       " 'sepal width (cm)',\n",
       " 'petal length (cm)',\n",
       " 'petal width (cm)']"
      ]
     },
     "execution_count": 16,
     "metadata": {},
     "output_type": "execute_result"
    }
   ],
   "source": [
    "iris_bunch.feature_names"
   ]
  },
  {
   "cell_type": "code",
   "execution_count": 17,
   "metadata": {},
   "outputs": [
    {
     "data": {
      "text/plain": [
       "array(['setosa', 'versicolor', 'virginica'], dtype='<U10')"
      ]
     },
     "execution_count": 17,
     "metadata": {},
     "output_type": "execute_result"
    }
   ],
   "source": [
    "iris_bunch.target_names\n"
   ]
  },
  {
   "cell_type": "code",
   "execution_count": 20,
   "metadata": {},
   "outputs": [
    {
     "data": {
      "text/plain": [
       "array([[5.1, 3.5, 1.4, 0.2],\n",
       "       [4.9, 3. , 1.4, 0.2],\n",
       "       [4.7, 3.2, 1.3, 0.2],\n",
       "       [4.6, 3.1, 1.5, 0.2],\n",
       "       [5. , 3.6, 1.4, 0.2]])"
      ]
     },
     "execution_count": 20,
     "metadata": {},
     "output_type": "execute_result"
    }
   ],
   "source": [
    "iris_bunch.data[:5]"
   ]
  },
  {
   "cell_type": "code",
   "execution_count": 22,
   "metadata": {},
   "outputs": [
    {
     "data": {
      "text/plain": [
       "(150, 4)"
      ]
     },
     "execution_count": 22,
     "metadata": {},
     "output_type": "execute_result"
    }
   ],
   "source": [
    "iris_bunch.data.shape"
   ]
  },
  {
   "cell_type": "code",
   "execution_count": 24,
   "metadata": {},
   "outputs": [
    {
     "data": {
      "text/plain": [
       "array([0, 0, 0, 0, 0, 0, 0, 0, 0, 0, 0, 0, 0, 0, 0, 0, 0, 0, 0, 0, 0, 0,\n",
       "       0, 0, 0, 0, 0, 0, 0, 0, 0, 0, 0, 0, 0, 0, 0, 0, 0, 0, 0, 0, 0, 0,\n",
       "       0, 0, 0, 0, 0, 0, 1, 1, 1, 1, 1, 1, 1, 1, 1, 1, 1, 1, 1, 1, 1, 1,\n",
       "       1, 1, 1, 1, 1, 1, 1, 1, 1, 1, 1, 1, 1, 1, 1, 1, 1, 1, 1, 1, 1, 1,\n",
       "       1, 1, 1, 1, 1, 1, 1, 1, 1, 1, 1, 1, 2, 2, 2, 2, 2, 2, 2, 2, 2, 2,\n",
       "       2, 2, 2, 2, 2, 2, 2, 2, 2, 2, 2, 2, 2, 2, 2, 2, 2, 2, 2, 2, 2, 2,\n",
       "       2, 2, 2, 2, 2, 2, 2, 2, 2, 2, 2, 2, 2, 2, 2, 2, 2, 2])"
      ]
     },
     "execution_count": 24,
     "metadata": {},
     "output_type": "execute_result"
    }
   ],
   "source": [
    "iris_bunch.target\n"
   ]
  },
  {
   "cell_type": "code",
   "execution_count": 23,
   "metadata": {},
   "outputs": [
    {
     "data": {
      "text/plain": [
       "(150,)"
      ]
     },
     "execution_count": 23,
     "metadata": {},
     "output_type": "execute_result"
    }
   ],
   "source": [
    "iris_bunch.target.shape"
   ]
  },
  {
   "cell_type": "markdown",
   "metadata": {},
   "source": [
    "# sklearn의 데이타 나누기 \n",
    "* 참조 : https://medium.com/@julie.yin/understanding-the-data-splitting-functions-in-scikit-learn-9ae4046fbd26\n",
    "* `model_selection.train_test_split()`\n",
    "    * 같은 크기의 NumPy array를 순차적으로 전달하면 지정된 비율로 나눠서 반환\n",
    "    * test_zise=0.25 : 0.0 ~ 1.0 사이 값을 전달하면 테스트 데이타셋 비율로 나눠 준다.\n",
    "    * train-size=None : 0.0~1.0 사이 값을 전달하면 훈련 데이타셋 비율로 나눠준다.\n",
    "    * random_state : 정수 값을 전달하면 난수 발생의 시드 값으로 사용한다.\n",
    "    * suffle : boolean 값을 전달해서 섞을지 말지 결정\n",
    "    * stratify : class label로 사용한 것을 지정\n",
    "* `cross_validataion.train_test_split()` : 제거됨."
   ]
  },
  {
   "cell_type": "code",
   "execution_count": 25,
   "metadata": {},
   "outputs": [
    {
     "name": "stdout",
     "output_type": "stream",
     "text": [
      "[0 1 2 3 4 5 6 7 8 9] [ 0  1  4  9 16 25 36 49 64 81]\n",
      "X_train [4 9 1 6 7 3 0 5]\n",
      "y_train [16 81  1 36 49  9  0 25]\n",
      "X_test [2 8]\n",
      "y_test [ 4 64]\n"
     ]
    }
   ],
   "source": [
    "import numpy as np\n",
    "import sklearn.model_selection as model_selection\n",
    "\n",
    "X = np.arange(10)\n",
    "y = X * X\n",
    "print(X, y)\n",
    "\n",
    "X_train, X_test, y_train, y_test = model_selection.train_test_split(X, y, random_state=0, test_size=0.2)\n",
    "print(\"X_train\", X_train)\n",
    "print(\"y_train\", y_train)\n",
    "print(\"X_test\", X_test)\n",
    "print(\"y_test\", y_test)"
   ]
  },
  {
   "cell_type": "markdown",
   "metadata": {},
   "source": [
    "# scikit-learn model 공통 함수\n",
    "## LinearRegression 예시\n",
    "* model.fit()\n",
    "* model.predict()\n",
    "* model.score()\n",
    "* Accuracy score\n",
    "    * sklearn.metrics.accuracy_score(y_test, y_pred)\n",
    "* predict_proba()"
   ]
  },
  {
   "cell_type": "code",
   "execution_count": 27,
   "metadata": {},
   "outputs": [
    {
     "name": "stdout",
     "output_type": "stream",
     "text": [
      "prediction for 8: 58\n",
      "Accuacy:0.98\n"
     ]
    }
   ],
   "source": [
    "from sklearn.linear_model import LinearRegression\n",
    "model = LinearRegression()\n",
    "model.fit(X_train.reshape(-1,1), y_train)\n",
    "X_new = np.array([[8]])\n",
    "prediction = model.predict(X_new)\n",
    "print(\"prediction for %d: %d\"%(X_new, prediction))\n",
    "print(\"Accuacy:%.2f\"%(model.score(X_test.reshape(-1,1), y_test)))"
   ]
  }
 ],
 "metadata": {
  "kernelspec": {
   "display_name": "ml_dl",
   "language": "python",
   "name": "ml_dl"
  },
  "language_info": {
   "codemirror_mode": {
    "name": "ipython",
    "version": 3
   },
   "file_extension": ".py",
   "mimetype": "text/x-python",
   "name": "python",
   "nbconvert_exporter": "python",
   "pygments_lexer": "ipython3",
   "version": "3.6.4"
  }
 },
 "nbformat": 4,
 "nbformat_minor": 2
}
