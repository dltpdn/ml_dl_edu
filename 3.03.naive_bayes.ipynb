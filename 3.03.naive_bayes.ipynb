{
 "cells": [
  {
   "cell_type": "markdown",
   "metadata": {},
   "source": [
    "### 날씨에 따른 축구 경기 진행 예측 \n",
    "* Raw Data\n",
    "\n",
    "|whether | Play |\n",
    "|---|---|\n",
    "|sunny | no|\n",
    "|sunny | no|\n",
    "|overcast | yes|\n",
    "|rainy |yes|\n",
    "|rainy |yes|\n",
    "|rainy | no|\n",
    "|overcast | yes|\n",
    "|summy | no|\n",
    "|sunny | yes|\n",
    "|rainy | no|\n",
    "|sunny | yes|\n",
    "|overcast | yes|\n",
    "|overcast | yes|\n",
    "|rainy | no|\n",
    "\n",
    "\n",
    "* 빈도표(Frrequency Table)\n",
    "\n",
    "|Whether | No | Yes|\n",
    "|---|---|---|\n",
    "|overcast |  | 4|\n",
    "|sunny | 2 | 3|\n",
    "|rainy | 3 | 2|\n",
    "|total | 5 | 9|\n",
    "\n",
    "* 흐린 날 경기 진행 확률 계산\n",
    "    1. 사전 확률 계산\n",
    "        * $P(overcast) = \\frac{4}{14} = 0.2857$\n",
    "        * $P(yes) = \\frac{9}{14} = 0.6428$\n",
    "    2. 사후 확률 계산\n",
    "        * $P(overcast|yes) = \\frac{4}{9} = 0.4444$\n",
    "    3. 베이즈 공식 적용\n",
    "        * $P(yes|overcast) = \\frac{0.4444 \\times 0.6428}{0.2857} = 0.9998 $\n",
    "* 흐린 날 경기 취소 확률 계산\n",
    "    1. 사전 확률 계산\n",
    "        * $P(overcast) = \\frac{4}{14} = 0.2857$\n",
    "        * $P(no) = \\frac{5}{14} = 0.3571$\n",
    "    2. 사후 확률 계산\n",
    "        * $P(overcast|no) = \\frac{0}{9} = 0.0$\n",
    "    3. 베이즈 공식 적용\n",
    "        * $P(yes|overcast) = \\frac{0.0 \\times 0.3571}{0.2857} = 0.0 $"
   ]
  },
  {
   "cell_type": "code",
   "execution_count": null,
   "metadata": {
    "collapsed": true
   },
   "outputs": [],
   "source": [
    "\n",
    "\n",
    "wheather=['Sunny','Sunny','Overcast','Rainy','Rainy','Rainy','Overcast','Sunny','Sunny',\n",
    "'Rainy','Sunny','Overcast','Overcast','Rainy']\n",
    "temp=['Hot','Hot','Hot','Mild','Cool','Cool','Cool','Mild','Cool','Mild','Mild','Mild','Hot','Mild']\n",
    "\n",
    "play=['No','No','Yes','Yes','Yes','No','Yes','No','Yes','Yes','Yes','Yes','Yes','No']"
   ]
  },
  {
   "cell_type": "code",
   "execution_count": null,
   "metadata": {},
   "outputs": [],
   "source": [
    "from sklearn import preprocessing\n",
    "import numpy as np\n",
    "\n",
    "le = preprocessing.LabelEncoder()\n",
    "wheather_encoded=le.fit_transform(wheather)\n",
    "temp_encoded=le.fit_transform(temp)\n",
    "label=le.fit_transform(play)\n",
    "print(\"Wheather:\",wheather_encoded)\n",
    "print(\"Temp:\",temp_encoded)\n",
    "print(\"Play:\",label)"
   ]
  },
  {
   "cell_type": "code",
   "execution_count": null,
   "metadata": {},
   "outputs": [],
   "source": [
    "features=np.stack((wheather_encoded,temp_encoded), axis=1)\n",
    "print(features)"
   ]
  },
  {
   "cell_type": "code",
   "execution_count": null,
   "metadata": {},
   "outputs": [],
   "source": [
    "from sklearn.naive_bayes import GaussianNB\n",
    "\n",
    "model = GaussianNB()\n",
    "model.fit(features, label)\n",
    "predict = model.predict([[0,2]]) #overcast, mild\n",
    "print(predict)"
   ]
  },
  {
   "cell_type": "markdown",
   "metadata": {},
   "source": [
    "## 와인 분류 예제\n"
   ]
  },
  {
   "cell_type": "code",
   "execution_count": null,
   "metadata": {},
   "outputs": [],
   "source": [
    "from sklearn import datasets\n",
    "wine = datasets.load_wine()\n",
    "print(wine.feature_names)\n",
    "print(wine.target_names)\n",
    "print(wine.data.shape)"
   ]
  },
  {
   "cell_type": "code",
   "execution_count": null,
   "metadata": {
    "collapsed": true
   },
   "outputs": [],
   "source": [
    "from sklearn.model_selection import train_test_split\n",
    "\n",
    "x_train, x_test, y_train, y_test = train_test_split(wine.data, wine.target, test_size=0.3, random_state=109)"
   ]
  },
  {
   "cell_type": "code",
   "execution_count": null,
   "metadata": {},
   "outputs": [],
   "source": [
    "from sklearn.naive_bayes import GaussianNB\n",
    "from sklearn import metrics\n",
    "\n",
    "gnb = GaussianNB()\n",
    "gnb.fit(x_train, y_train)\n",
    "\n",
    "print(\"Train Accuracy :\", gnb.score(x_train, y_train))\n",
    "print(\"Test Accuracy1 :\", gnb.score(x_test, y_test))\n",
    "y_pred = gnb.predict(x_test)\n",
    "print(\"Test Accuracy2 :\", metrics.accuracy_score(y_test, y_pred))\n"
   ]
  },
  {
   "cell_type": "markdown",
   "metadata": {},
   "source": [
    "# 손글씨 숫자"
   ]
  },
  {
   "cell_type": "code",
   "execution_count": null,
   "metadata": {},
   "outputs": [],
   "source": [
    "%matplotlib inline\n",
    "import numpy as np, cv2\n",
    "from sklearn.datasets import load_digits\n",
    "from sklearn.model_selection import train_test_split\n",
    "from sklearn.naive_bayes import GaussianNB\n",
    "\n",
    "import matplotlib.pyplot as plt\n",
    "\n",
    "digits = load_digits()  #Mnist로 도 해보자\n",
    "\n",
    "X_train, X_test, y_train, y_test = train_test_split(digits.data, digits.target, random_state=0, test_size=0.2)\n",
    "\n",
    "gnb = GaussianNB()\n",
    "gnb.fit(X_train, y_train)\n",
    "\n",
    "print(\"Train Accuracy :\", gnb.score(X_train, y_train))\n",
    "print(\"Test Accuracy1 :\", gnb.score(X_test, y_test))\n"
   ]
  },
  {
   "cell_type": "code",
   "execution_count": null,
   "metadata": {},
   "outputs": [],
   "source": [
    "# 인식시킬 손글씨 이미지 읽기 ---③\n",
    "#file_name = \"./img/4027.png\"\n",
    "file_name = \"./img/0458.png\"\n",
    "image = cv2.imread(file_name)\n",
    "plt.imshow(image)"
   ]
  },
  {
   "cell_type": "code",
   "execution_count": null,
   "metadata": {},
   "outputs": [],
   "source": [
    "gray = cv2.cvtColor(image, cv2.COLOR_BGR2GRAY)\n",
    "_, th = cv2.threshold(gray, 127, 255, cv2.THRESH_BINARY_INV)\n",
    "contours, hirachy = cv2.findContours(th, cv2.RETR_EXTERNAL, \n",
    "                                        cv2.CHAIN_APPROX_SIMPLE)\n",
    "numbers = []\n",
    "for c in contours:\n",
    "    # 컨투어를 감싸는 외접 사각형으로 숫자 영역 좌표 구하기 ---⑦\n",
    "    (x, y, w, h) = cv2.boundingRect(c)    \n",
    "    # 외접 사각형의 크기가 너무 작은것은 제외 ---⑧\n",
    "    if w >= 5 and h >= 25:\n",
    "        # 숫자 영역만 roi로 확보하고 사각형 그리기 ---⑨\n",
    "        roi = gray[y:y + h, x:x + w]\n",
    "        numbers.append(roi)\n",
    "for i, n in enumerate(numbers):\n",
    "    plt.subplot(1,len(numbers), i+1)\n",
    "    plt.imshow(n, cmap=\"gray\")"
   ]
  },
  {
   "cell_type": "code",
   "execution_count": null,
   "metadata": {
    "collapsed": true
   },
   "outputs": [],
   "source": [
    "def digit2data(src, reshape=True):\n",
    "    h, w = src.shape[:2]\n",
    "    square = src\n",
    "    # 정사각형 형태로 만들기\n",
    "    if h > w:\n",
    "        pad = (h - w)//2\n",
    "        square = np.zeros((h, h), dtype=np.uint8)\n",
    "        square[:, pad:pad+w] = src\n",
    "    elif w > h :\n",
    "        pad = (w - h)//2\n",
    "        square = np.zeros((w, w), dtype=np.uint8)\n",
    "        square[pad:pad+h, :] = src\n",
    "    # 0으로 채워진 8x8 이미지 생성\n",
    "    px = np.zeros((8,8), np.uint8)\n",
    "    # 원본을 8x8으로 축소\n",
    "    px[:, :] = cv2.resize(square, (8,8), interpolation=cv2.INTER_AREA)\n",
    "    if reshape:\n",
    "        # 1x64형태로 변환\n",
    "        px = px.reshape((1,8*8))\n",
    "    return px    "
   ]
  },
  {
   "cell_type": "code",
   "execution_count": null,
   "metadata": {},
   "outputs": [],
   "source": [
    "for i, n in enumerate(numbers):\n",
    "    n = 255- n  # 반전\n",
    "    data = digit2data(n)\n",
    "    pred = gnb.predict(data)\n",
    "    plt.subplot(1, len(numbers), i+1)\n",
    "    plt.title(str(pred))\n",
    "    plt.imshow(digit2data(n, False), cmap=\"gray\")\n",
    "    plt.axis(\"off\")"
   ]
  },
  {
   "cell_type": "code",
   "execution_count": null,
   "metadata": {
    "collapsed": true
   },
   "outputs": [],
   "source": []
  }
 ],
 "metadata": {
  "kernelspec": {
   "display_name": "ml_dl",
   "language": "python",
   "name": "ml_dl"
  },
  "language_info": {
   "codemirror_mode": {
    "name": "ipython",
    "version": 3
   },
   "file_extension": ".py",
   "mimetype": "text/x-python",
   "name": "python",
   "nbconvert_exporter": "python",
   "pygments_lexer": "ipython3",
   "version": "3.6.4"
  }
 },
 "nbformat": 4,
 "nbformat_minor": 2
}
