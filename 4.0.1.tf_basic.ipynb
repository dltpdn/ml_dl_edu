{
 "cells": [
  {
   "cell_type": "markdown",
   "metadata": {},
   "source": [
    "# Tensorflow 기본 사용법\n",
    "* tf.constant\n",
    "* tf.Session\n",
    "* tf.Variable\n",
    "* tf.placeholder\n",
    "* tf.graph\n",
    "* life cycle"
   ]
  },
  {
   "cell_type": "code",
   "execution_count": null,
   "metadata": {
    "collapsed": true
   },
   "outputs": [],
   "source": [
    "import tensorflow as tf"
   ]
  },
  {
   "cell_type": "markdown",
   "metadata": {},
   "source": [
    "## 상수\n",
    "* tf.constant()로 생성하는 상수는 초기화 없이 사용이 가능하다. \n",
    "    * 하지만 값의 변경이 되지 않는다\n",
    "* 값은 세션에 저장된다.\n"
   ]
  },
  {
   "cell_type": "code",
   "execution_count": null,
   "metadata": {},
   "outputs": [],
   "source": [
    "hello = tf.constant('Hello World!')\n",
    "print(hello)\n",
    "#dir(hello)"
   ]
  },
  {
   "cell_type": "code",
   "execution_count": null,
   "metadata": {},
   "outputs": [],
   "source": [
    "a = tf.constant(10)\n",
    "b = tf.constant(20)\n",
    "c = a + b\n",
    "print(c)"
   ]
  },
  {
   "cell_type": "code",
   "execution_count": null,
   "metadata": {},
   "outputs": [],
   "source": [
    "cc = tf.add(a, b)\n",
    "print(cc)"
   ]
  },
  {
   "cell_type": "markdown",
   "metadata": {},
   "source": [
    "## Session\n",
    "### `tf.Session()`\n",
    "* 노드들로 구성된 그래프를 실행하려면 Session이 필요하다.\n",
    "* 그래프를 CPU 또는 GPU에 로드하고 실행한다.\n",
    "    * `run()`\n",
    "* `sess = tf.Session()`으로 생성할 수 있고 `sess.run()`으로 텐서를 실행할 수 있다.\n",
    "* 모든 tensor들은 `t.eval()` 메서드를 가지고 있는데, 이것은 `tf.get_default_session.run(t)` 한것과 같다.\n",
    "    * 또는 `t.eval(session=sess)`로 세션을 지정할 수 도 있다.\n",
    "* `with tf.Session() as sess :` 구문으로 블록내의 default session을 지정할 수 있다.\n",
    "* `with sess.as_default()` 함수로 default session을 지정할 수도 있다.\n",
    "* `sess.close()` 함수로 자원을 반납해야 한다.\n",
    "\n",
    "### `tf.InteractiveSession()`\n",
    "* 자동으로 전역으로 사용할 default session으로 등록하게 된다.\n",
    "* with 구문이 필요없다."
   ]
  },
  {
   "cell_type": "code",
   "execution_count": null,
   "metadata": {
    "collapsed": true
   },
   "outputs": [],
   "source": [
    "sess = tf.Session()\n",
    "#dir(sess)"
   ]
  },
  {
   "cell_type": "code",
   "execution_count": null,
   "metadata": {},
   "outputs": [],
   "source": [
    "sess.run(c)"
   ]
  },
  {
   "cell_type": "code",
   "execution_count": null,
   "metadata": {},
   "outputs": [],
   "source": [
    "sess.run(cc)"
   ]
  },
  {
   "cell_type": "code",
   "execution_count": null,
   "metadata": {},
   "outputs": [],
   "source": [
    "sess.run(a)"
   ]
  },
  {
   "cell_type": "markdown",
   "metadata": {},
   "source": [
    "## 변수 , `tf.Variable()`\n",
    "* 값을 변경할 수 있는 변수\n",
    "* `tf.Variable(val)`\n",
    "* 보통 학습 모델에 의해 Wegith 값을 보관할 목적으로 사용\n",
    "    * 학습 과정에서 값이 변경된다.\n",
    "    * 초기 값을 주기 애매 할 때는 랜덤 값등을 사용 할 수 있다.\n",
    "    * `tf.Variable(tf.random_normal([n, m])`\n",
    "* 사용하기 전에 초기화를 반드시 수행해야 한다.\n",
    "    *  sess.run(t.initializer) \n",
    "    * t.initializer.run()\n",
    "        * default session 이 있는 경우\n",
    "* 여러 변수를 한꺼번에 초기화 할때\n",
    "    * `sess.run(tf.global_variables_initializer())`\n",
    "    * `tf.global_variable_initialzer.run()` \n",
    "        * default session 있는 경우"
   ]
  },
  {
   "cell_type": "code",
   "execution_count": null,
   "metadata": {},
   "outputs": [],
   "source": [
    "x = tf.Variable(3)\n",
    "y = tf.Variable(4)\n",
    "z = x * y\n",
    "print(x, y, z)"
   ]
  },
  {
   "cell_type": "code",
   "execution_count": null,
   "metadata": {},
   "outputs": [],
   "source": [
    "print(tf.get_default_session())"
   ]
  },
  {
   "cell_type": "code",
   "execution_count": null,
   "metadata": {},
   "outputs": [],
   "source": [
    "print(tf.global_variables_initializer())"
   ]
  },
  {
   "cell_type": "code",
   "execution_count": null,
   "metadata": {
    "collapsed": true
   },
   "outputs": [],
   "source": [
    "sess.run(tf.global_variables_initializer())"
   ]
  },
  {
   "cell_type": "code",
   "execution_count": null,
   "metadata": {},
   "outputs": [],
   "source": [
    "sess.run([x,y,z])"
   ]
  },
  {
   "cell_type": "code",
   "execution_count": null,
   "metadata": {},
   "outputs": [],
   "source": [
    "z.eval(session=sess)"
   ]
  },
  {
   "cell_type": "code",
   "execution_count": null,
   "metadata": {},
   "outputs": [],
   "source": [
    "with sess.as_default():\n",
    "    print(z.eval())"
   ]
  },
  {
   "cell_type": "code",
   "execution_count": null,
   "metadata": {
    "collapsed": true
   },
   "outputs": [],
   "source": [
    "sess2 = tf.InteractiveSession()"
   ]
  },
  {
   "cell_type": "code",
   "execution_count": null,
   "metadata": {},
   "outputs": [],
   "source": [
    "x.initializer.run()\n",
    "y.initializer.run()\n",
    "z.eval()"
   ]
  },
  {
   "cell_type": "markdown",
   "metadata": {},
   "source": [
    "## PlaceHolder\n",
    "* 매개변수, 식은 정해져 있지만 값은 실행할때 마다 달라져야 하는 것들\n",
    "* `tf.placeholder(tf.float32, [None, 2])`\n",
    "* 실제로 값을 전달하는 곳은 `sess.run()`에서 `feed_dict={A:a, B:b}` 형식으로 전달"
   ]
  },
  {
   "cell_type": "code",
   "execution_count": null,
   "metadata": {},
   "outputs": [],
   "source": [
    "tf.reset_default_graph()\n",
    "x_data = [1,2,3,4,5]\n",
    "X = tf.placeholder(tf.int32)\n",
    "adder = tf.constant(10)\n",
    "y = tf.Variable(0)\n",
    "y = X + adder\n",
    "with tf.Session() as sess:\n",
    "    sess.run(tf.global_variables_initializer())\n",
    "    print(sess.run(y, feed_dict={X:x_data}))\n"
   ]
  },
  {
   "cell_type": "markdown",
   "metadata": {},
   "source": [
    "### 그래프, graph\n",
    "* 상수, 변수 등의 텐서를 생성하면 이것은 하나의 계산 그래프에 추가된다.\n",
    "* 각 텐서의 `t.graph` 속성에 지정된다\n",
    "* 새로운 그래프를 만드려면 `tf.Graph()` 함수가 있다.\n",
    "* 새로운 그래프를 사용하려면 `with graph.as_default():`로 블럭 설정을 해서 사용할 수 있다.\n",
    "* 텐서를 생성하는것과 같은 코드를 반복해서 실행하면 그래프에 중복된 텐서가 텐서 노드가 포함되기 때문에 오류가 발생\n",
    "    * 파이썬 프로세스 또는 커널을 재 실행 또는\n",
    "    * `tf.reset_default_graph()`를 실행\n",
    " "
   ]
  },
  {
   "cell_type": "code",
   "execution_count": null,
   "metadata": {
    "collapsed": true
   },
   "outputs": [],
   "source": [
    "#??"
   ]
  },
  {
   "cell_type": "markdown",
   "metadata": {},
   "source": [
    "## 노드의 Life Cycle\n",
    "* 종속성 있는 노드는 평가 시점에 모두 평가가 같이 실행된다.\n",
    "* 종속성있는 노드를 2번 평가되면 그 과정의 노드들도 2번 평가된다.\n",
    "* 한번에 하고 싶으면 리스트로 만들어서 한번에 평가하라."
   ]
  },
  {
   "cell_type": "markdown",
   "metadata": {},
   "source": [
    "### 세션을 생성하고 닫은 후 다시 실행하면 값을 항상 처음으로 돌아 간다."
   ]
  },
  {
   "cell_type": "code",
   "execution_count": null,
   "metadata": {},
   "outputs": [],
   "source": [
    "w = tf.constant(2)\n",
    "x = tf.Variable(3)\n",
    "y =  w + x\n",
    "\n",
    "sess = tf.Session()\n",
    "sess.run(tf.global_variables_initializer())\n",
    "\n",
    "y = y *2 \n",
    "z = y + 1\n",
    "\n",
    "print(sess.run(w), sess.run(x), sess.run(y))\n",
    "print(sess.run(z))\n",
    "\n",
    "sess.close()"
   ]
  },
  {
   "cell_type": "markdown",
   "metadata": {},
   "source": [
    "### 하지만 세션을 닫지 않고 실행만 다시 하면 값을 유지된다."
   ]
  },
  {
   "cell_type": "code",
   "execution_count": null,
   "metadata": {
    "collapsed": true
   },
   "outputs": [],
   "source": [
    "w = tf.constant(2)\n",
    "x = tf.Variable(3)\n",
    "y =  w + x\n",
    "\n",
    "sess = tf.Session()\n",
    "sess.run(tf.global_variables_initializer())\n"
   ]
  },
  {
   "cell_type": "code",
   "execution_count": null,
   "metadata": {},
   "outputs": [],
   "source": [
    "y = y *2 \n",
    "z = y + 1\n",
    "\n",
    "print(sess.run(w), sess.run(x), sess.run(y))\n",
    "print(sess.run(z))\n"
   ]
  },
  {
   "cell_type": "markdown",
   "metadata": {},
   "source": [
    "### 세션을 실행할때 개별적으로 실행하면 종속성있는 모든 노드가 매번 실행 된다.\n",
    "* 아래의 경우 z의 값이 y의 값을 2번 변경하게 한다."
   ]
  },
  {
   "cell_type": "code",
   "execution_count": null,
   "metadata": {},
   "outputs": [],
   "source": [
    "w = tf.constant(2)\n",
    "x = tf.Variable(3)\n",
    "y = tf.Variable(0)\n",
    "y =  tf.assign(y, y + x)\n",
    "z = y + 1\n",
    "sess = tf.Session()\n",
    "sess.run(tf.global_variables_initializer())\n",
    "\n",
    "\n",
    "print(sess.run(w), sess.run(x), sess.run(y), sess.run(z))\n",
    "sess.close()"
   ]
  },
  {
   "cell_type": "markdown",
   "metadata": {},
   "source": [
    "### 세션에 노드를 리스트로 묶어서 실행하면 한번에 평가된다.\n",
    "* 아래의 코드의 z는 y를 두번 평가하게 하지 않는다."
   ]
  },
  {
   "cell_type": "code",
   "execution_count": null,
   "metadata": {},
   "outputs": [],
   "source": [
    "w = tf.constant(2)\n",
    "x = tf.Variable(3)\n",
    "y = tf.Variable(0)\n",
    "y =  tf.assign(y, y + x)\n",
    "z = y + 1\n",
    "sess = tf.Session()\n",
    "sess.run(tf.global_variables_initializer())\n",
    "\n",
    "\n",
    "print(sess.run([w,x,y,z]))\n",
    "\n",
    "sess.close()"
   ]
  }
 ],
 "metadata": {
  "kernelspec": {
   "display_name": "ml_dl",
   "language": "python",
   "name": "ml_dl"
  },
  "language_info": {
   "codemirror_mode": {
    "name": "ipython",
    "version": 3
   },
   "file_extension": ".py",
   "mimetype": "text/x-python",
   "name": "python",
   "nbconvert_exporter": "python",
   "pygments_lexer": "ipython3",
   "version": "3.6.4"
  }
 },
 "nbformat": 4,
 "nbformat_minor": 2
}
