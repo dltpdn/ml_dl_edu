{
 "cells": [
  {
   "cell_type": "markdown",
   "metadata": {},
   "source": [
    "# 필수 모듈 설치 및 확인"
   ]
  },
  {
   "cell_type": "markdown",
   "metadata": {},
   "source": [
    "* ```pip install -U scipy```\n",
    "* ```pip install -U numpy```\n",
    "* ```pip install -U scipy```\n",
    "* ```pip install -U matplotlib```\n",
    "* ```pip install -U pandas```\n",
    "* ```pip install -U sklearn```\n",
    "* ```pip install -U tensorflow```\n",
    "* ```pip install -U keras```\n"
   ]
  },
  {
   "cell_type": "code",
   "execution_count": 5,
   "metadata": {},
   "outputs": [
    {
     "name": "stdout",
     "output_type": "stream",
     "text": [
      "numpy : 1.16.2\n",
      "scipy : 1.2.1\n",
      "matplotlib : 3.0.3\n",
      "pandas : 0.24.1\n",
      "sklearn : 0.20.3\n",
      "tensorflow : 1.13.1\n",
      "keras : 2.2.4\n"
     ]
    }
   ],
   "source": [
    "import numpy\n",
    "import scipy\n",
    "import matplotlib\n",
    "import pandas\n",
    "import sklearn\n",
    "import tensorflow\n",
    "import keras\n",
    "\n",
    "print('numpy : %s'%numpy.__version__)\n",
    "print('scipy : %s'%scipy.__version__)\n",
    "print('matplotlib : %s'%matplotlib.__version__)\n",
    "print('pandas : %s'%pandas.__version__)\n",
    "print('sklearn : %s'%sklearn.__version__)\n",
    "print('tensorflow : %s'%tensorflow.__version__)\n",
    "print('keras : %s'% keras.__version__)"
   ]
  }
 ],
 "metadata": {
  "kernelspec": {
   "display_name": "ml_dl",
   "language": "python",
   "name": "ml_dl"
  },
  "language_info": {
   "codemirror_mode": {
    "name": "ipython",
    "version": 3
   },
   "file_extension": ".py",
   "mimetype": "text/x-python",
   "name": "python",
   "nbconvert_exporter": "python",
   "pygments_lexer": "ipython3",
   "version": "3.6.4"
  }
 },
 "nbformat": 4,
 "nbformat_minor": 2
}
