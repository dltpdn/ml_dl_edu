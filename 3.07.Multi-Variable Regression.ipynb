{
 "cells": [
  {
   "cell_type": "markdown",
   "metadata": {},
   "source": [
    "## Multi-Variable Linear Regression\n",
    "* 입력 변수가 1개가 아닌 여러개인 경우 다변수 선형회귀\n",
    "    * bias 도 입력 변수가 1인 것으로 생각할 수 있다\n",
    "    * $y = W_0X_0 + W_1X_1 + W_2X_2$\n",
    "        * $W_0$ : 상수, bias\n",
    "        * $X_0$ : 1\n",
    "        * $W_n$ : n번째 계수\n",
    "        * $X_n$ : n번째 입력 변수\n",
    "* 각각의 입력 변수에 대해서 미분을 하기 불편하므로 행렬 연산을 한다.\n",
    "* 행렬곱 연산은 각각의 계수를 개별적으로 찾는 것을 쉽게 해준다.\n",
    "* 이 때 전치행렬(Transpose)가 쓸모 있다.\n",
    "* 2과목의 시험 점수로 학점을 계산하는 예제를 만들어 보자.\n",
    "    * 3개의 변수를 사용한다.\n",
    "        * $x_0$ = 1, bias, 50점 기본점수\n",
    "        * $x_1$ = 0~50, 가중치 0.7\n",
    "        * $x_2$ = 0~50, 가중치 0.3\n",
    "        * $y = 50x_0 + 0.7x_1 + 0.3x_2$"
   ]
  },
  {
   "cell_type": "code",
   "execution_count": null,
   "metadata": {},
   "outputs": [],
   "source": [
    "%matplotlib inline\n",
    "import numpy as np\n",
    "import matplotlib.pylab as plt\n",
    "\n",
    "m = 50\n",
    "X = np.ones((m,3), dtype=np.float32)\n",
    "X[:, 1] = np.random.randint(0, 50, (m))\n",
    "X[:, 2] = np.random.randint(0, 50, (m))\n",
    "y = X.T[0] * 50 + X.T[1] * 0.7 + X.T[2] * 0.3\n",
    "y = y.reshape(50,-1)\n",
    "print(y.shape)\n",
    "plt.plot(np.arange(m), X.T[0], 'g-')\n",
    "plt.plot(np.arange(m), X.T[1], 'b--')\n",
    "plt.plot(np.arange(m), X.T[2], 'r:')\n",
    "plt.plot(np.arange(m), y)"
   ]
  },
  {
   "cell_type": "code",
   "execution_count": null,
   "metadata": {},
   "outputs": [],
   "source": [
    "W = np.random.rand(3,1)\n",
    "print('initial W', W.ravel())\n",
    "\n",
    "learning_rate = 0.0005\n",
    "epochs = 50000\n",
    "for epoch in range(epochs):\n",
    "    hypothesis = X.dot(W)\n",
    "    loss = hypothesis - y\n",
    "    cost = 1/m * np.sum(loss**2)\n",
    "    gradient = 2/m * X.T.dot(loss)\n",
    "    W = W - learning_rate * gradient\n",
    "    if epoch %5000 == 0:\n",
    "        print('epoch:',epoch,' cost:',cost)\n",
    "print('Final W:',W.ravel(), 'cost:%f'%cost, 'gradient:', gradient.ravel())\n",
    "\n"
   ]
  },
  {
   "cell_type": "markdown",
   "metadata": {},
   "source": [
    "## sciki-learn 구현"
   ]
  },
  {
   "cell_type": "code",
   "execution_count": null,
   "metadata": {},
   "outputs": [],
   "source": [
    "from sklearn.linear_model import LinearRegression\n",
    "\n",
    "lr = LinearRegression()\n",
    "lr.fit(X, y)\n",
    "W = lr.coef_\n",
    "b = lr.intercept_\n",
    "print('W:', W, 'b:', b)\n"
   ]
  }
 ],
 "metadata": {
  "kernelspec": {
   "display_name": "Python (myenv)",
   "language": "python",
   "name": "myenv"
  },
  "language_info": {
   "codemirror_mode": {
    "name": "ipython",
    "version": 3
   },
   "file_extension": ".py",
   "mimetype": "text/x-python",
   "name": "python",
   "nbconvert_exporter": "python",
   "pygments_lexer": "ipython3",
   "version": "3.6.4"
  }
 },
 "nbformat": 4,
 "nbformat_minor": 2
}
