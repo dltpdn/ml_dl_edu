{
 "cells": [
  {
   "cell_type": "markdown",
   "metadata": {},
   "source": [
    "## Multinomial Classification\n",
    "* 여러 클래스를 분류하는 방법\n",
    "    * 이진 분류기를 여러번 쓰는 방법에 비해 행렬 연산을 하는 것이 효과적\n",
    "* 이진 분류기를 여러번 쓰는 것\n",
    "    * 클래스 A 모델:\n",
    "    $\\begin{bmatrix}x_1 & x_2 \\end{bmatrix}\n",
    "    \\begin{bmatrix}w_{a1} \\\\ w_{a2}\\end{bmatrix}\n",
    "    = \\begin{bmatrix}w_{a1}x_1 +w_{a2}x_2\\end{bmatrix}$\n",
    "    * 클래스 B 모델:\n",
    "    $\\begin{bmatrix}x_1 & x_2 \\end{bmatrix}\n",
    "    \\begin{bmatrix}w_{b1} \\\\ w_{b2}\\end{bmatrix}\n",
    "    =\\begin{bmatrix}w_{b1}x_1 +w_{b2}x_2\\end{bmatrix}$\n",
    "    * 클래스 C 모델:$\\begin{bmatrix}x_1 & x_2 \\end{bmatrix}\n",
    "    \\begin{bmatrix}w_{c1} \\\\ w_{c2}\\end{bmatrix}\n",
    "    =\\begin{bmatrix}w_{c1}x_1 +w_{c2}x_2\\end{bmatrix}$\n",
    "* 하나의 행렬로 계산\n",
    "    * $\\begin{bmatrix}x_1 & x_2 \\end{bmatrix}\n",
    "    \\begin{bmatrix}w_{a1}  & w_{b1} & w_{c1} \\\\ w_{a2} & w_{b2} &w_{c2}  \\end{bmatrix}\n",
    "    = \\begin{bmatrix}w_{a1}x_1 +w_{a2}x_2 & w_{b1}x_1 +w_{b2}x_2 & w_{c1}x_1 +w_{c2}x_2 \\end{bmatrix}$\n",
    "\n",
    "### SoftMax Regrerssion\n",
    "* 다항 로지스틱 휘귀\n",
    "* Sigmoid 대신 Softmax 함수 사용\n",
    "    * Softmax : 각 출력 값은 0~1 사이, 모든 클래스의 값의 합은 1\n",
    "    * sigmoid 보다 좋은 이유 : 하나의 클래스가 높은 값을 갖으면 나머지 클래스는 아주 작은 값, 배타적\n",
    "* $\\displaystyle \\hat{P_k} = \\frac{e^{z_i}}{e^{z_0} + e^{z_1} + e^{z_2}... + e^{z_k}}= \\frac{e^{z_i}}{\\sum_{j=0}^ke^{z_k}}$\n",
    "\n",
    "### Softmax Prediction\n",
    "* Softmax 결과에서 확률이 가장 높은 클래스 반환\n",
    "* $\\hat{y} = argmax(\\hat{p})$\n",
    "\n",
    "### Cross Entropy\n",
    "* 소프트 맥스의 비용함수 :\n",
    "$\\displaystyle J(\\theta) =  -\\frac{1}{m}\\sum_{i=1}^m\\sum_{k=1}^ky_k^{(i)}log(\\hat{p_k})$\n",
    "* 소프트맥스를 통과한 결과값은 어떤 특정한 클래스만 높은 값을 갖고 나머지 클래스는 아주 작은 값을 갖는다.\n",
    "여기에 y는 정답 클래스인 경우만 1을 나머지는 0을 가지고 있으므로 소프트맥스를 통과한 결과와 y를 곱하는 것만으로도 정답만 값이 나오고 틀린 결과는 0에 가까울 수 밖에 없다. 그런데 소프트맥스를 통과한 값을 $log()$함수를 씌우면 그 반대의 결과가 나온다. 따라서 틀리면 큰값 맞으면 작은 값이 나오므로 비용함수로 적합하다.\n",
    "\n",
    "### Gradient of Cross Entropy\n",
    "* $\\displaystyle \\nabla J(\\theta) = \\frac{1}{m}\\sum_{i=1}^m(\\hat{p}_k^{(i)} - y_k^{(i)})x^{(i)}$\n",
    "\n",
    "* 참고\n",
    "* 김성훈 교수(https://www.youtube.com/watch?v=MFAnsx1y9ZI&feature=youtu.be)\n",
    "* 이게 살렸다 : http://saitcelebi.com/tut/output/part2.html\n",
    "* http://rasbt.github.io/mlxtend/user_guide/classifier/SoftmaxRegression/\n",
    "* https://deepnotes.io/softmax-crossentropy\n",
    "* 크로스 엔트로피의 확률통계학적 : https://www.slideshare.net/jaepilko10/ss-91071277\n",
    "* 크로스 엔트로피 정보학 : https://www.youtube.com/watch?v=ErfnhcEV1O8\n",
    "\n"
   ]
  },
  {
   "cell_type": "code",
   "execution_count": 1,
   "metadata": {
    "collapsed": true
   },
   "outputs": [],
   "source": [
    "%matplotlib inline\n",
    "import numpy as np\n",
    "import matplotlib.pylab as plt"
   ]
  },
  {
   "cell_type": "code",
   "execution_count": 599,
   "metadata": {},
   "outputs": [
    {
     "name": "stdout",
     "output_type": "stream",
     "text": [
      "[[-0.1  1.4]\n",
      " [-0.5  0.2]\n",
      " [ 1.3  0.9]\n",
      " [-0.6  0.4]\n",
      " [-1.6  0.2]] (20, 2)\n"
     ]
    }
   ],
   "source": [
    "X = np.array([[-0.1, 1.4],\n",
    "              [-0.5, 0.2],\n",
    "              [ 1.3, 0.9],\n",
    "              [-0.6, 0.4],\n",
    "              [-1.6, 0.2],\n",
    "              [ 0.2, 0.2],\n",
    "              [-0.3,-0.4],\n",
    "              [ 0.7,-0.8],\n",
    "              [ 1.1,-1.5],\n",
    "              [-1.0, 0.9],\n",
    "              [-0.5, 1.5],\n",
    "              [-1.3,-0.4],\n",
    "              [-1.4,-1.2],\n",
    "              [-0.9,-0.7],\n",
    "              [ 0.4,-1.3],\n",
    "              [-0.4, 0.6],\n",
    "              [ 0.3,-0.5],\n",
    "              [-1.6,-0.7],\n",
    "              [-0.5,-1.4],\n",
    "              [-1.0,-1.4]])\n",
    "print(X[:5], X.shape)"
   ]
  },
  {
   "cell_type": "code",
   "execution_count": 600,
   "metadata": {},
   "outputs": [
    {
     "name": "stdout",
     "output_type": "stream",
     "text": [
      "one-hot encoding:\n",
      " [[1. 0. 0.]\n",
      " [1. 0. 0.]\n",
      " [0. 1. 0.]\n",
      " [1. 0. 0.]\n",
      " [0. 0. 1.]] (20, 3)\n"
     ]
    }
   ],
   "source": [
    "y = np.array([0, 0, 1, 0, 2, 1, 1, 1, 1, 0, 0, 2, 2, 2, 1, 0, 1, 2, 2, 2])\n",
    "y_enc = np.eye(3)[y]\n",
    "print('one-hot encoding:\\n', y_enc[:5], y_enc.shape)"
   ]
  },
  {
   "cell_type": "code",
   "execution_count": 601,
   "metadata": {
    "collapsed": true
   },
   "outputs": [],
   "source": [
    "W = np.random.rand(2,3)\n",
    "bias = np.random.rand(1,3)"
   ]
  },
  {
   "cell_type": "code",
   "execution_count": 609,
   "metadata": {},
   "outputs": [
    {
     "name": "stdout",
     "output_type": "stream",
     "text": [
      "net input:\n",
      " [[-0.1  1.4]\n",
      " [-0.5  0.2]\n",
      " [ 1.3  0.9]\n",
      " [-0.6  0.4]\n",
      " [-1.6  0.2]\n",
      " [ 0.2  0.2]\n",
      " [-0.3 -0.4]\n",
      " [ 0.7 -0.8]\n",
      " [ 1.1 -1.5]\n",
      " [-1.   0.9]\n",
      " [-0.5  1.5]\n",
      " [-1.3 -0.4]\n",
      " [-1.4 -1.2]\n",
      " [-0.9 -0.7]\n",
      " [ 0.4 -1.3]\n",
      " [-0.4  0.6]\n",
      " [ 0.3 -0.5]\n",
      " [-1.6 -0.7]\n",
      " [-0.5 -1.4]\n",
      " [-1.  -1.4]] [[ 2.31489921 -1.14010115 -1.01874294]\n",
      " [ 0.30480876 -1.28717397  0.204412  ]\n",
      " [ 1.56087309  2.42504482 -1.63784473]\n",
      " [ 0.63093963 -1.64845187  0.1206326 ]\n",
      " [ 0.24617298 -3.83338819  0.99693838]\n",
      " [ 0.34212244  0.33314416 -0.29992296]\n",
      " [-0.67891436 -0.43481431  0.52779807]\n",
      " [-1.28853189  2.13953364  0.11897406]\n",
      " [-2.42732465  3.51974328  0.37617805]\n",
      " [ 1.43827101 -2.89885764  0.01925587]\n",
      " [ 2.45930781 -2.13089917 -0.80846516]\n",
      " [-0.73221961 -2.74955451  1.24827659]\n",
      " [-2.0633957  -2.46181302  1.94363347]\n",
      " [-1.2080896  -1.62895261  1.19382607]\n",
      " [-2.13317694  1.76962127  0.72468576]\n",
      " [ 0.97306207 -1.31530771 -0.17929036]\n",
      " [-0.8126619   1.01893175  0.17342459]\n",
      " [-1.24540328 -3.24927075  1.69816103]\n",
      " [-2.34688236 -0.24874297  1.45103006]\n",
      " [-2.37353499 -1.40611307  1.81126932]] (20, 3)\n"
     ]
    }
   ],
   "source": [
    "def net_input(X, W):\n",
    "    return (X.dot(W)) \n",
    "net_in = net_input(X, W)\n",
    "print('net input:\\n', X, net_in, net_in.shape)"
   ]
  },
  {
   "cell_type": "code",
   "execution_count": 610,
   "metadata": {},
   "outputs": [
    {
     "name": "stdout",
     "output_type": "stream",
     "text": [
      "softmax:\n",
      " [[0.93698735 0.02959689 0.03341576]\n",
      " [0.47438326 0.09654728 0.42906946]\n",
      " [0.29292405 0.6951204  0.01195555]\n",
      " [0.58731711 0.06010983 0.35257306]\n",
      " [0.31892475 0.00539458 0.67568067]\n",
      " [0.39725467 0.39370397 0.20904137]\n",
      " [0.17796919 0.2271727  0.59485811]\n",
      " [0.02785304 0.85834633 0.11380063]\n",
      " [0.00249917 0.95625858 0.04124225]\n",
      " [0.79679611 0.01041732 0.19278656]\n",
      " [0.95397826 0.0096836  0.03633814]\n",
      " [0.11934104 0.01587349 0.86478547]\n",
      " [0.0176508  0.01185042 0.97049878]\n",
      " [0.07873524 0.05168811 0.86957665]\n",
      " [0.01471343 0.72891618 0.25637039]\n",
      " [0.70555475 0.07156561 0.22287965]\n",
      " [0.10076021 0.62912957 0.27011021]\n",
      " [0.04970623 0.00670104 0.94359273]\n",
      " [0.01860155 0.15162107 0.82977738]\n",
      " [0.01442756 0.0379611  0.94761134]] (20, 3)\n"
     ]
    }
   ],
   "source": []
  },
  {
   "cell_type": "code",
   "execution_count": 464,
   "metadata": {},
   "outputs": [
    {
     "name": "stdout",
     "output_type": "stream",
     "text": [
      "predicted class labels:  [0 0 0 0 0 0]\n"
     ]
    }
   ],
   "source": [
    "def to_classlabel(z):\n",
    "    return z.argmax(axis=1)\n",
    "\n",
    "print('predicted class labels: ', to_classlabel(smax))"
   ]
  },
  {
   "cell_type": "code",
   "execution_count": 613,
   "metadata": {},
   "outputs": [
    {
     "name": "stdout",
     "output_type": "stream",
     "text": [
      "Cross Entropy: 0.3363244593577739\n"
     ]
    }
   ],
   "source": [
    "#크로스 엔트로피가 각 클래스별 값을 갖어야 하나 단 하나의 값을 가져야 하나 고민을 했었다.\n",
    "#크로스 엔트로피는 소프트맥스에 로그를해서 나온 결과를 y와 곱한 결과로 결국 하나의 샘플에 하나의 값만을 가질 수 밖에 없다.\n",
    "#따라서 클래스별로 값을 갖는 다는 것은 말이 안된다.\n",
    "#모든 샘플에 대해서 비용을 계산하기 위해 최종적으로 각 샘플별 크로스 엔트로피 결과를 평균내어 단 하나의 값을 가져야 한다.\n",
    "def cross_entropy(output, y_target):\n",
    "    s=  np.sum(np.log(output) * (y_target), axis=1)\n",
    "    return -np.mean(s)\n",
    "#    return np.mean(- np.sum(np.log(output) * (y_target), axis=0), axis=0)\n",
    "\n",
    "t_smax = np.array([[0.01, 0.04, 0.9],\n",
    "                  [0.01, 0.04, 0.9],\n",
    "                  ])\n",
    "t_y = np.array([[0,0,1],\n",
    "               [0,0,1]])\n",
    "xent = cross_entropy(smax, y_enc)\n",
    "print('Cross Entropy:', xent)"
   ]
  },
  {
   "cell_type": "code",
   "execution_count": 612,
   "metadata": {},
   "outputs": [
    {
     "name": "stdout",
     "output_type": "stream",
     "text": [
      "gradient [[ 0.02308396 -0.05003885  0.02695489]\n",
      " [-0.03759618  0.02280551  0.01479066]]\n"
     ]
    }
   ],
   "source": [
    "# https://deepnotes.io/softmax-crossentropy\n",
    "#위를 따르면 크로스 엔트로피를 미분하면 결국 소프트맥스에서 y를 빼기만 하면 된다.\n",
    "# 소프트맥스와 y는 모두 클래스별 항목을 가지고 있다. 이 들을 빼면 클래스별로 값이 나온다.\n",
    "# 각 샘플별 평균을 내서 결국 클래스별 값을 구하는 것인가?\n",
    "# 중요한것! gradient의 결과는 W의 갯수와 같은 2X3이어야 한다.\n",
    "# X 항목 2개와 smax-y 3\n",
    "def gradient(smax, y_target):\n",
    "    #print(smax)\n",
    "#    return np.mean(smax-y_target ), axis=0)\n",
    "    #smax = y_target/smax\n",
    "    return np.dot(X.T, (smax-y_target) )/y_target.shape[0]\n",
    "grad = gradient(smax, y_enc)\n",
    "print('gradient', grad)"
   ]
  },
  {
   "cell_type": "code",
   "execution_count": 604,
   "metadata": {},
   "outputs": [
    {
     "name": "stdout",
     "output_type": "stream",
     "text": [
      "0 1.105784495515297\n",
      "50 0.7441327313510782\n",
      "100 0.5893988573625691\n",
      "150 0.5072113731650252\n",
      "200 0.4561931706195983\n",
      "250 0.4211742508012345\n",
      "300 0.3954706103861037\n",
      "350 0.3756961413080815\n",
      "400 0.3599486273514704\n",
      "450 0.34707297840945556\n",
      "499 0.33652213159026134\n",
      "[0 0 1 0 2 0 2 1 1 0 0 2 2 2 1 0 1 2 2 2]\n"
     ]
    },
    {
     "data": {
      "text/plain": [
       "Text(0.5, 1.0, 'Loss')"
      ]
     },
     "execution_count": 604,
     "metadata": {},
     "output_type": "execute_result"
    },
    {
     "data": {
      "image/png": "[encoded data removed]",
      "text/plain": [
       "<Figure size 432x288 with 1 Axes>"
      ]
     },
     "metadata": {
      "needs_background": "light"
     },
     "output_type": "display_data"
    }
   ],
   "source": [
    "'''\n",
    "plt.plot(X[y==0,0], X[y==0,1], 'r.')\n",
    "plt.plot(X[y==1,0], X[y==1,1], 'g.')\n",
    "plt.plot(X[y==2,0], X[y==2,1], 'b.')\n",
    "'''\n",
    "W = np.random.rand(2,3)\n",
    "#W = np.ones((2,3))\n",
    "#W = np.array([[-0.5898155,0.10224475,0.48757075],\n",
    "#              [-0.57289249, 0.11754306, 0.45534943]])\n",
    "\n",
    "#bias = np.array([0.01, 0.1, 0.1])\n",
    "bias = np.random.rand(1,3)\n",
    "\n",
    "#learning_rate = 0.000001\n",
    "learning_rate = 0.1\n",
    "epochs = 500\n",
    "costs = []\n",
    "for epoch in range(epochs):\n",
    "    #print('W:', W)\n",
    "    h = softmax(net_input(X, W))\n",
    "    #print(\"smax:\", h)\n",
    "    loss = cross_entropy(h, y_enc)\n",
    "    costs.append(loss)\n",
    "    #print('cost:', loss)\n",
    "    grad = gradient(h, y_enc)\n",
    "    #print('grad:', grad)\n",
    "    W = W - learning_rate * grad\n",
    "    if epoch %50 == 0 or epoch == 0:\n",
    "        print(epoch, loss)\n",
    "print(epoch, loss)\n",
    "\n",
    "\n",
    "mx = softmax(net_input(X, W))\n",
    "#print(mx)\n",
    "pred = to_classlabel(mx)\n",
    "print(pred)\n",
    "plt.plot(costs)\n",
    "plt.title(\"Loss\", size=20)"
   ]
  },
  {
   "cell_type": "code",
   "execution_count": 605,
   "metadata": {},
   "outputs": [
    {
     "data": {
      "image/png": "[encoded data removed]",
      "text/plain": [
       "<Figure size 432x288 with 1 Axes>"
      ]
     },
     "metadata": {
      "needs_background": "light"
     },
     "output_type": "display_data"
    },
    {
     "data": {
      "image/png": "[encoded data removed]",
      "text/plain": [
       "<Figure size 432x288 with 1 Axes>"
      ]
     },
     "metadata": {
      "needs_background": "light"
     },
     "output_type": "display_data"
    }
   ],
   "source": [
    "colormap = np.array(['r', 'g', 'b'])\n",
    "plt.scatter(X[:,0], X[:,1], s=50, c=colormap[y])\n",
    "plt.title('Input', size=20)\n",
    "plt.show()\n",
    "plt.title('Predict', size=20)\n",
    "plt.scatter(X[:,0], X[:,1], s=50, c=colormap[pred])\n",
    "plt.show()"
   ]
  },
  {
   "cell_type": "markdown",
   "metadata": {},
   "source": [
    "# Softmax Scikit-learn 구현"
   ]
  },
  {
   "cell_type": "code",
   "execution_count": 614,
   "metadata": {},
   "outputs": [
    {
     "name": "stdout",
     "output_type": "stream",
     "text": [
      "[[-0.18183797  1.27092437]\n",
      " [ 1.49571515 -0.32594365]\n",
      " [-1.31387718 -0.94498072]]\n",
      "[0 0 1 0 2 1 1 1 1 0 0 2 2 2 1 0 1 2 2 2]\n"
     ]
    },
    {
     "data": {
      "text/plain": [
       "[<matplotlib.lines.Line2D at 0x122d31cf8>]"
      ]
     },
     "execution_count": 614,
     "metadata": {},
     "output_type": "execute_result"
    },
    {
     "data": {
      "image/png": "[encoded data removed]",
      "text/plain": [
       "<Figure size 432x288 with 1 Axes>"
      ]
     },
     "metadata": {
      "needs_background": "light"
     },
     "output_type": "display_data"
    }
   ],
   "source": [
    "from sklearn.linear_model import LogisticRegression\n",
    "\n",
    "plt.plot(X[y==0,0], X[y==0,1], 'k^')\n",
    "plt.plot(X[y==1,0], X[y==1,1], 'ko')\n",
    "plt.plot(X[y==2,0], X[y==2,1], 'ks')\n",
    "\n",
    "\n",
    "softmax_reg = LogisticRegression(multi_class='multinomial', solver='lbfgs')\n",
    "softmax_reg.fit(X,y)\n",
    "print(softmax_reg.coef_)\n",
    "pred = softmax_reg.predict(X)\n",
    "print(pred)\n",
    "\n",
    "plt.plot(X[pred==0,0], X[pred==0,1], 'r.')\n",
    "plt.plot(X[pred==1,0], X[pred==1,1], 'g.')\n",
    "plt.plot(X[pred==2,0], X[pred==2,1], 'b.')"
   ]
  }
 ],
 "metadata": {
  "kernelspec": {
   "display_name": "Python (myenv)",
   "language": "python",
   "name": "myenv"
  },
  "language_info": {
   "codemirror_mode": {
    "name": "ipython",
    "version": 3
   },
   "file_extension": ".py",
   "mimetype": "text/x-python",
   "name": "python",
   "nbconvert_exporter": "python",
   "pygments_lexer": "ipython3",
   "version": "3.6.4"
  }
 },
 "nbformat": 4,
 "nbformat_minor": 2
}
