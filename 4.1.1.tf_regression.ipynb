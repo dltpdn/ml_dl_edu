{
 "cells": [
  {
   "cell_type": "markdown",
   "metadata": {},
   "source": [
    "# Tensorflow로 구현하는 Regression\n",
    "* Hypothesis : $H(x) = Wx + b$\n",
    "* Cost : ${cost}(W, b) = \\frac{1}{m}\\displaystyle\\sum_{i=1}^m(H(x^{(i)}) - y^{(i)})^2$"
   ]
  },
  {
   "cell_type": "markdown",
   "metadata": {},
   "source": [
    "* tf.sqaure() : 제곱\n",
    "    * tf.sqaure(3) : 9\n",
    "* tf.reduce_mean() :차원을 줄이면서 평균 계산\n",
    "    * tf.reduce_mean([1,2,3,4]) => 2.5\n",
    "* tf.reduce_sum() : 차원을 줄이면서 합 계산\n",
    "    * tf.reduce_sum([1,2,3,4,5]) : 15"
   ]
  },
  {
   "cell_type": "code",
   "execution_count": 1,
   "metadata": {},
   "outputs": [
    {
     "name": "stdout",
     "output_type": "stream",
     "text": [
      "WARNING:tensorflow:From c:\\python36\\lib\\site-packages\\tensorflow\\python\\framework\\op_def_library.py:263: colocate_with (from tensorflow.python.framework.ops) is deprecated and will be removed in a future version.\n",
      "Instructions for updating:\n",
      "Colocations handled automatically by placer.\n",
      "step\t   cost   \t    W     \n",
      "   0\t39.71000290\t2.90000010\n",
      "  20\t16.31000519\t2.21767306\n",
      "  40\t6.69897604\t1.78038311\n",
      "  60\t2.75145602\t1.50013232\n",
      "  80\t1.13009942\t1.32052505\n",
      " 100\t0.46416205\t1.20541799\n",
      " 120\t0.19064471\t1.13164854\n",
      " 140\t0.07830308\t1.08437097\n",
      " 160\t0.03216117\t1.05407166\n",
      " 180\t0.01320955\t1.03465354\n",
      " 200\t0.00542554\t1.02220881\n",
      " 220\t0.00222843\t1.01423323\n",
      " 240\t0.00091528\t1.00912178\n",
      " 260\t0.00037594\t1.00584602\n",
      " 280\t0.00015441\t1.00374663\n",
      " 300\t0.00006343\t1.00240123\n"
     ]
    }
   ],
   "source": [
    "import tensorflow as tf\n",
    "import numpy as np\n",
    "x_train = [1,2,3,4,5]\n",
    "y_train = [1,2,3,4,5]\n",
    "x_test = [10, 20]\n",
    "y_test = [10,20]\n",
    "\n",
    "W = tf.Variable(2.9)   # 임의 값\n",
    "hypothesis = W * x_train \n",
    "\n",
    "err = hypothesis - y_train  # 정답과 차이\n",
    "sqr_err = tf.square(err)  # 차이 제곱\n",
    "cost = tf.reduce_mean(sqr_err) # 차원을 1줄이면서 평균 계산\n",
    "\n",
    "learning_rate = 0.001# 학습 율\n",
    "gradient =  2/len(x_train) * tf.reduce_sum(err * x_train)\n",
    "descent = W - learning_rate * gradient\n",
    "update = W.assign(descent)\n",
    "\n",
    "\n",
    "with tf.Session() as sess:\n",
    "    sess.run(tf.global_variables_initializer())\n",
    "    print(\"{:^4}\\t{:^10}\\t{:^10}\".format(\"step\", \"cost\", \"W\"))\n",
    "    for step in range(301):\n",
    "        _, cost_, W_= sess.run([update, cost, W])\n",
    "        if step % 20 == 0:\n",
    "            print(f\"{step:4}\\t{cost_:10.8f}\\t{W_:10.8f}\")\n",
    "    \n"
   ]
  },
  {
   "cell_type": "markdown",
   "metadata": {},
   "source": [
    "## Optimizer\n",
    "경사 하강법 알고리즘을 구현한 옵티마니저(미분계산하여 W,b를 갱신)\n",
    "* tf.train.GradientDescentOptimizer() \n",
    "    * optimizer.minimize(cost)"
   ]
  },
  {
   "cell_type": "code",
   "execution_count": 2,
   "metadata": {},
   "outputs": [
    {
     "name": "stdout",
     "output_type": "stream",
     "text": [
      "step\t   cost   \t    W     \t    b     \n",
      "   0\t45.6600037\t 2.9000001\t 0.5000000\n",
      "  20\t 0.0010261\t 1.0148665\t-0.0204314\n",
      "  40\t 0.0000827\t 1.0059403\t-0.0212961\n",
      "  60\t 0.0000722\t 1.0055153\t-0.0199114\n",
      "  80\t 0.0000630\t 1.0051539\t-0.0186074\n",
      " 100\t 0.0000550\t 1.0048001\t-0.0173887\n",
      " 120\t 0.0000481\t 1.0045010\t-0.0162499\n",
      " 140\t 0.0000420\t 1.0042062\t-0.0151857\n",
      " 160\t 0.0000367\t 1.0039307\t-0.0141911\n",
      " 180\t 0.0000320\t 1.0036732\t-0.0132617\n",
      " 200\t 0.0000280\t 1.0034328\t-0.0123932\n",
      " 220\t 0.0000244\t 1.0032079\t-0.0115816\n",
      " 240\t 0.0000213\t 1.0029979\t-0.0108231\n",
      " 260\t 0.0000186\t 1.0028015\t-0.0101143\n",
      " 280\t 0.0000163\t 1.0026180\t-0.0094519\n",
      " 300\t 0.0000142\t 1.0024465\t-0.0088329\n"
     ]
    }
   ],
   "source": [
    "x_train = [1,2,3,4,5]\n",
    "y_train = [1,2,3,4,5]\n",
    "x_test = [10, 20]\n",
    "y_test = [10,20]\n",
    "\n",
    "W = tf.Variable(2.9)   # 임의 값\n",
    "b = tf.Variable(0.5)   # 임의 값\n",
    "hypothesis = W * x_train + b\n",
    "\n",
    "err = hypothesis - y_train  # 정답과 차이\n",
    "sqr_err = tf.square(err)  # 차이 제곱\n",
    "cost = tf.reduce_mean(sqr_err) # 차원을 1줄이면서 평균 계산\n",
    "\n",
    "learning_rate = 0.01  # 학습 율\n",
    "optimizer = tf.train.GradientDescentOptimizer(learning_rate=learning_rate) # 경사하강법\n",
    "train = optimizer.minimize(cost) # 손실 최소화\n",
    "\n",
    "with tf.Session() as sess:\n",
    "    sess.run(tf.global_variables_initializer())\n",
    "    print(\"{:^4}\\t{:^10}\\t{:^10}\\t{:^10}\".format(\"step\", \"cost\", \"W\", \"b\"))\n",
    "    for step in range(301):\n",
    "        _, cost_, W_, b_ = sess.run([train, cost, W, b])\n",
    "        if step % 20 == 0:\n",
    "            print(f\"{step:4}\\t{cost_:10.7f}\\t{W_:10.7f}\\t{b_:10.7f}\")\n",
    "    \n"
   ]
  },
  {
   "cell_type": "markdown",
   "metadata": {},
   "source": [
    "## Variable 초기화\n",
    "* tf.random_noarmal(shape, mean=0.0, stddev=1.0, dtype=float32,seed=None, name=None )\n",
    "    * 임의의 수를 생성\n",
    "    * alias of tf.random.normal()\n",
    "\n",
    "## PlaceHolder\n",
    "* 모델에 값을 고정하지 않고 실행시에 데이타 교체 가능\n",
    "* tf.placeholder(dtype, shape=None, name=None)\n"
   ]
  },
  {
   "cell_type": "code",
   "execution_count": 3,
   "metadata": {},
   "outputs": [
    {
     "name": "stdout",
     "output_type": "stream",
     "text": [
      "WARNING:tensorflow:From c:\\python36\\lib\\site-packages\\tensorflow\\python\\ops\\math_ops.py:3066: to_int32 (from tensorflow.python.ops.math_ops) is deprecated and will be removed in a future version.\n",
      "Instructions for updating:\n",
      "Use tf.cast instead.\n",
      "step\t   cost   \t  Weight  \t   bias   \n",
      "   0\t45.5651779\t[-0.8113182]\t[-0.8113182]\n",
      "  20\t 0.0140728\t[1.0658898]\t[-0.2710849]\n",
      "  40\t 0.0114783\t[1.0695179]\t[-0.25113127]\n",
      "  60\t 0.0100241\t[1.0650009]\t[-0.23467448]\n",
      "  80\t 0.0087541\t[1.060744]\t[-0.21930549]\n",
      " 100\t 0.0076450\t[1.0567659]\t[-0.20494299]\n",
      " 120\t 0.0066765\t[1.0530483]\t[-0.1915211]\n",
      " 140\t 0.0058306\t[1.049574]\t[-0.17897819]\n",
      " 160\t 0.0050919\t[1.0463275]\t[-0.16725679]\n",
      " 180\t 0.0044468\t[1.0432935]\t[-0.15630303]\n",
      " 200\t 0.0038834\t[1.0404582]\t[-0.14606671]\n",
      "Test\n",
      "X: [10, 20], Y:[10, 20], predict:[10.257641 20.660854]\n"
     ]
    }
   ],
   "source": [
    "W = tf.Variable(tf.random_normal([1], seed=1, name='weight')) # alias of tf.random.normal() \n",
    "b = tf.Variable(tf.random_normal([1], seed=1, name='bias')) # alias of tf.random.normal()\n",
    "\n",
    "X = tf.placeholder(tf.float32, name='X') # placeholder for feed_dict\n",
    "Y = tf.placeholder(tf.float32, name='Y') # tf.placeholder(dtype, shape=None, name=None)placeholder for feed_dict\n",
    "\n",
    "hypothesis = W* X + b\n",
    "cost = tf.reduce_mean(tf.square(hypothesis - Y))\n",
    "train = tf.train.GradientDescentOptimizer(learning_rate=0.01).minimize(cost)\n",
    "                \n",
    "with tf.Session() as sess:\n",
    "    sess.run(tf.global_variables_initializer())\n",
    "    print(\"{:^4}\\t{:^10}\\t{:^10}\\t{:^10}\".format(\"step\", \"cost\", \"Weight\", \"bias\"))\n",
    "    for step in range(201):\n",
    "        _, cost_, W_, b_ = sess.run([train, cost, W, b], feed_dict={X:x_train, Y:y_train})\n",
    "        if step % 20 == 0:\n",
    "            print(f\"{step:4}\\t{cost_:10.7f}\\t{W_}\\t{b_}\")\n",
    "    \n",
    "    print(\"Test\")\n",
    "    predict = sess.run(hypothesis, feed_dict={X:x_test})\n",
    "    print(f\"X: {x_test}, Y:{y_test}, predict:{predict}\")"
   ]
  },
  {
   "cell_type": "markdown",
   "metadata": {},
   "source": [
    "## Cost History Plot"
   ]
  },
  {
   "cell_type": "code",
   "execution_count": 5,
   "metadata": {},
   "outputs": [
    {
     "name": "stdout",
     "output_type": "stream",
     "text": [
      "step\t   cost   \t  Weight  \t   bias   \n",
      "   0\t45.5651779\t[-0.8113182]\t[-0.8113182]\n",
      "  20\t 0.0140728\t[1.0658898]\t[-0.2710849]\n",
      "  40\t 0.0114783\t[1.0695179]\t[-0.25113127]\n",
      "  60\t 0.0100241\t[1.0650009]\t[-0.23467448]\n",
      "  80\t 0.0087541\t[1.060744]\t[-0.21930549]\n",
      " 100\t 0.0076450\t[1.0567659]\t[-0.20494299]\n",
      " 120\t 0.0066765\t[1.0530483]\t[-0.1915211]\n",
      " 140\t 0.0058306\t[1.049574]\t[-0.17897819]\n",
      " 160\t 0.0050919\t[1.0463275]\t[-0.16725679]\n",
      " 180\t 0.0044468\t[1.0432935]\t[-0.15630303]\n",
      " 200\t 0.0038834\t[1.0404582]\t[-0.14606671]\n"
     ]
    },
    {
     "data": {
      "image/png": "[encoded data removed]",
      "text/plain": [
       "<Figure size 432x288 with 1 Axes>"
      ]
     },
     "metadata": {
      "needs_background": "light"
     },
     "output_type": "display_data"
    }
   ],
   "source": [
    "import matplotlib.pyplot as plt\n",
    "\n",
    "W = tf.Variable(tf.random_normal([1], seed=1, name='weight')) # alias of tf.random.normal() \n",
    "b = tf.Variable(tf.random_normal([1], seed=1, name='bias')) # alias of tf.random.normal()\n",
    "\n",
    "X = tf.placeholder(tf.float32, name='X') # placeholder for feed_dict\n",
    "Y = tf.placeholder(tf.float32, name='Y') # tf.placeholder(dtype, shape=None, name=None)placeholder for feed_dict\n",
    "\n",
    "hypothesis = W* X + b\n",
    "cost = tf.reduce_mean(tf.square(hypothesis - Y))\n",
    "train = tf.train.GradientDescentOptimizer(learning_rate=0.01).minimize(cost)\n",
    "\n",
    "hist_cost = []\n",
    "with tf.Session() as sess:\n",
    "    sess.run(tf.global_variables_initializer())\n",
    "    print(\"{:^4}\\t{:^10}\\t{:^10}\\t{:^10}\".format(\"step\", \"cost\", \"Weight\", \"bias\"))\n",
    "    for step in range(201):\n",
    "        _, cost_, W_, b_ = sess.run([train, cost, W, b], feed_dict={X:x_train, Y:y_train})\n",
    "        hist_cost.append(cost_)\n",
    "        if step % 20 == 0:\n",
    "            print(f\"{step:4}\\t{cost_:10.7f}\\t{W_}\\t{b_}\")\n",
    "\n",
    "plt.plot( hist_cost)\n",
    "plt.show()"
   ]
  },
  {
   "cell_type": "markdown",
   "metadata": {},
   "source": [
    "## MultiVariable Regression\n",
    "* tf.matmul(a,b)\n",
    "    * 행렬곱 연산\n",
    "    * alias for tf.linalg.matmul(a, b) \n",
    "    "
   ]
  },
  {
   "cell_type": "code",
   "execution_count": 6,
   "metadata": {},
   "outputs": [
    {
     "name": "stdout",
     "output_type": "stream",
     "text": [
      "[[ 9. 42.]\n",
      " [28. 11.]\n",
      " [24. 45.]\n",
      " [35. 15.]\n",
      " [30.  0.]\n",
      " [47. 21.]\n",
      " [45. 12.]\n",
      " [47. 48.]\n",
      " [17. 17.]\n",
      " [29. 37.]\n",
      " [ 3.  5.]\n",
      " [37. 42.]\n",
      " [13. 29.]\n",
      " [31. 49.]\n",
      " [22. 48.]\n",
      " [14. 31.]\n",
      " [38.  9.]\n",
      " [ 8.  2.]\n",
      " [26. 42.]\n",
      " [ 8. 15.]\n",
      " [17. 36.]\n",
      " [18. 38.]\n",
      " [ 1. 43.]\n",
      " [16. 46.]\n",
      " [48. 41.]\n",
      " [22. 39.]\n",
      " [17. 11.]\n",
      " [48.  7.]\n",
      " [12. 11.]\n",
      " [18. 33.]\n",
      " [10. 37.]\n",
      " [43. 48.]\n",
      " [10. 49.]\n",
      " [10.  2.]\n",
      " [10. 23.]\n",
      " [30. 23.]\n",
      " [11. 42.]\n",
      " [31. 31.]\n",
      " [ 9. 33.]\n",
      " [26.  9.]\n",
      " [ 3. 19.]\n",
      " [13. 36.]\n",
      " [29. 48.]\n",
      " [28. 41.]\n",
      " [22. 23.]\n",
      " [ 0. 38.]\n",
      " [ 4.  6.]\n",
      " [41. 22.]\n",
      " [29. 37.]\n",
      " [36. 30.]]\n",
      "[[68.9     ]\n",
      " [72.9     ]\n",
      " [80.3     ]\n",
      " [79.      ]\n",
      " [71.      ]\n",
      " [89.2     ]\n",
      " [85.1     ]\n",
      " [97.3     ]\n",
      " [67.      ]\n",
      " [81.4     ]\n",
      " [53.6     ]\n",
      " [88.5     ]\n",
      " [67.8     ]\n",
      " [86.4     ]\n",
      " [79.8     ]\n",
      " [69.1     ]\n",
      " [79.3     ]\n",
      " [56.2     ]\n",
      " [80.8     ]\n",
      " [60.1     ]\n",
      " [72.7     ]\n",
      " [74.      ]\n",
      " [63.6     ]\n",
      " [75.      ]\n",
      " [95.899994]\n",
      " [77.1     ]\n",
      " [65.2     ]\n",
      " [85.7     ]\n",
      " [61.7     ]\n",
      " [72.5     ]\n",
      " [68.1     ]\n",
      " [94.5     ]\n",
      " [71.7     ]\n",
      " [57.6     ]\n",
      " [63.9     ]\n",
      " [77.9     ]\n",
      " [70.3     ]\n",
      " [81.      ]\n",
      " [66.2     ]\n",
      " [70.9     ]\n",
      " [57.8     ]\n",
      " [69.9     ]\n",
      " [84.7     ]\n",
      " [81.9     ]\n",
      " [72.3     ]\n",
      " [61.4     ]\n",
      " [54.6     ]\n",
      " [85.3     ]\n",
      " [81.4     ]\n",
      " [84.2     ]]\n"
     ]
    }
   ],
   "source": [
    "import numpy as np\n",
    "m = 50\n",
    "x_data = np.ones((m,2), dtype=np.float32)\n",
    "x_data[:, 0] = np.random.randint(0, 50, (m))\n",
    "x_data[:, 1] = np.random.randint(0, 50, (m))\n",
    "#y_data = x_data.T[0] * 0.7 + x_data.T[1] * 0.3 + 50\n",
    "matmul = tf.matmul(x_data, [[0.7], [0.3]]) + 50\n",
    "s = tf.Session()\n",
    "y_data = s.run(matmul)\n",
    "#y_data = y_data.reshape(-1,1)\n",
    "print(x_data)\n",
    "print(y_data)"
   ]
  },
  {
   "cell_type": "code",
   "execution_count": 11,
   "metadata": {},
   "outputs": [
    {
     "name": "stdout",
     "output_type": "stream",
     "text": [
      "step\t   cost   \t    W1    \t    W2    \t   bias   \n",
      "   0\t3299.2180176\t[-0.8113182], [1.4845988], \t[-0.8113182]\n",
      "1000\t278.3731384\t[1.4219133], [1.0535758], \t[6.0271363]\n",
      "2000\t208.7574768\t[1.3251616], [0.9525806], \t[11.9204235]\n",
      "3000\t156.5513611\t[1.241377], [0.8651213], \t[17.023882]\n",
      "4000\t117.4009476\t[1.168821], [0.78938323], \t[21.443375]\n",
      "5000\t88.0412903\t[1.1059893], [0.7237956], \t[25.27056]\n",
      "6000\t66.0237656\t[1.0515778], [0.6669977], \t[28.584845]\n",
      "7000\t49.5125389\t[1.004459], [0.6178124], \t[31.45492]\n",
      "8000\t37.1304245\t[0.9636552], [0.57521886], \t[33.94035]\n",
      "9000\t27.8449116\t[0.92832017], [0.5383341], \t[36.092663]\n",
      "10000\t20.8813534\t[0.8977201], [0.5063918], \t[37.956562]\n",
      "11000\t15.6593275\t[0.8712213], [0.47873092], \t[39.57064]\n",
      "12000\t11.7432718\t[0.8482743], [0.45477745], \t[40.96838]\n",
      "13000\t 8.8065090\t[0.82840246], [0.43403405], \t[42.178806]\n",
      "14000\t 6.6041570\t[0.8111937], [0.4160705], \t[43.22702]\n",
      "15000\t 4.9526048\t[0.7962915], [0.40051478], \t[44.13473]\n",
      "16000\t 3.7140441\t[0.78338635], [0.38704357], \t[44.920807]\n",
      "17000\t 2.7852521\t[0.772211], [0.37537816], \t[45.601513]\n",
      "18000\t 2.0887008\t[0.76253295], [0.36527565], \t[46.191017]\n",
      "19000\t 1.5663489\t[0.7541521], [0.35652724], \t[46.701508]\n",
      "20000\t 1.1746411\t[0.7468947], [0.3489515], \t[47.14357]\n",
      "21000\t 0.8808845\t[0.7406097], [0.34239092], \t[47.526394]\n",
      "22000\t 0.6606010\t[0.73516744], [0.3367099], \t[47.857895]\n",
      "23000\t 0.4954036\t[0.73045444], [0.33179018], \t[48.14497]\n",
      "24000\t 0.3715000\t[0.7263725], [0.32752916], \t[48.393612]\n",
      "25000\t 0.2785909\t[0.72283775], [0.32383946], \t[48.608913]\n",
      "26000\t 0.2089228\t[0.7197771], [0.32064456], \t[48.79534]\n",
      "27000\t 0.1566818\t[0.7171269], [0.3178782], \t[48.956768]\n",
      "28000\t 0.1175126\t[0.7148324], [0.31548306], \t[49.09653]\n",
      "29000\t 0.0881055\t[0.7128432], [0.3134065], \t[49.2177]\n",
      "30000\t 0.0660745\t[0.71112216], [0.31160995], \t[49.322533]\n",
      "31000\t 0.0495682\t[0.70963323], [0.3100558], \t[49.413223]\n",
      "32000\t 0.0371757\t[0.70834255], [0.30870855], \t[49.49184]\n",
      "33000\t 0.0278681\t[0.7072232], [0.3075399], \t[49.560028]\n",
      "34000\t 0.0209021\t[0.7062555], [0.3065299], \t[49.618965]\n",
      "35000\t 0.0156696\t[0.7054162], [0.3056538], \t[49.670086]\n",
      "36000\t 0.0117647\t[0.7046932], [0.304899], \t[49.714134]\n",
      "37000\t 0.0088202\t[0.70406353], [0.3042418], \t[49.75248]\n",
      "38000\t 0.0066262\t[0.7035221], [0.3036766], \t[49.78546]\n",
      "39000\t 0.0049737\t[0.70305145], [0.30318537], \t[49.81413]\n",
      "40000\t 0.0037338\t[0.7026439], [0.30275986], \t[49.838955]\n"
     ]
    },
    {
     "data": {
      "text/plain": [
       "[<matplotlib.lines.Line2D at 0x1cd14b4b908>]"
      ]
     },
     "execution_count": 11,
     "metadata": {},
     "output_type": "execute_result"
    },
    {
     "data": {
      "image/png": "[encoded data removed]",
      "text/plain": [
       "<Figure size 432x288 with 1 Axes>"
      ]
     },
     "metadata": {
      "needs_background": "light"
     },
     "output_type": "display_data"
    }
   ],
   "source": [
    "X = tf.placeholder(tf.float32, shape=[None, 2])\n",
    "Y = tf.placeholder(tf.float32, shape=[None, 1])\n",
    "\n",
    "W = tf.Variable(tf.random_normal(shape=[2,1], seed=1), name='weight');\n",
    "b = tf.Variable(tf.random_normal(shape=[1], seed=1), name='bias');\n",
    "\n",
    "hypothesis = tf.matmul(X, W) + b \n",
    "\n",
    "cost= tf.reduce_mean(tf.square(hypothesis - Y))\n",
    "\n",
    "optimizer = tf.train.GradientDescentOptimizer(learning_rate=0.0005)\n",
    "train = optimizer.minimize(cost)\n",
    "hist_cost = []\n",
    "with tf.Session() as sess:\n",
    "    sess.run(tf.global_variables_initializer())\n",
    "    \n",
    "    print(\"{:^4}\\t{:^10}\\t{:^10}\\t{:^10}\\t{:^10}\".format(\"step\", \"cost\", \"W1\",\"W2\", \"bias\"))\n",
    "    for step in range(40001):\n",
    "        _, cost_, W_, b_ = sess.run([train, cost, W, b], feed_dict={X:x_data, Y:y_data})\n",
    "        if np.isnan(cost_) : break\n",
    "        hist_cost.append(cost_)\n",
    "        if step % 1000 == 0:\n",
    "            print(f\"{step:4}\\t{cost_:10.7f}\\t{W_[0]}, {W_[1]}, \\t{b_}\")\n",
    "\n",
    "plt.plot(hist_cost)"
   ]
  },
  {
   "cell_type": "markdown",
   "metadata": {},
   "source": [
    "## Logistic Regression\n",
    "* tf.sigmoid(x)\n",
    "    * $y = 1 / (1 + exp(-x))$\n",
    "* tf.equal(a, b)\n",
    "    * alias of tf.math.equal(a, b)\n",
    "    * a == b 연산 반환, boolean \n",
    "* tf.cast(x, dtype)\n",
    "    * x를 dtype으로 변환\n",
    "    * alias of tf.dtypes.cast()\n",
    "    * tf.cast(h > 0.5, tf.float32) : boolean을 float로 변환"
   ]
  },
  {
   "cell_type": "code",
   "execution_count": 12,
   "metadata": {},
   "outputs": [
    {
     "name": "stdout",
     "output_type": "stream",
     "text": [
      "\n"
     ]
    },
    {
     "data": {
      "text/plain": [
       "[<matplotlib.lines.Line2D at 0x1cd14b8c2e8>]"
      ]
     },
     "execution_count": 12,
     "metadata": {},
     "output_type": "execute_result"
    },
    {
     "data": {
      "image/png": "[encoded data removed]",
      "text/plain": [
       "<Figure size 432x288 with 1 Axes>"
      ]
     },
     "metadata": {
      "needs_background": "light"
     },
     "output_type": "display_data"
    }
   ],
   "source": [
    "x_data = np.array([[1, 2],\n",
    "          [2, 3],\n",
    "          [3, 1],\n",
    "          [4, 3],\n",
    "          [5, 3],\n",
    "          [6, 2]])\n",
    "y_data = np.array([[0],\n",
    "          [0],\n",
    "          [0],\n",
    "          [1],\n",
    "          [1],\n",
    "          [1]])\n",
    "print()\n",
    "plt.plot(x_data[y_data[:,0]==0][:,0],x_data[y_data[:,0]==0][:,1], '.r')\n",
    "plt.plot(x_data[y_data[:,0]==1][:,0],x_data[y_data[:,0]==1][:,1], '.b')\n"
   ]
  },
  {
   "cell_type": "code",
   "execution_count": 16,
   "metadata": {},
   "outputs": [
    {
     "name": "stdout",
     "output_type": "stream",
     "text": [
      "0 1.3484877\n",
      "1000 0.3482859\n",
      "2000 0.29158777\n",
      "3000 0.25547898\n",
      "4000 0.22705777\n",
      "5000 0.20406437\n",
      "6000 0.18516682\n",
      "7000 0.1694143\n",
      "8000 0.15611212\n",
      "9000 0.14474651\n",
      "10000 0.13493264\n",
      "Hypothesis:[[0.0248616 ]\n",
      " [0.15002549]\n",
      " [0.27535784]\n",
      " [0.7952063 ]\n",
      " [0.94795007]\n",
      " [0.9830142 ]], Predict:[[0.]\n",
      " [0.]\n",
      " [0.]\n",
      " [1.]\n",
      " [1.]\n",
      " [1.]], Accuracy:1.0\n"
     ]
    }
   ],
   "source": [
    "X = tf.placeholder(tf.float32, shape=[None, 2])\n",
    "Y = tf.placeholder(tf.float32, shape=[None, 1])\n",
    "\n",
    "W = tf.Variable(tf.random_normal([2,1], seed=1))\n",
    "b = tf.Variable(tf.random_normal([1], seed=1))\n",
    "\n",
    "hypothesis = tf.sigmoid(tf.matmul(X, W) + b)\n",
    "\n",
    "#cost = -tf.reduce_mean(Y* tf.log(hypothesis) + (1-Y) * tf.log(1 - hypothesis))\n",
    "cost = tf.reduce_mean(-Y * tf.log(hypothesis) - (1-Y) * tf.log(1 - hypothesis))\n",
    "train = tf.train.GradientDescentOptimizer(learning_rate=0.01).minimize(cost)\n",
    "\n",
    "predict = tf.cast(hypothesis > 0.5, dtype=tf.float32)\n",
    "accuracy = tf.reduce_mean(tf.cast(tf.equal(predict, Y), dtype=tf.float32))\n",
    "\n",
    "with tf.Session() as sess:\n",
    "    sess.run(tf.global_variables_initializer())\n",
    "    \n",
    "    for step in range(10001):\n",
    "        cost_, _ = sess.run([cost, train], feed_dict={X:x_data, Y:y_data})\n",
    "        if np.isnan(cost_) : break\n",
    "        if step % 1000 == 0:\n",
    "            print(step, cost_)\n",
    "    h, p, a = sess.run([hypothesis, predict, accuracy], feed_dict={X:x_data, Y:y_data})\n",
    "    print('Hypothesis:{}, Predict:{}, Accuracy:{}'.format(h, p, a))\n",
    "\n"
   ]
  },
  {
   "cell_type": "markdown",
   "metadata": {},
   "source": [
    "## Softmax\n",
    "* tf.nn.softmax()\n",
    "    * tf.exp(logits) / tf.reduce_sum(tf.exp(logits), axis)\n",
    "* tf.argmax()\n",
    "    * alias of tf.math.argmax()\n",
    "    * 가장 큰 값의 인덱스 반환"
   ]
  },
  {
   "cell_type": "code",
   "execution_count": 17,
   "metadata": {},
   "outputs": [
    {
     "data": {
      "text/plain": [
       "Text(0.5, 1.0, 'Input')"
      ]
     },
     "execution_count": 17,
     "metadata": {},
     "output_type": "execute_result"
    },
    {
     "data": {
      "image/png": "[encoded data removed]",
      "text/plain": [
       "<Figure size 432x288 with 1 Axes>"
      ]
     },
     "metadata": {
      "needs_background": "light"
     },
     "output_type": "display_data"
    }
   ],
   "source": [
    "x_data = np.array([[-0.1, 1.4],\n",
    "              [-0.5, 0.2],\n",
    "              [ 1.3, 0.9],\n",
    "              [-0.6, 0.4],\n",
    "              [-1.6, 0.2],\n",
    "              [ 0.2, 0.2],\n",
    "              [-0.3,-0.4],\n",
    "              [ 0.7,-0.8],\n",
    "              [ 1.1,-1.5],\n",
    "              [-1.0, 0.9],\n",
    "              [-0.5, 1.5],\n",
    "              [-1.3,-0.4],\n",
    "              [-1.4,-1.2],\n",
    "              [-0.9,-0.7],\n",
    "              [ 0.4,-1.3],\n",
    "              [-0.4, 0.6],\n",
    "              [ 0.3,-0.5],\n",
    "              [-1.6,-0.7],\n",
    "              [-0.5,-1.4],\n",
    "              [-1.0,-1.4]])\n",
    "y_label = np.array([0, 0, 1, 0, 2, 1, 1, 1, 1, 0, 0, 2, 2, 2, 1, 0, 1, 2, 2, 2])\n",
    "y_data =  np.eye(3)[y_label]\n",
    "\n",
    "colormap = np.array(['r', 'g', 'b'])\n",
    "plt.scatter(x_data[:,0], x_data[:,1], s=50, c=colormap[y_label])\n",
    "plt.title('Input', size=20)"
   ]
  },
  {
   "cell_type": "code",
   "execution_count": 20,
   "metadata": {},
   "outputs": [
    {
     "name": "stdout",
     "output_type": "stream",
     "text": [
      "0 1.5575793\n",
      "100 0.29901084\n",
      "200 0.20713294\n",
      "300 0.17051512\n",
      "400 0.14827076\n",
      "500 0.13262074\n",
      "600 0.12074617\n",
      "700 0.111299574\n",
      "800 0.10353367\n",
      "900 0.09699288\n",
      "1000 0.091380484\n",
      "1100 0.08649305\n",
      "1200 0.08218551\n",
      "1300 0.07835118\n",
      "1400 0.074909315\n",
      "1500 0.071797535\n",
      "1600 0.06896666\n",
      "1700 0.06637739\n",
      "1800 0.06399774\n",
      "1900 0.061801404\n",
      "2000 0.059766553\n",
      "hyppothesis:[[9.94478106e-01 5.51048107e-03 1.13608849e-05]\n",
      " [7.61075020e-01 1.52467743e-01 8.64572600e-02]\n",
      " [1.51457414e-02 9.84854221e-01 2.37011548e-08]\n",
      " [9.14762259e-01 4.36022505e-02 4.16355170e-02]\n",
      " [1.28569126e-01 1.02195285e-04 8.71328712e-01]\n",
      " [1.28725499e-01 8.70190322e-01 1.08409103e-03]\n",
      " [7.96305239e-02 7.16415048e-01 2.03954458e-01]\n",
      " [1.12775066e-04 9.99795258e-01 9.19825470e-05]\n",
      " [5.76390448e-07 9.99989867e-01 9.58873261e-06]\n",
      " [9.91378784e-01 6.13896351e-04 8.00730940e-03]\n",
      " [9.99508381e-01 4.65057237e-04 2.65448925e-05]\n",
      " [9.39628575e-03 5.54497470e-04 9.90049243e-01]\n",
      " [3.81295067e-05 5.68633768e-05 9.99904990e-01]\n",
      " [5.99402050e-03 1.07095642e-02 9.83296454e-01]\n",
      " [4.92952895e-05 9.96894479e-01 3.05618206e-03]\n",
      " [9.45879042e-01 4.84651066e-02 5.65586332e-03]\n",
      " [3.39748594e-03 9.94822621e-01 1.77985476e-03]\n",
      " [4.51704371e-04 2.39170804e-05 9.99524355e-01]\n",
      " [2.70519697e-04 9.45873559e-02 9.05142069e-01]\n",
      " [4.65335252e-05 1.31773762e-03 9.98635709e-01]], predict:[0 0 1 0 2 1 1 1 1 0 0 2 2 2 1 0 1 2 2 2], Accuracy:1.0\n"
     ]
    }
   ],
   "source": [
    "X = tf.placeholder(tf.float32, [None, 2])\n",
    "Y = tf.placeholder(tf.float32, [None, 3])\n",
    "\n",
    "W = tf.Variable(tf.random_normal([2, 3]))\n",
    "b = tf.Variable(tf.random_normal([3]))\n",
    "\n",
    "hypothesis = tf.nn.softmax(tf.matmul(X, W) + b)\n",
    "#cost = tf.reduce_mean(-tf.reduce_sum(Y * tf.log(hypothesis), axis=1))\n",
    "cost = -tf.reduce_mean(tf.reduce_sum(Y * tf.log(hypothesis), axis=1))\n",
    "optimizer = tf.train.GradientDescentOptimizer(learning_rate=0.1)\n",
    "train = optimizer.minimize(cost)\n",
    "\n",
    "with tf.Session() as sess:\n",
    "    sess.run(tf.global_variables_initializer())\n",
    "    \n",
    "    for step in range(2001):\n",
    "        _, cost_ = sess.run([train, cost], feed_dict={X:x_data, Y:y_data})\n",
    "        if step % 100 == 0:\n",
    "            print(step, cost_)\n",
    "    \n",
    "    predict = tf.argmax(hypothesis, axis=1)\n",
    "    accuracy = tf.reduce_mean(tf.cast(tf.equal(predict, y_label),tf.float32))\n",
    "    h, p, a = sess.run([hypothesis, predict, accuracy ], feed_dict={X:x_data})\n",
    "    print(\"hyppothesis:{}, predict:{}, Accuracy:{}\".format(h,p,a))\n"
   ]
  },
  {
   "cell_type": "markdown",
   "metadata": {},
   "source": [
    "## Cross Entropy\n",
    "* tf.nn.softmax_cross_entropy_with_logits_v2(label, logits)\n",
    "    * logits와 label간의 cross entropy 를 계산"
   ]
  },
  {
   "cell_type": "code",
   "execution_count": 214,
   "metadata": {},
   "outputs": [
    {
     "name": "stdout",
     "output_type": "stream",
     "text": [
      "0 0.84880364\n",
      "100 0.74218434\n",
      "200 0.7021619\n",
      "300 0.6802028\n",
      "400 0.6657572\n",
      "500 0.65525895\n",
      "600 0.6471435\n",
      "700 0.64060074\n",
      "800 0.6351632\n",
      "900 0.63053954\n",
      "1000 0.6265368\n",
      "1100 0.62302184\n",
      "1200 0.619899\n",
      "1300 0.6170977\n",
      "1400 0.61456424\n",
      "1500 0.61225724\n",
      "1600 0.6101439\n",
      "1700 0.6081978\n",
      "1800 0.6063976\n",
      "1900 0.6047257\n",
      "2000 0.60316736\n",
      "hyppothesis:[[9.89403129e-01 1.05224624e-02 7.43781347e-05]\n",
      " [7.00156331e-01 1.69128478e-01 1.30715132e-01]\n",
      " [2.74371728e-02 9.72562253e-01 5.39275447e-07]\n",
      " [8.67827952e-01 6.03612214e-02 7.18109012e-02]\n",
      " [1.74934551e-01 3.54161515e-04 8.24711323e-01]\n",
      " [1.64240316e-01 8.31831098e-01 3.92862642e-03]\n",
      " [9.59060639e-02 6.28302336e-01 2.75791526e-01]\n",
      " [3.90437723e-04 9.99063671e-01 5.45988791e-04]\n",
      " [4.02795831e-06 9.99912024e-01 8.39045897e-05]\n",
      " [9.81912017e-01 1.58295454e-03 1.65050179e-02]\n",
      " [9.98615742e-01 1.24459190e-03 1.39626485e-04]\n",
      " [1.81065593e-02 1.53551181e-03 9.80357945e-01]\n",
      " [1.64201003e-04 2.30477672e-04 9.99605358e-01]\n",
      " [1.10237673e-02 1.79378055e-02 9.71038461e-01]\n",
      " [1.87963189e-04 9.89712834e-01 1.00992247e-02]\n",
      " [9.18279111e-01 6.77600354e-02 1.39608812e-02]\n",
      " [7.39548821e-03 9.86247599e-01 6.35683490e-03]\n",
      " [1.45225716e-03 1.12706526e-04 9.98435080e-01]\n",
      " [6.79815479e-04 1.07316345e-01 8.92003775e-01]\n",
      " [1.75054753e-04 3.14409495e-03 9.96680796e-01]], predict:[0 0 1 0 2 1 1 1 1 0 0 2 2 2 1 0 1 2 2 2], Accuracy:1.0\n"
     ]
    }
   ],
   "source": [
    "X = tf.placeholder(tf.float32, [None, 2])\n",
    "Y = tf.placeholder(tf.float32, [None, 3])\n",
    "\n",
    "W = tf.Variable(tf.random_normal([2, 3]))\n",
    "b = tf.Variable(tf.random_normal([3]))\n",
    "\n",
    "hypothesis = tf.nn.softmax(tf.matmul(X, W) + b)\n",
    "#cost = tf.reduce_mean(-tf.reduce_sum(Y * tf.log(hypothesis), axis=1))\n",
    "cost = tf.reduce_mean(tf.nn.softmax_cross_entropy_with_logits_v2(labels=Y, logits=hypothesis))\n",
    "optimizer = tf.train.GradientDescentOptimizer(learning_rate=0.1)\n",
    "train = optimizer.minimize(cost)\n",
    "\n",
    "with tf.Session() as sess:\n",
    "    sess.run(tf.global_variables_initializer())\n",
    "    \n",
    "    for step in range(2001):\n",
    "        _, cost_ = sess.run([train, cost], feed_dict={X:x_data, Y:y_data})\n",
    "        if step % 100 == 0:\n",
    "            print(step, cost_)\n",
    "    \n",
    "    predict = tf.argmax(hypothesis, axis=1)\n",
    "    accuracy = tf.reduce_mean(tf.cast(tf.equal(predict, y_label),tf.float32))\n",
    "    h, p, a = sess.run([hypothesis, predict, accuracy ], feed_dict={X:x_data})\n",
    "    print(\"hyppothesis:{}, predict:{}, Accuracy:{}\".format(h,p,a))"
   ]
  }
 ],
 "metadata": {
  "kernelspec": {
   "display_name": "Python 3",
   "language": "python",
   "name": "python3"
  },
  "language_info": {
   "codemirror_mode": {
    "name": "ipython",
    "version": 3
   },
   "file_extension": ".py",
   "mimetype": "text/x-python",
   "name": "python",
   "nbconvert_exporter": "python",
   "pygments_lexer": "ipython3",
   "version": "3.6.8"
  }
 },
 "nbformat": 4,
 "nbformat_minor": 2
}
