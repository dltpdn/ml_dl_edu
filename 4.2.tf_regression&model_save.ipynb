{
 "cells": [
  {
   "cell_type": "markdown",
   "metadata": {},
   "source": [
    "# Tensorflow로 구현하는 Regression\n",
    "* Hypothesis : $H(x) = Wx + b$\n",
    "* Cost : ${cost}(W, b) = \\frac{1}{m}\\displaystyle\\sum_{i=1}^m(H(x^{(i)}) - y^{(i)})^2$"
   ]
  },
  {
   "cell_type": "markdown",
   "metadata": {},
   "source": [
    "* tf.sqaure() : 제곱\n",
    "    * tf.sqaure(3) : 9\n",
    "* tf.reduce_mean() :차원을 줄이면서 평균 계산\n",
    "    * tf.reduce_mean([1,2,3,4]) => 2.5\n",
    "* tf.reduce_sum() : 차원을 줄이면서 합 계산\n",
    "    * tf.reduce_sum([1,2,3,4,5]) : 15"
   ]
  },
  {
   "cell_type": "code",
   "execution_count": 24,
   "metadata": {},
   "outputs": [
    {
     "name": "stdout",
     "output_type": "stream",
     "text": [
      "step\t   cost   \t    W     \n",
      "   0\t689.56970215\t2.90000010\n",
      "  20\t101.10919952\t2.04691792\n",
      "  40\t101.10919952\t2.04686332\n",
      "  60\t101.10919952\t2.04686332\n",
      "  80\t101.10919952\t2.04686332\n",
      " 100\t101.10919952\t2.04686332\n",
      " 120\t101.10919952\t2.04686332\n",
      " 140\t101.10919952\t2.04686332\n",
      " 160\t101.10919952\t2.04686332\n",
      " 180\t101.10919952\t2.04686332\n",
      " 200\t101.10919952\t2.04686332\n",
      " 220\t101.10919952\t2.04686332\n",
      " 240\t101.10919952\t2.04686332\n",
      " 260\t101.10919952\t2.04686332\n",
      " 280\t101.10919952\t2.04686332\n",
      " 300\t101.10919952\t2.04686332\n"
     ]
    },
    {
     "data": {
      "text/plain": [
       "<matplotlib.legend.Legend at 0x22f1c9768d0>"
      ]
     },
     "execution_count": 24,
     "metadata": {},
     "output_type": "execute_result"
    },
    {
     "data": {
      "image/png": "[encoded data removed]",
      "text/plain": [
       "<Figure size 432x288 with 1 Axes>"
      ]
     },
     "metadata": {
      "needs_background": "light"
     },
     "output_type": "display_data"
    }
   ],
   "source": [
    "%matplotlib inline\n",
    "\n",
    "import tensorflow as tf\n",
    "import numpy as np\n",
    "import matplotlib.pyplot as plt\n",
    "\n",
    "m = 50\n",
    "x = np.arange(m)\n",
    "y = x * 2\n",
    "y = y + 10 * np.random.randn(m)\n",
    "\n",
    "plt.plot(x, y, 'b.')\n",
    "\n",
    "W = tf.Variable(2.9)   # 임의 값\n",
    "hypothesis = W * x\n",
    "\n",
    "err = hypothesis - y  # 정답과 차이\n",
    "sqr_err = tf.square(err)  # 차이 제곱\n",
    "cost = tf.reduce_mean(sqr_err) # 차원을 1줄이면서 평균 계산\n",
    "\n",
    "learning_rate = 0.001# 학습률\n",
    "gradient =  2/m * tf.reduce_sum(err * x)\n",
    "descent = W - learning_rate * gradient\n",
    "update = W.assign(descent)\n",
    "\n",
    "\n",
    "with tf.Session() as sess:\n",
    "    sess.run(tf.global_variables_initializer())\n",
    "    print(\"{:^4}\\t{:^10}\\t{:^10}\".format(\"step\", \"cost\", \"W\"))\n",
    "    for step in range(301):\n",
    "        _, cost_, W_= sess.run([update, cost, W])\n",
    "        if step % 20 == 0:\n",
    "            print(f\"{step:4}\\t{cost_:10.8f}\\t{W_:10.8f}\")\n",
    "            \n",
    "plt.plot(x, x*W_, 'r', label='Hypothesis')\n",
    "plt.legend()"
   ]
  },
  {
   "cell_type": "markdown",
   "metadata": {},
   "source": [
    "## Cost Function and Optimizer\n",
    "* MSE cost 함수\n",
    "    * `tf.losses.mean_squared_error(labels, prediction)`\n",
    "* Optimizer :\n",
    "    * 경사 하강법 알고리즘을 구현한 옵티마니저(미분계산하여 W,b를 갱신)\n",
    "    * `tf.train.GradientDescentOptimizer() `\n",
    "        * optimizer.minimize(cost)"
   ]
  },
  {
   "cell_type": "code",
   "execution_count": 59,
   "metadata": {},
   "outputs": [
    {
     "name": "stdout",
     "output_type": "stream",
     "text": [
      "step\t   cost   \t    W     \t    b     \n",
      "   0\t5981.5439453\t 2.9000001\t 0.5000000\n",
      " 200\t2004.1672363\t 4.7020969\t 9.9979591\n",
      " 400\t1641.3720703\t 4.4440875\t18.5095425\n",
      " 600\t1346.0947266\t 4.2113218\t26.1883774\n",
      " 800\t1105.7702637\t 4.0013294\t33.1159172\n",
      "1000\t910.1723633\t 3.8118834\t39.3656464\n",
      "1200\t750.9761963\t 3.6409724\t45.0039101\n",
      "1400\t621.4066162\t 3.4867826\t50.0905609\n",
      "1600\t515.9507446\t 3.3476782\t54.6795311\n",
      "1800\t430.1209717\t 3.2221844\t58.8195152\n",
      "2000\t360.2646484\t 3.1089687\t62.5544434\n",
      "2200\t303.4090576\t 3.0068302\t65.9239426\n",
      "2400\t257.1354370\t 2.9146867\t68.9637146\n",
      "2600\t219.4725342\t 2.8315558\t71.7061539\n",
      "2800\t188.8188324\t 2.7565584\t74.1802826\n",
      "3000\t163.8697815\t 2.6888981\t76.4123611\n",
      "3200\t143.5638123\t 2.6278574\t78.4260635\n",
      "3400\t127.0373230\t 2.5727901\t80.2427063\n",
      "3600\t113.5863953\t 2.5231104\t81.8816223\n",
      "3800\t102.6391220\t 2.4782925\t83.3601379\n",
      "4000\t93.7288895\t 2.4378583\t84.6940384\n",
      "4200\t86.4770126\t 2.4013808\t85.8974152\n",
      "4400\t80.5745544\t 2.3684711\t86.9830856\n",
      "4600\t75.7707443\t 2.3387823\t87.9625015\n",
      "4800\t71.8608856\t 2.3119981\t88.8460999\n",
      "5000\t68.6786804\t 2.2878344\t89.6432571\n"
     ]
    },
    {
     "data": {
      "text/plain": [
       "<matplotlib.legend.Legend at 0x22f1f026550>"
      ]
     },
     "execution_count": 59,
     "metadata": {},
     "output_type": "execute_result"
    },
    {
     "data": {
      "image/png": "[encoded data removed]",
      "text/plain": [
       "<Figure size 432x288 with 1 Axes>"
      ]
     },
     "metadata": {
      "needs_background": "light"
     },
     "output_type": "display_data"
    }
   ],
   "source": [
    "%matplotlib inline\n",
    "\n",
    "import tensorflow as tf\n",
    "import numpy as np\n",
    "import matplotlib.pyplot as plt\n",
    "\n",
    "tf.reset_default_graph()\n",
    "\n",
    "m = 50\n",
    "x = np.arange(m)\n",
    "y = x * 2 + 100\n",
    "y = y + 10 * np.random.randn(m)\n",
    "plt.plot(x, y, 'b.')\n",
    "\n",
    "\n",
    "W = tf.Variable(2.9)   # 임의 값\n",
    "b = tf.Variable(0.5)   # 임의 값\n",
    "hypothesis = W * x+ b\n",
    "\n",
    "#err = hypothesis - y_train  # 정답과 차이\n",
    "#sqr_err = tf.square(err)  # 차이 제곱\n",
    "#cost = tf.reduce_mean(sqr_err) # 차원을 1줄이면서 평균 계산\n",
    "cost = tf.losses.mean_squared_error(y, hypothesis)\n",
    "\n",
    "learning_rate = 0.001  # 학습 율\n",
    "optimizer = tf.train.GradientDescentOptimizer(learning_rate=learning_rate) # 경사하강법\n",
    "train = optimizer.minimize(cost) # 손실 최소화\n",
    "\n",
    "with tf.Session() as sess:\n",
    "    sess.run(tf.global_variables_initializer())\n",
    "    print(\"{:^4}\\t{:^10}\\t{:^10}\\t{:^10}\".format(\"step\", \"cost\", \"W\", \"b\"))\n",
    "    for step in range(5001):\n",
    "        _, cost_, W_, b_ = sess.run([train, cost, W, b])\n",
    "        if step % 200 == 0:\n",
    "            print(f\"{step:4}\\t{cost_:10.7f}\\t{W_:10.7f}\\t{b_:10.7f}\")\n",
    "    predict = sess.run(hypothesis)\n",
    "plt.plot(x, predict, 'r', label='Hypothesis')\n",
    "plt.legend()"
   ]
  },
  {
   "cell_type": "markdown",
   "metadata": {},
   "source": [
    "## Variable 초기화\n",
    "* tf.random_noarmal(shape, mean=0.0, stddev=1.0, dtype=float32,seed=None, name=None )\n",
    "    * 임의의 수를 생성\n",
    "    * alias of tf.random.normal()\n",
    "\n",
    "## PlaceHolder\n",
    "* 모델에 값을 고정하지 않고 실행시에 데이타 교체 가능\n",
    "* tf.placeholder(dtype, shape=None, name=None)\n"
   ]
  },
  {
   "cell_type": "code",
   "execution_count": 57,
   "metadata": {},
   "outputs": [
    {
     "name": "stdout",
     "output_type": "stream",
     "text": [
      "step\t   cost   \t  Weight  \t   bias   \n",
      "   0\t29990.1601562\t[-0.8113182]\t[-0.8113182]\n",
      " 200\t2351.2668457\t[4.669009]\t[9.482137]\n",
      " 400\t1934.0123291\t[4.392312]\t[18.610231]\n",
      " 600\t1594.4106445\t[4.1426864]\t[26.845259]\n",
      " 800\t1318.0106201\t[3.917484]\t[34.274574]\n",
      "1000\t1093.0506592\t[3.7143154]\t[40.977005]\n",
      "1200\t909.9559326\t[3.5310237]\t[47.02371]\n",
      "1400\t760.9370117\t[3.3656657]\t[52.47878]\n",
      "1600\t639.6514893\t[3.2164865]\t[57.40013]\n",
      "1800\t540.9381714\t[3.0819032]\t[61.839962]\n",
      "2000\t460.5954590\t[2.9604867]\t[65.84543]\n",
      "2200\t395.2052002\t[2.85095]\t[69.45899]\n",
      "2400\t341.9843750\t[2.75213]\t[72.71901]\n",
      "2600\t298.6690369\t[2.6629803]\t[75.66001]\n",
      "2800\t263.4138794\t[2.5825508]\t[78.31335]\n",
      "3000\t234.7197418\t[2.50999]\t[80.70709]\n",
      "3200\t211.3660889\t[2.4445293]\t[82.86661]\n",
      "3400\t192.3588409\t[2.385474]\t[84.81482]\n",
      "3600\t176.8887329\t[2.3321955]\t[86.57244]\n",
      "3800\t164.2976379\t[2.2841299]\t[88.15811]\n",
      "4000\t154.0499268\t[2.2407668]\t[89.58862]\n",
      "4200\t145.7092743\t[2.2016463]\t[90.87919]\n",
      "4400\t138.9209137\t[2.166354]\t[92.04348]\n",
      "4600\t133.3959045\t[2.1345143]\t[93.09385]\n",
      "4800\t128.8991547\t[2.10579]\t[94.04145]\n",
      "5000\t125.2392197\t[2.0798755]\t[94.896355]\n"
     ]
    },
    {
     "data": {
      "text/plain": [
       "<matplotlib.legend.Legend at 0x22f1d4be5c0>"
      ]
     },
     "execution_count": 57,
     "metadata": {},
     "output_type": "execute_result"
    },
    {
     "data": {
      "image/png": "[encoded data removed]",
      "text/plain": [
       "<Figure size 432x288 with 1 Axes>"
      ]
     },
     "metadata": {
      "needs_background": "light"
     },
     "output_type": "display_data"
    }
   ],
   "source": [
    "%matplotlib inline\n",
    "\n",
    "import tensorflow as tf\n",
    "import numpy as np\n",
    "import matplotlib.pyplot as plt\n",
    "\n",
    "tf.reset_default_graph()\n",
    "\n",
    "m = 50\n",
    "x = np.arange(m)\n",
    "y = x * 2 + 100\n",
    "y = y + 10 * np.random.randn(m)\n",
    "plt.plot(x, y, 'b.')\n",
    "\n",
    "W = tf.Variable(tf.random_normal([1], seed=1, name='weight')) # alias of tf.random.normal() \n",
    "b = tf.Variable(tf.random_normal([1], seed=1, name='bias')) # alias of tf.random.normal()\n",
    "\n",
    "X = tf.placeholder(tf.float32, name='X') # placeholder for feed_dict\n",
    "Y = tf.placeholder(tf.float32, name='Y') # tf.placeholder(dtype, shape=None, name=None)placeholder for feed_dict\n",
    "\n",
    "hypothesis = W* X + b\n",
    "cost = tf.losses.mean_squared_error(Y, hypothesis)\n",
    "\n",
    "train = tf.train.GradientDescentOptimizer(learning_rate=0.001).minimize(cost)\n",
    "                \n",
    "with tf.Session() as sess:\n",
    "    sess.run(tf.global_variables_initializer())\n",
    "    print(\"{:^4}\\t{:^10}\\t{:^10}\\t{:^10}\".format(\"step\", \"cost\", \"Weight\", \"bias\"))\n",
    "    for step in range(5001):\n",
    "        _, cost_, W_, b_ = sess.run([train, cost, W, b], feed_dict={X:x, Y:y})\n",
    "        if step % 200 == 0:\n",
    "            print(f\"{step:4}\\t{cost_:10.7f}\\t{W_}\\t{b_}\")\n",
    "    predict = sess.run(hypothesis, feed_dict={X:x})\n",
    "\n",
    "plt.plot(x, predict, 'r', label='Hypothesis')\n",
    "plt.legend()"
   ]
  },
  {
   "attachments": {
    "image.png": {
     "image/png": "[encoded data removed]"
    }
   },
   "cell_type": "markdown",
   "metadata": {},
   "source": [
    "## Cost History Plot\n",
    "* tensorboard 를 이용한 학습 곡선 시각화\n",
    "* `summ_cost = tf.summary.scalar('cost', cost)`\n",
    "* `summ_str = sess.run(summ_cost)`\n",
    "* `wrier.add_summary(summ_str, step)`\n",
    "![image.png](attachment:image.png)"
   ]
  },
  {
   "cell_type": "code",
   "execution_count": 65,
   "metadata": {},
   "outputs": [
    {
     "name": "stdout",
     "output_type": "stream",
     "text": [
      "step\t   cost   \t  Weight  \t   bias   \n",
      "   0\t29772.0878906\t[-0.8113182]\t[-0.8113182]\n",
      " 200\t2071.6867676\t[4.6986675]\t[8.916345]\n",
      " 400\t1699.8221436\t[4.4374537]\t[17.53366]\n",
      " 600\t1397.1644287\t[4.201797]\t[25.307856]\n",
      " 800\t1150.8321533\t[3.9891963]\t[32.32144]\n",
      "1000\t950.3439331\t[3.7973964]\t[38.648827]\n",
      "1200\t787.1677856\t[3.6243622]\t[44.357136]\n",
      "1400\t654.3593140\t[3.4682572]\t[49.506966]\n",
      "1600\t546.2669678\t[3.3274248]\t[54.152954]\n",
      "1800\t458.2915344\t[3.2003717]\t[58.344364]\n",
      "2000\t386.6890564\t[3.0857503]\t[62.125675]\n",
      "2200\t328.4121094\t[2.9823427]\t[65.53703]\n",
      "2400\t280.9822388\t[2.8890555]\t[68.61453]\n",
      "2600\t242.3777161\t[2.8048923]\t[71.39104]\n",
      "2800\t210.9577026\t[2.7289634]\t[73.8959]\n",
      "3000\t185.3847198\t[2.660462]\t[76.155716]\n",
      "3200\t164.5710602\t[2.5986629]\t[78.19444]\n",
      "3400\t147.6313477\t[2.5429115]\t[80.03365]\n",
      "3600\t133.8440094\t[2.4926143]\t[81.69294]\n",
      "3800\t122.6229477\t[2.4472392]\t[83.189835]\n",
      "4000\t113.4898605\t[2.4063022]\t[84.54032]\n",
      "4200\t106.0567169\t[2.3693717]\t[85.758644]\n",
      "4400\t100.0067673\t[2.3360536]\t[86.857796]\n",
      "4600\t95.0828705\t[2.3059962]\t[87.84937]\n",
      "4800\t91.0752182\t[2.2788785]\t[88.743965]\n",
      "5000\t87.8134537\t[2.2544143]\t[89.55102]\n"
     ]
    },
    {
     "data": {
      "image/png": "[encoded data removed]",
      "text/plain": [
       "<Figure size 432x288 with 1 Axes>"
      ]
     },
     "metadata": {
      "needs_background": "light"
     },
     "output_type": "display_data"
    }
   ],
   "source": [
    "%matplotlib inline\n",
    "\n",
    "import tensorflow as tf\n",
    "import numpy as np\n",
    "import matplotlib.pyplot as plt\n",
    "import time\n",
    "\n",
    "tf.reset_default_graph()\n",
    "\n",
    "now_str = time.strftime(\"%Y%m%d-%H%M%S\")\n",
    "m = 50\n",
    "x = np.arange(m)\n",
    "y = x * 2 + 100\n",
    "\n",
    "y = y + 10 * np.random.randn(m)\n",
    "\n",
    "W = tf.Variable(tf.random_normal([1], seed=1, name='weight')) # alias of tf.random.normal() \n",
    "b = tf.Variable(tf.random_normal([1], seed=1, name='bias')) # alias of tf.random.normal()\n",
    "\n",
    "X = tf.placeholder(tf.float32, name='X') # placeholder for feed_dict\n",
    "Y = tf.placeholder(tf.float32, name='Y') # tf.placeholder(dtype, shape=None, name=None)placeholder for feed_dict\n",
    "\n",
    "hypothesis = W* X + b\n",
    "cost = tf.losses.mean_squared_error(Y, hypothesis)\n",
    "train = tf.train.GradientDescentOptimizer(learning_rate=0.001).minimize(cost)\n",
    "\n",
    "\n",
    "writer = tf.summary.FileWriter('./logs/'+now_str, tf.get_default_graph())\n",
    "sum_cost = tf.summary.scalar('cost', cost)\n",
    "\n",
    "hist_cost = []\n",
    "with tf.Session() as sess:\n",
    "    sess.run(tf.global_variables_initializer())\n",
    "    \n",
    "    print(\"{:^4}\\t{:^10}\\t{:^10}\\t{:^10}\".format(\"step\", \"cost\", \"Weight\", \"bias\"))\n",
    "    for step in range(5001):\n",
    "        _, cost_, W_, b_ = sess.run([train, cost, W, b], feed_dict={X:x, Y:y})\n",
    "        summ = sess.run(sum_cost, feed_dict={X:x, Y:y})\n",
    "        writer.add_summary(summ, step)\n",
    "        if step % 200 == 0:\n",
    "            print(f\"{step:4}\\t{cost_:10.7f}\\t{W_}\\t{b_}\")\n",
    "            hist_cost.append(cost_)\n",
    "\n",
    "plt.plot( hist_cost)\n",
    "plt.show()\n",
    "\n",
    "writer.close()"
   ]
  },
  {
   "cell_type": "markdown",
   "metadata": {},
   "source": [
    "## MultiVariable Regression\n",
    "* tf.matmul(a,b)\n",
    "    * 행렬곱 연산\n",
    "    * alias for tf.linalg.matmul(a, b) \n",
    "    "
   ]
  },
  {
   "cell_type": "code",
   "execution_count": 67,
   "metadata": {},
   "outputs": [
    {
     "name": "stdout",
     "output_type": "stream",
     "text": [
      "[[33. 26.]\n",
      " [25.  5.]\n",
      " [48. 15.]\n",
      " [ 0. 15.]\n",
      " [21. 37.]\n",
      " [ 5. 34.]\n",
      " [ 5. 27.]\n",
      " [15. 19.]\n",
      " [30. 10.]\n",
      " [23. 30.]\n",
      " [30.  5.]\n",
      " [10. 14.]\n",
      " [22. 23.]\n",
      " [25.  0.]\n",
      " [12. 45.]\n",
      " [40. 31.]\n",
      " [44. 45.]\n",
      " [47.  7.]\n",
      " [45. 39.]\n",
      " [19. 38.]]\n",
      "[[80.9]\n",
      " [69. ]\n",
      " [88.1]\n",
      " [54.5]\n",
      " [75.8]\n",
      " [63.7]\n",
      " [61.6]\n",
      " [66.2]\n",
      " [74. ]\n",
      " [75.1]\n",
      " [72.5]\n",
      " [61.2]\n",
      " [72.3]\n",
      " [67.5]\n",
      " [71.9]\n",
      " [87.3]\n",
      " [94.3]\n",
      " [85. ]\n",
      " [93.2]\n",
      " [74.7]]\n"
     ]
    }
   ],
   "source": [
    "%matplotlib inline\n",
    "import matplotlib.pyplot as plt\n",
    "import tensorflow as tf\n",
    "import numpy as np\n",
    "\n",
    "m = 50\n",
    "x_data = np.ones((m,2), dtype=np.float32)\n",
    "x_data[:, 0] = np.random.randint(0, 50, (m))\n",
    "x_data[:, 1] = np.random.randint(0, 50, (m))\n",
    "y_data = x_data.T[0] * 0.7 + x_data.T[1] * 0.3 + 50\n",
    "#matmul = tf.matmul(x_data, [[0.7], [0.3]]) + 50\n",
    "#s = tf.Session()\n",
    "#y_data = s.run(matmul)\n",
    "y_data = y_data.reshape(-1,1)\n",
    "print(x_data[:20])\n",
    "print(y_data[:20])"
   ]
  },
  {
   "cell_type": "code",
   "execution_count": 69,
   "metadata": {
    "scrolled": true
   },
   "outputs": [
    {
     "name": "stdout",
     "output_type": "stream",
     "text": [
      "step\t   cost   \t    W1    \t    W2    \t   bias   \n",
      "   0\t4246.6445312\t[-0.8113182], [1.4845988], \t[-0.8113182]\n",
      "1000\t292.7015381\t[1.4638668], [1.0371035], \t[6.498022]\n",
      "2000\t214.8571930\t[1.3544554], [0.93152547], \t[12.728964]\n",
      "3000\t157.7155457\t[1.2607152], [0.84106976], \t[18.067436]\n",
      "4000\t115.7708282\t[1.1804018], [0.7635702], \t[22.641262]\n",
      "5000\t84.9814835\t[1.1115924], [0.6971715], \t[26.559942]\n",
      "6000\t62.3804893\t[1.0526384], [0.64028317], \t[29.917353]\n",
      "7000\t45.7902718\t[1.0021285], [0.591543], \t[32.793873]\n",
      "8000\t33.6122742\t[0.9588535], [0.5497842], \t[35.25837]\n",
      "9000\t24.6730595\t[0.92177707], [0.51400673], \t[37.369865]\n",
      "10000\t18.1111641\t[0.8900108], [0.4833535], \t[39.178944]\n",
      "11000\t13.2945423\t[0.8627953], [0.4570915], \t[40.72886]\n",
      "12000\t 9.7588253\t[0.8394774], [0.43459058], \t[42.056805]\n",
      "13000\t 7.1634593\t[0.8194996], [0.4153127], \t[43.194534]\n",
      "14000\t 5.2583227\t[0.8023832], [0.39879605], \t[44.169308]\n",
      "15000\t 3.8598528\t[0.78771836], [0.384645], \t[45.004467]\n",
      "16000\t 2.8333228\t[0.7751541], [0.372521], \t[45.719994]\n",
      "17000\t 2.0797975\t[0.7643896], [0.36213362], \t[46.333035]\n",
      "18000\t 1.5266814\t[0.75516695], [0.3532341], \t[46.858257]\n",
      "19000\t 1.1206744\t[0.7472655], [0.34560952], \t[47.308243]\n",
      "20000\t 0.8226084\t[0.74049497], [0.3390762], \t[47.69382]\n",
      "21000\t 0.6038487\t[0.7346952], [0.3334796], \t[48.02412]\n",
      "22000\t 0.4432485\t[0.7297255], [0.32868394], \t[48.307144]\n",
      "23000\t 0.3253746\t[0.7254681], [0.3245758], \t[48.5496]\n",
      "24000\t 0.2388372\t[0.72182], [0.3210555], \t[48.757355]\n",
      "25000\t 0.1753290\t[0.7186952], [0.31804025], \t[48.93531]\n",
      "26000\t 0.1287050\t[0.7160178], [0.31545657], \t[49.08779]\n",
      "27000\t 0.0944709\t[0.7137231], [0.31324238], \t[49.21847]\n",
      "28000\t 0.0693562\t[0.7117583], [0.3113464], \t[49.330364]\n",
      "29000\t 0.0509105\t[0.71007407], [0.3097212], \t[49.42628]\n",
      "30000\t 0.0373782\t[0.70863205], [0.30832958], \t[49.508408]\n",
      "31000\t 0.0274421\t[0.70739627], [0.30713716], \t[49.578785]\n",
      "32000\t 0.0201342\t[0.7063354], [0.3061134], \t[49.639202]\n",
      "33000\t 0.0147727\t[0.7054267], [0.30523658], \t[49.690952]\n",
      "34000\t 0.0108568\t[0.70465213], [0.30448917], \t[49.73506]\n",
      "35000\t 0.0079755\t[0.7039873], [0.3038476], \t[49.772923]\n",
      "36000\t 0.0058595\t[0.7034177], [0.30329797], \t[49.805363]\n",
      "37000\t 0.0043002\t[0.7029278], [0.3028253], \t[49.83326]\n",
      "38000\t 0.0031604\t[0.70251], [0.30242208], \t[49.857056]\n",
      "39000\t 0.0023274\t[0.7021539], [0.3020785], \t[49.877335]\n",
      "40000\t 0.0017079\t[0.7018451], [0.3017805], \t[49.89492]\n"
     ]
    }
   ],
   "source": [
    "X = tf.placeholder(tf.float32, shape=[None, 2])\n",
    "Y = tf.placeholder(tf.float32, shape=[None, 1])\n",
    "\n",
    "W = tf.Variable(tf.random_normal(shape=[2,1], seed=1), name='weight');\n",
    "b = tf.Variable(tf.random_normal(shape=[1], seed=1), name='bias');\n",
    "\n",
    "hypothesis = tf.matmul(X, W) + b \n",
    "\n",
    "cost = tf.losses.mean_squared_error(Y, hypothesis)\n",
    "optimizer = tf.train.GradientDescentOptimizer(learning_rate=0.0005)\n",
    "train = optimizer.minimize(cost)\n",
    "hist_cost = []\n",
    "with tf.Session() as sess:\n",
    "    sess.run(tf.global_variables_initializer())\n",
    "    \n",
    "    print(\"{:^4}\\t{:^10}\\t{:^10}\\t{:^10}\\t{:^10}\".format(\"step\", \"cost\", \"W1\",\"W2\", \"bias\"))\n",
    "    for step in range(40001):\n",
    "        _, cost_, W_, b_ = sess.run([train, cost, W, b], feed_dict={X:x_data, Y:y_data})\n",
    "        if np.isnan(cost_) : break\n",
    "        hist_cost.append(cost_)\n",
    "        if step % 1000 == 0:\n",
    "            print(f\"{step:4}\\t{cost_:10.7f}\\t{W_[0]}, {W_[1]}, \\t{b_}\")\n"
   ]
  },
  {
   "cell_type": "markdown",
   "metadata": {},
   "source": [
    "## Logistic Regression\n",
    "* tf.sigmoid(x)\n",
    "    * $y = 1 / (1 + exp(-x))$\n",
    "* tf.equal(a, b)\n",
    "    * alias of tf.math.equal(a, b)\n",
    "    * a == b 연산 반환, boolean \n",
    "* tf.cast(x, dtype)\n",
    "    * x를 dtype으로 변환\n",
    "    * alias of tf.dtypes.cast()\n",
    "    * tf.cast(h > 0.5, tf.float32) : boolean을 float로 변환"
   ]
  },
  {
   "cell_type": "code",
   "execution_count": 103,
   "metadata": {},
   "outputs": [
    {
     "name": "stdout",
     "output_type": "stream",
     "text": [
      "0 0.6930635\n",
      "1000 0.53264517\n",
      "2000 0.51650107\n",
      "3000 0.51560235\n",
      "4000 0.51537824\n",
      "5000 0.51523256\n",
      "6000 0.51509815\n",
      "7000 0.51494753\n",
      "8000 0.5147501\n",
      "9000 0.5144472\n",
      "10000 0.5139273\n",
      "Accuracy:0.9700000286102295\n"
     ]
    },
    {
     "data": {
      "text/plain": [
       "[<matplotlib.lines.Line2D at 0x22f20ab7160>]"
      ]
     },
     "execution_count": 103,
     "metadata": {},
     "output_type": "execute_result"
    },
    {
     "data": {
      "image/png": "[encoded data removed]",
      "text/plain": [
       "<Figure size 432x288 with 1 Axes>"
      ]
     },
     "metadata": {
      "needs_background": "light"
     },
     "output_type": "display_data"
    }
   ],
   "source": [
    "%matplotlib inline\n",
    "import matplotlib.pyplot as plt\n",
    "import tensorflow as tf\n",
    "import numpy as np\n",
    "\n",
    "ma, mb = 50, 50\n",
    "m = ma + mb\n",
    "Xa = np.random.randint(-50,0, (ma, 2))\n",
    "Xb = np.random.randint(0,50, (mb, 2))\n",
    "\n",
    "\n",
    "x_data = np.concatenate((Xa, Xb), axis=0)\n",
    "x_data = x_data + 10* np.random.randn(m,2)\n",
    "y_data = np.zeros((m))\n",
    "y_data[mb:] = 1\n",
    "y_data = y_data.reshape(-1,1)\n",
    "\n",
    "plt.plot(x_data[y_data[:,0]==0][:,0],x_data[y_data[:,0]==0][:,1], 'r1')\n",
    "plt.plot(x_data[y_data[:,0]==1][:,0],x_data[y_data[:,0]==1][:,1], 'b1')\n",
    "\n",
    "X = tf.placeholder(tf.float32, shape=[None, 2])\n",
    "Y = tf.placeholder(tf.float32, shape=[None, 1])\n",
    "\n",
    "W = tf.Variable(tf.random_normal([2,1], seed=1))\n",
    "b = tf.Variable(tf.random_normal([1], seed=1))\n",
    "\n",
    "hypothesis = tf.sigmoid(tf.matmul(X, W) + b)\n",
    "\n",
    "#cost = -tf.reduce_mean(Y* tf.log(hypothesis) + (1-Y) * tf.log(1 - hypothesis))\n",
    "#cost = tf.reduce_mean(-Y * tf.log(hypothesis) - (1-Y) * tf.log(1 - hypothesis))\n",
    "cost = tf.reduce_mean(tf.nn.sigmoid_cross_entropy_with_logits(labels=Y, logits=hypothesis))\n",
    "train = tf.train.GradientDescentOptimizer(learning_rate=0.01).minimize(cost)\n",
    "\n",
    "predict = tf.cast(hypothesis > 0.5, dtype=tf.float32)\n",
    "accuracy = tf.reduce_mean(tf.cast(tf.equal(predict, Y), dtype=tf.float32))\n",
    "\n",
    "with tf.Session() as sess:\n",
    "    sess.run(tf.global_variables_initializer())\n",
    "    \n",
    "    for step in range(10001):\n",
    "        cost_, _ = sess.run([cost, train], feed_dict={X:x_data, Y:y_data})\n",
    "        if np.isnan(cost_) : break\n",
    "        if step % 1000 == 0:\n",
    "            print(step, cost_)\n",
    "    h, p, a = sess.run([hypothesis, predict, accuracy], feed_dict={X:x_data, Y:y_data})\n",
    "    print('Accuracy:{}'.format(a))\n",
    "\n",
    "plt.plot(x_data[p[:,0]==0][:,0],x_data[p[:,0]==0][:,1], 'rs', alpha=0.3)\n",
    "plt.plot(x_data[p[:,0]==1][:,0],x_data[p[:,0]==1][:,1], 'bs', alpha=0.3)"
   ]
  },
  {
   "cell_type": "markdown",
   "metadata": {},
   "source": [
    "## Softmax\n",
    "* tf.nn.softmax()\n",
    "    * tf.exp(logits) / tf.reduce_sum(tf.exp(logits), axis)\n",
    "* tf.argmax()\n",
    "    * alias of tf.math.argmax()\n",
    "    * 가장 큰 값의 인덱스 반환"
   ]
  },
  {
   "cell_type": "code",
   "execution_count": 156,
   "metadata": {},
   "outputs": [
    {
     "data": {
      "text/plain": [
       "Text(0.5, 1.0, 'Input')"
      ]
     },
     "execution_count": 156,
     "metadata": {},
     "output_type": "execute_result"
    },
    {
     "data": {
      "image/png": "[encoded data removed]",
      "text/plain": [
       "<Figure size 432x288 with 1 Axes>"
      ]
     },
     "metadata": {
      "needs_background": "light"
     },
     "output_type": "display_data"
    }
   ],
   "source": [
    "%matplotlib inline\n",
    "import matplotlib.pyplot as plt\n",
    "import tensorflow as tf\n",
    "import numpy as np\n",
    "\n",
    "tf.reset_default_graph()\n",
    "\n",
    "x_data = np.array([[-0.1, 1.4],\n",
    "              [-0.5, 0.2],\n",
    "              [ 1.3, 0.9],\n",
    "              [-0.6, 0.4],\n",
    "              [-1.6, 0.2],\n",
    "              [ 0.2, 0.2],\n",
    "              [-0.3,-0.4],\n",
    "              [ 0.7,-0.8],\n",
    "              [ 1.1,-1.5],\n",
    "              [-1.0, 0.9],\n",
    "              [-0.5, 1.5],\n",
    "              [-1.3,-0.4],\n",
    "              [-1.4,-1.2],\n",
    "              [-0.9,-0.7],\n",
    "              [ 0.4,-1.3],\n",
    "              [-0.4, 0.6],\n",
    "              [ 0.3,-0.5],\n",
    "              [-1.6,-0.7],\n",
    "              [-0.5,-1.4],\n",
    "              [-1.0,-1.4]])\n",
    "y_label = np.array([0, 0, 1, 0, 2, 1, 1, 1, 1, 0, 0, 2, 2, 2, 1, 0, 1, 2, 2, 2])\n",
    "y_data =  np.eye(3)[y_label]\n",
    "\n",
    "colormap = np.array(['r', 'g', 'b'])\n",
    "plt.scatter(x_data[:,0], x_data[:,1], s=50, c=colormap[y_label])\n",
    "plt.title('Input', size=20)"
   ]
  },
  {
   "cell_type": "code",
   "execution_count": 159,
   "metadata": {},
   "outputs": [
    {
     "name": "stdout",
     "output_type": "stream",
     "text": [
      "0 1.8761467\n",
      "200 0.9105875\n",
      "400 0.5823543\n",
      "600 0.4458871\n",
      "800 0.37363476\n",
      "1000 0.3280304\n",
      "1200 0.29596958\n",
      "1400 0.27183512\n",
      "1600 0.25280342\n",
      "1800 0.23728427\n",
      "2000 0.22430491\n",
      "2200 0.21323252\n",
      "2400 0.20363493\n",
      "2600 0.19520593\n",
      "2800 0.18772167\n",
      "3000 0.18101403\n",
      "3200 0.17495422\n",
      "3400 0.16944167\n",
      "3600 0.1643963\n",
      "3800 0.15975372\n",
      "4000 0.15546148\n",
      "4200 0.15147626\n",
      "4400 0.14776188\n",
      "4600 0.14428799\n",
      "4800 0.14102884\n",
      "5000 0.13796237\n",
      "Accuracy:1.0\n"
     ]
    },
    {
     "data": {
      "image/png": "[encoded data removed]",
      "text/plain": [
       "<Figure size 432x288 with 1 Axes>"
      ]
     },
     "metadata": {
      "needs_background": "light"
     },
     "output_type": "display_data"
    }
   ],
   "source": [
    "X = tf.placeholder(tf.float32, [None, 2])\n",
    "Y = tf.placeholder(tf.float32, [None, 3])\n",
    "\n",
    "W = tf.Variable(tf.random_normal([2, 3]))\n",
    "b = tf.Variable(tf.random_normal([3]))\n",
    "\n",
    "hypothesis = tf.nn.softmax(tf.matmul(X, W) + b)\n",
    "#cost = tf.reduce_mean(-tf.reduce_sum(Y * tf.log(hypothesis), axis=1))\n",
    "cost = -tf.reduce_mean(tf.reduce_sum(Y * tf.log(hypothesis), axis=1))\n",
    "\n",
    "\n",
    "optimizer = tf.train.GradientDescentOptimizer(learning_rate=0.01)\n",
    "train = optimizer.minimize(cost)\n",
    "\n",
    "with tf.Session() as sess:\n",
    "    sess.run(tf.global_variables_initializer())\n",
    "    \n",
    "    for step in range(5001):\n",
    "        _, cost_ = sess.run([train, cost], feed_dict={X:x_data, Y:y_data})\n",
    "        if step % 200 == 0:\n",
    "            print(step, cost_)\n",
    "    \n",
    "    predict = tf.argmax(hypothesis, axis=1)\n",
    "    accuracy = tf.reduce_mean(tf.cast(tf.equal(predict, y_label),tf.float32))\n",
    "    h, p, a = sess.run([hypothesis, predict, accuracy ], feed_dict={X:x_data})\n",
    "    print(\"Accuracy:{}\".format(a))\n",
    "\n",
    "plt.title('Predict', size=20)\n",
    "plt.scatter(x_data[:,0], x_data[:,1], s=50, c=colormap[p])\n",
    "plt.show()"
   ]
  },
  {
   "cell_type": "markdown",
   "metadata": {},
   "source": [
    "### Cross Entropy\n",
    "* tf.nn.softmax_cross_entropy_with_logits_v2(label, logits)\n",
    "    * logits와 label간의 cross entropy 를 계산\n",
    "\n",
    "### 모델 저장\n",
    "* `saver = tf.train.Saver(tf.global_variables())`\n",
    "* `saver.save(sess, './model/my_model.ckpt')`\n",
    "    "
   ]
  },
  {
   "cell_type": "code",
   "execution_count": 174,
   "metadata": {},
   "outputs": [
    {
     "name": "stdout",
     "output_type": "stream",
     "text": [
      "Tensor(\"predict:0\", shape=(?,), dtype=int64)\n",
      "0 1.1436459\n",
      "200 1.1127551\n",
      "400 1.081922\n",
      "600 1.0512514\n",
      "800 1.0227146\n",
      "1000 0.99886495\n",
      "1200 0.9804665\n",
      "1400 0.96636695\n",
      "1600 0.95494044\n",
      "1800 0.94480026\n",
      "2000 0.9347826\n",
      "2200 0.9237236\n",
      "2400 0.91023844\n",
      "2600 0.89269525\n",
      "2800 0.8698675\n",
      "3000 0.8424367\n",
      "3200 0.8134192\n",
      "3400 0.78626287\n",
      "3600 0.76316565\n",
      "3800 0.744614\n",
      "4000 0.72992647\n",
      "4200 0.7181331\n",
      "4400 0.7084261\n",
      "4600 0.70023793\n",
      "4800 0.69319355\n",
      "5000 0.6870487\n",
      "Accuracy:0.949999988079071\n"
     ]
    },
    {
     "data": {
      "image/png": "[encoded data removed]",
      "text/plain": [
       "<Figure size 432x288 with 1 Axes>"
      ]
     },
     "metadata": {
      "needs_background": "light"
     },
     "output_type": "display_data"
    }
   ],
   "source": [
    "%matplotlib inline\n",
    "import matplotlib.pyplot as plt\n",
    "import tensorflow as tf\n",
    "import numpy as np\n",
    "\n",
    "tf.reset_default_graph()\n",
    "\n",
    "model_path = './models/cross_entroy.ckpt'\n",
    "\n",
    "\n",
    "x_data = np.array([[-0.1, 1.4],\n",
    "              [-0.5, 0.2],\n",
    "              [ 1.3, 0.9],\n",
    "              [-0.6, 0.4],\n",
    "              [-1.6, 0.2],\n",
    "              [ 0.2, 0.2],\n",
    "              [-0.3,-0.4],\n",
    "              [ 0.7,-0.8],\n",
    "              [ 1.1,-1.5],\n",
    "              [-1.0, 0.9],\n",
    "              [-0.5, 1.5],\n",
    "              [-1.3,-0.4],\n",
    "              [-1.4,-1.2],\n",
    "              [-0.9,-0.7],\n",
    "              [ 0.4,-1.3],\n",
    "              [-0.4, 0.6],\n",
    "              [ 0.3,-0.5],\n",
    "              [-1.6,-0.7],\n",
    "              [-0.5,-1.4],\n",
    "              [-1.0,-1.4]])\n",
    "y_label = np.array([0, 0, 1, 0, 2, 1, 1, 1, 1, 0, 0, 2, 2, 2, 1, 0, 1, 2, 2, 2])\n",
    "y_data =  np.eye(3)[y_label]\n",
    "\n",
    "colormap = np.array(['r', 'g', 'b'])\n",
    "plt.scatter(x_data[:,0], x_data[:,1], s=50, c=colormap[y_label])\n",
    "plt.title('Input', size=20)\n",
    "X = tf.placeholder(tf.float32, [None, 2], name='X')\n",
    "Y = tf.placeholder(tf.float32, [None, 3], name='Y')\n",
    "\n",
    "W = tf.Variable(tf.random_normal([2, 3]), name='W')\n",
    "b = tf.Variable(tf.random_normal([3]), name='b')\n",
    "\n",
    "hypothesis = tf.nn.softmax(tf.matmul(X, W) + b)\n",
    "#cost = tf.reduce_mean(-tf.reduce_sum(Y * tf.log(hypothesis), axis=1))\n",
    "cost = tf.reduce_mean(tf.nn.softmax_cross_entropy_with_logits_v2(labels=Y, logits=hypothesis))\n",
    "\n",
    "optimizer = tf.train.GradientDescentOptimizer(learning_rate=0.01)\n",
    "train = optimizer.minimize(cost)\n",
    "\n",
    "predict = tf.argmax(hypothesis, axis=1, name='predict')\n",
    "print(predict)\n",
    "accuracy = tf.reduce_mean(tf.cast(tf.equal(predict, y_label),tf.float32))\n",
    "with tf.Session() as sess:\n",
    "    saver = tf.train.Saver()\n",
    "    sess.run(tf.global_variables_initializer())\n",
    "    \n",
    "    for step in range(5001):\n",
    "        _, cost_ = sess.run([train, cost], feed_dict={X:x_data, Y:y_data})\n",
    "        if step % 200 == 0:\n",
    "            print(step, cost_)\n",
    "    \n",
    "    h, p, a = sess.run([hypothesis, predict, accuracy ], feed_dict={X:x_data})\n",
    "    print(\"Accuracy:{}\".format(a))\n",
    "    \n",
    "    saver.save(sess, model_path)\n",
    "    \n",
    "plt.title('Predict', size=20)\n",
    "colormap = np.array(['r', 'g', 'b'])\n",
    "plt.scatter(x_data[:,0], x_data[:,1], s=50, c=colormap[p])\n",
    "plt.show()"
   ]
  },
  {
   "cell_type": "markdown",
   "metadata": {},
   "source": [
    "### 모델 복원\n",
    "* `new_saver = tf.train.import_meta_graph(model_save_path + '.meta')`\n",
    "    * 저장된 그래프 구조를 읽어서 default graph에 추가\n",
    "* `new_saver.restore(sess, model_save_path)`\n",
    "    * sess에 저장된 변수를 복원"
   ]
  },
  {
   "cell_type": "code",
   "execution_count": 183,
   "metadata": {},
   "outputs": [
    {
     "name": "stdout",
     "output_type": "stream",
     "text": [
      "<tensorflow.python.framework.ops.Graph object at 0x0000022F25632CC0>\n",
      "[]\n",
      "[<tf.Operation 'X' type=Placeholder>, <tf.Operation 'Y' type=Placeholder>, <tf.Operation 'random_normal/shape' type=Const>, <tf.Operation 'random_normal/mean' type=Const>, <tf.Operation 'random_normal/stddev' type=Const>, <tf.Operation 'random_normal/RandomStandardNormal' type=RandomStandardNormal>, <tf.Operation 'random_normal/mul' type=Mul>, <tf.Operation 'random_normal' type=Add>, <tf.Operation 'W' type=VariableV2>, <tf.Operation 'W/Assign' type=Assign>, <tf.Operation 'W/read' type=Identity>, <tf.Operation 'random_normal_1/shape' type=Const>, <tf.Operation 'random_normal_1/mean' type=Const>, <tf.Operation 'random_normal_1/stddev' type=Const>, <tf.Operation 'random_normal_1/RandomStandardNormal' type=RandomStandardNormal>, <tf.Operation 'random_normal_1/mul' type=Mul>, <tf.Operation 'random_normal_1' type=Add>, <tf.Operation 'b' type=VariableV2>, <tf.Operation 'b/Assign' type=Assign>, <tf.Operation 'b/read' type=Identity>, <tf.Operation 'MatMul' type=MatMul>, <tf.Operation 'add' type=Add>, <tf.Operation 'Softmax' type=Softmax>, <tf.Operation 'softmax_cross_entropy_with_logits/Rank' type=Const>, <tf.Operation 'softmax_cross_entropy_with_logits/Shape' type=Shape>, <tf.Operation 'softmax_cross_entropy_with_logits/Rank_1' type=Const>, <tf.Operation 'softmax_cross_entropy_with_logits/Shape_1' type=Shape>, <tf.Operation 'softmax_cross_entropy_with_logits/Sub/y' type=Const>, <tf.Operation 'softmax_cross_entropy_with_logits/Sub' type=Sub>, <tf.Operation 'softmax_cross_entropy_with_logits/Slice/begin' type=Pack>, <tf.Operation 'softmax_cross_entropy_with_logits/Slice/size' type=Const>, <tf.Operation 'softmax_cross_entropy_with_logits/Slice' type=Slice>, <tf.Operation 'softmax_cross_entropy_with_logits/concat/values_0' type=Const>, <tf.Operation 'softmax_cross_entropy_with_logits/concat/axis' type=Const>, <tf.Operation 'softmax_cross_entropy_with_logits/concat' type=ConcatV2>, <tf.Operation 'softmax_cross_entropy_with_logits/Reshape' type=Reshape>, <tf.Operation 'softmax_cross_entropy_with_logits/Rank_2' type=Const>, <tf.Operation 'softmax_cross_entropy_with_logits/Shape_2' type=Shape>, <tf.Operation 'softmax_cross_entropy_with_logits/Sub_1/y' type=Const>, <tf.Operation 'softmax_cross_entropy_with_logits/Sub_1' type=Sub>, <tf.Operation 'softmax_cross_entropy_with_logits/Slice_1/begin' type=Pack>, <tf.Operation 'softmax_cross_entropy_with_logits/Slice_1/size' type=Const>, <tf.Operation 'softmax_cross_entropy_with_logits/Slice_1' type=Slice>, <tf.Operation 'softmax_cross_entropy_with_logits/concat_1/values_0' type=Const>, <tf.Operation 'softmax_cross_entropy_with_logits/concat_1/axis' type=Const>, <tf.Operation 'softmax_cross_entropy_with_logits/concat_1' type=ConcatV2>, <tf.Operation 'softmax_cross_entropy_with_logits/Reshape_1' type=Reshape>, <tf.Operation 'softmax_cross_entropy_with_logits' type=SoftmaxCrossEntropyWithLogits>, <tf.Operation 'softmax_cross_entropy_with_logits/Sub_2/y' type=Const>, <tf.Operation 'softmax_cross_entropy_with_logits/Sub_2' type=Sub>, <tf.Operation 'softmax_cross_entropy_with_logits/Slice_2/begin' type=Const>, <tf.Operation 'softmax_cross_entropy_with_logits/Slice_2/size' type=Pack>, <tf.Operation 'softmax_cross_entropy_with_logits/Slice_2' type=Slice>, <tf.Operation 'softmax_cross_entropy_with_logits/Reshape_2' type=Reshape>, <tf.Operation 'Const' type=Const>, <tf.Operation 'Mean' type=Mean>, <tf.Operation 'gradients/Shape' type=Const>, <tf.Operation 'gradients/grad_ys_0' type=Const>, <tf.Operation 'gradients/Fill' type=Fill>, <tf.Operation 'gradients/Mean_grad/Reshape/shape' type=Const>, <tf.Operation 'gradients/Mean_grad/Reshape' type=Reshape>, <tf.Operation 'gradients/Mean_grad/Shape' type=Shape>, <tf.Operation 'gradients/Mean_grad/Tile' type=Tile>, <tf.Operation 'gradients/Mean_grad/Shape_1' type=Shape>, <tf.Operation 'gradients/Mean_grad/Shape_2' type=Const>, <tf.Operation 'gradients/Mean_grad/Const' type=Const>, <tf.Operation 'gradients/Mean_grad/Prod' type=Prod>, <tf.Operation 'gradients/Mean_grad/Const_1' type=Const>, <tf.Operation 'gradients/Mean_grad/Prod_1' type=Prod>, <tf.Operation 'gradients/Mean_grad/Maximum/y' type=Const>, <tf.Operation 'gradients/Mean_grad/Maximum' type=Maximum>, <tf.Operation 'gradients/Mean_grad/floordiv' type=FloorDiv>, <tf.Operation 'gradients/Mean_grad/Cast' type=Cast>, <tf.Operation 'gradients/Mean_grad/truediv' type=RealDiv>, <tf.Operation 'gradients/softmax_cross_entropy_with_logits/Reshape_2_grad/Shape' type=Shape>, <tf.Operation 'gradients/softmax_cross_entropy_with_logits/Reshape_2_grad/Reshape' type=Reshape>, <tf.Operation 'gradients/zeros_like' type=ZerosLike>, <tf.Operation 'gradients/softmax_cross_entropy_with_logits_grad/ExpandDims/dim' type=Const>, <tf.Operation 'gradients/softmax_cross_entropy_with_logits_grad/ExpandDims' type=ExpandDims>, <tf.Operation 'gradients/softmax_cross_entropy_with_logits_grad/mul' type=Mul>, <tf.Operation 'gradients/softmax_cross_entropy_with_logits_grad/LogSoftmax' type=LogSoftmax>, <tf.Operation 'gradients/softmax_cross_entropy_with_logits_grad/Neg' type=Neg>, <tf.Operation 'gradients/softmax_cross_entropy_with_logits_grad/ExpandDims_1/dim' type=Const>, <tf.Operation 'gradients/softmax_cross_entropy_with_logits_grad/ExpandDims_1' type=ExpandDims>, <tf.Operation 'gradients/softmax_cross_entropy_with_logits_grad/mul_1' type=Mul>, <tf.Operation 'gradients/softmax_cross_entropy_with_logits_grad/tuple/group_deps' type=NoOp>, <tf.Operation 'gradients/softmax_cross_entropy_with_logits_grad/tuple/control_dependency' type=Identity>, <tf.Operation 'gradients/softmax_cross_entropy_with_logits_grad/tuple/control_dependency_1' type=Identity>, <tf.Operation 'gradients/softmax_cross_entropy_with_logits/Reshape_grad/Shape' type=Shape>, <tf.Operation 'gradients/softmax_cross_entropy_with_logits/Reshape_grad/Reshape' type=Reshape>, <tf.Operation 'gradients/Softmax_grad/mul' type=Mul>, <tf.Operation 'gradients/Softmax_grad/Sum/reduction_indices' type=Const>, <tf.Operation 'gradients/Softmax_grad/Sum' type=Sum>, <tf.Operation 'gradients/Softmax_grad/sub' type=Sub>, <tf.Operation 'gradients/Softmax_grad/mul_1' type=Mul>, <tf.Operation 'gradients/add_grad/Shape' type=Shape>, <tf.Operation 'gradients/add_grad/Shape_1' type=Const>, <tf.Operation 'gradients/add_grad/BroadcastGradientArgs' type=BroadcastGradientArgs>, <tf.Operation 'gradients/add_grad/Sum' type=Sum>, <tf.Operation 'gradients/add_grad/Reshape' type=Reshape>, <tf.Operation 'gradients/add_grad/Sum_1' type=Sum>, <tf.Operation 'gradients/add_grad/Reshape_1' type=Reshape>, <tf.Operation 'gradients/add_grad/tuple/group_deps' type=NoOp>, <tf.Operation 'gradients/add_grad/tuple/control_dependency' type=Identity>, <tf.Operation 'gradients/add_grad/tuple/control_dependency_1' type=Identity>, <tf.Operation 'gradients/MatMul_grad/MatMul' type=MatMul>, <tf.Operation 'gradients/MatMul_grad/MatMul_1' type=MatMul>, <tf.Operation 'gradients/MatMul_grad/tuple/group_deps' type=NoOp>, <tf.Operation 'gradients/MatMul_grad/tuple/control_dependency' type=Identity>, <tf.Operation 'gradients/MatMul_grad/tuple/control_dependency_1' type=Identity>, <tf.Operation 'GradientDescent/learning_rate' type=Const>, <tf.Operation 'GradientDescent/update_W/ApplyGradientDescent' type=ApplyGradientDescent>, <tf.Operation 'GradientDescent/update_b/ApplyGradientDescent' type=ApplyGradientDescent>, <tf.Operation 'GradientDescent' type=NoOp>, <tf.Operation 'predict/dimension' type=Const>, <tf.Operation 'predict' type=ArgMax>, <tf.Operation 'Equal/y' type=Const>, <tf.Operation 'Equal' type=Equal>, <tf.Operation 'Cast' type=Cast>, <tf.Operation 'Const_1' type=Const>, <tf.Operation 'Mean_1' type=Mean>, <tf.Operation 'save/filename/input' type=Const>, <tf.Operation 'save/filename' type=PlaceholderWithDefault>, <tf.Operation 'save/Const' type=PlaceholderWithDefault>, <tf.Operation 'save/SaveV2/tensor_names' type=Const>, <tf.Operation 'save/SaveV2/shape_and_slices' type=Const>, <tf.Operation 'save/SaveV2' type=SaveV2>, <tf.Operation 'save/control_dependency' type=Identity>, <tf.Operation 'save/RestoreV2/tensor_names' type=Const>, <tf.Operation 'save/RestoreV2/shape_and_slices' type=Const>, <tf.Operation 'save/RestoreV2' type=RestoreV2>, <tf.Operation 'save/Assign' type=Assign>, <tf.Operation 'save/Assign_1' type=Assign>, <tf.Operation 'save/restore_all' type=NoOp>, <tf.Operation 'init' type=NoOp>]\n",
      "INFO:tensorflow:Restoring parameters from ./models/cross_entroy.ckpt\n"
     ]
    },
    {
     "name": "stdout",
     "output_type": "stream",
     "text": [
      "<tensorflow.python.framework.ops.Graph object at 0x0000022F25632CC0>\n",
      "<tensorflow.python.framework.ops.Graph object at 0x0000022F25632CC0>\n",
      "<tensorflow.python.framework.ops.Graph object at 0x0000022F25632CC0>\n"
     ]
    },
    {
     "data": {
      "image/png": "[encoded data removed]",
      "text/plain": [
       "<Figure size 432x288 with 1 Axes>"
      ]
     },
     "metadata": {
      "needs_background": "light"
     },
     "output_type": "display_data"
    }
   ],
   "source": [
    "%matplotlib inline\n",
    "\n",
    "import tensorflow as tf\n",
    "import numpy as np\n",
    "import matplotlib.pyplot as plt\n",
    "\n",
    "tf.reset_default_graph()\n",
    "model_path = './models/cross_entroy.ckpt'\n",
    "new_saver = tf.train.import_meta_graph(model_path + '.meta')\n",
    "print(tf.get_default_graph().get_operations())\n",
    "\n",
    "with tf.Session() as sess:\n",
    "    new_saver.restore(sess, model_path)\n",
    "    my_model = sess.graph.get_tensor_by_name(\"predict:0\")\n",
    "    X = sess.graph.get_tensor_by_name(\"X:0\")\n",
    "    p = sess.run(my_model, feed_dict={X:x_data})\n",
    "\n",
    "plt.title('Predict', size=20)\n",
    "colormap = np.array(['r', 'g', 'b'])\n",
    "plt.scatter(x_data[:,0], x_data[:,1], s=50, c=colormap[p])\n",
    "plt.show()"
   ]
  }
 ],
 "metadata": {
  "kernelspec": {
   "display_name": "Python 3",
   "language": "python",
   "name": "python3"
  },
  "language_info": {
   "codemirror_mode": {
    "name": "ipython",
    "version": 3
   },
   "file_extension": ".py",
   "mimetype": "text/x-python",
   "name": "python",
   "nbconvert_exporter": "python",
   "pygments_lexer": "ipython3",
   "version": "3.6.8"
  }
 },
 "nbformat": 4,
 "nbformat_minor": 2
}
